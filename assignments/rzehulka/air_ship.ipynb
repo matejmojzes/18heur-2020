{
 "metadata": {
  "language_info": {
   "codemirror_mode": {
    "name": "ipython",
    "version": 3
   },
   "file_extension": ".py",
   "mimetype": "text/x-python",
   "name": "python",
   "nbconvert_exporter": "python",
   "pygments_lexer": "ipython3",
   "version": "3.8.6-final"
  },
  "orig_nbformat": 2,
  "kernelspec": {
   "name": "python3",
   "display_name": "Python 3",
   "language": "python"
  }
 },
 "nbformat": 4,
 "nbformat_minor": 2,
 "cells": [
  {
   "cell_type": "code",
   "execution_count": 126,
   "metadata": {},
   "outputs": [],
   "source": [
    "import numpy as np"
   ]
  },
  {
   "cell_type": "code",
   "execution_count": 127,
   "metadata": {},
   "outputs": [],
   "source": [
    "def evaluate(x):\n",
    "    '''Evaluate our objective function'''\n",
    "    px = np.array([0,  50, 100, 300, 400, 700, 799], dtype=int)\n",
    "    py = np.array([0, 100,   0,   0,  25,   0,  50], dtype=int)\n",
    "    xx = np.arange(0, 800)\n",
    "    yy = np.interp(xx, px, py)\n",
    "    return -yy[x]  # negative altitude, becase we are minimizing (to be consistent with other obj. functions)"
   ]
  },
  {
   "cell_type": "code",
   "execution_count": 128,
   "metadata": {},
   "outputs": [],
   "source": [
    "def update_dist(best):\n",
    "    \"\"\"\n",
    "    Update the empirical distribution according to \n",
    "    the known value in several points\n",
    "    \"\"\"\n",
    "    \n",
    "    x = np.arange(800)\n",
    "    dist = np.interp(x, x[best<0], np.abs(best[best<0]))\n",
    "    # normalize distribution\n",
    "    dist = (1/np.sum(dist))*dist\n",
    "    return dist"
   ]
  },
  {
   "cell_type": "code",
   "execution_count": 129,
   "metadata": {},
   "outputs": [],
   "source": [
    "def sample_dist(dist, per_value_samples):\n",
    "    \"\"\"\n",
    "    Generate random samples from our current knowledge about \n",
    "    the objective function, represented by empirical \n",
    "    distribution 'dist'\n",
    "    \"\"\"\n",
    "\n",
    "    #ratios = np.round(10000*dist)\n",
    "    rng = np.random.rand(per_value_samples,800)\n",
    "    large_dist = np.array([dist,]*per_value_samples)\n",
    "    large_x = np.array([np.arange(800),]*per_value_samples)\n",
    "\n",
    "    pick = rng < large_dist\n",
    "    sample = large_x[pick].reshape(np.sum(pick))\n",
    "    shuffle = np.random.permutation(np.sum(pick))\n",
    "\n",
    "    return sample[shuffle[:10]]"
   ]
  },
  {
   "cell_type": "code",
   "execution_count": 130,
   "metadata": {
    "tags": []
   },
   "outputs": [],
   "source": [
    "def eda(mcarlo_samples):\n",
    "    \"\"\" \n",
    "    A very simplified and naive implementation of \n",
    "    Estimation of Distribution (EDA) optimization algorithm\n",
    "    \"\"\"\n",
    "\n",
    "    x = np.random.randint(0, 800, size=(11,10))\n",
    "    y = np.zeros(shape=(10,10))\n",
    "    dist = (1/800)*np.ones(shape=(10,800))\n",
    "    best = np.zeros(800)\n",
    "    last_change = np.zeros(800)\n",
    "    for i in range(10):\n",
    "        y[i,:] = evaluate(x[i,:])\n",
    "        ind = [k for k in x[i,:]]\n",
    "        pos = y[i,:] < best[x[i,:]]\n",
    "        last_change[x[i,pos]] = i*np.ones(1,np.sum(pos))\n",
    "        best[x[i,:]] = np.minimum(best[x[i,:]], y[i,:])\n",
    "\n",
    "        dist[i,:] = update_dist(best)\n",
    "        x[i+1,:] = sample_dist(dist[i,:], mcarlo_samples)\n",
    "    final_x = np.argmin(best)\n",
    "    final_y = np.min(best)\n",
    "    return final_y, last_change[final_x]"
   ]
  },
  {
   "cell_type": "code",
   "execution_count": 131,
   "metadata": {},
   "outputs": [],
   "source": [
    "def run_multiple(n, fun):\n",
    "    \"\"\"\n",
    "    Evaluate function 'fun' 'n' times and measure times it \n",
    "    reached the target value, average score and \n",
    "    number of iterations needed\n",
    "    \"\"\"\n",
    "\n",
    "    best_val = np.zeros(n)\n",
    "    iter_no = np.zeros(n)\n",
    "    for i in range(n):\n",
    "        best_val[i], iter_no[i] = fun()\n",
    "    \n",
    "    target_reached = np.sum(best_val == -100)\n",
    "    average_score = np.mean(best_val)\n",
    "    average_iters = np.mean(iter_no)\n",
    "\n",
    "    # since we begin with zero and each run is 10 evaluations\n",
    "    average_iters = 10*(average_iters + 1)\n",
    "\n",
    "    print(f\"Targer value -100 reached in {target_reached} runs, which is {target_reached*100/1000} %.\")\n",
    "    print(f\"Average score is {average_score}.\")\n",
    "    print(f\"Average number of iterations to converge is {average_iters}.\")\n",
    "\n",
    "    return target_reached, average_score, average_iters"
   ]
  },
  {
   "cell_type": "code",
   "execution_count": 141,
   "metadata": {},
   "outputs": [
    {
     "output_type": "stream",
     "name": "stdout",
     "text": [
      "Targer value -100 reached in 395 runs, which is 39.5 %.\nAverage score is -96.92519444444446.\nAverage number of iterations to converge is 63.879999999999995.\n"
     ]
    }
   ],
   "source": [
    "def g():\n",
    "    return eda(70)\n",
    "ex_target, ex_score, ex_iters = run_multiple(1000, g)"
   ]
  }
 ]
}