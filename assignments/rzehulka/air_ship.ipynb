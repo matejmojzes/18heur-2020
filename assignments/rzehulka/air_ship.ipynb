{
 "metadata": {
  "language_info": {
   "codemirror_mode": {
    "name": "ipython",
    "version": 3
   },
   "file_extension": ".py",
   "mimetype": "text/x-python",
   "name": "python",
   "nbconvert_exporter": "python",
   "pygments_lexer": "ipython3",
   "version": "3.8.6-final"
  },
  "orig_nbformat": 2,
  "kernelspec": {
   "name": "python3",
   "display_name": "Python 3",
   "language": "python"
  }
 },
 "nbformat": 4,
 "nbformat_minor": 2,
 "cells": [
  {
   "cell_type": "code",
   "execution_count": 1,
   "metadata": {},
   "outputs": [],
   "source": [
    "import numpy as np"
   ]
  },
  {
   "cell_type": "code",
   "execution_count": 2,
   "metadata": {},
   "outputs": [],
   "source": [
    "def evaluate(x):\n",
    "    px = np.array([0,  50, 100, 300, 400, 700, 799], dtype=int)\n",
    "    py = np.array([0, 100,   0,   0,  25,   0,  50], dtype=int)\n",
    "    xx = np.arange(0, 800)\n",
    "    yy = np.interp(xx, px, py)\n",
    "    return -yy[x]  # negative altitude, becase we are minimizing (to be consistent with other obj. functions)"
   ]
  },
  {
   "cell_type": "code",
   "execution_count": 3,
   "metadata": {},
   "outputs": [],
   "source": [
    "def update_dist(best):\n",
    "    x = np.arange(800)\n",
    "    dist = np.interp(x, x[best<0], np.abs(best[best<0]))\n",
    "    # normalize\n",
    "    dist = (1/np.sum(dist))*dist\n",
    "    #print(dist)\n",
    "    return dist"
   ]
  },
  {
   "cell_type": "code",
   "execution_count": 10,
   "metadata": {},
   "outputs": [],
   "source": [
    "def sample_dist(dist):\n",
    "    ratios = np.round(10000*dist)\n",
    "    rng = np.random.rand(100,800)\n",
    "    large_dist = np.array([dist,]*100)\n",
    "    large_x = np.array([np.arange(800),]*100)\n",
    "\n",
    "    pick = rng < large_dist\n",
    "    #print(pick.shape)\n",
    "    #print(large_x.shape)\n",
    "    #print(np.sum(pick))\n",
    "    sample = large_x[pick].reshape(np.sum(pick))\n",
    "    shuffle = np.random.permutation(np.sum(pick))\n",
    "    return sample[shuffle[:10]]"
   ]
  },
  {
   "cell_type": "code",
   "execution_count": 11,
   "metadata": {
    "tags": []
   },
   "outputs": [],
   "source": [
    "def eda():\n",
    "    x = np.random.randint(0, 800, size=(11,10))\n",
    "    y = np.zeros(shape=(10,10))\n",
    "    dist = (1/800)*np.ones(shape=(10,800))\n",
    "    best = np.zeros(800)\n",
    "    last_change = np.zeros(800)\n",
    "    for i in range(10):\n",
    "        y[i,:] = evaluate(x[i,:])\n",
    "        ind = [k for k in x[i,:]]\n",
    "        pos = y[i,:] < best[x[i,:]]\n",
    "        last_change[x[i,pos]] = i*np.ones(1,np.sum(pos))\n",
    "        best[x[i,:]] = np.minimum(best[x[i,:]], y[i,:])\n",
    "\n",
    "        dist[i,:] = update_dist(best)\n",
    "        #print(np.sum(dist[i,:] > np.zeros(shape=(1,800))))\n",
    "        x[i+1,:] = sample_dist(dist[i,:])\n",
    "    final_x = np.argmin(best)\n",
    "    final_y = np.min(best)\n",
    "    return final_y, last_change[final_x]"
   ]
  },
  {
   "cell_type": "code",
   "execution_count": 41,
   "metadata": {},
   "outputs": [
    {
     "output_type": "execute_result",
     "data": {
      "text/plain": [
       "(-96.0, 5.0)"
      ]
     },
     "metadata": {},
     "execution_count": 41
    }
   ],
   "source": [
    "eda()"
   ]
  },
  {
   "cell_type": "code",
   "execution_count": 28,
   "metadata": {},
   "outputs": [
    {
     "output_type": "stream",
     "name": "stdout",
     "text": [
      "[0.13008802 0.17141856 0.33326362 0.49880782 0.78139545 0.43985177\n 0.59126528 0.43544519 0.39995566 0.43379262]\n"
     ]
    }
   ],
   "source": [
    "a = np.random.rand(10)\n",
    "b = np.random.rand(10)\n",
    "y = np.minimum(a,b)\n",
    "print(y)"
   ]
  },
  {
   "cell_type": "code",
   "execution_count": 6,
   "metadata": {},
   "outputs": [
    {
     "output_type": "execute_result",
     "data": {
      "text/plain": [
       "array([[-24.75      ],\n",
       "       [ -0.        ],\n",
       "       [-41.91919192],\n",
       "       [ -0.        ],\n",
       "       [-19.08333333],\n",
       "       [ -0.        ],\n",
       "       [ -2.5       ],\n",
       "       [ -0.        ],\n",
       "       [ -9.41666667],\n",
       "       [-10.5       ]])"
      ]
     },
     "metadata": {},
     "execution_count": 6
    }
   ],
   "source": [
    "evaluate(x)"
   ]
  },
  {
   "cell_type": "code",
   "execution_count": null,
   "metadata": {},
   "outputs": [],
   "source": []
  },
  {
   "cell_type": "code",
   "execution_count": null,
   "metadata": {},
   "outputs": [],
   "source": [
    "def pso(swarm_size, obj_fct):\n",
    "    x = np.random.randint((10,10))\n",
    "    v = np.random.randint((10,10))\n",
    "    iter_no = int(100/swarm_size)\n",
    "    for i in range(iter_no):\n",
    "        y = evaluate(x[i,:])\n",
    "        v\n",
    "    "
   ]
  }
 ]
}