{
 "cells": [
  {
   "cell_type": "markdown",
   "metadata": {},
   "source": [
    "# Travelling Salesman Problem (TSP) on a real geospatial data\n",
    "\n",
    "### Objective function description\n",
    "\n",
    "* List of addresses has to be given as an output and then the distance matrix is created using Distance Matrix Google API.\n",
    "* To use the API, one has to have an API key. There is a possibility to create free account for one year with limited amount of resources.\n",
    "* In order not to call the API everytime an instance of the TSP class is created, one can save the distance matrix to a .csv file and initiate the instance with this file.\n",
    "* Distances in the distance matrix are real and they also reflect the current traffic. This matrix doesn't have to be symmetric.\n",
    "* The \"distance\" holds for space distance or time distance. That means that in the GeoTSP class there is the distance matrix and also a duration matrix. User can decide in which of these two terms to optimize."
   ]
  },
  {
   "cell_type": "markdown",
   "metadata": {},
   "source": [
    "# Example Implementation\n",
    "\n",
    "You can find it in `src/objfun_geotsp.py`, class `GeoTSP`.\n",
    "\n",
    "Real-world demonstration follows:"
   ]
  },
  {
   "cell_type": "code",
   "execution_count": 1,
   "metadata": {},
   "outputs": [],
   "source": [
    "# Import path to source directory (bit of a hack in Jupyter)\n",
    "import sys\n",
    "import os\n",
    "pwd = %pwd\n",
    "sys.path.append(os.path.join(pwd, os.path.join('..', '..', 'src')))\n",
    "\n",
    "# Ensure modules are reloaded on any change (very useful when developing code on the fly)\n",
    "%load_ext autoreload\n",
    "%autoreload 2"
   ]
  },
  {
   "cell_type": "code",
   "execution_count": 2,
   "metadata": {},
   "outputs": [],
   "source": [
    "# Import external libraries\n",
    "import numpy as np\n",
    "\n",
    "# Import our code\n",
    "from heur_sg import ShootAndGo\n",
    "from objfun_geotsp import GeoTSP"
   ]
  },
  {
   "cell_type": "code",
   "execution_count": 3,
   "metadata": {},
   "outputs": [
    {
     "name": "stdout",
     "output_type": "stream",
     "text": [
      "Kosmonautů 2844, Mělník\n",
      "\n",
      "Lhotka u Mělníka 13, Lhotka\n",
      "\n",
      "Bezručova 2, Mělník\n",
      "\n",
      "Kpt. Jaroše 10, Mělník\n",
      "\n",
      "Fibichova 5, Mělník\n",
      "\n",
      "Ovocná 1540, Mělník\n",
      "\n",
      "Ve Žlábkách 10, Mělník\n",
      "\n",
      "Mladoboleslavská 13, Mělník\n",
      "\n",
      "Okružní 2545/9, Mělník\n",
      "\n",
      "náměstí Míru 10, Mělník\n",
      "\n",
      "Horní náměstí 15, Jablonec nad Nisou\n",
      "\n",
      "náměstí Štefánikovo 1, Staré Město, Liberec\n",
      "\n",
      "Svojsíkova 2, Staré Město, Liberec\n",
      "\n",
      "Zhořelecká 3, Staré Město, Liberec\n",
      "\n",
      "Dožínková 239/6, Růžodol I, Liberec\n",
      "\n",
      "Na Roli 13, Jablonec nad Nisou\n",
      "\n",
      "Za Hrází, Mšeno nad Nisou, Jablonec nad Nisou\n",
      "\n",
      "Kosmonautů 2845, Mělník\n",
      "\n",
      "Lhotka u Mělníka 106, Lhotka\n",
      "\n",
      "Bezručova 3, Mělník\n",
      "\n",
      "Kpt. Jaroše 15, Mělník\n",
      "\n",
      "Fibichova 7, Mělník\n",
      "\n",
      "Ovocná 1539, Mělník\n",
      "\n",
      "Ve Žlábkách 9, Mělník\n",
      "\n",
      "Mladoboleslavská 20, Mělník\n",
      "\n",
      "Okružní 2544, Mělník\n",
      "\n",
      "náměstí Míru 11, Mělník\n",
      "\n",
      "Horní náměstí 16, Jablonec nad Nisou\n",
      "\n",
      "náměstí Štefánikovo 2, Staré Město, Liberec\n",
      "\n",
      "Svojsíkova 3, Staré Město, Liberec\n",
      "\n",
      "Zhořelecká 4, Staré Město, Liberec\n",
      "\n",
      "Dožínková 240, Růžodol I, Liberec\n",
      "\n",
      "Na Roli 12, Jablonec nad Nisou\n"
     ]
    }
   ],
   "source": [
    "# initialization\n",
    "spots_file = \"./spots.csv\"\n",
    "# spots_file = \"spots.csv\"\n",
    "\n",
    "spots = []\n",
    "with open(spots_file) as file:\n",
    "    for line in file:\n",
    "        spots.append(line)\n",
    "        print(line)\n",
    "        \n",
    "n = len(spots)\n",
    "spots = list(map(lambda s: s.strip(), spots))  # remove blank spaces\n",
    "# The API key has to be saved in the gapikey.txt file\n",
    "# key = open(\"./gapikey.txt\", \"r\").read()  # API key\n",
    "\n",
    "dm_path = \".\""
   ]
  },
  {
   "cell_type": "code",
   "execution_count": 4,
   "metadata": {},
   "outputs": [],
   "source": [
    "TSP = GeoTSP(spots, dm_path=dm_path, max_rows=5)"
   ]
  },
  {
   "cell_type": "code",
   "execution_count": 5,
   "metadata": {},
   "outputs": [
    {
     "name": "stdout",
     "output_type": "stream",
     "text": [
      "[[  0. 604. 231. 252. 227.]\n",
      " [574.   0. 463. 663. 637.]\n",
      " [111. 598.   0. 279. 253.]\n",
      " [114. 541. 168.   0. 258.]\n",
      " [139. 566. 194.  25.   0.]]\n",
      "[[   0. 6939. 1618. 1267. 1153.]\n",
      " [6433.    0. 5922. 7441. 7327.]\n",
      " [ 512. 7343.    0. 1898. 1784.]\n",
      " [ 465. 6597. 1277.    0. 2077.]\n",
      " [ 579. 6711. 1390.  114.    0.]]\n"
     ]
    }
   ],
   "source": [
    "print(TSP.dura_matrix)\n",
    "print(TSP.dist_matrix)"
   ]
  },
  {
   "cell_type": "code",
   "execution_count": 6,
   "metadata": {},
   "outputs": [
    {
     "name": "stdout",
     "output_type": "stream",
     "text": [
      "[3 0 0 0]\n"
     ]
    }
   ],
   "source": [
    "# random point generation\n",
    "x = TSP.generate_point()\n",
    "print(x)"
   ]
  },
  {
   "cell_type": "code",
   "execution_count": 7,
   "metadata": {},
   "outputs": [
    {
     "name": "stdout",
     "output_type": "stream",
     "text": [
      "[0 4 1 2 3]\n"
     ]
    }
   ],
   "source": [
    "# decode this solution (into list of visited cities)\n",
    "cx = TSP.decode(x)\n",
    "print(cx)"
   ]
  },
  {
   "cell_type": "code",
   "execution_count": 8,
   "metadata": {},
   "outputs": [
    {
     "name": "stdout",
     "output_type": "stream",
     "text": [
      "15684.0\n",
      "1535.0\n"
     ]
    }
   ],
   "source": [
    "# what is the cost of such tour?\n",
    "print(TSP.evaluate(x))\n",
    "print(TSP.evaluate(x, mtype=\"duration\"))"
   ]
  },
  {
   "cell_type": "code",
   "execution_count": 9,
   "metadata": {},
   "outputs": [
    {
     "name": "stdout",
     "output_type": "stream",
     "text": [
      "Kosmonautů 2844, Mělník -> \n",
      "Fibichova 5, Mělník -> \n",
      "Lhotka u Mělníka 13, Lhotka -> \n",
      "Bezručova 2, Mělník -> \n",
      "Kpt. Jaroše 10, Mělník\n"
     ]
    }
   ],
   "source": [
    "# print the route\n",
    "print(TSP.get_route(x))"
   ]
  },
  {
   "cell_type": "code",
   "execution_count": 10,
   "metadata": {},
   "outputs": [
    {
     "name": "stdout",
     "output_type": "stream",
     "text": [
      "[4]\n"
     ]
    }
   ],
   "source": [
    "# get the nearest locations from the one selected\n",
    "n_loc = 0  # Order number of the location in the 'spots'\n",
    "k = 1  # Number of nearest locations to be found\n",
    "print(TSP.find_k_nn(n_loc, k))"
   ]
  },
  {
   "cell_type": "code",
   "execution_count": 11,
   "metadata": {},
   "outputs": [
    {
     "name": "stdout",
     "output_type": "stream",
     "text": [
      "[array([2, 0, 0, 0]), array([3, 1, 0, 0]), array([3, 0, 1, 0])]\n"
     ]
    }
   ],
   "source": [
    "# neighbourhood of x:\n",
    "N = TSP.get_neighborhood(x, 1)\n",
    "print(N)"
   ]
  },
  {
   "cell_type": "code",
   "execution_count": 12,
   "metadata": {},
   "outputs": [
    {
     "name": "stdout",
     "output_type": "stream",
     "text": [
      "[2 0 0 0] ([0 3 1 2 4]) -> 15570.0000\n",
      "[3 1 0 0] ([0 4 2 1 3]) -> 17327.0000\n",
      "[3 0 1 0] ([0 4 1 3 2]) -> 16582.0000\n"
     ]
    }
   ],
   "source": [
    "# decoded neighbours and their objective function values\n",
    "for xn in N:\n",
    "    print('{} ({}) -> {:.4f}'.format(xn, TSP.decode(xn), TSP.evaluate(xn)))"
   ]
  },
  {
   "cell_type": "markdown",
   "metadata": {},
   "source": [
    "### TSP optimization using Random Shooting ($\\mathrm{SG}_{0}$)"
   ]
  },
  {
   "cell_type": "code",
   "execution_count": 13,
   "metadata": {},
   "outputs": [
    {
     "name": "stdout",
     "output_type": "stream",
     "text": [
      "{'best_y': 9887.0, 'best_x': array([3, 2, 1, 0]), 'neval': inf, 'log_data': Empty DataFrame\n",
      "Columns: []\n",
      "Index: []}\n"
     ]
    }
   ],
   "source": [
    "heur = ShootAndGo(TSP, maxeval=1000, hmax=0)\n",
    "print(heur.search())"
   ]
  },
  {
   "cell_type": "markdown",
   "metadata": {},
   "source": [
    "### TSP optimization using FSA"
   ]
  },
  {
   "cell_type": "code",
   "execution_count": 14,
   "metadata": {},
   "outputs": [],
   "source": [
    "from heur_fsa import FastSimulatedAnnealing\n",
    "from heur_aux import Correction, CauchyMutation\n",
    "from tqdm import tqdm\n",
    "import pandas as pd\n",
    "\n",
    "def experiment_fsa(of, maxeval, num_runs, T0, n0, alpha, r):\n",
    "    results = []\n",
    "    for i in tqdm(range(num_runs), 'Testing T0={}, n0={}, alpha={}, r={}'.format(T0, n0, alpha, r)):\n",
    "        mut = CauchyMutation(r=r, correction=Correction(of))\n",
    "        result = FastSimulatedAnnealing(of, maxeval=maxeval, T0=T0, n0=n0, alpha=alpha, mutation=mut).search()\n",
    "        result['run'] = i\n",
    "        result['heur'] = 'FSA_{}_{}_{}_{}'.format(T0, n0, alpha, r) # name of the heuristic\n",
    "        result['T0'] = T0\n",
    "        result['n0'] = n0\n",
    "        result['alpha'] = alpha\n",
    "        result['r'] = r\n",
    "        results.append(result)\n",
    "    \n",
    "    return pd.DataFrame(results, columns=['heur', 'run', 'T0', 'n0', 'alpha', 'r', 'best_x', 'best_y', 'neval'])"
   ]
  },
  {
   "cell_type": "code",
   "execution_count": 15,
   "metadata": {},
   "outputs": [
    {
     "name": "stderr",
     "output_type": "stream",
     "text": [
      "Testing T0=1e-10, n0=1, alpha=2, r=0.5: 100%|██████████| 10/10 [00:00<00:00, 81.32it/s]\n",
      "Testing T0=0.01, n0=1, alpha=2, r=0.5: 100%|██████████| 10/10 [00:00<00:00, 74.84it/s]\n",
      "Testing T0=1, n0=1, alpha=2, r=0.5: 100%|██████████| 10/10 [00:00<00:00, 76.88it/s]\n",
      "Testing T0=inf, n0=1, alpha=2, r=0.5: 100%|██████████| 10/10 [00:00<00:00, 68.95it/s]\n"
     ]
    }
   ],
   "source": [
    "table_fsa = pd.DataFrame()\n",
    "maxeval = 100\n",
    "NUM_RUNS = 10\n",
    "\n",
    "for T0 in [1e-10, 1e-2, 1, np.inf]:\n",
    "    res = experiment_fsa(of=TSP, maxeval=maxeval, num_runs=NUM_RUNS, T0=T0, n0=1, alpha=2, r=0.5)\n",
    "    table_fsa = pd.concat([table_fsa, res], axis=0)"
   ]
  },
  {
   "cell_type": "code",
   "execution_count": 16,
   "metadata": {},
   "outputs": [
    {
     "name": "stderr",
     "output_type": "stream",
     "text": [
      "/Users/ondrej.panek/anaconda3/lib/python3.7/site-packages/numpy/core/fromnumeric.py:3118: RuntimeWarning: Mean of empty slice.\n",
      "  out=out, **kwargs)\n",
      "/Users/ondrej.panek/anaconda3/lib/python3.7/site-packages/numpy/core/_methods.py:85: RuntimeWarning: invalid value encountered in double_scalars\n",
      "  ret = ret.dtype.type(ret / rcount)\n"
     ]
    },
    {
     "data": {
      "text/html": [
       "<div>\n",
       "<style scoped>\n",
       "    .dataframe tbody tr th:only-of-type {\n",
       "        vertical-align: middle;\n",
       "    }\n",
       "\n",
       "    .dataframe tbody tr th {\n",
       "        vertical-align: top;\n",
       "    }\n",
       "\n",
       "    .dataframe thead th {\n",
       "        text-align: right;\n",
       "    }\n",
       "</style>\n",
       "<table border=\"1\" class=\"dataframe\">\n",
       "  <thead>\n",
       "    <tr style=\"text-align: right;\">\n",
       "      <th></th>\n",
       "      <th>heur</th>\n",
       "      <th>T0</th>\n",
       "      <th>rel</th>\n",
       "    </tr>\n",
       "  </thead>\n",
       "  <tbody>\n",
       "    <tr>\n",
       "      <th>2</th>\n",
       "      <td>FSA_1e-10_1_2_0.5</td>\n",
       "      <td>1.000000e-10</td>\n",
       "      <td>0.0</td>\n",
       "    </tr>\n",
       "    <tr>\n",
       "      <th>0</th>\n",
       "      <td>FSA_0.01_1_2_0.5</td>\n",
       "      <td>1.000000e-02</td>\n",
       "      <td>0.0</td>\n",
       "    </tr>\n",
       "    <tr>\n",
       "      <th>1</th>\n",
       "      <td>FSA_1_1_2_0.5</td>\n",
       "      <td>1.000000e+00</td>\n",
       "      <td>0.0</td>\n",
       "    </tr>\n",
       "    <tr>\n",
       "      <th>3</th>\n",
       "      <td>FSA_inf_1_2_0.5</td>\n",
       "      <td>inf</td>\n",
       "      <td>0.0</td>\n",
       "    </tr>\n",
       "  </tbody>\n",
       "</table>\n",
       "</div>"
      ],
      "text/plain": [
       "                heur            T0  rel\n",
       "2  FSA_1e-10_1_2_0.5  1.000000e-10  0.0\n",
       "0   FSA_0.01_1_2_0.5  1.000000e-02  0.0\n",
       "1      FSA_1_1_2_0.5  1.000000e+00  0.0\n",
       "3    FSA_inf_1_2_0.5           inf  0.0"
      ]
     },
     "execution_count": 16,
     "metadata": {},
     "output_type": "execute_result"
    }
   ],
   "source": [
    "def rel(x):\n",
    "    return len([n for n in x if n < np.inf])/len(x)\n",
    "\n",
    "def mne(x):\n",
    "    return np.mean([n for n in x if n < np.inf])\n",
    "\n",
    "def feo(x):\n",
    "    return mne(x)/rel(x)\n",
    "\n",
    "stats_fsa = table_fsa.pivot_table(\n",
    "    index=['heur', 'T0'],\n",
    "    values=['neval'],\n",
    "    aggfunc=(rel, mne, feo)\n",
    ")['neval']\n",
    "stats_fsa = stats_fsa.reset_index()\n",
    "stats_fsa.sort_values(by=['T0'])"
   ]
  },
  {
   "cell_type": "code",
   "execution_count": 17,
   "metadata": {},
   "outputs": [
    {
     "name": "stdout",
     "output_type": "stream",
     "text": [
      "neval = inf\n",
      "best_x = [3 2 1 0]\n",
      "best_y = 9887.0\n"
     ]
    }
   ],
   "source": [
    "heur = FastSimulatedAnnealing(TSP, maxeval=1000, T0=1, n0=1, alpha=2, \n",
    "                              mutation=CauchyMutation(r=0.5, correction=Correction(TSP)))\n",
    "result = heur.search()\n",
    "print('neval = {}'.format(result['neval']))\n",
    "print('best_x = {}'.format(result['best_x']))\n",
    "print('best_y = {}'.format(result['best_y']))"
   ]
  },
  {
   "cell_type": "code",
   "execution_count": 18,
   "metadata": {},
   "outputs": [
    {
     "data": {
      "text/html": [
       "<div>\n",
       "<style scoped>\n",
       "    .dataframe tbody tr th:only-of-type {\n",
       "        vertical-align: middle;\n",
       "    }\n",
       "\n",
       "    .dataframe tbody tr th {\n",
       "        vertical-align: top;\n",
       "    }\n",
       "\n",
       "    .dataframe thead th {\n",
       "        text-align: right;\n",
       "    }\n",
       "</style>\n",
       "<table border=\"1\" class=\"dataframe\">\n",
       "  <thead>\n",
       "    <tr style=\"text-align: right;\">\n",
       "      <th></th>\n",
       "      <th>step</th>\n",
       "      <th>x</th>\n",
       "      <th>f_x</th>\n",
       "      <th>y</th>\n",
       "      <th>f_y</th>\n",
       "      <th>T</th>\n",
       "      <th>swap</th>\n",
       "    </tr>\n",
       "  </thead>\n",
       "  <tbody>\n",
       "    <tr>\n",
       "      <th>0</th>\n",
       "      <td>0</td>\n",
       "      <td>[3, 2, 0, 0]</td>\n",
       "      <td>13786.0</td>\n",
       "      <td>[1, 2, 0, 0]</td>\n",
       "      <td>17554.0</td>\n",
       "      <td>1.000000</td>\n",
       "      <td>False</td>\n",
       "    </tr>\n",
       "    <tr>\n",
       "      <th>1</th>\n",
       "      <td>1</td>\n",
       "      <td>[3, 2, 0, 0]</td>\n",
       "      <td>13786.0</td>\n",
       "      <td>[3, 2, 0, 0]</td>\n",
       "      <td>13786.0</td>\n",
       "      <td>0.500000</td>\n",
       "      <td>False</td>\n",
       "    </tr>\n",
       "    <tr>\n",
       "      <th>2</th>\n",
       "      <td>2</td>\n",
       "      <td>[3, 2, 0, 0]</td>\n",
       "      <td>13786.0</td>\n",
       "      <td>[3, 2, 0, 0]</td>\n",
       "      <td>13786.0</td>\n",
       "      <td>0.200000</td>\n",
       "      <td>False</td>\n",
       "    </tr>\n",
       "    <tr>\n",
       "      <th>3</th>\n",
       "      <td>3</td>\n",
       "      <td>[3, 2, 0, 0]</td>\n",
       "      <td>13786.0</td>\n",
       "      <td>[2, 2, 1, 0]</td>\n",
       "      <td>12077.0</td>\n",
       "      <td>0.100000</td>\n",
       "      <td>True</td>\n",
       "    </tr>\n",
       "    <tr>\n",
       "      <th>4</th>\n",
       "      <td>4</td>\n",
       "      <td>[2, 2, 1, 0]</td>\n",
       "      <td>12077.0</td>\n",
       "      <td>[1, 2, 0, 0]</td>\n",
       "      <td>17554.0</td>\n",
       "      <td>0.058824</td>\n",
       "      <td>False</td>\n",
       "    </tr>\n",
       "    <tr>\n",
       "      <th>5</th>\n",
       "      <td>5</td>\n",
       "      <td>[2, 2, 1, 0]</td>\n",
       "      <td>12077.0</td>\n",
       "      <td>[3, 2, 1, 0]</td>\n",
       "      <td>9887.0</td>\n",
       "      <td>0.038462</td>\n",
       "      <td>True</td>\n",
       "    </tr>\n",
       "    <tr>\n",
       "      <th>6</th>\n",
       "      <td>6</td>\n",
       "      <td>[3, 2, 1, 0]</td>\n",
       "      <td>9887.0</td>\n",
       "      <td>[3, 2, 1, 0]</td>\n",
       "      <td>9887.0</td>\n",
       "      <td>0.027027</td>\n",
       "      <td>False</td>\n",
       "    </tr>\n",
       "    <tr>\n",
       "      <th>7</th>\n",
       "      <td>7</td>\n",
       "      <td>[3, 2, 1, 0]</td>\n",
       "      <td>9887.0</td>\n",
       "      <td>[3, 0, 1, 0]</td>\n",
       "      <td>16582.0</td>\n",
       "      <td>0.020000</td>\n",
       "      <td>False</td>\n",
       "    </tr>\n",
       "    <tr>\n",
       "      <th>8</th>\n",
       "      <td>8</td>\n",
       "      <td>[3, 2, 1, 0]</td>\n",
       "      <td>9887.0</td>\n",
       "      <td>[3, 1, 1, 0]</td>\n",
       "      <td>11038.0</td>\n",
       "      <td>0.015385</td>\n",
       "      <td>False</td>\n",
       "    </tr>\n",
       "    <tr>\n",
       "      <th>9</th>\n",
       "      <td>9</td>\n",
       "      <td>[3, 2, 1, 0]</td>\n",
       "      <td>9887.0</td>\n",
       "      <td>[0, 1, 1, 0]</td>\n",
       "      <td>17847.0</td>\n",
       "      <td>0.012195</td>\n",
       "      <td>False</td>\n",
       "    </tr>\n",
       "  </tbody>\n",
       "</table>\n",
       "</div>"
      ],
      "text/plain": [
       "   step             x      f_x             y      f_y         T   swap\n",
       "0     0  [3, 2, 0, 0]  13786.0  [1, 2, 0, 0]  17554.0  1.000000  False\n",
       "1     1  [3, 2, 0, 0]  13786.0  [3, 2, 0, 0]  13786.0  0.500000  False\n",
       "2     2  [3, 2, 0, 0]  13786.0  [3, 2, 0, 0]  13786.0  0.200000  False\n",
       "3     3  [3, 2, 0, 0]  13786.0  [2, 2, 1, 0]  12077.0  0.100000   True\n",
       "4     4  [2, 2, 1, 0]  12077.0  [1, 2, 0, 0]  17554.0  0.058824  False\n",
       "5     5  [2, 2, 1, 0]  12077.0  [3, 2, 1, 0]   9887.0  0.038462   True\n",
       "6     6  [3, 2, 1, 0]   9887.0  [3, 2, 1, 0]   9887.0  0.027027  False\n",
       "7     7  [3, 2, 1, 0]   9887.0  [3, 0, 1, 0]  16582.0  0.020000  False\n",
       "8     8  [3, 2, 1, 0]   9887.0  [3, 1, 1, 0]  11038.0  0.015385  False\n",
       "9     9  [3, 2, 1, 0]   9887.0  [0, 1, 1, 0]  17847.0  0.012195  False"
      ]
     },
     "execution_count": 18,
     "metadata": {},
     "output_type": "execute_result"
    }
   ],
   "source": [
    "log_data = result['log_data'].copy()\n",
    "log_data = log_data[['step', 'x', 'f_x', 'y', 'f_y', 'T', 'swap']]  # column re-ordering, for better readability\n",
    "log_data.head(10)"
   ]
  },
  {
   "cell_type": "code",
   "execution_count": null,
   "metadata": {},
   "outputs": [],
   "source": []
  }
 ],
 "metadata": {
  "kernelspec": {
   "display_name": "Python 3",
   "language": "python",
   "name": "python3"
  },
  "language_info": {
   "codemirror_mode": {
    "name": "ipython",
    "version": 3
   },
   "file_extension": ".py",
   "mimetype": "text/x-python",
   "name": "python",
   "nbconvert_exporter": "python",
   "pygments_lexer": "ipython3",
   "version": "3.7.3"
  }
 },
 "nbformat": 4,
 "nbformat_minor": 1
}
