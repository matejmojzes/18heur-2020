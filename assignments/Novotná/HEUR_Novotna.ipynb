{
 "cells": [
  {
   "cell_type": "markdown",
   "metadata": {},
   "source": [
    "# Continuous functions minimization by dynamic random search technique (DRASET)\n",
    "\n",
    "This works presents an algorithm DRASET for continuous functions. DRASET was first introduced in this article: https://www.sciencedirect.com/science/article/pii/S0307904X06002071 All steps of DRASET can be found there. The main ideas of DRASET are:\n",
    "* there are two stages of the algorithm: the general search phase and the local search phase\n",
    "* in the general search phase the algorithm tries to search as much space as possible and remembers the best found solution\n",
    "* in the local search phase algorithm tries to improve the best solution found in the general search phase\n",
    "* in the both phases the algorithm works with the best found solution and the current solution\n",
    "* a random vector generated from a range $\\langle-\\alpha, \\alpha \\rangle$ is added or substracted from the current solution and the function is evaluated at this number\n",
    "* then there are some decisions, for more details see the article\n",
    "* important is that if a better solution than the current best solution is found, the current solution doesn't change - it prevents from stucking in a local optimum\n",
    "* in the general search phase alpha differs every $N_{general}$ steps and in the local search phase alpha differs every $N_{local}$ steps\n",
    "* $E$ (epochs) represents the number of generating the random vector\n",
    "* the general search phase lasts $E - 2*N_{general}$ steps\n",
    "* the local search phase lasts $2*N_{general}$ steps\n",
    "* the number of epochs doesn't equal the number of function evaluations, in the worst case the function can be evaluated for $2*E$ times"
   ]
  },
  {
   "cell_type": "code",
   "execution_count": 1,
   "metadata": {},
   "outputs": [],
   "source": [
    "# Import path to source directory (bit of a hack in Jupyter)\n",
    "import sys\n",
    "import os\n",
    "pwd = %pwd\n",
    "sys.path.append(os.path.join(pwd, os.path.join('..', 'src')))\n",
    "\n",
    "# Ensure modules are reloaded on any change (very useful when developing code on the fly)\n",
    "%load_ext autoreload\n",
    "%autoreload 2"
   ]
  },
  {
   "cell_type": "code",
   "execution_count": 2,
   "metadata": {},
   "outputs": [],
   "source": [
    "import numpy as np\n",
    "import pandas as pd\n",
    "from tqdm.notebook import tqdm\n",
    "\n",
    "from objfun_plato import Plato\n",
    "from objfun_banana import Banana\n",
    "from heur_draset import Draset\n",
    "from heur_aux import Correction\n",
    "from heur_sg import ShootAndGo"
   ]
  },
  {
   "cell_type": "code",
   "execution_count": 3,
   "metadata": {},
   "outputs": [],
   "source": [
    "np.random.seed(6)"
   ]
  },
  {
   "cell_type": "markdown",
   "metadata": {},
   "source": [
    "We will study DRASET's behavior on two functions - Rastrigin's function 6 and Rosenbrock's valley (De Jong's function 2). Both functions are defined here: http://www.geatbx.com/docu/fcnindex-01.html There are also graphs of these functions.\n",
    "\n",
    "Random shooting is chosen as a baseline method. "
   ]
  },
  {
   "cell_type": "markdown",
   "metadata": {},
   "source": [
    "We start with Rastrigin's function 6. This function has many local minima."
   ]
  },
  {
   "cell_type": "code",
   "execution_count": 4,
   "metadata": {},
   "outputs": [],
   "source": [
    "function = Plato(n = 2, eps = 0.1)\n",
    "corr = Correction(function)  # correction is not discussed in the original article, I choose the simpliest one"
   ]
  },
  {
   "cell_type": "code",
   "execution_count": 5,
   "metadata": {},
   "outputs": [],
   "source": [
    "RUNS = 500\n",
    "MAXEV = 50000  # the heuristic is implemented with maxeval parameter, I don't want to restrict heuristic by this parameter, so I set it at this high level"
   ]
  },
  {
   "cell_type": "markdown",
   "metadata": {},
   "source": [
    "We define two experiments: DRASET and random shooting."
   ]
  },
  {
   "cell_type": "code",
   "execution_count": 6,
   "metadata": {},
   "outputs": [],
   "source": [
    "def experiment_draset(of, maxeval, num_runs, E, alfa0, N_general, N_local, correction): \n",
    "    results = []\n",
    "    for i in tqdm(range(num_runs), 'Testing E={}, alfa0={}, N_general={}, N_local={}'.format(E, alfa0, N_general, N_local)):\n",
    "        result = Draset(of, maxeval, E, alfa0, N_general, N_local, correction).search()\n",
    "        result['run'] = i\n",
    "        result['heur'] = 'Draset_{}_{}_{}_{}'.format(E, alfa0, N_general, N_local)\n",
    "        result['E'] = E\n",
    "        result['alfa0'] = alfa0\n",
    "        result['N_general'] = N_general\n",
    "        result['N_local'] = N_local\n",
    "        results.append(result)\n",
    "    return pd.DataFrame(results, columns=['heur', 'run', 'E', 'alfa0', 'N_general', 'N_local', 'best_x', 'best_y', 'neval', 'epoch', 'alfa', 'f_x', 'log_data'])"
   ]
  },
  {
   "cell_type": "code",
   "execution_count": 7,
   "metadata": {},
   "outputs": [],
   "source": [
    "def experiment_random(of, maxeval, num_runs):\n",
    "    results = []\n",
    "    for i in tqdm(range(num_runs), 'Testing maxeval={}'.format(maxeval)):\n",
    "        result = ShootAndGo(of, maxeval, hmax = 0).search()\n",
    "        result['run'] = i\n",
    "        result['heur'] = 'Random_{}'.format(maxeval)\n",
    "        result['maxeval'] = maxeval\n",
    "        results.append(result)\n",
    "    return pd.DataFrame(results, columns=['heur', 'run', 'maxeval', 'best_x', 'best_y', 'neval'])"
   ]
  },
  {
   "cell_type": "markdown",
   "metadata": {},
   "source": [
    "We define statistics for a later analysis."
   ]
  },
  {
   "cell_type": "code",
   "execution_count": 8,
   "metadata": {},
   "outputs": [],
   "source": [
    "def rel(x):\n",
    "    return len([n for n in x if n < np.inf])/len(x)\n",
    "\n",
    "def mne(x):\n",
    "    return np.mean([n for n in x if n < np.inf])\n",
    "\n",
    "def feo(x):\n",
    "    return mne(x)/rel(x)"
   ]
  },
  {
   "cell_type": "code",
   "execution_count": 9,
   "metadata": {},
   "outputs": [],
   "source": [
    "def mean(x):\n",
    "    return np.mean(x)\n",
    "\n",
    "def med(x):\n",
    "    return np.median(x)"
   ]
  },
  {
   "cell_type": "markdown",
   "metadata": {},
   "source": [
    "Now we run the first experiment. In the article initial $\\alpha = 1$ and $N_{local} = \\frac{1}{5} N_{general}$ setting was recomended."
   ]
  },
  {
   "cell_type": "code",
   "execution_count": 10,
   "metadata": {
    "scrolled": true
   },
   "outputs": [
    {
     "data": {
      "application/vnd.jupyter.widget-view+json": {
       "model_id": "f0b51bea442440868eeac48818fac469",
       "version_major": 2,
       "version_minor": 0
      },
      "text/plain": [
       "HBox(children=(FloatProgress(value=0.0, description='Testing E=250, alfa0=1, N_general=50, N_local=10.0', max=…"
      ]
     },
     "metadata": {},
     "output_type": "display_data"
    },
    {
     "name": "stdout",
     "output_type": "stream",
     "text": [
      "\n"
     ]
    },
    {
     "data": {
      "application/vnd.jupyter.widget-view+json": {
       "model_id": "6e6c7dd577d64028be80c95307eb41c4",
       "version_major": 2,
       "version_minor": 0
      },
      "text/plain": [
       "HBox(children=(FloatProgress(value=0.0, description='Testing E=250, alfa0=1, N_general=100, N_local=20.0', max…"
      ]
     },
     "metadata": {},
     "output_type": "display_data"
    },
    {
     "name": "stdout",
     "output_type": "stream",
     "text": [
      "\n"
     ]
    },
    {
     "data": {
      "application/vnd.jupyter.widget-view+json": {
       "model_id": "1713c877e28944d0b4018efdb92d918b",
       "version_major": 2,
       "version_minor": 0
      },
      "text/plain": [
       "HBox(children=(FloatProgress(value=0.0, description='Testing E=500, alfa0=1, N_general=50, N_local=10.0', max=…"
      ]
     },
     "metadata": {},
     "output_type": "display_data"
    },
    {
     "name": "stdout",
     "output_type": "stream",
     "text": [
      "\n"
     ]
    },
    {
     "data": {
      "application/vnd.jupyter.widget-view+json": {
       "model_id": "6789ec536f6d4121b49881c9a4c57b93",
       "version_major": 2,
       "version_minor": 0
      },
      "text/plain": [
       "HBox(children=(FloatProgress(value=0.0, description='Testing E=500, alfa0=1, N_general=100, N_local=20.0', max…"
      ]
     },
     "metadata": {},
     "output_type": "display_data"
    },
    {
     "name": "stdout",
     "output_type": "stream",
     "text": [
      "\n"
     ]
    },
    {
     "data": {
      "application/vnd.jupyter.widget-view+json": {
       "model_id": "e149c1d7dbf54c339b5b79481c9b37cd",
       "version_major": 2,
       "version_minor": 0
      },
      "text/plain": [
       "HBox(children=(FloatProgress(value=0.0, description='Testing E=1000, alfa0=1, N_general=50, N_local=10.0', max…"
      ]
     },
     "metadata": {},
     "output_type": "display_data"
    },
    {
     "name": "stdout",
     "output_type": "stream",
     "text": [
      "\n"
     ]
    },
    {
     "data": {
      "application/vnd.jupyter.widget-view+json": {
       "model_id": "506e07a3ab3e4783925483a534b3a130",
       "version_major": 2,
       "version_minor": 0
      },
      "text/plain": [
       "HBox(children=(FloatProgress(value=0.0, description='Testing E=1000, alfa0=1, N_general=100, N_local=20.0', ma…"
      ]
     },
     "metadata": {},
     "output_type": "display_data"
    },
    {
     "name": "stdout",
     "output_type": "stream",
     "text": [
      "\n"
     ]
    },
    {
     "data": {
      "application/vnd.jupyter.widget-view+json": {
       "model_id": "d5e35553142a4293b3c7f0a86ab929fa",
       "version_major": 2,
       "version_minor": 0
      },
      "text/plain": [
       "HBox(children=(FloatProgress(value=0.0, description='Testing E=2000, alfa0=1, N_general=50, N_local=10.0', max…"
      ]
     },
     "metadata": {},
     "output_type": "display_data"
    },
    {
     "name": "stdout",
     "output_type": "stream",
     "text": [
      "\n"
     ]
    },
    {
     "data": {
      "application/vnd.jupyter.widget-view+json": {
       "model_id": "0e8da62da87c4732b0ade24758a943ad",
       "version_major": 2,
       "version_minor": 0
      },
      "text/plain": [
       "HBox(children=(FloatProgress(value=0.0, description='Testing E=2000, alfa0=1, N_general=100, N_local=20.0', ma…"
      ]
     },
     "metadata": {},
     "output_type": "display_data"
    },
    {
     "name": "stdout",
     "output_type": "stream",
     "text": [
      "\n"
     ]
    },
    {
     "data": {
      "application/vnd.jupyter.widget-view+json": {
       "model_id": "764ddf4726434c3bae8e567cc3310619",
       "version_major": 2,
       "version_minor": 0
      },
      "text/plain": [
       "HBox(children=(FloatProgress(value=0.0, description='Testing E=2000, alfa0=1, N_general=500, N_local=100.0', m…"
      ]
     },
     "metadata": {},
     "output_type": "display_data"
    },
    {
     "name": "stdout",
     "output_type": "stream",
     "text": [
      "\n"
     ]
    },
    {
     "data": {
      "application/vnd.jupyter.widget-view+json": {
       "model_id": "0f0175d32670473e958ee8b5599a49fb",
       "version_major": 2,
       "version_minor": 0
      },
      "text/plain": [
       "HBox(children=(FloatProgress(value=0.0, description='Testing E=5000, alfa0=1, N_general=50, N_local=10.0', max…"
      ]
     },
     "metadata": {},
     "output_type": "display_data"
    },
    {
     "name": "stdout",
     "output_type": "stream",
     "text": [
      "\n"
     ]
    },
    {
     "data": {
      "application/vnd.jupyter.widget-view+json": {
       "model_id": "33b50bfeaeb7421497b026db58ff0507",
       "version_major": 2,
       "version_minor": 0
      },
      "text/plain": [
       "HBox(children=(FloatProgress(value=0.0, description='Testing E=5000, alfa0=1, N_general=100, N_local=20.0', ma…"
      ]
     },
     "metadata": {},
     "output_type": "display_data"
    },
    {
     "name": "stdout",
     "output_type": "stream",
     "text": [
      "\n"
     ]
    },
    {
     "data": {
      "application/vnd.jupyter.widget-view+json": {
       "model_id": "6236180d2c3b41c48c769c8cb814f1ec",
       "version_major": 2,
       "version_minor": 0
      },
      "text/plain": [
       "HBox(children=(FloatProgress(value=0.0, description='Testing E=5000, alfa0=1, N_general=500, N_local=100.0', m…"
      ]
     },
     "metadata": {},
     "output_type": "display_data"
    },
    {
     "name": "stdout",
     "output_type": "stream",
     "text": [
      "\n"
     ]
    },
    {
     "data": {
      "application/vnd.jupyter.widget-view+json": {
       "model_id": "7f5715dd85c64b90a43020c3dc938b37",
       "version_major": 2,
       "version_minor": 0
      },
      "text/plain": [
       "HBox(children=(FloatProgress(value=0.0, description='Testing E=5000, alfa0=1, N_general=1000, N_local=200.0', …"
      ]
     },
     "metadata": {},
     "output_type": "display_data"
    },
    {
     "name": "stdout",
     "output_type": "stream",
     "text": [
      "\n"
     ]
    },
    {
     "data": {
      "application/vnd.jupyter.widget-view+json": {
       "model_id": "2a042d78529a43b48116e5ee8ecbd684",
       "version_major": 2,
       "version_minor": 0
      },
      "text/plain": [
       "HBox(children=(FloatProgress(value=0.0, description='Testing E=5000, alfa0=1, N_general=2000, N_local=400.0', …"
      ]
     },
     "metadata": {},
     "output_type": "display_data"
    },
    {
     "name": "stdout",
     "output_type": "stream",
     "text": [
      "\n"
     ]
    }
   ],
   "source": [
    "table_draset = pd.DataFrame()\n",
    "\n",
    "for E in [250, 500, 1000, 2000, 5000]:\n",
    "    for alfa0 in [1]:\n",
    "        for N_general in [50, 100, 500, 1000, 2000]:\n",
    "            if 2*N_general < E:  # we will run only settings which make sense\n",
    "                N_local = N_general/5\n",
    "                res = experiment_draset(of = function, maxeval = MAXEV, num_runs = RUNS, E = E, alfa0 = alfa0, N_general = N_general, N_local = N_local, correction = corr)\n",
    "                table_draset = pd.concat([table_draset, res], axis = 0)\n",
    "    "
   ]
  },
  {
   "cell_type": "code",
   "execution_count": 11,
   "metadata": {},
   "outputs": [],
   "source": [
    "stats_draset = table_draset.pivot_table(\n",
    "    index=['heur', 'E', 'alfa0', 'N_general', 'N_local'],\n",
    "    values=['neval'],\n",
    "    aggfunc=(rel, mne, feo)\n",
    ")['neval']\n",
    "stats_draset = stats_draset.reset_index()"
   ]
  },
  {
   "cell_type": "code",
   "execution_count": 12,
   "metadata": {},
   "outputs": [
    {
     "data": {
      "text/html": [
       "<div>\n",
       "<style scoped>\n",
       "    .dataframe tbody tr th:only-of-type {\n",
       "        vertical-align: middle;\n",
       "    }\n",
       "\n",
       "    .dataframe tbody tr th {\n",
       "        vertical-align: top;\n",
       "    }\n",
       "\n",
       "    .dataframe thead th {\n",
       "        text-align: right;\n",
       "    }\n",
       "</style>\n",
       "<table border=\"1\" class=\"dataframe\">\n",
       "  <thead>\n",
       "    <tr style=\"text-align: right;\">\n",
       "      <th></th>\n",
       "      <th>heur</th>\n",
       "      <th>E</th>\n",
       "      <th>alfa0</th>\n",
       "      <th>N_general</th>\n",
       "      <th>N_local</th>\n",
       "      <th>feo</th>\n",
       "      <th>mne</th>\n",
       "      <th>rel</th>\n",
       "    </tr>\n",
       "  </thead>\n",
       "  <tbody>\n",
       "    <tr>\n",
       "      <td>2</td>\n",
       "      <td>Draset_2000_1_100_20.0</td>\n",
       "      <td>2000</td>\n",
       "      <td>1</td>\n",
       "      <td>100</td>\n",
       "      <td>20.0</td>\n",
       "      <td>2917.751736</td>\n",
       "      <td>1960.729167</td>\n",
       "      <td>0.672</td>\n",
       "    </tr>\n",
       "    <tr>\n",
       "      <td>4</td>\n",
       "      <td>Draset_2000_1_50_10.0</td>\n",
       "      <td>2000</td>\n",
       "      <td>1</td>\n",
       "      <td>50</td>\n",
       "      <td>10.0</td>\n",
       "      <td>2991.960834</td>\n",
       "      <td>2016.581602</td>\n",
       "      <td>0.674</td>\n",
       "    </tr>\n",
       "    <tr>\n",
       "      <td>3</td>\n",
       "      <td>Draset_2000_1_500_100.0</td>\n",
       "      <td>2000</td>\n",
       "      <td>1</td>\n",
       "      <td>500</td>\n",
       "      <td>100.0</td>\n",
       "      <td>3192.243864</td>\n",
       "      <td>2049.420561</td>\n",
       "      <td>0.642</td>\n",
       "    </tr>\n",
       "    <tr>\n",
       "      <td>7</td>\n",
       "      <td>Draset_5000_1_1000_200.0</td>\n",
       "      <td>5000</td>\n",
       "      <td>1</td>\n",
       "      <td>1000</td>\n",
       "      <td>200.0</td>\n",
       "      <td>3218.379263</td>\n",
       "      <td>3063.897059</td>\n",
       "      <td>0.952</td>\n",
       "    </tr>\n",
       "    <tr>\n",
       "      <td>8</td>\n",
       "      <td>Draset_5000_1_100_20.0</td>\n",
       "      <td>5000</td>\n",
       "      <td>1</td>\n",
       "      <td>100</td>\n",
       "      <td>20.0</td>\n",
       "      <td>3238.302571</td>\n",
       "      <td>3056.957627</td>\n",
       "      <td>0.944</td>\n",
       "    </tr>\n",
       "    <tr>\n",
       "      <td>11</td>\n",
       "      <td>Draset_5000_1_50_10.0</td>\n",
       "      <td>5000</td>\n",
       "      <td>1</td>\n",
       "      <td>50</td>\n",
       "      <td>10.0</td>\n",
       "      <td>3251.261839</td>\n",
       "      <td>2900.125561</td>\n",
       "      <td>0.892</td>\n",
       "    </tr>\n",
       "    <tr>\n",
       "      <td>1</td>\n",
       "      <td>Draset_1000_1_50_10.0</td>\n",
       "      <td>1000</td>\n",
       "      <td>1</td>\n",
       "      <td>50</td>\n",
       "      <td>10.0</td>\n",
       "      <td>3337.473173</td>\n",
       "      <td>1188.140449</td>\n",
       "      <td>0.356</td>\n",
       "    </tr>\n",
       "    <tr>\n",
       "      <td>9</td>\n",
       "      <td>Draset_5000_1_2000_400.0</td>\n",
       "      <td>5000</td>\n",
       "      <td>1</td>\n",
       "      <td>2000</td>\n",
       "      <td>400.0</td>\n",
       "      <td>3378.094926</td>\n",
       "      <td>3188.921610</td>\n",
       "      <td>0.944</td>\n",
       "    </tr>\n",
       "    <tr>\n",
       "      <td>10</td>\n",
       "      <td>Draset_5000_1_500_100.0</td>\n",
       "      <td>5000</td>\n",
       "      <td>1</td>\n",
       "      <td>500</td>\n",
       "      <td>100.0</td>\n",
       "      <td>3461.255963</td>\n",
       "      <td>3225.890558</td>\n",
       "      <td>0.932</td>\n",
       "    </tr>\n",
       "    <tr>\n",
       "      <td>0</td>\n",
       "      <td>Draset_1000_1_100_20.0</td>\n",
       "      <td>1000</td>\n",
       "      <td>1</td>\n",
       "      <td>100</td>\n",
       "      <td>20.0</td>\n",
       "      <td>3631.895050</td>\n",
       "      <td>1205.789157</td>\n",
       "      <td>0.332</td>\n",
       "    </tr>\n",
       "    <tr>\n",
       "      <td>12</td>\n",
       "      <td>Draset_500_1_100_20.0</td>\n",
       "      <td>500</td>\n",
       "      <td>1</td>\n",
       "      <td>100</td>\n",
       "      <td>20.0</td>\n",
       "      <td>5177.159209</td>\n",
       "      <td>641.967742</td>\n",
       "      <td>0.124</td>\n",
       "    </tr>\n",
       "    <tr>\n",
       "      <td>13</td>\n",
       "      <td>Draset_500_1_50_10.0</td>\n",
       "      <td>500</td>\n",
       "      <td>1</td>\n",
       "      <td>50</td>\n",
       "      <td>10.0</td>\n",
       "      <td>5202.066012</td>\n",
       "      <td>655.460317</td>\n",
       "      <td>0.126</td>\n",
       "    </tr>\n",
       "    <tr>\n",
       "      <td>5</td>\n",
       "      <td>Draset_250_1_100_20.0</td>\n",
       "      <td>250</td>\n",
       "      <td>1</td>\n",
       "      <td>100</td>\n",
       "      <td>20.0</td>\n",
       "      <td>6026.465028</td>\n",
       "      <td>277.217391</td>\n",
       "      <td>0.046</td>\n",
       "    </tr>\n",
       "    <tr>\n",
       "      <td>6</td>\n",
       "      <td>Draset_250_1_50_10.0</td>\n",
       "      <td>250</td>\n",
       "      <td>1</td>\n",
       "      <td>50</td>\n",
       "      <td>10.0</td>\n",
       "      <td>7873.750000</td>\n",
       "      <td>314.950000</td>\n",
       "      <td>0.040</td>\n",
       "    </tr>\n",
       "  </tbody>\n",
       "</table>\n",
       "</div>"
      ],
      "text/plain": [
       "                        heur     E  alfa0  N_general  N_local          feo  \\\n",
       "2     Draset_2000_1_100_20.0  2000      1        100     20.0  2917.751736   \n",
       "4      Draset_2000_1_50_10.0  2000      1         50     10.0  2991.960834   \n",
       "3    Draset_2000_1_500_100.0  2000      1        500    100.0  3192.243864   \n",
       "7   Draset_5000_1_1000_200.0  5000      1       1000    200.0  3218.379263   \n",
       "8     Draset_5000_1_100_20.0  5000      1        100     20.0  3238.302571   \n",
       "11     Draset_5000_1_50_10.0  5000      1         50     10.0  3251.261839   \n",
       "1      Draset_1000_1_50_10.0  1000      1         50     10.0  3337.473173   \n",
       "9   Draset_5000_1_2000_400.0  5000      1       2000    400.0  3378.094926   \n",
       "10   Draset_5000_1_500_100.0  5000      1        500    100.0  3461.255963   \n",
       "0     Draset_1000_1_100_20.0  1000      1        100     20.0  3631.895050   \n",
       "12     Draset_500_1_100_20.0   500      1        100     20.0  5177.159209   \n",
       "13      Draset_500_1_50_10.0   500      1         50     10.0  5202.066012   \n",
       "5      Draset_250_1_100_20.0   250      1        100     20.0  6026.465028   \n",
       "6       Draset_250_1_50_10.0   250      1         50     10.0  7873.750000   \n",
       "\n",
       "            mne    rel  \n",
       "2   1960.729167  0.672  \n",
       "4   2016.581602  0.674  \n",
       "3   2049.420561  0.642  \n",
       "7   3063.897059  0.952  \n",
       "8   3056.957627  0.944  \n",
       "11  2900.125561  0.892  \n",
       "1   1188.140449  0.356  \n",
       "9   3188.921610  0.944  \n",
       "10  3225.890558  0.932  \n",
       "0   1205.789157  0.332  \n",
       "12   641.967742  0.124  \n",
       "13   655.460317  0.126  \n",
       "5    277.217391  0.046  \n",
       "6    314.950000  0.040  "
      ]
     },
     "execution_count": 12,
     "metadata": {},
     "output_type": "execute_result"
    }
   ],
   "source": [
    "stats_draset.sort_values(by=['feo'])"
   ]
  },
  {
   "cell_type": "markdown",
   "metadata": {},
   "source": [
    "The best Feoktistov criterion is obtained for $E = 2000$. "
   ]
  },
  {
   "cell_type": "code",
   "execution_count": 13,
   "metadata": {},
   "outputs": [
    {
     "data": {
      "text/html": [
       "<div>\n",
       "<style scoped>\n",
       "    .dataframe tbody tr th:only-of-type {\n",
       "        vertical-align: middle;\n",
       "    }\n",
       "\n",
       "    .dataframe tbody tr th {\n",
       "        vertical-align: top;\n",
       "    }\n",
       "\n",
       "    .dataframe thead th {\n",
       "        text-align: right;\n",
       "    }\n",
       "</style>\n",
       "<table border=\"1\" class=\"dataframe\">\n",
       "  <thead>\n",
       "    <tr style=\"text-align: right;\">\n",
       "      <th></th>\n",
       "      <th>heur</th>\n",
       "      <th>E</th>\n",
       "      <th>alfa0</th>\n",
       "      <th>N_general</th>\n",
       "      <th>N_local</th>\n",
       "      <th>feo</th>\n",
       "      <th>mne</th>\n",
       "      <th>rel</th>\n",
       "    </tr>\n",
       "  </thead>\n",
       "  <tbody>\n",
       "    <tr>\n",
       "      <td>7</td>\n",
       "      <td>Draset_5000_1_1000_200.0</td>\n",
       "      <td>5000</td>\n",
       "      <td>1</td>\n",
       "      <td>1000</td>\n",
       "      <td>200.0</td>\n",
       "      <td>3218.379263</td>\n",
       "      <td>3063.897059</td>\n",
       "      <td>0.952</td>\n",
       "    </tr>\n",
       "    <tr>\n",
       "      <td>8</td>\n",
       "      <td>Draset_5000_1_100_20.0</td>\n",
       "      <td>5000</td>\n",
       "      <td>1</td>\n",
       "      <td>100</td>\n",
       "      <td>20.0</td>\n",
       "      <td>3238.302571</td>\n",
       "      <td>3056.957627</td>\n",
       "      <td>0.944</td>\n",
       "    </tr>\n",
       "    <tr>\n",
       "      <td>9</td>\n",
       "      <td>Draset_5000_1_2000_400.0</td>\n",
       "      <td>5000</td>\n",
       "      <td>1</td>\n",
       "      <td>2000</td>\n",
       "      <td>400.0</td>\n",
       "      <td>3378.094926</td>\n",
       "      <td>3188.921610</td>\n",
       "      <td>0.944</td>\n",
       "    </tr>\n",
       "    <tr>\n",
       "      <td>10</td>\n",
       "      <td>Draset_5000_1_500_100.0</td>\n",
       "      <td>5000</td>\n",
       "      <td>1</td>\n",
       "      <td>500</td>\n",
       "      <td>100.0</td>\n",
       "      <td>3461.255963</td>\n",
       "      <td>3225.890558</td>\n",
       "      <td>0.932</td>\n",
       "    </tr>\n",
       "    <tr>\n",
       "      <td>11</td>\n",
       "      <td>Draset_5000_1_50_10.0</td>\n",
       "      <td>5000</td>\n",
       "      <td>1</td>\n",
       "      <td>50</td>\n",
       "      <td>10.0</td>\n",
       "      <td>3251.261839</td>\n",
       "      <td>2900.125561</td>\n",
       "      <td>0.892</td>\n",
       "    </tr>\n",
       "    <tr>\n",
       "      <td>4</td>\n",
       "      <td>Draset_2000_1_50_10.0</td>\n",
       "      <td>2000</td>\n",
       "      <td>1</td>\n",
       "      <td>50</td>\n",
       "      <td>10.0</td>\n",
       "      <td>2991.960834</td>\n",
       "      <td>2016.581602</td>\n",
       "      <td>0.674</td>\n",
       "    </tr>\n",
       "    <tr>\n",
       "      <td>2</td>\n",
       "      <td>Draset_2000_1_100_20.0</td>\n",
       "      <td>2000</td>\n",
       "      <td>1</td>\n",
       "      <td>100</td>\n",
       "      <td>20.0</td>\n",
       "      <td>2917.751736</td>\n",
       "      <td>1960.729167</td>\n",
       "      <td>0.672</td>\n",
       "    </tr>\n",
       "    <tr>\n",
       "      <td>3</td>\n",
       "      <td>Draset_2000_1_500_100.0</td>\n",
       "      <td>2000</td>\n",
       "      <td>1</td>\n",
       "      <td>500</td>\n",
       "      <td>100.0</td>\n",
       "      <td>3192.243864</td>\n",
       "      <td>2049.420561</td>\n",
       "      <td>0.642</td>\n",
       "    </tr>\n",
       "    <tr>\n",
       "      <td>1</td>\n",
       "      <td>Draset_1000_1_50_10.0</td>\n",
       "      <td>1000</td>\n",
       "      <td>1</td>\n",
       "      <td>50</td>\n",
       "      <td>10.0</td>\n",
       "      <td>3337.473173</td>\n",
       "      <td>1188.140449</td>\n",
       "      <td>0.356</td>\n",
       "    </tr>\n",
       "    <tr>\n",
       "      <td>0</td>\n",
       "      <td>Draset_1000_1_100_20.0</td>\n",
       "      <td>1000</td>\n",
       "      <td>1</td>\n",
       "      <td>100</td>\n",
       "      <td>20.0</td>\n",
       "      <td>3631.895050</td>\n",
       "      <td>1205.789157</td>\n",
       "      <td>0.332</td>\n",
       "    </tr>\n",
       "    <tr>\n",
       "      <td>13</td>\n",
       "      <td>Draset_500_1_50_10.0</td>\n",
       "      <td>500</td>\n",
       "      <td>1</td>\n",
       "      <td>50</td>\n",
       "      <td>10.0</td>\n",
       "      <td>5202.066012</td>\n",
       "      <td>655.460317</td>\n",
       "      <td>0.126</td>\n",
       "    </tr>\n",
       "    <tr>\n",
       "      <td>12</td>\n",
       "      <td>Draset_500_1_100_20.0</td>\n",
       "      <td>500</td>\n",
       "      <td>1</td>\n",
       "      <td>100</td>\n",
       "      <td>20.0</td>\n",
       "      <td>5177.159209</td>\n",
       "      <td>641.967742</td>\n",
       "      <td>0.124</td>\n",
       "    </tr>\n",
       "    <tr>\n",
       "      <td>5</td>\n",
       "      <td>Draset_250_1_100_20.0</td>\n",
       "      <td>250</td>\n",
       "      <td>1</td>\n",
       "      <td>100</td>\n",
       "      <td>20.0</td>\n",
       "      <td>6026.465028</td>\n",
       "      <td>277.217391</td>\n",
       "      <td>0.046</td>\n",
       "    </tr>\n",
       "    <tr>\n",
       "      <td>6</td>\n",
       "      <td>Draset_250_1_50_10.0</td>\n",
       "      <td>250</td>\n",
       "      <td>1</td>\n",
       "      <td>50</td>\n",
       "      <td>10.0</td>\n",
       "      <td>7873.750000</td>\n",
       "      <td>314.950000</td>\n",
       "      <td>0.040</td>\n",
       "    </tr>\n",
       "  </tbody>\n",
       "</table>\n",
       "</div>"
      ],
      "text/plain": [
       "                        heur     E  alfa0  N_general  N_local          feo  \\\n",
       "7   Draset_5000_1_1000_200.0  5000      1       1000    200.0  3218.379263   \n",
       "8     Draset_5000_1_100_20.0  5000      1        100     20.0  3238.302571   \n",
       "9   Draset_5000_1_2000_400.0  5000      1       2000    400.0  3378.094926   \n",
       "10   Draset_5000_1_500_100.0  5000      1        500    100.0  3461.255963   \n",
       "11     Draset_5000_1_50_10.0  5000      1         50     10.0  3251.261839   \n",
       "4      Draset_2000_1_50_10.0  2000      1         50     10.0  2991.960834   \n",
       "2     Draset_2000_1_100_20.0  2000      1        100     20.0  2917.751736   \n",
       "3    Draset_2000_1_500_100.0  2000      1        500    100.0  3192.243864   \n",
       "1      Draset_1000_1_50_10.0  1000      1         50     10.0  3337.473173   \n",
       "0     Draset_1000_1_100_20.0  1000      1        100     20.0  3631.895050   \n",
       "13      Draset_500_1_50_10.0   500      1         50     10.0  5202.066012   \n",
       "12     Draset_500_1_100_20.0   500      1        100     20.0  5177.159209   \n",
       "5      Draset_250_1_100_20.0   250      1        100     20.0  6026.465028   \n",
       "6       Draset_250_1_50_10.0   250      1         50     10.0  7873.750000   \n",
       "\n",
       "            mne    rel  \n",
       "7   3063.897059  0.952  \n",
       "8   3056.957627  0.944  \n",
       "9   3188.921610  0.944  \n",
       "10  3225.890558  0.932  \n",
       "11  2900.125561  0.892  \n",
       "4   2016.581602  0.674  \n",
       "2   1960.729167  0.672  \n",
       "3   2049.420561  0.642  \n",
       "1   1188.140449  0.356  \n",
       "0   1205.789157  0.332  \n",
       "13   655.460317  0.126  \n",
       "12   641.967742  0.124  \n",
       "5    277.217391  0.046  \n",
       "6    314.950000  0.040  "
      ]
     },
     "execution_count": 13,
     "metadata": {},
     "output_type": "execute_result"
    }
   ],
   "source": [
    "stats_draset.sort_values(by=['rel'], ascending = False)"
   ]
  },
  {
   "cell_type": "markdown",
   "metadata": {},
   "source": [
    "We can see a clear pattern that for more epochs we get higher reliability. But generally we can't say anything about a relation between the number of epochs and $N_{general}$ and better or worse reliability or Feoktistov criterion."
   ]
  },
  {
   "cell_type": "markdown",
   "metadata": {},
   "source": [
    "Now we focus on the best found value of the function after given number of epochs. The optimum equals 0."
   ]
  },
  {
   "cell_type": "code",
   "execution_count": 14,
   "metadata": {},
   "outputs": [],
   "source": [
    "stats_draset_best = table_draset.pivot_table(\n",
    "    index=['heur', 'E', 'alfa0', 'N_general', 'N_local'],\n",
    "    values=['best_y'],\n",
    "    aggfunc=(mean, med)\n",
    ")['best_y']\n",
    "stats_draset_best = stats_draset_best.reset_index()"
   ]
  },
  {
   "cell_type": "code",
   "execution_count": 15,
   "metadata": {},
   "outputs": [
    {
     "data": {
      "text/html": [
       "<div>\n",
       "<style scoped>\n",
       "    .dataframe tbody tr th:only-of-type {\n",
       "        vertical-align: middle;\n",
       "    }\n",
       "\n",
       "    .dataframe tbody tr th {\n",
       "        vertical-align: top;\n",
       "    }\n",
       "\n",
       "    .dataframe thead th {\n",
       "        text-align: right;\n",
       "    }\n",
       "</style>\n",
       "<table border=\"1\" class=\"dataframe\">\n",
       "  <thead>\n",
       "    <tr style=\"text-align: right;\">\n",
       "      <th></th>\n",
       "      <th>heur</th>\n",
       "      <th>E</th>\n",
       "      <th>alfa0</th>\n",
       "      <th>N_general</th>\n",
       "      <th>N_local</th>\n",
       "      <th>mean</th>\n",
       "      <th>med</th>\n",
       "    </tr>\n",
       "  </thead>\n",
       "  <tbody>\n",
       "    <tr>\n",
       "      <td>9</td>\n",
       "      <td>Draset_5000_1_2000_400.0</td>\n",
       "      <td>5000</td>\n",
       "      <td>1</td>\n",
       "      <td>2000</td>\n",
       "      <td>400.0</td>\n",
       "      <td>0.629077</td>\n",
       "      <td>0.051115</td>\n",
       "    </tr>\n",
       "    <tr>\n",
       "      <td>7</td>\n",
       "      <td>Draset_5000_1_1000_200.0</td>\n",
       "      <td>5000</td>\n",
       "      <td>1</td>\n",
       "      <td>1000</td>\n",
       "      <td>200.0</td>\n",
       "      <td>0.457833</td>\n",
       "      <td>0.054198</td>\n",
       "    </tr>\n",
       "    <tr>\n",
       "      <td>10</td>\n",
       "      <td>Draset_5000_1_500_100.0</td>\n",
       "      <td>5000</td>\n",
       "      <td>1</td>\n",
       "      <td>500</td>\n",
       "      <td>100.0</td>\n",
       "      <td>0.750341</td>\n",
       "      <td>0.054203</td>\n",
       "    </tr>\n",
       "    <tr>\n",
       "      <td>8</td>\n",
       "      <td>Draset_5000_1_100_20.0</td>\n",
       "      <td>5000</td>\n",
       "      <td>1</td>\n",
       "      <td>100</td>\n",
       "      <td>20.0</td>\n",
       "      <td>0.601929</td>\n",
       "      <td>0.056660</td>\n",
       "    </tr>\n",
       "    <tr>\n",
       "      <td>11</td>\n",
       "      <td>Draset_5000_1_50_10.0</td>\n",
       "      <td>5000</td>\n",
       "      <td>1</td>\n",
       "      <td>50</td>\n",
       "      <td>10.0</td>\n",
       "      <td>1.053386</td>\n",
       "      <td>0.058485</td>\n",
       "    </tr>\n",
       "    <tr>\n",
       "      <td>2</td>\n",
       "      <td>Draset_2000_1_100_20.0</td>\n",
       "      <td>2000</td>\n",
       "      <td>1</td>\n",
       "      <td>100</td>\n",
       "      <td>20.0</td>\n",
       "      <td>0.568706</td>\n",
       "      <td>0.073588</td>\n",
       "    </tr>\n",
       "    <tr>\n",
       "      <td>4</td>\n",
       "      <td>Draset_2000_1_50_10.0</td>\n",
       "      <td>2000</td>\n",
       "      <td>1</td>\n",
       "      <td>50</td>\n",
       "      <td>10.0</td>\n",
       "      <td>0.926227</td>\n",
       "      <td>0.075878</td>\n",
       "    </tr>\n",
       "    <tr>\n",
       "      <td>3</td>\n",
       "      <td>Draset_2000_1_500_100.0</td>\n",
       "      <td>2000</td>\n",
       "      <td>1</td>\n",
       "      <td>500</td>\n",
       "      <td>100.0</td>\n",
       "      <td>0.745639</td>\n",
       "      <td>0.079698</td>\n",
       "    </tr>\n",
       "    <tr>\n",
       "      <td>1</td>\n",
       "      <td>Draset_1000_1_50_10.0</td>\n",
       "      <td>1000</td>\n",
       "      <td>1</td>\n",
       "      <td>50</td>\n",
       "      <td>10.0</td>\n",
       "      <td>1.527605</td>\n",
       "      <td>0.176313</td>\n",
       "    </tr>\n",
       "    <tr>\n",
       "      <td>0</td>\n",
       "      <td>Draset_1000_1_100_20.0</td>\n",
       "      <td>1000</td>\n",
       "      <td>1</td>\n",
       "      <td>100</td>\n",
       "      <td>20.0</td>\n",
       "      <td>1.369208</td>\n",
       "      <td>0.194272</td>\n",
       "    </tr>\n",
       "    <tr>\n",
       "      <td>12</td>\n",
       "      <td>Draset_500_1_100_20.0</td>\n",
       "      <td>500</td>\n",
       "      <td>1</td>\n",
       "      <td>100</td>\n",
       "      <td>20.0</td>\n",
       "      <td>1.153837</td>\n",
       "      <td>0.530666</td>\n",
       "    </tr>\n",
       "    <tr>\n",
       "      <td>13</td>\n",
       "      <td>Draset_500_1_50_10.0</td>\n",
       "      <td>500</td>\n",
       "      <td>1</td>\n",
       "      <td>50</td>\n",
       "      <td>10.0</td>\n",
       "      <td>1.314775</td>\n",
       "      <td>0.646393</td>\n",
       "    </tr>\n",
       "    <tr>\n",
       "      <td>6</td>\n",
       "      <td>Draset_250_1_50_10.0</td>\n",
       "      <td>250</td>\n",
       "      <td>1</td>\n",
       "      <td>50</td>\n",
       "      <td>10.0</td>\n",
       "      <td>2.979412</td>\n",
       "      <td>1.455710</td>\n",
       "    </tr>\n",
       "    <tr>\n",
       "      <td>5</td>\n",
       "      <td>Draset_250_1_100_20.0</td>\n",
       "      <td>250</td>\n",
       "      <td>1</td>\n",
       "      <td>100</td>\n",
       "      <td>20.0</td>\n",
       "      <td>3.049657</td>\n",
       "      <td>1.490925</td>\n",
       "    </tr>\n",
       "  </tbody>\n",
       "</table>\n",
       "</div>"
      ],
      "text/plain": [
       "                        heur     E  alfa0  N_general  N_local      mean  \\\n",
       "9   Draset_5000_1_2000_400.0  5000      1       2000    400.0  0.629077   \n",
       "7   Draset_5000_1_1000_200.0  5000      1       1000    200.0  0.457833   \n",
       "10   Draset_5000_1_500_100.0  5000      1        500    100.0  0.750341   \n",
       "8     Draset_5000_1_100_20.0  5000      1        100     20.0  0.601929   \n",
       "11     Draset_5000_1_50_10.0  5000      1         50     10.0  1.053386   \n",
       "2     Draset_2000_1_100_20.0  2000      1        100     20.0  0.568706   \n",
       "4      Draset_2000_1_50_10.0  2000      1         50     10.0  0.926227   \n",
       "3    Draset_2000_1_500_100.0  2000      1        500    100.0  0.745639   \n",
       "1      Draset_1000_1_50_10.0  1000      1         50     10.0  1.527605   \n",
       "0     Draset_1000_1_100_20.0  1000      1        100     20.0  1.369208   \n",
       "12     Draset_500_1_100_20.0   500      1        100     20.0  1.153837   \n",
       "13      Draset_500_1_50_10.0   500      1         50     10.0  1.314775   \n",
       "6       Draset_250_1_50_10.0   250      1         50     10.0  2.979412   \n",
       "5      Draset_250_1_100_20.0   250      1        100     20.0  3.049657   \n",
       "\n",
       "         med  \n",
       "9   0.051115  \n",
       "7   0.054198  \n",
       "10  0.054203  \n",
       "8   0.056660  \n",
       "11  0.058485  \n",
       "2   0.073588  \n",
       "4   0.075878  \n",
       "3   0.079698  \n",
       "1   0.176313  \n",
       "0   0.194272  \n",
       "12  0.530666  \n",
       "13  0.646393  \n",
       "6   1.455710  \n",
       "5   1.490925  "
      ]
     },
     "execution_count": 15,
     "metadata": {},
     "output_type": "execute_result"
    }
   ],
   "source": [
    "stats_draset_best.sort_values(by=['med'])"
   ]
  },
  {
   "cell_type": "markdown",
   "metadata": {},
   "source": [
    "The table is sorted by median because it is a more robust statistic. We can see that with more epochs the algorithm finds a solution closer to the optimum."
   ]
  },
  {
   "cell_type": "markdown",
   "metadata": {},
   "source": [
    "Now we run the random shooting algorithm. We set a maximum number of evaluations of the function as $2*E$ because, as it was said before, in the worst case during DRASET the function can be evaluated $2*E$ times."
   ]
  },
  {
   "cell_type": "code",
   "execution_count": 16,
   "metadata": {
    "scrolled": true
   },
   "outputs": [
    {
     "data": {
      "application/vnd.jupyter.widget-view+json": {
       "model_id": "075f8112938c4fbea3e648f1b08d5884",
       "version_major": 2,
       "version_minor": 0
      },
      "text/plain": [
       "HBox(children=(FloatProgress(value=0.0, description='Testing maxeval=500', max=500.0, style=ProgressStyle(desc…"
      ]
     },
     "metadata": {},
     "output_type": "display_data"
    },
    {
     "name": "stdout",
     "output_type": "stream",
     "text": [
      "\n"
     ]
    },
    {
     "data": {
      "application/vnd.jupyter.widget-view+json": {
       "model_id": "5b9de4266b174e2fb32efde2b1524b13",
       "version_major": 2,
       "version_minor": 0
      },
      "text/plain": [
       "HBox(children=(FloatProgress(value=0.0, description='Testing maxeval=1000', max=500.0, style=ProgressStyle(des…"
      ]
     },
     "metadata": {},
     "output_type": "display_data"
    },
    {
     "name": "stdout",
     "output_type": "stream",
     "text": [
      "\n"
     ]
    },
    {
     "data": {
      "application/vnd.jupyter.widget-view+json": {
       "model_id": "997556075a76458386c0580004150d30",
       "version_major": 2,
       "version_minor": 0
      },
      "text/plain": [
       "HBox(children=(FloatProgress(value=0.0, description='Testing maxeval=2000', max=500.0, style=ProgressStyle(des…"
      ]
     },
     "metadata": {},
     "output_type": "display_data"
    },
    {
     "name": "stdout",
     "output_type": "stream",
     "text": [
      "\n"
     ]
    },
    {
     "data": {
      "application/vnd.jupyter.widget-view+json": {
       "model_id": "1cca2b10bdfa4ddb80bd05a8fcc11f9f",
       "version_major": 2,
       "version_minor": 0
      },
      "text/plain": [
       "HBox(children=(FloatProgress(value=0.0, description='Testing maxeval=4000', max=500.0, style=ProgressStyle(des…"
      ]
     },
     "metadata": {},
     "output_type": "display_data"
    },
    {
     "name": "stdout",
     "output_type": "stream",
     "text": [
      "\n"
     ]
    },
    {
     "data": {
      "application/vnd.jupyter.widget-view+json": {
       "model_id": "07c81998b96c40f3b8ba81c659c9281c",
       "version_major": 2,
       "version_minor": 0
      },
      "text/plain": [
       "HBox(children=(FloatProgress(value=0.0, description='Testing maxeval=10000', max=500.0, style=ProgressStyle(de…"
      ]
     },
     "metadata": {},
     "output_type": "display_data"
    },
    {
     "name": "stdout",
     "output_type": "stream",
     "text": [
      "\n"
     ]
    }
   ],
   "source": [
    "table_random = pd.DataFrame()\n",
    "\n",
    "for maxeval in [500, 1000, 2000, 4000, 10000]:\n",
    "    res = experiment_random(of = function, maxeval = maxeval, num_runs = RUNS)\n",
    "    table_random = pd.concat([table_random, res], axis = 0)"
   ]
  },
  {
   "cell_type": "code",
   "execution_count": 17,
   "metadata": {},
   "outputs": [],
   "source": [
    "stats_random = table_random.pivot_table(\n",
    "    index=['heur'],\n",
    "    values=['neval'],\n",
    "    aggfunc=(rel, mne, feo)\n",
    ")['neval']\n",
    "stats_random = stats_random.reset_index()"
   ]
  },
  {
   "cell_type": "code",
   "execution_count": 18,
   "metadata": {},
   "outputs": [
    {
     "data": {
      "text/html": [
       "<div>\n",
       "<style scoped>\n",
       "    .dataframe tbody tr th:only-of-type {\n",
       "        vertical-align: middle;\n",
       "    }\n",
       "\n",
       "    .dataframe tbody tr th {\n",
       "        vertical-align: top;\n",
       "    }\n",
       "\n",
       "    .dataframe thead th {\n",
       "        text-align: right;\n",
       "    }\n",
       "</style>\n",
       "<table border=\"1\" class=\"dataframe\">\n",
       "  <thead>\n",
       "    <tr style=\"text-align: right;\">\n",
       "      <th></th>\n",
       "      <th>heur</th>\n",
       "      <th>feo</th>\n",
       "      <th>mne</th>\n",
       "      <th>rel</th>\n",
       "    </tr>\n",
       "  </thead>\n",
       "  <tbody>\n",
       "    <tr>\n",
       "      <td>1</td>\n",
       "      <td>Random_10000</td>\n",
       "      <td>34292.275383</td>\n",
       "      <td>5075.256757</td>\n",
       "      <td>0.148</td>\n",
       "    </tr>\n",
       "    <tr>\n",
       "      <td>3</td>\n",
       "      <td>Random_4000</td>\n",
       "      <td>30945.000000</td>\n",
       "      <td>1856.700000</td>\n",
       "      <td>0.060</td>\n",
       "    </tr>\n",
       "    <tr>\n",
       "      <td>0</td>\n",
       "      <td>Random_1000</td>\n",
       "      <td>20396.449704</td>\n",
       "      <td>530.307692</td>\n",
       "      <td>0.026</td>\n",
       "    </tr>\n",
       "    <tr>\n",
       "      <td>2</td>\n",
       "      <td>Random_2000</td>\n",
       "      <td>45627.218935</td>\n",
       "      <td>1186.307692</td>\n",
       "      <td>0.026</td>\n",
       "    </tr>\n",
       "    <tr>\n",
       "      <td>4</td>\n",
       "      <td>Random_500</td>\n",
       "      <td>11625.000000</td>\n",
       "      <td>46.500000</td>\n",
       "      <td>0.004</td>\n",
       "    </tr>\n",
       "  </tbody>\n",
       "</table>\n",
       "</div>"
      ],
      "text/plain": [
       "           heur           feo          mne    rel\n",
       "1  Random_10000  34292.275383  5075.256757  0.148\n",
       "3   Random_4000  30945.000000  1856.700000  0.060\n",
       "0   Random_1000  20396.449704   530.307692  0.026\n",
       "2   Random_2000  45627.218935  1186.307692  0.026\n",
       "4    Random_500  11625.000000    46.500000  0.004"
      ]
     },
     "execution_count": 18,
     "metadata": {},
     "output_type": "execute_result"
    }
   ],
   "source": [
    "stats_random.sort_values(by=['rel'], ascending = False)"
   ]
  },
  {
   "cell_type": "markdown",
   "metadata": {},
   "source": [
    "It is obvious that we get much worse results than by DRASET. Both Feoktistov criterion and reliability are worse."
   ]
  },
  {
   "cell_type": "code",
   "execution_count": 19,
   "metadata": {},
   "outputs": [],
   "source": [
    "stats_random_best = table_random.pivot_table(\n",
    "    index=['heur'],\n",
    "    values=['best_y'],\n",
    "    aggfunc=(mean, med)\n",
    ")['best_y']\n",
    "stats_random_best = stats_random_best.reset_index()"
   ]
  },
  {
   "cell_type": "code",
   "execution_count": 20,
   "metadata": {},
   "outputs": [
    {
     "data": {
      "text/html": [
       "<div>\n",
       "<style scoped>\n",
       "    .dataframe tbody tr th:only-of-type {\n",
       "        vertical-align: middle;\n",
       "    }\n",
       "\n",
       "    .dataframe tbody tr th {\n",
       "        vertical-align: top;\n",
       "    }\n",
       "\n",
       "    .dataframe thead th {\n",
       "        text-align: right;\n",
       "    }\n",
       "</style>\n",
       "<table border=\"1\" class=\"dataframe\">\n",
       "  <thead>\n",
       "    <tr style=\"text-align: right;\">\n",
       "      <th></th>\n",
       "      <th>heur</th>\n",
       "      <th>mean</th>\n",
       "      <th>med</th>\n",
       "    </tr>\n",
       "  </thead>\n",
       "  <tbody>\n",
       "    <tr>\n",
       "      <td>1</td>\n",
       "      <td>Random_10000</td>\n",
       "      <td>0.549803</td>\n",
       "      <td>0.460388</td>\n",
       "    </tr>\n",
       "    <tr>\n",
       "      <td>3</td>\n",
       "      <td>Random_4000</td>\n",
       "      <td>0.913500</td>\n",
       "      <td>1.019392</td>\n",
       "    </tr>\n",
       "    <tr>\n",
       "      <td>2</td>\n",
       "      <td>Random_2000</td>\n",
       "      <td>1.311941</td>\n",
       "      <td>1.238497</td>\n",
       "    </tr>\n",
       "    <tr>\n",
       "      <td>0</td>\n",
       "      <td>Random_1000</td>\n",
       "      <td>1.725059</td>\n",
       "      <td>1.617650</td>\n",
       "    </tr>\n",
       "    <tr>\n",
       "      <td>4</td>\n",
       "      <td>Random_500</td>\n",
       "      <td>2.629286</td>\n",
       "      <td>2.418444</td>\n",
       "    </tr>\n",
       "  </tbody>\n",
       "</table>\n",
       "</div>"
      ],
      "text/plain": [
       "           heur      mean       med\n",
       "1  Random_10000  0.549803  0.460388\n",
       "3   Random_4000  0.913500  1.019392\n",
       "2   Random_2000  1.311941  1.238497\n",
       "0   Random_1000  1.725059  1.617650\n",
       "4    Random_500  2.629286  2.418444"
      ]
     },
     "execution_count": 20,
     "metadata": {},
     "output_type": "execute_result"
    }
   ],
   "source": [
    "stats_random_best.sort_values(by=['med'])"
   ]
  },
  {
   "cell_type": "markdown",
   "metadata": {},
   "source": [
    "The best found solution is also worse than the solution found by DRASET."
   ]
  },
  {
   "cell_type": "markdown",
   "metadata": {},
   "source": [
    "Now we analyze the second function: Rosenbrock's valley (De Jong's function 2). The global optimum is inside a long, narrow, parabolic shaped flat valley and equals 0."
   ]
  },
  {
   "cell_type": "code",
   "execution_count": 21,
   "metadata": {},
   "outputs": [],
   "source": [
    "function = Banana(n = 2, eps = 0.01)  # In this case we want to find more precise solution.\n",
    "corr = Correction(function)  # correction is not discussed in the original article, I choose the simpliest one"
   ]
  },
  {
   "cell_type": "markdown",
   "metadata": {},
   "source": [
    "First we run DRASET experiment."
   ]
  },
  {
   "cell_type": "code",
   "execution_count": 22,
   "metadata": {
    "scrolled": true
   },
   "outputs": [
    {
     "data": {
      "application/vnd.jupyter.widget-view+json": {
       "model_id": "8d29a239fc394a3ea21d64ab6297b1b5",
       "version_major": 2,
       "version_minor": 0
      },
      "text/plain": [
       "HBox(children=(FloatProgress(value=0.0, description='Testing E=250, alfa0=1, N_general=50, N_local=10.0', max=…"
      ]
     },
     "metadata": {},
     "output_type": "display_data"
    },
    {
     "name": "stdout",
     "output_type": "stream",
     "text": [
      "\n"
     ]
    },
    {
     "data": {
      "application/vnd.jupyter.widget-view+json": {
       "model_id": "bff119c80a264287a7de006ae2481dea",
       "version_major": 2,
       "version_minor": 0
      },
      "text/plain": [
       "HBox(children=(FloatProgress(value=0.0, description='Testing E=250, alfa0=1, N_general=100, N_local=20.0', max…"
      ]
     },
     "metadata": {},
     "output_type": "display_data"
    },
    {
     "name": "stdout",
     "output_type": "stream",
     "text": [
      "\n"
     ]
    },
    {
     "data": {
      "application/vnd.jupyter.widget-view+json": {
       "model_id": "542c195f0ad641de9a9af78e13944cbd",
       "version_major": 2,
       "version_minor": 0
      },
      "text/plain": [
       "HBox(children=(FloatProgress(value=0.0, description='Testing E=500, alfa0=1, N_general=50, N_local=10.0', max=…"
      ]
     },
     "metadata": {},
     "output_type": "display_data"
    },
    {
     "name": "stdout",
     "output_type": "stream",
     "text": [
      "\n"
     ]
    },
    {
     "data": {
      "application/vnd.jupyter.widget-view+json": {
       "model_id": "438c795b803a45419b9642eff37d962d",
       "version_major": 2,
       "version_minor": 0
      },
      "text/plain": [
       "HBox(children=(FloatProgress(value=0.0, description='Testing E=500, alfa0=1, N_general=100, N_local=20.0', max…"
      ]
     },
     "metadata": {},
     "output_type": "display_data"
    },
    {
     "name": "stdout",
     "output_type": "stream",
     "text": [
      "\n"
     ]
    },
    {
     "data": {
      "application/vnd.jupyter.widget-view+json": {
       "model_id": "31980f1101a3433a8aed7b7ba1283236",
       "version_major": 2,
       "version_minor": 0
      },
      "text/plain": [
       "HBox(children=(FloatProgress(value=0.0, description='Testing E=1000, alfa0=1, N_general=50, N_local=10.0', max…"
      ]
     },
     "metadata": {},
     "output_type": "display_data"
    },
    {
     "name": "stdout",
     "output_type": "stream",
     "text": [
      "\n"
     ]
    },
    {
     "data": {
      "application/vnd.jupyter.widget-view+json": {
       "model_id": "98a6ffe103c741948bec2989231d7656",
       "version_major": 2,
       "version_minor": 0
      },
      "text/plain": [
       "HBox(children=(FloatProgress(value=0.0, description='Testing E=1000, alfa0=1, N_general=100, N_local=20.0', ma…"
      ]
     },
     "metadata": {},
     "output_type": "display_data"
    },
    {
     "name": "stdout",
     "output_type": "stream",
     "text": [
      "\n"
     ]
    },
    {
     "data": {
      "application/vnd.jupyter.widget-view+json": {
       "model_id": "f0647e0823cf4b7eac7778b59bea33de",
       "version_major": 2,
       "version_minor": 0
      },
      "text/plain": [
       "HBox(children=(FloatProgress(value=0.0, description='Testing E=2000, alfa0=1, N_general=50, N_local=10.0', max…"
      ]
     },
     "metadata": {},
     "output_type": "display_data"
    },
    {
     "name": "stdout",
     "output_type": "stream",
     "text": [
      "\n"
     ]
    },
    {
     "data": {
      "application/vnd.jupyter.widget-view+json": {
       "model_id": "cca4fcfa91464971bf7c929921f2dcee",
       "version_major": 2,
       "version_minor": 0
      },
      "text/plain": [
       "HBox(children=(FloatProgress(value=0.0, description='Testing E=2000, alfa0=1, N_general=100, N_local=20.0', ma…"
      ]
     },
     "metadata": {},
     "output_type": "display_data"
    },
    {
     "name": "stdout",
     "output_type": "stream",
     "text": [
      "\n"
     ]
    },
    {
     "data": {
      "application/vnd.jupyter.widget-view+json": {
       "model_id": "3e423ba2b9be4d0097936877674038f3",
       "version_major": 2,
       "version_minor": 0
      },
      "text/plain": [
       "HBox(children=(FloatProgress(value=0.0, description='Testing E=2000, alfa0=1, N_general=500, N_local=100.0', m…"
      ]
     },
     "metadata": {},
     "output_type": "display_data"
    },
    {
     "name": "stdout",
     "output_type": "stream",
     "text": [
      "\n"
     ]
    },
    {
     "data": {
      "application/vnd.jupyter.widget-view+json": {
       "model_id": "224d7d7b819d4f84a6959c982a69c91e",
       "version_major": 2,
       "version_minor": 0
      },
      "text/plain": [
       "HBox(children=(FloatProgress(value=0.0, description='Testing E=5000, alfa0=1, N_general=50, N_local=10.0', max…"
      ]
     },
     "metadata": {},
     "output_type": "display_data"
    },
    {
     "name": "stdout",
     "output_type": "stream",
     "text": [
      "\n"
     ]
    },
    {
     "data": {
      "application/vnd.jupyter.widget-view+json": {
       "model_id": "035140aae5fe4197be5014b84986631e",
       "version_major": 2,
       "version_minor": 0
      },
      "text/plain": [
       "HBox(children=(FloatProgress(value=0.0, description='Testing E=5000, alfa0=1, N_general=100, N_local=20.0', ma…"
      ]
     },
     "metadata": {},
     "output_type": "display_data"
    },
    {
     "name": "stdout",
     "output_type": "stream",
     "text": [
      "\n"
     ]
    },
    {
     "data": {
      "application/vnd.jupyter.widget-view+json": {
       "model_id": "9d46b26f35824743a6556c7cfb512008",
       "version_major": 2,
       "version_minor": 0
      },
      "text/plain": [
       "HBox(children=(FloatProgress(value=0.0, description='Testing E=5000, alfa0=1, N_general=500, N_local=100.0', m…"
      ]
     },
     "metadata": {},
     "output_type": "display_data"
    },
    {
     "name": "stdout",
     "output_type": "stream",
     "text": [
      "\n"
     ]
    },
    {
     "data": {
      "application/vnd.jupyter.widget-view+json": {
       "model_id": "2b33f619e4924e41a745279fda54b2fd",
       "version_major": 2,
       "version_minor": 0
      },
      "text/plain": [
       "HBox(children=(FloatProgress(value=0.0, description='Testing E=5000, alfa0=1, N_general=1000, N_local=200.0', …"
      ]
     },
     "metadata": {},
     "output_type": "display_data"
    },
    {
     "name": "stdout",
     "output_type": "stream",
     "text": [
      "\n"
     ]
    },
    {
     "data": {
      "application/vnd.jupyter.widget-view+json": {
       "model_id": "a2c5baaea0bd4444a4b2c63902febc2b",
       "version_major": 2,
       "version_minor": 0
      },
      "text/plain": [
       "HBox(children=(FloatProgress(value=0.0, description='Testing E=5000, alfa0=1, N_general=2000, N_local=400.0', …"
      ]
     },
     "metadata": {},
     "output_type": "display_data"
    },
    {
     "name": "stdout",
     "output_type": "stream",
     "text": [
      "\n"
     ]
    }
   ],
   "source": [
    "table_draset2 = pd.DataFrame()\n",
    "\n",
    "for E in [250, 500, 1000, 2000, 5000]:\n",
    "    for alfa0 in [1]:\n",
    "        for N_general in [50, 100, 500, 1000, 2000]:\n",
    "            if 2*N_general < E:  # we will run only settings which make sense\n",
    "                N_local = N_general/5\n",
    "                res = experiment_draset(of = function, maxeval = MAXEV, num_runs = RUNS, E = E, alfa0 = alfa0, N_general = N_general, N_local = N_local, correction = corr)\n",
    "                table_draset2 = pd.concat([table_draset2, res], axis = 0)\n",
    "    "
   ]
  },
  {
   "cell_type": "code",
   "execution_count": 23,
   "metadata": {},
   "outputs": [],
   "source": [
    "stats_draset2 = table_draset2.pivot_table(\n",
    "    index=['heur', 'E', 'alfa0', 'N_general', 'N_local'],\n",
    "    values=['neval'],\n",
    "    aggfunc=(rel, mne, feo)\n",
    ")['neval']\n",
    "stats_draset2 = stats_draset2.reset_index()"
   ]
  },
  {
   "cell_type": "code",
   "execution_count": 24,
   "metadata": {},
   "outputs": [
    {
     "data": {
      "text/html": [
       "<div>\n",
       "<style scoped>\n",
       "    .dataframe tbody tr th:only-of-type {\n",
       "        vertical-align: middle;\n",
       "    }\n",
       "\n",
       "    .dataframe tbody tr th {\n",
       "        vertical-align: top;\n",
       "    }\n",
       "\n",
       "    .dataframe thead th {\n",
       "        text-align: right;\n",
       "    }\n",
       "</style>\n",
       "<table border=\"1\" class=\"dataframe\">\n",
       "  <thead>\n",
       "    <tr style=\"text-align: right;\">\n",
       "      <th></th>\n",
       "      <th>heur</th>\n",
       "      <th>E</th>\n",
       "      <th>alfa0</th>\n",
       "      <th>N_general</th>\n",
       "      <th>N_local</th>\n",
       "      <th>feo</th>\n",
       "      <th>mne</th>\n",
       "      <th>rel</th>\n",
       "    </tr>\n",
       "  </thead>\n",
       "  <tbody>\n",
       "    <tr>\n",
       "      <td>5</td>\n",
       "      <td>Draset_250_1_100_20.0</td>\n",
       "      <td>250</td>\n",
       "      <td>1</td>\n",
       "      <td>100</td>\n",
       "      <td>20.0</td>\n",
       "      <td>903.367347</td>\n",
       "      <td>252.942857</td>\n",
       "      <td>0.280</td>\n",
       "    </tr>\n",
       "    <tr>\n",
       "      <td>13</td>\n",
       "      <td>Draset_500_1_50_10.0</td>\n",
       "      <td>500</td>\n",
       "      <td>1</td>\n",
       "      <td>50</td>\n",
       "      <td>10.0</td>\n",
       "      <td>959.502155</td>\n",
       "      <td>449.047009</td>\n",
       "      <td>0.468</td>\n",
       "    </tr>\n",
       "    <tr>\n",
       "      <td>12</td>\n",
       "      <td>Draset_500_1_100_20.0</td>\n",
       "      <td>500</td>\n",
       "      <td>1</td>\n",
       "      <td>100</td>\n",
       "      <td>20.0</td>\n",
       "      <td>1047.047469</td>\n",
       "      <td>483.735931</td>\n",
       "      <td>0.462</td>\n",
       "    </tr>\n",
       "    <tr>\n",
       "      <td>1</td>\n",
       "      <td>Draset_1000_1_50_10.0</td>\n",
       "      <td>1000</td>\n",
       "      <td>1</td>\n",
       "      <td>50</td>\n",
       "      <td>10.0</td>\n",
       "      <td>1086.066749</td>\n",
       "      <td>790.656593</td>\n",
       "      <td>0.728</td>\n",
       "    </tr>\n",
       "    <tr>\n",
       "      <td>6</td>\n",
       "      <td>Draset_250_1_50_10.0</td>\n",
       "      <td>250</td>\n",
       "      <td>1</td>\n",
       "      <td>50</td>\n",
       "      <td>10.0</td>\n",
       "      <td>1097.064752</td>\n",
       "      <td>276.460317</td>\n",
       "      <td>0.252</td>\n",
       "    </tr>\n",
       "    <tr>\n",
       "      <td>0</td>\n",
       "      <td>Draset_1000_1_100_20.0</td>\n",
       "      <td>1000</td>\n",
       "      <td>1</td>\n",
       "      <td>100</td>\n",
       "      <td>20.0</td>\n",
       "      <td>1110.723069</td>\n",
       "      <td>830.820856</td>\n",
       "      <td>0.748</td>\n",
       "    </tr>\n",
       "    <tr>\n",
       "      <td>3</td>\n",
       "      <td>Draset_2000_1_500_100.0</td>\n",
       "      <td>2000</td>\n",
       "      <td>1</td>\n",
       "      <td>500</td>\n",
       "      <td>100.0</td>\n",
       "      <td>1309.313607</td>\n",
       "      <td>1201.949891</td>\n",
       "      <td>0.918</td>\n",
       "    </tr>\n",
       "    <tr>\n",
       "      <td>4</td>\n",
       "      <td>Draset_2000_1_50_10.0</td>\n",
       "      <td>2000</td>\n",
       "      <td>1</td>\n",
       "      <td>50</td>\n",
       "      <td>10.0</td>\n",
       "      <td>1322.176390</td>\n",
       "      <td>1192.603104</td>\n",
       "      <td>0.902</td>\n",
       "    </tr>\n",
       "    <tr>\n",
       "      <td>2</td>\n",
       "      <td>Draset_2000_1_100_20.0</td>\n",
       "      <td>2000</td>\n",
       "      <td>1</td>\n",
       "      <td>100</td>\n",
       "      <td>20.0</td>\n",
       "      <td>1380.255255</td>\n",
       "      <td>1225.666667</td>\n",
       "      <td>0.888</td>\n",
       "    </tr>\n",
       "    <tr>\n",
       "      <td>9</td>\n",
       "      <td>Draset_5000_1_2000_400.0</td>\n",
       "      <td>5000</td>\n",
       "      <td>1</td>\n",
       "      <td>2000</td>\n",
       "      <td>400.0</td>\n",
       "      <td>1515.075846</td>\n",
       "      <td>1487.804481</td>\n",
       "      <td>0.982</td>\n",
       "    </tr>\n",
       "    <tr>\n",
       "      <td>10</td>\n",
       "      <td>Draset_5000_1_500_100.0</td>\n",
       "      <td>5000</td>\n",
       "      <td>1</td>\n",
       "      <td>500</td>\n",
       "      <td>100.0</td>\n",
       "      <td>1520.982574</td>\n",
       "      <td>1478.395062</td>\n",
       "      <td>0.972</td>\n",
       "    </tr>\n",
       "    <tr>\n",
       "      <td>11</td>\n",
       "      <td>Draset_5000_1_50_10.0</td>\n",
       "      <td>5000</td>\n",
       "      <td>1</td>\n",
       "      <td>50</td>\n",
       "      <td>10.0</td>\n",
       "      <td>1524.166205</td>\n",
       "      <td>1447.957895</td>\n",
       "      <td>0.950</td>\n",
       "    </tr>\n",
       "    <tr>\n",
       "      <td>8</td>\n",
       "      <td>Draset_5000_1_100_20.0</td>\n",
       "      <td>5000</td>\n",
       "      <td>1</td>\n",
       "      <td>100</td>\n",
       "      <td>20.0</td>\n",
       "      <td>1544.440104</td>\n",
       "      <td>1482.662500</td>\n",
       "      <td>0.960</td>\n",
       "    </tr>\n",
       "    <tr>\n",
       "      <td>7</td>\n",
       "      <td>Draset_5000_1_1000_200.0</td>\n",
       "      <td>5000</td>\n",
       "      <td>1</td>\n",
       "      <td>1000</td>\n",
       "      <td>200.0</td>\n",
       "      <td>1577.939508</td>\n",
       "      <td>1533.757202</td>\n",
       "      <td>0.972</td>\n",
       "    </tr>\n",
       "  </tbody>\n",
       "</table>\n",
       "</div>"
      ],
      "text/plain": [
       "                        heur     E  alfa0  N_general  N_local          feo  \\\n",
       "5      Draset_250_1_100_20.0   250      1        100     20.0   903.367347   \n",
       "13      Draset_500_1_50_10.0   500      1         50     10.0   959.502155   \n",
       "12     Draset_500_1_100_20.0   500      1        100     20.0  1047.047469   \n",
       "1      Draset_1000_1_50_10.0  1000      1         50     10.0  1086.066749   \n",
       "6       Draset_250_1_50_10.0   250      1         50     10.0  1097.064752   \n",
       "0     Draset_1000_1_100_20.0  1000      1        100     20.0  1110.723069   \n",
       "3    Draset_2000_1_500_100.0  2000      1        500    100.0  1309.313607   \n",
       "4      Draset_2000_1_50_10.0  2000      1         50     10.0  1322.176390   \n",
       "2     Draset_2000_1_100_20.0  2000      1        100     20.0  1380.255255   \n",
       "9   Draset_5000_1_2000_400.0  5000      1       2000    400.0  1515.075846   \n",
       "10   Draset_5000_1_500_100.0  5000      1        500    100.0  1520.982574   \n",
       "11     Draset_5000_1_50_10.0  5000      1         50     10.0  1524.166205   \n",
       "8     Draset_5000_1_100_20.0  5000      1        100     20.0  1544.440104   \n",
       "7   Draset_5000_1_1000_200.0  5000      1       1000    200.0  1577.939508   \n",
       "\n",
       "            mne    rel  \n",
       "5    252.942857  0.280  \n",
       "13   449.047009  0.468  \n",
       "12   483.735931  0.462  \n",
       "1    790.656593  0.728  \n",
       "6    276.460317  0.252  \n",
       "0    830.820856  0.748  \n",
       "3   1201.949891  0.918  \n",
       "4   1192.603104  0.902  \n",
       "2   1225.666667  0.888  \n",
       "9   1487.804481  0.982  \n",
       "10  1478.395062  0.972  \n",
       "11  1447.957895  0.950  \n",
       "8   1482.662500  0.960  \n",
       "7   1533.757202  0.972  "
      ]
     },
     "execution_count": 24,
     "metadata": {},
     "output_type": "execute_result"
    }
   ],
   "source": [
    "stats_draset2.sort_values(by=['feo'])"
   ]
  },
  {
   "cell_type": "markdown",
   "metadata": {},
   "source": [
    "Acording to Feoktistov criterion 250 epochs and $N_{general}$ = 100 is the best setting for DRASET. But reliability of this setting isn't high. For $E = 2000$ or $5000$ Feoktistov criterion is worse than for less epochs because of more function evaluations."
   ]
  },
  {
   "cell_type": "code",
   "execution_count": 25,
   "metadata": {},
   "outputs": [
    {
     "data": {
      "text/html": [
       "<div>\n",
       "<style scoped>\n",
       "    .dataframe tbody tr th:only-of-type {\n",
       "        vertical-align: middle;\n",
       "    }\n",
       "\n",
       "    .dataframe tbody tr th {\n",
       "        vertical-align: top;\n",
       "    }\n",
       "\n",
       "    .dataframe thead th {\n",
       "        text-align: right;\n",
       "    }\n",
       "</style>\n",
       "<table border=\"1\" class=\"dataframe\">\n",
       "  <thead>\n",
       "    <tr style=\"text-align: right;\">\n",
       "      <th></th>\n",
       "      <th>heur</th>\n",
       "      <th>E</th>\n",
       "      <th>alfa0</th>\n",
       "      <th>N_general</th>\n",
       "      <th>N_local</th>\n",
       "      <th>feo</th>\n",
       "      <th>mne</th>\n",
       "      <th>rel</th>\n",
       "    </tr>\n",
       "  </thead>\n",
       "  <tbody>\n",
       "    <tr>\n",
       "      <td>9</td>\n",
       "      <td>Draset_5000_1_2000_400.0</td>\n",
       "      <td>5000</td>\n",
       "      <td>1</td>\n",
       "      <td>2000</td>\n",
       "      <td>400.0</td>\n",
       "      <td>1515.075846</td>\n",
       "      <td>1487.804481</td>\n",
       "      <td>0.982</td>\n",
       "    </tr>\n",
       "    <tr>\n",
       "      <td>7</td>\n",
       "      <td>Draset_5000_1_1000_200.0</td>\n",
       "      <td>5000</td>\n",
       "      <td>1</td>\n",
       "      <td>1000</td>\n",
       "      <td>200.0</td>\n",
       "      <td>1577.939508</td>\n",
       "      <td>1533.757202</td>\n",
       "      <td>0.972</td>\n",
       "    </tr>\n",
       "    <tr>\n",
       "      <td>10</td>\n",
       "      <td>Draset_5000_1_500_100.0</td>\n",
       "      <td>5000</td>\n",
       "      <td>1</td>\n",
       "      <td>500</td>\n",
       "      <td>100.0</td>\n",
       "      <td>1520.982574</td>\n",
       "      <td>1478.395062</td>\n",
       "      <td>0.972</td>\n",
       "    </tr>\n",
       "    <tr>\n",
       "      <td>8</td>\n",
       "      <td>Draset_5000_1_100_20.0</td>\n",
       "      <td>5000</td>\n",
       "      <td>1</td>\n",
       "      <td>100</td>\n",
       "      <td>20.0</td>\n",
       "      <td>1544.440104</td>\n",
       "      <td>1482.662500</td>\n",
       "      <td>0.960</td>\n",
       "    </tr>\n",
       "    <tr>\n",
       "      <td>11</td>\n",
       "      <td>Draset_5000_1_50_10.0</td>\n",
       "      <td>5000</td>\n",
       "      <td>1</td>\n",
       "      <td>50</td>\n",
       "      <td>10.0</td>\n",
       "      <td>1524.166205</td>\n",
       "      <td>1447.957895</td>\n",
       "      <td>0.950</td>\n",
       "    </tr>\n",
       "    <tr>\n",
       "      <td>3</td>\n",
       "      <td>Draset_2000_1_500_100.0</td>\n",
       "      <td>2000</td>\n",
       "      <td>1</td>\n",
       "      <td>500</td>\n",
       "      <td>100.0</td>\n",
       "      <td>1309.313607</td>\n",
       "      <td>1201.949891</td>\n",
       "      <td>0.918</td>\n",
       "    </tr>\n",
       "    <tr>\n",
       "      <td>4</td>\n",
       "      <td>Draset_2000_1_50_10.0</td>\n",
       "      <td>2000</td>\n",
       "      <td>1</td>\n",
       "      <td>50</td>\n",
       "      <td>10.0</td>\n",
       "      <td>1322.176390</td>\n",
       "      <td>1192.603104</td>\n",
       "      <td>0.902</td>\n",
       "    </tr>\n",
       "    <tr>\n",
       "      <td>2</td>\n",
       "      <td>Draset_2000_1_100_20.0</td>\n",
       "      <td>2000</td>\n",
       "      <td>1</td>\n",
       "      <td>100</td>\n",
       "      <td>20.0</td>\n",
       "      <td>1380.255255</td>\n",
       "      <td>1225.666667</td>\n",
       "      <td>0.888</td>\n",
       "    </tr>\n",
       "    <tr>\n",
       "      <td>0</td>\n",
       "      <td>Draset_1000_1_100_20.0</td>\n",
       "      <td>1000</td>\n",
       "      <td>1</td>\n",
       "      <td>100</td>\n",
       "      <td>20.0</td>\n",
       "      <td>1110.723069</td>\n",
       "      <td>830.820856</td>\n",
       "      <td>0.748</td>\n",
       "    </tr>\n",
       "    <tr>\n",
       "      <td>1</td>\n",
       "      <td>Draset_1000_1_50_10.0</td>\n",
       "      <td>1000</td>\n",
       "      <td>1</td>\n",
       "      <td>50</td>\n",
       "      <td>10.0</td>\n",
       "      <td>1086.066749</td>\n",
       "      <td>790.656593</td>\n",
       "      <td>0.728</td>\n",
       "    </tr>\n",
       "    <tr>\n",
       "      <td>13</td>\n",
       "      <td>Draset_500_1_50_10.0</td>\n",
       "      <td>500</td>\n",
       "      <td>1</td>\n",
       "      <td>50</td>\n",
       "      <td>10.0</td>\n",
       "      <td>959.502155</td>\n",
       "      <td>449.047009</td>\n",
       "      <td>0.468</td>\n",
       "    </tr>\n",
       "    <tr>\n",
       "      <td>12</td>\n",
       "      <td>Draset_500_1_100_20.0</td>\n",
       "      <td>500</td>\n",
       "      <td>1</td>\n",
       "      <td>100</td>\n",
       "      <td>20.0</td>\n",
       "      <td>1047.047469</td>\n",
       "      <td>483.735931</td>\n",
       "      <td>0.462</td>\n",
       "    </tr>\n",
       "    <tr>\n",
       "      <td>5</td>\n",
       "      <td>Draset_250_1_100_20.0</td>\n",
       "      <td>250</td>\n",
       "      <td>1</td>\n",
       "      <td>100</td>\n",
       "      <td>20.0</td>\n",
       "      <td>903.367347</td>\n",
       "      <td>252.942857</td>\n",
       "      <td>0.280</td>\n",
       "    </tr>\n",
       "    <tr>\n",
       "      <td>6</td>\n",
       "      <td>Draset_250_1_50_10.0</td>\n",
       "      <td>250</td>\n",
       "      <td>1</td>\n",
       "      <td>50</td>\n",
       "      <td>10.0</td>\n",
       "      <td>1097.064752</td>\n",
       "      <td>276.460317</td>\n",
       "      <td>0.252</td>\n",
       "    </tr>\n",
       "  </tbody>\n",
       "</table>\n",
       "</div>"
      ],
      "text/plain": [
       "                        heur     E  alfa0  N_general  N_local          feo  \\\n",
       "9   Draset_5000_1_2000_400.0  5000      1       2000    400.0  1515.075846   \n",
       "7   Draset_5000_1_1000_200.0  5000      1       1000    200.0  1577.939508   \n",
       "10   Draset_5000_1_500_100.0  5000      1        500    100.0  1520.982574   \n",
       "8     Draset_5000_1_100_20.0  5000      1        100     20.0  1544.440104   \n",
       "11     Draset_5000_1_50_10.0  5000      1         50     10.0  1524.166205   \n",
       "3    Draset_2000_1_500_100.0  2000      1        500    100.0  1309.313607   \n",
       "4      Draset_2000_1_50_10.0  2000      1         50     10.0  1322.176390   \n",
       "2     Draset_2000_1_100_20.0  2000      1        100     20.0  1380.255255   \n",
       "0     Draset_1000_1_100_20.0  1000      1        100     20.0  1110.723069   \n",
       "1      Draset_1000_1_50_10.0  1000      1         50     10.0  1086.066749   \n",
       "13      Draset_500_1_50_10.0   500      1         50     10.0   959.502155   \n",
       "12     Draset_500_1_100_20.0   500      1        100     20.0  1047.047469   \n",
       "5      Draset_250_1_100_20.0   250      1        100     20.0   903.367347   \n",
       "6       Draset_250_1_50_10.0   250      1         50     10.0  1097.064752   \n",
       "\n",
       "            mne    rel  \n",
       "9   1487.804481  0.982  \n",
       "7   1533.757202  0.972  \n",
       "10  1478.395062  0.972  \n",
       "8   1482.662500  0.960  \n",
       "11  1447.957895  0.950  \n",
       "3   1201.949891  0.918  \n",
       "4   1192.603104  0.902  \n",
       "2   1225.666667  0.888  \n",
       "0    830.820856  0.748  \n",
       "1    790.656593  0.728  \n",
       "13   449.047009  0.468  \n",
       "12   483.735931  0.462  \n",
       "5    252.942857  0.280  \n",
       "6    276.460317  0.252  "
      ]
     },
     "execution_count": 25,
     "metadata": {},
     "output_type": "execute_result"
    }
   ],
   "source": [
    "stats_draset2.sort_values(by=['rel'], ascending = False)"
   ]
  },
  {
   "cell_type": "markdown",
   "metadata": {},
   "source": [
    "We can see a clear pattern that for more epochs we get a higher reliability. "
   ]
  },
  {
   "cell_type": "code",
   "execution_count": 26,
   "metadata": {},
   "outputs": [],
   "source": [
    "stats_draset_best2 = table_draset2.pivot_table(\n",
    "    index=['heur', 'E', 'alfa0', 'N_general', 'N_local'],\n",
    "    values=['best_y'],\n",
    "    aggfunc=(mean, med)\n",
    ")['best_y']\n",
    "stats_draset_best2 = stats_draset_best2.reset_index()"
   ]
  },
  {
   "cell_type": "code",
   "execution_count": 27,
   "metadata": {},
   "outputs": [
    {
     "data": {
      "text/html": [
       "<div>\n",
       "<style scoped>\n",
       "    .dataframe tbody tr th:only-of-type {\n",
       "        vertical-align: middle;\n",
       "    }\n",
       "\n",
       "    .dataframe tbody tr th {\n",
       "        vertical-align: top;\n",
       "    }\n",
       "\n",
       "    .dataframe thead th {\n",
       "        text-align: right;\n",
       "    }\n",
       "</style>\n",
       "<table border=\"1\" class=\"dataframe\">\n",
       "  <thead>\n",
       "    <tr style=\"text-align: right;\">\n",
       "      <th></th>\n",
       "      <th>heur</th>\n",
       "      <th>E</th>\n",
       "      <th>alfa0</th>\n",
       "      <th>N_general</th>\n",
       "      <th>N_local</th>\n",
       "      <th>mean</th>\n",
       "      <th>med</th>\n",
       "    </tr>\n",
       "  </thead>\n",
       "  <tbody>\n",
       "    <tr>\n",
       "      <td>9</td>\n",
       "      <td>Draset_5000_1_2000_400.0</td>\n",
       "      <td>5000</td>\n",
       "      <td>1</td>\n",
       "      <td>2000</td>\n",
       "      <td>400.0</td>\n",
       "      <td>3.463811</td>\n",
       "      <td>0.004823</td>\n",
       "    </tr>\n",
       "    <tr>\n",
       "      <td>8</td>\n",
       "      <td>Draset_5000_1_100_20.0</td>\n",
       "      <td>5000</td>\n",
       "      <td>1</td>\n",
       "      <td>100</td>\n",
       "      <td>20.0</td>\n",
       "      <td>0.896391</td>\n",
       "      <td>0.004917</td>\n",
       "    </tr>\n",
       "    <tr>\n",
       "      <td>7</td>\n",
       "      <td>Draset_5000_1_1000_200.0</td>\n",
       "      <td>5000</td>\n",
       "      <td>1</td>\n",
       "      <td>1000</td>\n",
       "      <td>200.0</td>\n",
       "      <td>1.758937</td>\n",
       "      <td>0.004998</td>\n",
       "    </tr>\n",
       "    <tr>\n",
       "      <td>11</td>\n",
       "      <td>Draset_5000_1_50_10.0</td>\n",
       "      <td>5000</td>\n",
       "      <td>1</td>\n",
       "      <td>50</td>\n",
       "      <td>10.0</td>\n",
       "      <td>1.721629</td>\n",
       "      <td>0.005208</td>\n",
       "    </tr>\n",
       "    <tr>\n",
       "      <td>3</td>\n",
       "      <td>Draset_2000_1_500_100.0</td>\n",
       "      <td>2000</td>\n",
       "      <td>1</td>\n",
       "      <td>500</td>\n",
       "      <td>100.0</td>\n",
       "      <td>3.587058</td>\n",
       "      <td>0.005298</td>\n",
       "    </tr>\n",
       "    <tr>\n",
       "      <td>10</td>\n",
       "      <td>Draset_5000_1_500_100.0</td>\n",
       "      <td>5000</td>\n",
       "      <td>1</td>\n",
       "      <td>500</td>\n",
       "      <td>100.0</td>\n",
       "      <td>2.868470</td>\n",
       "      <td>0.005311</td>\n",
       "    </tr>\n",
       "    <tr>\n",
       "      <td>4</td>\n",
       "      <td>Draset_2000_1_50_10.0</td>\n",
       "      <td>2000</td>\n",
       "      <td>1</td>\n",
       "      <td>50</td>\n",
       "      <td>10.0</td>\n",
       "      <td>0.979411</td>\n",
       "      <td>0.005473</td>\n",
       "    </tr>\n",
       "    <tr>\n",
       "      <td>2</td>\n",
       "      <td>Draset_2000_1_100_20.0</td>\n",
       "      <td>2000</td>\n",
       "      <td>1</td>\n",
       "      <td>100</td>\n",
       "      <td>20.0</td>\n",
       "      <td>1.739398</td>\n",
       "      <td>0.005737</td>\n",
       "    </tr>\n",
       "    <tr>\n",
       "      <td>1</td>\n",
       "      <td>Draset_1000_1_50_10.0</td>\n",
       "      <td>1000</td>\n",
       "      <td>1</td>\n",
       "      <td>50</td>\n",
       "      <td>10.0</td>\n",
       "      <td>2.688675</td>\n",
       "      <td>0.006782</td>\n",
       "    </tr>\n",
       "    <tr>\n",
       "      <td>0</td>\n",
       "      <td>Draset_1000_1_100_20.0</td>\n",
       "      <td>1000</td>\n",
       "      <td>1</td>\n",
       "      <td>100</td>\n",
       "      <td>20.0</td>\n",
       "      <td>5.250113</td>\n",
       "      <td>0.006909</td>\n",
       "    </tr>\n",
       "    <tr>\n",
       "      <td>12</td>\n",
       "      <td>Draset_500_1_100_20.0</td>\n",
       "      <td>500</td>\n",
       "      <td>1</td>\n",
       "      <td>100</td>\n",
       "      <td>20.0</td>\n",
       "      <td>3.535400</td>\n",
       "      <td>0.010764</td>\n",
       "    </tr>\n",
       "    <tr>\n",
       "      <td>13</td>\n",
       "      <td>Draset_500_1_50_10.0</td>\n",
       "      <td>500</td>\n",
       "      <td>1</td>\n",
       "      <td>50</td>\n",
       "      <td>10.0</td>\n",
       "      <td>0.887376</td>\n",
       "      <td>0.011544</td>\n",
       "    </tr>\n",
       "    <tr>\n",
       "      <td>5</td>\n",
       "      <td>Draset_250_1_100_20.0</td>\n",
       "      <td>250</td>\n",
       "      <td>1</td>\n",
       "      <td>100</td>\n",
       "      <td>20.0</td>\n",
       "      <td>0.940170</td>\n",
       "      <td>0.021986</td>\n",
       "    </tr>\n",
       "    <tr>\n",
       "      <td>6</td>\n",
       "      <td>Draset_250_1_50_10.0</td>\n",
       "      <td>250</td>\n",
       "      <td>1</td>\n",
       "      <td>50</td>\n",
       "      <td>10.0</td>\n",
       "      <td>1.839153</td>\n",
       "      <td>0.025456</td>\n",
       "    </tr>\n",
       "  </tbody>\n",
       "</table>\n",
       "</div>"
      ],
      "text/plain": [
       "                        heur     E  alfa0  N_general  N_local      mean  \\\n",
       "9   Draset_5000_1_2000_400.0  5000      1       2000    400.0  3.463811   \n",
       "8     Draset_5000_1_100_20.0  5000      1        100     20.0  0.896391   \n",
       "7   Draset_5000_1_1000_200.0  5000      1       1000    200.0  1.758937   \n",
       "11     Draset_5000_1_50_10.0  5000      1         50     10.0  1.721629   \n",
       "3    Draset_2000_1_500_100.0  2000      1        500    100.0  3.587058   \n",
       "10   Draset_5000_1_500_100.0  5000      1        500    100.0  2.868470   \n",
       "4      Draset_2000_1_50_10.0  2000      1         50     10.0  0.979411   \n",
       "2     Draset_2000_1_100_20.0  2000      1        100     20.0  1.739398   \n",
       "1      Draset_1000_1_50_10.0  1000      1         50     10.0  2.688675   \n",
       "0     Draset_1000_1_100_20.0  1000      1        100     20.0  5.250113   \n",
       "12     Draset_500_1_100_20.0   500      1        100     20.0  3.535400   \n",
       "13      Draset_500_1_50_10.0   500      1         50     10.0  0.887376   \n",
       "5      Draset_250_1_100_20.0   250      1        100     20.0  0.940170   \n",
       "6       Draset_250_1_50_10.0   250      1         50     10.0  1.839153   \n",
       "\n",
       "         med  \n",
       "9   0.004823  \n",
       "8   0.004917  \n",
       "7   0.004998  \n",
       "11  0.005208  \n",
       "3   0.005298  \n",
       "10  0.005311  \n",
       "4   0.005473  \n",
       "2   0.005737  \n",
       "1   0.006782  \n",
       "0   0.006909  \n",
       "12  0.010764  \n",
       "13  0.011544  \n",
       "5   0.021986  \n",
       "6   0.025456  "
      ]
     },
     "execution_count": 27,
     "metadata": {},
     "output_type": "execute_result"
    }
   ],
   "source": [
    "stats_draset_best2.sort_values(by=['med'])"
   ]
  },
  {
   "cell_type": "markdown",
   "metadata": {},
   "source": [
    "The table is sorted by median because it is a more robust statistic. We can see that with more epochs (only with one exception) the algorithm finds a solution closer to the optimum."
   ]
  },
  {
   "cell_type": "markdown",
   "metadata": {},
   "source": [
    "Now we run the random shooting algorithm. We set a maximum number of evaluations of the function as $2*E$ because, as it was said before, in the worst case during DRASET the function can be evaluated $2*E$ times."
   ]
  },
  {
   "cell_type": "code",
   "execution_count": 28,
   "metadata": {
    "scrolled": true
   },
   "outputs": [
    {
     "data": {
      "application/vnd.jupyter.widget-view+json": {
       "model_id": "736a317b27654b2c84e7f38b86206a9a",
       "version_major": 2,
       "version_minor": 0
      },
      "text/plain": [
       "HBox(children=(FloatProgress(value=0.0, description='Testing maxeval=500', max=500.0, style=ProgressStyle(desc…"
      ]
     },
     "metadata": {},
     "output_type": "display_data"
    },
    {
     "name": "stdout",
     "output_type": "stream",
     "text": [
      "\n"
     ]
    },
    {
     "data": {
      "application/vnd.jupyter.widget-view+json": {
       "model_id": "3be344a9b9d948298a3eeef56c1185a7",
       "version_major": 2,
       "version_minor": 0
      },
      "text/plain": [
       "HBox(children=(FloatProgress(value=0.0, description='Testing maxeval=1000', max=500.0, style=ProgressStyle(des…"
      ]
     },
     "metadata": {},
     "output_type": "display_data"
    },
    {
     "name": "stdout",
     "output_type": "stream",
     "text": [
      "\n"
     ]
    },
    {
     "data": {
      "application/vnd.jupyter.widget-view+json": {
       "model_id": "707e3ded965b4ce8bca1d0aa6b254761",
       "version_major": 2,
       "version_minor": 0
      },
      "text/plain": [
       "HBox(children=(FloatProgress(value=0.0, description='Testing maxeval=2000', max=500.0, style=ProgressStyle(des…"
      ]
     },
     "metadata": {},
     "output_type": "display_data"
    },
    {
     "name": "stdout",
     "output_type": "stream",
     "text": [
      "\n"
     ]
    },
    {
     "data": {
      "application/vnd.jupyter.widget-view+json": {
       "model_id": "e5d79dbe0644492ab77029c747f9c196",
       "version_major": 2,
       "version_minor": 0
      },
      "text/plain": [
       "HBox(children=(FloatProgress(value=0.0, description='Testing maxeval=4000', max=500.0, style=ProgressStyle(des…"
      ]
     },
     "metadata": {},
     "output_type": "display_data"
    },
    {
     "name": "stdout",
     "output_type": "stream",
     "text": [
      "\n"
     ]
    },
    {
     "data": {
      "application/vnd.jupyter.widget-view+json": {
       "model_id": "972c860544ec4dfd9e587e764e918c67",
       "version_major": 2,
       "version_minor": 0
      },
      "text/plain": [
       "HBox(children=(FloatProgress(value=0.0, description='Testing maxeval=10000', max=500.0, style=ProgressStyle(de…"
      ]
     },
     "metadata": {},
     "output_type": "display_data"
    },
    {
     "name": "stdout",
     "output_type": "stream",
     "text": [
      "\n"
     ]
    }
   ],
   "source": [
    "table_random2 = pd.DataFrame()\n",
    "\n",
    "for maxeval in [500, 1000, 2000, 4000, 10000]:\n",
    "    res = experiment_random(of = function, maxeval = maxeval, num_runs = RUNS)\n",
    "    table_random2 = pd.concat([table_random2, res], axis = 0)"
   ]
  },
  {
   "cell_type": "code",
   "execution_count": 29,
   "metadata": {},
   "outputs": [],
   "source": [
    "stats_random2 = table_random2.pivot_table(\n",
    "    index=['heur'],\n",
    "    values=['neval'],\n",
    "    aggfunc=(rel, mne, feo)\n",
    ")['neval']\n",
    "stats_random2 = stats_random2.reset_index()"
   ]
  },
  {
   "cell_type": "code",
   "execution_count": 30,
   "metadata": {},
   "outputs": [
    {
     "data": {
      "text/html": [
       "<div>\n",
       "<style scoped>\n",
       "    .dataframe tbody tr th:only-of-type {\n",
       "        vertical-align: middle;\n",
       "    }\n",
       "\n",
       "    .dataframe tbody tr th {\n",
       "        vertical-align: top;\n",
       "    }\n",
       "\n",
       "    .dataframe thead th {\n",
       "        text-align: right;\n",
       "    }\n",
       "</style>\n",
       "<table border=\"1\" class=\"dataframe\">\n",
       "  <thead>\n",
       "    <tr style=\"text-align: right;\">\n",
       "      <th></th>\n",
       "      <th>heur</th>\n",
       "      <th>feo</th>\n",
       "      <th>mne</th>\n",
       "      <th>rel</th>\n",
       "    </tr>\n",
       "  </thead>\n",
       "  <tbody>\n",
       "    <tr>\n",
       "      <td>1</td>\n",
       "      <td>Random_10000</td>\n",
       "      <td>4027.983369</td>\n",
       "      <td>3359.338129</td>\n",
       "      <td>0.834</td>\n",
       "    </tr>\n",
       "    <tr>\n",
       "      <td>3</td>\n",
       "      <td>Random_4000</td>\n",
       "      <td>3185.595568</td>\n",
       "      <td>1694.736842</td>\n",
       "      <td>0.532</td>\n",
       "    </tr>\n",
       "    <tr>\n",
       "      <td>2</td>\n",
       "      <td>Random_2000</td>\n",
       "      <td>3364.891958</td>\n",
       "      <td>901.791045</td>\n",
       "      <td>0.268</td>\n",
       "    </tr>\n",
       "    <tr>\n",
       "      <td>0</td>\n",
       "      <td>Random_1000</td>\n",
       "      <td>2686.867936</td>\n",
       "      <td>440.646341</td>\n",
       "      <td>0.164</td>\n",
       "    </tr>\n",
       "    <tr>\n",
       "      <td>4</td>\n",
       "      <td>Random_500</td>\n",
       "      <td>3376.859012</td>\n",
       "      <td>276.902439</td>\n",
       "      <td>0.082</td>\n",
       "    </tr>\n",
       "  </tbody>\n",
       "</table>\n",
       "</div>"
      ],
      "text/plain": [
       "           heur          feo          mne    rel\n",
       "1  Random_10000  4027.983369  3359.338129  0.834\n",
       "3   Random_4000  3185.595568  1694.736842  0.532\n",
       "2   Random_2000  3364.891958   901.791045  0.268\n",
       "0   Random_1000  2686.867936   440.646341  0.164\n",
       "4    Random_500  3376.859012   276.902439  0.082"
      ]
     },
     "execution_count": 30,
     "metadata": {},
     "output_type": "execute_result"
    }
   ],
   "source": [
    "stats_random2.sort_values(by=['rel'], ascending = False)"
   ]
  },
  {
   "cell_type": "code",
   "execution_count": 31,
   "metadata": {},
   "outputs": [],
   "source": [
    "stats_random_best2 = table_random2.pivot_table(\n",
    "    index=['heur'],\n",
    "    values=['best_y'],\n",
    "    aggfunc=(mean, med)\n",
    ")['best_y']\n",
    "stats_random_best2 = stats_random_best2.reset_index()"
   ]
  },
  {
   "cell_type": "code",
   "execution_count": 32,
   "metadata": {},
   "outputs": [
    {
     "data": {
      "text/html": [
       "<div>\n",
       "<style scoped>\n",
       "    .dataframe tbody tr th:only-of-type {\n",
       "        vertical-align: middle;\n",
       "    }\n",
       "\n",
       "    .dataframe tbody tr th {\n",
       "        vertical-align: top;\n",
       "    }\n",
       "\n",
       "    .dataframe thead th {\n",
       "        text-align: right;\n",
       "    }\n",
       "</style>\n",
       "<table border=\"1\" class=\"dataframe\">\n",
       "  <thead>\n",
       "    <tr style=\"text-align: right;\">\n",
       "      <th></th>\n",
       "      <th>heur</th>\n",
       "      <th>mean</th>\n",
       "      <th>med</th>\n",
       "    </tr>\n",
       "  </thead>\n",
       "  <tbody>\n",
       "    <tr>\n",
       "      <td>1</td>\n",
       "      <td>Random_10000</td>\n",
       "      <td>0.006341</td>\n",
       "      <td>0.005338</td>\n",
       "    </tr>\n",
       "    <tr>\n",
       "      <td>3</td>\n",
       "      <td>Random_4000</td>\n",
       "      <td>0.013110</td>\n",
       "      <td>0.009418</td>\n",
       "    </tr>\n",
       "    <tr>\n",
       "      <td>2</td>\n",
       "      <td>Random_2000</td>\n",
       "      <td>0.027706</td>\n",
       "      <td>0.020287</td>\n",
       "    </tr>\n",
       "    <tr>\n",
       "      <td>0</td>\n",
       "      <td>Random_1000</td>\n",
       "      <td>0.057218</td>\n",
       "      <td>0.039152</td>\n",
       "    </tr>\n",
       "    <tr>\n",
       "      <td>4</td>\n",
       "      <td>Random_500</td>\n",
       "      <td>0.110493</td>\n",
       "      <td>0.073760</td>\n",
       "    </tr>\n",
       "  </tbody>\n",
       "</table>\n",
       "</div>"
      ],
      "text/plain": [
       "           heur      mean       med\n",
       "1  Random_10000  0.006341  0.005338\n",
       "3   Random_4000  0.013110  0.009418\n",
       "2   Random_2000  0.027706  0.020287\n",
       "0   Random_1000  0.057218  0.039152\n",
       "4    Random_500  0.110493  0.073760"
      ]
     },
     "execution_count": 32,
     "metadata": {},
     "output_type": "execute_result"
    }
   ],
   "source": [
    "stats_random_best2.sort_values(by=['med'])"
   ]
  },
  {
   "cell_type": "markdown",
   "metadata": {},
   "source": [
    "We again get worse results than by DRASET. "
   ]
  },
  {
   "cell_type": "markdown",
   "metadata": {},
   "source": [
    "## Conclusion\n",
    "If we compare random shooting and DRASET, it is obvious that DRASET is a better algorithm than random shooting. DRASET has lower Feoktistov criterion, a higher reliability and the best found solution is closer to the optimum. If we care about the reliability or finding the closest solution, I recommend to run thousends of epochs. If we care only about Feoktistov criterion, it is difficult to recommend the optimal setting. Probably it would be less epochs than for the best reliability. I have no recommendations about $N_{general}$. There is no visible influence of it's value. Number of epochs is a more important parameter."
   ]
  }
 ],
 "metadata": {
  "kernelspec": {
   "display_name": "Python 3",
   "language": "python",
   "name": "python3"
  },
  "language_info": {
   "codemirror_mode": {
    "name": "ipython",
    "version": 3
   },
   "file_extension": ".py",
   "mimetype": "text/x-python",
   "name": "python",
   "nbconvert_exporter": "python",
   "pygments_lexer": "ipython3",
   "version": "3.6.10"
  }
 },
 "nbformat": 4,
 "nbformat_minor": 2
}
