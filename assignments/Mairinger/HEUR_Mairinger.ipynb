{
  "nbformat": 4,
  "nbformat_minor": 0,
  "metadata": {
    "colab": {
      "name": "HEUR_Mairinger.ipynb",
      "provenance": [],
      "collapsed_sections": []
    },
    "kernelspec": {
      "name": "python3",
      "display_name": "Python 3"
    },
    "language_info": {
      "name": "python"
    }
  },
  "cells": [
    {
      "cell_type": "markdown",
      "metadata": {
        "id": "u6rndQBfnnsI"
      },
      "source": [
        "Naše úloha bude rozšířením veliceho známého *knapsack problému*, který spočívá v tom, že máme $n$ předmětů, z nichž každý má váhu $w_i$ a cenu $p_i$, a batoh o maximální kapacitě $C$. A našim úkolem je zvolit takové předměty, abychom nepřekročili maximální kapacitu a zároveň abychom maximalizovali honodtu předmětů umístěných v batohu. My tuto úlohu rozšíříme do tzv. *quadratic knapsack problému*, u kterého je rozdíl v tom, že pouze nesčítáme ceny předmětů, ale že různé dvojice předmětů mohou mít nějaké bonusové ohodnocení. \n"
      ]
    },
    {
      "cell_type": "markdown",
      "metadata": {
        "id": "smn0WqvJpeio"
      },
      "source": [
        "Tato úloha by šla matematicky popsat následujícím způsobem:\n",
        "\\begin{align}\\max \\Big\\{\\sum_{i=1}^n p_ix_i+\\sum_{i=1}^n\\sum_{j=1,i\\neq j}^n P_{ij}x_ix_j: x\\in X, x \\text{ binární}\\Big\\},\\end{align} kde $X=\\Big\\{x\\in\\{0,1\\}^n:\\sum_{i=1}^n w_ix_i\\leq C, x_i\\in\\{0,1\\}$ pro $i\\in\\widehat{n}\\Big\\}$, $P_{ij}$ je cena, když jsou v batohu obsaženy předmety $i$ a $j$, a $x_i$ představuje, zdali je $i$-tý předmět obsažen ($x_i=1$) či neobsažen ($x_i=0$) v batohu."
      ]
    },
    {
      "cell_type": "markdown",
      "metadata": {
        "id": "FnHIQm8ltojO"
      },
      "source": [
        "Nyní si představíme heuristiku, kterou bychom rádi použili. Naše heuristika bude využívat tzv. dynamického programování, což je pojem úzce spjatý s Bellmanovou rovnicí a Bellmanovým principem optimality, který nám pomáhá celkový problém řešit pomocí série menších sub-problémů. Našim cílem je tedy maximalizovat hodnotu obsahu batohu za podmínky, že celková hmotnost batohu bude menši nebo rovna maximální kapacitě $C$. Proto si potom pro každé $c$ takové, že $c\\geq 0$ a $c\\leq C$, definujeme $f(m,c)$, což bude celková hodnota nejvýhodnější kombinace prvních $m$ předmětů s celkovou váhou $c$, tj. \\begin{align}\n",
        "f(m,c)=\\max \\left\\{\\sum _{i=1}^{m}p_{i}x_{i}+\\sum _{i=1}^{m}\\sum _{j=1,i\\neq j}^{m}P_{ij}x_{i}x_{j}:\\sum _{i=1}^{m}w_{i}=c,1\\leq i\\leq m\\right\\}.\\end{align} Potom tedy pro $f(\\cdot,\\cdot)$ mohou nastat pouze dva případy a to \\begin{align}{\\displaystyle f(m,c)={\\begin{cases}\\max \\big\\{f(m-1,c);f(m-1,c-w_{m})+p_{m}+\\sum _{i=1}^{m-1}P_{im}x_{i}\\big\\}&{\\text{pokud }}w_{m}\\leq c\\\\f(m-1,c)&{\\text{jinak.}}\\end{cases}}}\\end{align}.  "
      ]
    },
    {
      "cell_type": "markdown",
      "metadata": {
        "id": "xzI8vDDI4wg3"
      },
      "source": [
        "Tuto heurisitku aplikujeme na tři různé případy, kde první z nich bude nejlehčí a také ručně ověřitelný. U zbylých dvou příkladů by již bylo velice časové náročné hledat jejich řešení standardním způsobem na papíře. "
      ]
    },
    {
      "cell_type": "markdown",
      "metadata": {
        "id": "-ZTMwE-w5gsW"
      },
      "source": [
        "## 1. příklad\n",
        "\n",
        "Máme tři předměty s váhami $w_1=w_2=w_3=1$ a maticí cen $P=\\begin{pmatrix} 10 & 0 & 0 \\\\ 0 & 1 & 10 \\\\ 0 & 10 & 1\n",
        "\\end{pmatrix}$. Zároveň bude maximální kapacita batohu $C=2$.\n",
        "\n",
        "Díky malému počtu předmětů lze lehce řešit příklad ručně, čimž bychom obdrželi výsledek, že nejlepší je vzít 2. a 3. předmět, jejiž celková hodnota bude 22."
      ]
    },
    {
      "cell_type": "code",
      "metadata": {
        "colab": {
          "base_uri": "https://localhost:8080/"
        },
        "id": "WiujxSZA7RNg",
        "outputId": "0270bcbc-20a4-42ad-fba4-dd925276ef70"
      },
      "source": [
        "# -*- coding: utf-8 -*-\n",
        "\"\"\"\n",
        "Created on Wed May  5 11:41:52 2021\n",
        "\n",
        "@author: Filip\n",
        "\"\"\"\n",
        "\n",
        "import numpy as np\n",
        "import numpy.matlib\n",
        "\n",
        "# ZADANI: w - vahy, C - kapacita batohu, Q - matice cen\n",
        "\n",
        "w=np.array([0, 1, 1, 1])\n",
        "C=2\n",
        "Q=np.matrix([[10,0,0],[0,1,10],[0,10,1]])\n",
        "\n",
        "# ALOKACE: f - matice profitu, S - vektor reseni\n",
        "\n",
        "f=np.full((len(w),C+1),-np.inf)\n",
        "f[0,0]=0\n",
        "\n",
        "\n",
        "jednicky=[[-1]]\n",
        "for j in range(C):\n",
        "    jednicky1=jednicky.append([-1])\n",
        "    \n",
        "S=[[]]*(len(w)+1)\n",
        "for i in range(0,len(w)+1):\n",
        "    S[i]=jednicky.copy()\n",
        "    \n",
        "# HLAVNI CAST\n",
        "\n",
        "for k in range(1,len(w)):\n",
        "    for r in range(0,C+1):\n",
        "        if f[k-1,r] > f[k,r]:\n",
        "            f[k,r]=f[k-1,r]\n",
        "            S[k][r]=S[k-1][r]\n",
        "        if r+w[k] <= C:\n",
        "            if S[k-1][r][0]==-1:\n",
        "                beta=Q[k-1,k-1]\n",
        "            else:\n",
        "                SS=np.union1d(S[k-1][r],k)-1\n",
        "                nuly=np.matlib.zeros((1,len(w)-1))\n",
        "                nuly[0,SS.astype(int)]=1\n",
        "                beta=nuly*Q*np.transpose(nuly)\n",
        "            if beta > f[k,r+w[k]]:\n",
        "                f[k,r+w[k]]=beta\n",
        "                if S[k-1][r][0]==-1:\n",
        "                    S[k][r+w[k]]=[k]\n",
        "                else:\n",
        "                    S[k][r+w[k]]=np.union1d(S[k-1][r],(k))\n",
        "                    \n",
        "r_star=np.argmax(f)\n",
        "r_star=r_star%(C+1)\n",
        "print('Vezmeme predmet(y)', S[len(w)-1][r_star], 'a celkovy profit bude', f[len(w)-1,r_star])"
      ],
      "execution_count": 1,
      "outputs": [
        {
          "output_type": "stream",
          "name": "stdout",
          "text": [
            "Vezmeme predmet(y) [1 3] a celkovy profit bude 11.0\n"
          ]
        }
      ]
    },
    {
      "cell_type": "markdown",
      "metadata": {
        "id": "GrpKL0v08b-R"
      },
      "source": [
        "Ihned můžeme pozorovat, že výsledek naší heuristiky je celkem daleko od optimálního výsledku. Na někoho by její výsledek dokonce mohl působit dojmem, že je tato heuristika \"špatná\" či příliš nepřesná. Nicméně u tohoto konkrétního příkladu může být její výsledek zavádějicí, protože na první pohled by se mohlo zdát, že její výsledek je polovinou optimálního výsledku, ale pravda je taková, že naše heuristika našla druhý nejlepší výsledek. V takto zadaném příkladu totiž nelze dosáhnout jiného profitu mezi 11 a 22, tudíž druhý nejlepší profit není špatný výsledek. Abychom se utvrdili v kvalitě použité heuristiky, tak se ještě podíváme na dva o něco složitější příklady."
      ]
    },
    {
      "cell_type": "markdown",
      "metadata": {
        "id": "f9jsfcjq9lh1"
      },
      "source": [
        "## 2. a 3. příklad\n",
        "\n",
        "Máme 15 předmětů s vektorem vah $w=(13,14,14,15,15,9,26,24,13,11,9,12,25,12,26)$ a maticí cen $P=\\begin{pmatrix}\n",
        "    7 &   12 &    7 &    6 &   13 &    8 &   11 &    7 &   15 &   23 &   14 &   15 &   17 &    9 &   15\\\\\n",
        "   12 &    6 &   15 &   13 &   10 &   15 &    9 &   10 &    8 &   17 &   11 &   13 &   12 &   16 &   15\\\\\n",
        "    7 &   15 &   13 &   11 &   16 &    6 &    8 &   14 &   13 &    4 &   14 &    8 &   15 &    9 &   16\\\\\n",
        "    6 &   13 &   11 &   16 &   10 &   13 &   14 &   14 &   17 &   15 &   14 &    6 &   24 &   13 &    4\\\\\n",
        "   13 &   10 &   16 &   10 &    5 &    9 &    7 &   25 &   12 &    6 &    6 &   16 &   10 &   15 &   14\\\\\n",
        "    8 &   15 &    6 &   13 &    9 &   10 &    2 &   13 &   12 &   16 &    9 &   11 &   23 &   10 &   21\\\\\n",
        "   11 &    9 &    8 &   14 &    7 &    2 &    9 &    8 &   18 &    4 &   13 &   14 &   14 &   17 &   15\\\\\n",
        "    7 &   10 &   14 &   14 &   25 &   13 &    8 &   23 &    9 &   16 &   12 &    3 &   14 &   14 &   27\\\\\n",
        "   15 &    8 &   13 &   17 &   12 &   12 &   18 &    9 &   18 &   15 &   16 &   13 &   14 &    7 &   17\\\\\n",
        "   23 &   17 &    4 &   15 &    6 &   16 &    4 &   16 &   15 &   12 &   28 &    5 &   19 &    6 &   18\\\\\n",
        "   14 &   11 &   14 &   14 &    6 &    9 &   13 &   12 &   16 &   28 &    9 &   13 &    4 &   13 &   16\\\\\n",
        "   15 &   13 &    8 &    6 &   16 &   11 &   14 &    3 &   13 &    5 &   13 &   22 &   11 &   19 &   13\\\\\n",
        "   17 &   12 &   15 &   24 &   10 &   23 &   14 &   14 &   14 &   19 &    4 &   11 &   17 &   15 &   12\\\\\n",
        "    9 &   16 &    9 &   13 &   15 &   10 &   17 &   14 &    7 &    6 &   13 &   19 &   15 &   32 &   16\\\\\n",
        "   15 &   15 &   16 &    4 &   14 &   21 &   15 &   27 &   17 &   18 &   16 &   13 &   12 &   16 &    8\n",
        "\\end{pmatrix}.$ \n",
        "\n",
        "Zároveň budeme předpokládat maximální kapacity batohu $C_1=22$ a $C_2=50$.\n",
        "\n",
        "Bohužel si již v těchto příkladech nemůžeme ručně ověřit správná řešení, nicméně řešení by měla být předměty 10 a 11 s celkovou hodnotou 77 a předměty 1, 9, 10 a 11 s celkovou hodnotou 268."
      ]
    },
    {
      "cell_type": "code",
      "metadata": {
        "colab": {
          "base_uri": "https://localhost:8080/"
        },
        "id": "Fg54xN2RX3Fl",
        "outputId": "647b8856-a282-4480-a99e-31c968a60efe"
      },
      "source": [
        "# -*- coding: utf-8 -*-\n",
        "\"\"\"\n",
        "Created on Wed May  5 13:12:42 2021\n",
        "\n",
        "@author: Filip\n",
        "\"\"\"\n",
        "\n",
        "import numpy as np\n",
        "import numpy.matlib\n",
        "\n",
        "# ZADANI: w - vahy, C - kapacita batohu, Q - matice cen\n",
        "\n",
        "w=np.array([0, 13, 14, 14, 15, 15, 9, 26, 24, 13, 11, 9, 12, 25, 12, 26])\n",
        "C=22\n",
        "Q=np.array([\n",
        "7\t,12\t,7\t,6\t,13\t,8\t,11\t,7\t,15\t,23\t,14\t,15\t,17\t,9\t,15,\n",
        "12\t,6\t,15\t,13\t,10\t,15\t,9\t,10\t,8\t,17\t,11\t,13\t,12\t,16\t,15,\n",
        "7\t,15\t,13\t,11\t,16\t,6\t,8\t,14\t,13\t,4\t,14\t,8\t,15\t,9\t,16,\n",
        "6\t,13\t,11\t,16\t,10\t,13\t,14\t,14\t,17\t,15\t,14\t,6\t,24\t,13\t, 4,\n",
        "13\t,10\t,16\t,10\t,5\t,9\t,7\t,25\t,12\t,6\t,6\t,16\t,10\t,15\t,14,\n",
        "8\t,15\t,6\t,13\t,9\t,10\t,2\t,13\t,12\t,16\t,9\t,11\t,23\t,10\t,21,\n",
        "11\t,9\t,8\t,14\t,7\t,2\t,9\t,8\t,18\t,4\t,13\t,14\t,14\t,17\t,15,\n",
        "7\t,10\t,14\t,14\t,25\t,13\t,8\t,23\t,9\t,16\t,12\t,3\t,14\t,14\t,27,\n",
        "15\t,8\t,13\t,17\t,12\t,12\t,18\t,9\t,18\t,15\t,16\t,13\t,14\t,7\t,17,\n",
        "23\t,17\t,4\t,15\t,6\t,16\t,4\t,16\t,15\t,12\t,28\t,5\t,19\t,6\t,18,\n",
        "14\t,11\t,14\t,14\t,6\t,9\t,13\t,12\t,16\t,28\t,9\t,13\t,4\t,13\t,16,\n",
        "15\t,13\t,8\t,6\t,16\t,11\t,14\t,3\t,13\t,5\t,13\t,22\t,11\t,19\t,13,\n",
        "17\t,12\t,15\t,24\t,10\t,23\t,14\t,14\t,14\t,19\t,4\t,11\t,17\t,15\t,12,\n",
        "9\t,16\t,9\t,13\t,15\t,10\t,17\t,14\t,7\t,6\t,13\t,19\t,15\t,32\t,16,\n",
        "15\t,15\t,16\t,4\t,14\t,21\t,15\t,27\t,17\t,18\t,16\t,13\t,12\t,16\t, 8\n",
        "    ])\n",
        "\n",
        "Q=Q.reshape(15,15)\n",
        "\n",
        "f=np.full((len(w),C+1),-np.inf)\n",
        "f[0,0]=0\n",
        "\n",
        "jednicky=[[-1]]\n",
        "for j in range(C):\n",
        "    jednicky1=jednicky.append([-1])\n",
        "\n",
        "S=[[]]*len(w)\n",
        "for i in range(0,len(w)):\n",
        "    S[i]=jednicky.copy()\n",
        "\n",
        "for k in range(1,len(w)):\n",
        "    for r in range(0,C+1):\n",
        "        if f[k-1,r] > f[k,r]:\n",
        "            f[k,r]=f[k-1,r]\n",
        "            S[k][r]=S[k-1][r]\n",
        "        if r+w[k] <= C:\n",
        "            if S[k-1][r][0]==-1:\n",
        "                beta=Q[k-1,k-1]\n",
        "            else:\n",
        "                SS=np.union1d(S[k-1][r],k)-1\n",
        "                nuly=np.matlib.zeros((1,len(w)-1))\n",
        "                nuly[0,SS.astype(int)]=1\n",
        "                beta=nuly*Q*np.transpose(nuly)\n",
        "            if beta > f[k,r+w[k]]:\n",
        "                f[k,r+w[k]]=beta\n",
        "                if S[k-1][r][0]==-1:\n",
        "                    S[k][r+w[k]]=[k]\n",
        "                else:\n",
        "                    S[k][r+w[k]]=np.union1d(S[k-1][r],(k))\n",
        "                    \n",
        "r_star=np.argmax(f)\n",
        "r_star=r_star%(C+1)\n",
        "print('Vezmeme predmety', S[len(w)-1][r_star], 'a celkovy profit bude', f[len(w)-1,r_star])"
      ],
      "execution_count": 1,
      "outputs": [
        {
          "output_type": "stream",
          "name": "stdout",
          "text": [
            "Vezmeme predmety [10 11] a celkovy profit bude 77.0\n"
          ]
        }
      ]
    },
    {
      "cell_type": "code",
      "metadata": {
        "colab": {
          "base_uri": "https://localhost:8080/"
        },
        "id": "K0kAzOxrYOie",
        "outputId": "78f9e5ca-390b-42d3-d354-5eb875278d6a"
      },
      "source": [
        "# -*- coding: utf-8 -*-\n",
        "\"\"\"\n",
        "Created on Wed May  5 13:12:42 2021\n",
        "\n",
        "@author: Filip\n",
        "\"\"\"\n",
        "\n",
        "import numpy as np\n",
        "import numpy.matlib\n",
        "#import array_to_latex as a2l\n",
        "\n",
        "# ZADANI: w - vahy, C - kapacita batohu, Q - matice cen\n",
        "\n",
        "w=np.array([0, 13, 14, 14, 15, 15, 9, 26, 24, 13, 11, 9, 12, 25, 12, 26])\n",
        "C=50\n",
        "Q=np.array([\n",
        "7\t,12\t,7\t,6\t,13\t,8\t,11\t,7\t,15\t,23\t,14\t,15\t,17\t,9\t,15,\n",
        "12\t,6\t,15\t,13\t,10\t,15\t,9\t,10\t,8\t,17\t,11\t,13\t,12\t,16\t,15,\n",
        "7\t,15\t,13\t,11\t,16\t,6\t,8\t,14\t,13\t,4\t,14\t,8\t,15\t,9\t,16,\n",
        "6\t,13\t,11\t,16\t,10\t,13\t,14\t,14\t,17\t,15\t,14\t,6\t,24\t,13\t, 4,\n",
        "13\t,10\t,16\t,10\t,5\t,9\t,7\t,25\t,12\t,6\t,6\t,16\t,10\t,15\t,14,\n",
        "8\t,15\t,6\t,13\t,9\t,10\t,2\t,13\t,12\t,16\t,9\t,11\t,23\t,10\t,21,\n",
        "11\t,9\t,8\t,14\t,7\t,2\t,9\t,8\t,18\t,4\t,13\t,14\t,14\t,17\t,15,\n",
        "7\t,10\t,14\t,14\t,25\t,13\t,8\t,23\t,9\t,16\t,12\t,3\t,14\t,14\t,27,\n",
        "15\t,8\t,13\t,17\t,12\t,12\t,18\t,9\t,18\t,15\t,16\t,13\t,14\t,7\t,17,\n",
        "23\t,17\t,4\t,15\t,6\t,16\t,4\t,16\t,15\t,12\t,28\t,5\t,19\t,6\t,18,\n",
        "14\t,11\t,14\t,14\t,6\t,9\t,13\t,12\t,16\t,28\t,9\t,13\t,4\t,13\t,16,\n",
        "15\t,13\t,8\t,6\t,16\t,11\t,14\t,3\t,13\t,5\t,13\t,22\t,11\t,19\t,13,\n",
        "17\t,12\t,15\t,24\t,10\t,23\t,14\t,14\t,14\t,19\t,4\t,11\t,17\t,15\t,12,\n",
        "9\t,16\t,9\t,13\t,15\t,10\t,17\t,14\t,7\t,6\t,13\t,19\t,15\t,32\t,16,\n",
        "15\t,15\t,16\t,4\t,14\t,21\t,15\t,27\t,17\t,18\t,16\t,13\t,12\t,16\t, 8\n",
        "    ])\n",
        "\n",
        "Q=Q.reshape(15,15)\n",
        "\n",
        "# ALOKACE: f - matice profitu, S - vektor reseni\n",
        "\n",
        "f=np.full((len(w),C+1),-np.inf)\n",
        "f[0,0]=0\n",
        "\n",
        "jednicky=[[-1]]\n",
        "for j in range(C):\n",
        "    jednicky1=jednicky.append([-1])\n",
        "    \n",
        "S=[[]]*len(w+1)\n",
        "for i in range(0,len(w)):\n",
        "    S[i]=jednicky.copy()\n",
        "    \n",
        "# HLAVNI CAST\n",
        "\n",
        "for k in range(1,len(w)):\n",
        "    for r in range(0,C+1):\n",
        "        if f[k-1,r] > f[k,r]:\n",
        "            f[k,r]=f[k-1,r]\n",
        "            S[k][r]=S[k-1][r]\n",
        "        if r+w[k] <= C:\n",
        "            if S[k-1][r][0]==-1:\n",
        "                beta=Q[k-1,k-1]\n",
        "            else:\n",
        "                SS=np.union1d(S[k-1][r],k)-1\n",
        "                nuly=np.matlib.zeros((1,len(w)-1))\n",
        "                nuly[0,SS.astype(int)]=1\n",
        "                beta=nuly*Q*np.transpose(nuly)\n",
        "            if beta > f[k,r+w[k]]:\n",
        "                f[k,r+w[k]]=beta\n",
        "                if S[k-1][r][0]==-1:\n",
        "                    S[k][r+w[k]]=[k]\n",
        "                else:\n",
        "                    S[k][r+w[k]]=np.union1d(S[k-1][r],(k))\n",
        "                    \n",
        "r_star=np.argmax(f)\n",
        "r_star=r_star%(C+1)\n",
        "print('Vezmeme predmety', S[len(w)-1][r_star], 'a celkovy profit bude', f[len(w)-1,r_star])"
      ],
      "execution_count": 2,
      "outputs": [
        {
          "output_type": "stream",
          "name": "stdout",
          "text": [
            "Vezmeme predmety [ 4  9 10 11] a celkovy profit bude 265.0\n"
          ]
        }
      ]
    },
    {
      "cell_type": "markdown",
      "metadata": {
        "id": "W2rkbLwEjNgS"
      },
      "source": [
        "Jak můžeme pozorovat, tak u kapacity $C_1=22$ jsme dostali optimální výsledek a u kapacity $C_2=50$ jsme dostali druhý nejlepší výsledek. Pozorujeme tedy, že naše heuristika nám dává opravdu dobré výsledky.   "
      ]
    },
    {
      "cell_type": "markdown",
      "metadata": {
        "id": "fiFPTwd_kCmP"
      },
      "source": [
        "Tuto naši heuristiku ještě porovnáme s jednou ze základních heuristik a to s Random shooting heurisitkou, která bude lehce upravena pro náš příklad. Tato heurisitka bude jednoduše spočívat v tom, že budeme do batohu dávat náhodně různé předměty při dodržení maximální kapacity."
      ]
    },
    {
      "cell_type": "code",
      "metadata": {
        "colab": {
          "base_uri": "https://localhost:8080/"
        },
        "id": "3mfW08bfkdph",
        "outputId": "46bd4238-aa14-4f43-ab54-84954ba034e2"
      },
      "source": [
        "# -*- coding: utf-8 -*-\n",
        "\"\"\"\n",
        "Created on Fri Sep 10 18:25:37 2021\n",
        "\n",
        "@author: Filip\n",
        "\"\"\"\n",
        "\n",
        "import numpy as np\n",
        "import numpy.matlib\n",
        "import random\n",
        "\n",
        "w=np.array([0, 1, 1, 1])\n",
        "# pridelime kazdemu predmetu cislo, aby nedoslo k zamene predmetu se stejnou vahou\n",
        "numbers=np.arange(0,len(w),1)\n",
        "w=np.c_[w, numbers].T \n",
        "C=2\n",
        "\n",
        "Q=np.matrix([[10,0,0],[0,1,10],[0,10,1]])\n",
        "\n",
        "evals=200\n",
        "\n",
        "#results=np.empty(shape=(2,evals)).tolist()\n",
        "\n",
        "best_profit=0\n",
        "best_S=np.empty( shape=(1, 0) )\n",
        "\n",
        "\n",
        "for j in range(0,evals):\n",
        "\n",
        "    S=np.empty( shape=(1, 0) )\n",
        "    new_w=np.array([[0,1],[0,1]])\n",
        "    \n",
        "    \n",
        "    while C >= np.amin(new_w[0,1:]):\n",
        "    \n",
        "        new_w=np.array([[0],[0]])\n",
        "        # Vyfiltrujeme veci, ktere se do batohu vejdou\n",
        "        for k in range(1,len(w[0])):\n",
        "            if w[0,k] <= C:\n",
        "                new_w=np.hstack((new_w, np.atleast_2d(w[:,k]).T))\n",
        "                \n",
        "        \n",
        "        # Nahodne vyberem index z new_w\n",
        "        if len(new_w[0])-1 == 0:\n",
        "            break\n",
        "        ind=random.randint(1,len(new_w[0])-1)\n",
        "        \n",
        "        C=C-new_w[0,ind]\n",
        "        S=np.append(S, new_w[1,ind])\n",
        "        w=np.delete(w,np.where(w[1,:] == new_w[1,ind]),1)\n",
        "    \n",
        "    w=np.array([0, 1, 1, 1])\n",
        "    nuly=np.matlib.zeros((1,len(w)-1))\n",
        "    nuly[0,S.astype(int)-1]=1\n",
        "    beta=int(nuly*Q*np.transpose(nuly))\n",
        "    #results[0][j]=S\n",
        "    #results[1][j]=beta\n",
        "    if beta > best_profit:\n",
        "        best_profit=beta\n",
        "        best_S=S\n",
        "    w=np.c_[w, numbers].T \n",
        "    C=2\n",
        "\n",
        "\n",
        "print('Vezmeme predmety', best_S, 'a celkovy profit bude', best_profit)"
      ],
      "execution_count": 18,
      "outputs": [
        {
          "output_type": "stream",
          "name": "stdout",
          "text": [
            "Vezmeme predmety [3. 2.] a celkovy profit bude 22\n"
          ]
        }
      ]
    },
    {
      "cell_type": "code",
      "metadata": {
        "colab": {
          "base_uri": "https://localhost:8080/"
        },
        "id": "vgVhEyKNlmBs",
        "outputId": "21942ab2-566f-42c3-9e38-fc998a973519"
      },
      "source": [
        "# -*- coding: utf-8 -*-\n",
        "\"\"\"\n",
        "Created on Sat Sep 11 20:58:38 2021\n",
        "\n",
        "@author: Filip\n",
        "\"\"\"\n",
        "\n",
        "\n",
        "import numpy as np\n",
        "import numpy.matlib\n",
        "import random\n",
        "\n",
        "w=np.array([0, 13, 14, 14, 15, 15, 9, 26, 24, 13, 11, 9, 12, 25, 12, 26])\n",
        "# pridelime kazdemu predmetu cislo, aby nedoslo k zamene predmetu se stejnou vahou\n",
        "numbers=np.arange(0,len(w),1)\n",
        "w=np.c_[w, numbers].T \n",
        "C=22\n",
        "Q=np.array([\n",
        "7\t,12\t,7\t,6\t,13\t,8\t,11\t,7\t,15\t,23\t,14\t,15\t,17\t,9\t,15,\n",
        "12\t,6\t,15\t,13\t,10\t,15\t,9\t,10\t,8\t,17\t,11\t,13\t,12\t,16\t,15,\n",
        "7\t,15\t,13\t,11\t,16\t,6\t,8\t,14\t,13\t,4\t,14\t,8\t,15\t,9\t,16,\n",
        "6\t,13\t,11\t,16\t,10\t,13\t,14\t,14\t,17\t,15\t,14\t,6\t,24\t,13\t, 4,\n",
        "13\t,10\t,16\t,10\t,5\t,9\t,7\t,25\t,12\t,6\t,6\t,16\t,10\t,15\t,14,\n",
        "8\t,15\t,6\t,13\t,9\t,10\t,2\t,13\t,12\t,16\t,9\t,11\t,23\t,10\t,21,\n",
        "11\t,9\t,8\t,14\t,7\t,2\t,9\t,8\t,18\t,4\t,13\t,14\t,14\t,17\t,15,\n",
        "7\t,10\t,14\t,14\t,25\t,13\t,8\t,23\t,9\t,16\t,12\t,3\t,14\t,14\t,27,\n",
        "15\t,8\t,13\t,17\t,12\t,12\t,18\t,9\t,18\t,15\t,16\t,13\t,14\t,7\t,17,\n",
        "23\t,17\t,4\t,15\t,6\t,16\t,4\t,16\t,15\t,12\t,28\t,5\t,19\t,6\t,18,\n",
        "14\t,11\t,14\t,14\t,6\t,9\t,13\t,12\t,16\t,28\t,9\t,13\t,4\t,13\t,16,\n",
        "15\t,13\t,8\t,6\t,16\t,11\t,14\t,3\t,13\t,5\t,13\t,22\t,11\t,19\t,13,\n",
        "17\t,12\t,15\t,24\t,10\t,23\t,14\t,14\t,14\t,19\t,4\t,11\t,17\t,15\t,12,\n",
        "9\t,16\t,9\t,13\t,15\t,10\t,17\t,14\t,7\t,6\t,13\t,19\t,15\t,32\t,16,\n",
        "15\t,15\t,16\t,4\t,14\t,21\t,15\t,27\t,17\t,18\t,16\t,13\t,12\t,16\t, 8\n",
        "    ])\n",
        "\n",
        "Q=Q.reshape(15,15)\n",
        "evals=200\n",
        "\n",
        "#results=np.empty(shape=(2,evals)).tolist()\n",
        "\n",
        "best_profit=0\n",
        "best_S=np.empty( shape=(1, 0) )\n",
        "\n",
        "\n",
        "for j in range(0,evals):\n",
        "\n",
        "    S=np.empty( shape=(1, 0) )\n",
        "    new_w=np.array([[0,1],[0,1]])\n",
        "    \n",
        "    \n",
        "    while C >= np.amin(new_w[0,1:]):\n",
        "    \n",
        "        new_w=np.array([[0],[0]])\n",
        "        # Vyfiltrujeme veci, ktere se do batohu vejdou\n",
        "        for k in range(1,len(w[0])):\n",
        "            if w[0,k] <= C:\n",
        "                new_w=np.hstack((new_w, np.atleast_2d(w[:,k]).T))\n",
        "                \n",
        "        \n",
        "        # Nahodne vyberem index z new_w\n",
        "        if len(new_w[0])-1 == 0:\n",
        "            break\n",
        "        ind=random.randint(1,len(new_w[0])-1)\n",
        "        \n",
        "        C=C-new_w[0,ind]\n",
        "        S=np.append(S, new_w[1,ind])\n",
        "        w=np.delete(w,np.where(w[1,:] == new_w[1,ind]),1)\n",
        "    \n",
        "    w=np.array([0, 13, 14, 14, 15, 15, 9, 26, 24, 13, 11, 9, 12, 25, 12, 26])\n",
        "    nuly=np.matlib.zeros((1,len(w)-1))\n",
        "    nuly[0,S.astype(int)-1]=1\n",
        "    beta=int(nuly*Q*np.transpose(nuly))\n",
        "    #results[0][j]=S\n",
        "    #results[1][j]=beta\n",
        "    if beta > best_profit:\n",
        "        best_profit=beta\n",
        "        best_S=S\n",
        "    w=np.c_[w, numbers].T \n",
        "    C=22\n",
        "\n",
        "print('Vezmeme predmety', best_S, 'a celkovy profit bude', best_profit)"
      ],
      "execution_count": 19,
      "outputs": [
        {
          "output_type": "stream",
          "name": "stdout",
          "text": [
            "Vezmeme predmety [10. 11.] a celkovy profit bude 77\n"
          ]
        }
      ]
    },
    {
      "cell_type": "code",
      "metadata": {
        "colab": {
          "base_uri": "https://localhost:8080/"
        },
        "id": "Pt1ryepKlriX",
        "outputId": "16d20cbe-beed-47ae-844b-87b95b10d625"
      },
      "source": [
        "# -*- coding: utf-8 -*-\n",
        "\"\"\"\n",
        "Created on Fri Sep 10 17:32:40 2021\n",
        "\n",
        "@author: Filip\n",
        "\"\"\"\n",
        "\n",
        "import numpy as np\n",
        "import numpy.matlib\n",
        "import random\n",
        "\n",
        "w=np.array([0, 13, 14, 14, 15, 15, 9, 26, 24, 13, 11, 9, 12, 25, 12, 26])\n",
        "# pridelime kazdemu predmetu cislo, aby nedoslo k zamene predmetu se stejnou vahou\n",
        "numbers=np.arange(0,len(w),1)\n",
        "w=np.c_[w, numbers].T \n",
        "C=50\n",
        "Q=np.array([\n",
        "7\t,12\t,7\t,6\t,13\t,8\t,11\t,7\t,15\t,23\t,14\t,15\t,17\t,9\t,15,\n",
        "12\t,6\t,15\t,13\t,10\t,15\t,9\t,10\t,8\t,17\t,11\t,13\t,12\t,16\t,15,\n",
        "7\t,15\t,13\t,11\t,16\t,6\t,8\t,14\t,13\t,4\t,14\t,8\t,15\t,9\t,16,\n",
        "6\t,13\t,11\t,16\t,10\t,13\t,14\t,14\t,17\t,15\t,14\t,6\t,24\t,13\t, 4,\n",
        "13\t,10\t,16\t,10\t,5\t,9\t,7\t,25\t,12\t,6\t,6\t,16\t,10\t,15\t,14,\n",
        "8\t,15\t,6\t,13\t,9\t,10\t,2\t,13\t,12\t,16\t,9\t,11\t,23\t,10\t,21,\n",
        "11\t,9\t,8\t,14\t,7\t,2\t,9\t,8\t,18\t,4\t,13\t,14\t,14\t,17\t,15,\n",
        "7\t,10\t,14\t,14\t,25\t,13\t,8\t,23\t,9\t,16\t,12\t,3\t,14\t,14\t,27,\n",
        "15\t,8\t,13\t,17\t,12\t,12\t,18\t,9\t,18\t,15\t,16\t,13\t,14\t,7\t,17,\n",
        "23\t,17\t,4\t,15\t,6\t,16\t,4\t,16\t,15\t,12\t,28\t,5\t,19\t,6\t,18,\n",
        "14\t,11\t,14\t,14\t,6\t,9\t,13\t,12\t,16\t,28\t,9\t,13\t,4\t,13\t,16,\n",
        "15\t,13\t,8\t,6\t,16\t,11\t,14\t,3\t,13\t,5\t,13\t,22\t,11\t,19\t,13,\n",
        "17\t,12\t,15\t,24\t,10\t,23\t,14\t,14\t,14\t,19\t,4\t,11\t,17\t,15\t,12,\n",
        "9\t,16\t,9\t,13\t,15\t,10\t,17\t,14\t,7\t,6\t,13\t,19\t,15\t,32\t,16,\n",
        "15\t,15\t,16\t,4\t,14\t,21\t,15\t,27\t,17\t,18\t,16\t,13\t,12\t,16\t, 8\n",
        "    ])\n",
        "\n",
        "Q=Q.reshape(15,15)\n",
        "evals=1000\n",
        "\n",
        "#results=np.empty(shape=(2,evals)).tolist()\n",
        "\n",
        "best_profit=0\n",
        "best_S=np.empty( shape=(1, 0) )\n",
        "\n",
        "\n",
        "for j in range(0,evals):\n",
        "\n",
        "    S=np.empty( shape=(1, 0) )\n",
        "    new_w=np.array([[0,1],[0,1]])\n",
        "    \n",
        "    \n",
        "    while C >= np.amin(new_w[0,1:]):\n",
        "    \n",
        "        new_w=np.array([[0],[0]])\n",
        "        # Vyfiltrujeme veci, ktere se do batohu vejdou\n",
        "        for k in range(1,len(w[0])):\n",
        "            if w[0,k] <= C:\n",
        "                new_w=np.hstack((new_w, np.atleast_2d(w[:,k]).T))\n",
        "                \n",
        "        \n",
        "        # Nahodne vyberem index z new_w\n",
        "        if len(new_w[0])-1 == 0:\n",
        "            break\n",
        "        ind=random.randint(1,len(new_w[0])-1)\n",
        "        \n",
        "        C=C-new_w[0,ind]\n",
        "        S=np.append(S, new_w[1,ind])\n",
        "        w=np.delete(w,np.where(w[1,:] == new_w[1,ind]),1)\n",
        "    \n",
        "    w=np.array([0, 13, 14, 14, 15, 15, 9, 26, 24, 13, 11, 9, 12, 25, 12, 26])\n",
        "    nuly=np.matlib.zeros((1,len(w)-1))\n",
        "    nuly[0,S.astype(int)-1]=1\n",
        "    beta=int(nuly*Q*np.transpose(nuly))\n",
        "    #results[0][j]=S\n",
        "    #results[1][j]=beta\n",
        "    if beta > best_profit:\n",
        "        best_profit=beta\n",
        "        best_S=S\n",
        "    w=np.c_[w, numbers].T \n",
        "    C=50\n",
        "\n",
        "print('Vezmeme predmety', best_S, 'a celkovy profit bude', best_profit)"
      ],
      "execution_count": 39,
      "outputs": [
        {
          "output_type": "stream",
          "name": "stdout",
          "text": [
            "Vezmeme predmety [10. 11.  9.  1.] a celkovy profit bude 268\n"
          ]
        }
      ]
    },
    {
      "cell_type": "markdown",
      "metadata": {
        "id": "UIkyqLMWo1-J"
      },
      "source": [
        "Ačkoli se jedná o vcelku jednoduchou heuristiku, u které by se dalo říct, že používá na řešení hrubou sílu, tak její výsledky předčily naši původní heuristiku, protože dosáhala ve všech třech příkladech optimálního řešení. Nicméně to není důvod pro to, abychom naši původní heuristiku zavrhli, protože její síla by se pravděpodobně ukázala při řádově vyšších množstvích předmetů. "
      ]
    },
    {
      "cell_type": "markdown",
      "metadata": {
        "id": "vxDPgZmxqm-Y"
      },
      "source": [
        "Na závěr bychom uvedli, že obě námi testované heuristiky si dobře vedly s naší úlohou. Pro užití bychom doporučili používat při nízkých počtech předmětů Random shooting heuristiku, ale při vyšších počtech již naši hlavní heuristiku."
      ]
    }
  ]
}