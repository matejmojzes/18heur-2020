{
 "cells": [
  {
   "cell_type": "markdown",
   "metadata": {
    "slideshow": {
     "slide_type": "slide"
    }
   },
   "source": [
    "# February 18 2020"
   ]
  },
  {
   "cell_type": "markdown",
   "metadata": {},
   "source": [
    "## 1. Introduction\n",
    "\n",
    "### About me\n",
    "\n",
    "**Matej Mojzeš**\n",
    "\n",
    "* Ph.D. in integer optimization heuristics at the Deptartment of Software Engineering, FNSPE CTU in Prague\n",
    "* I also work(ed) as Head of Data Science at [Jumpshot](https://www.jumpshot.com)\n",
    "* More on my [LinkedIn profile](http://cz.linkedin.com/in/matejmojzes)"
   ]
  },
  {
   "cell_type": "markdown",
   "metadata": {},
   "source": [
    "### About this course\n",
    "\n",
    "We will experiment with \"black-box\" optimization of various **objective functions** (e.g. Travelling Salesman Problem, Artificial Neural Network weight optimization, [benchmark function optimization](http://www.geatbx.com/docu/fcnindex-01.html)) using different kinds of **heuristics** (e.g. Simulated Annealing, Genetic Optimization, Differential Evolution).\n",
    "\n",
    "Recommended tools for this course are **Python & Jupyter notebook**:\n",
    "* Python: [reasons why](https://www.stat.washington.edu/~hoytak/blog/whypython.html), Jupyter notebook: [reasons why](http://www.nature.com/news/interactive-notebooks-sharing-the-code-1.16261),\n",
    "* download & install from [here](https://www.continuum.io/downloads).\n",
    "\n",
    "All **resources** will be on [GitHub](https://github.com/matejmojzes/18heur-2020). Any meaningful pull requests will be taken into account during your evaluation."
   ]
  },
  {
   "cell_type": "markdown",
   "metadata": {},
   "source": [
    "### About _zápočet_\n",
    "\n",
    "I will enourage and help you to work on your own projects as long as:\n",
    "\n",
    "* they are objective functions that can be optimized by heuristics and/or\n",
    "* they are heuristics, of course :-)\n",
    "\n",
    "In the worst case, you should test and evaluate objective functions and heuristics that will be presented during our classes, but on a larger scale. It is completely up to you to mix your own creativity with large-scale experiments.\n",
    "\n",
    "Your goal is to:\n",
    "\n",
    "* deliver your work in form of a **research paper** with source code attached (ideally as a Jupyter notebook),\n",
    "* be patient and work hard.\n",
    "\n",
    "<img src=\"img/journey_to_greatness.jpg\">\n",
    "\n",
    "_Please note that this picture contains nice example of heuristic optimization :-)_"
   ]
  },
  {
   "cell_type": "markdown",
   "metadata": {},
   "source": [
    "#### Notes\n",
    "\n",
    "* Subscribe to the [mailing list](https://forms.gle/TuXwHgm9dTnamL9PA).\n",
    "* **DO NOT** try to begin working on your project in the last week of the school year (or before your final exams), chances are that:\n",
    "  * you will not have enough time to deliver a project of acceptable quality and/or\n",
    "  * I will be out of the office and off-line.\n",
    "* Last, but not least, nota bene:\n",
    "\n",
    "<img src=\"img/learning.jpeg\">\n",
    "\n",
    "Therefore, I offer you the possibility to actively participate in a final \"Show and tell\" lecture, and I will improve your mark based on the successful presentation of your project"
   ]
  },
  {
   "cell_type": "markdown",
   "metadata": {},
   "source": [
    "## 2. First assignment\n",
    "\n",
    "<img src=\"img/airship.png\">\n",
    "\n",
    "1. Imagine that you are on an air ship flying over discrete, 1-dimensional, terrain: $[0; 799]$.\n",
    "2. Your task is to find the highest peak. You now its height ($y=100$), but not its location ($x$). It is hidden by the clouds.\n",
    "3. You can measure terrain altitude only by planting paratroops - each will report his altitude after the jump.\n",
    "4. You have only 100 paratroops on board, but otherwise you are not limited by any other constraints (air ship have unlimited fuel, there is no wind, etc...)\n",
    "5. Your task: find the $x$ coordinate of the highest peak.\n",
    "\n",
    "\n",
    "* Simulate this experiment 1000 times.\n",
    "* When trying to find the highest peak, remember 1.) the highest altitude reached, 2.) number of paratroops planted before hitting the highest peak (you will compute some basic statistics based on these two vectors)"
   ]
  },
  {
   "cell_type": "code",
   "execution_count": 1,
   "metadata": {
    "collapsed": true
   },
   "outputs": [],
   "source": [
    "# example of objective function implementation in Python\n",
    "\n",
    "def evaluate(x):\n",
    "    px = np.array([0,  50, 100, 300, 400, 700, 799], dtype=int)\n",
    "    py = np.array([0, 100,   0,   0,  25,   0,  50], dtype=int)\n",
    "    xx = np.arange(0, 800)\n",
    "    yy = np.interp(xx, px, py)\n",
    "    return -yy[x]  # negative altitude, becase we are minimizing (to be consistent with other obj. functions)"
   ]
  },
  {
   "cell_type": "markdown",
   "metadata": {
    "collapsed": true
   },
   "source": [
    "## 3. Results analysis\n",
    "\n",
    "Let us compare two simple (but sometimes surprisingly efficient) heuristics:\n",
    "\n",
    "1. **Random Shooting (RS)**: evaluates random solutions until optimum is found or maximum number of evaluations is exhausted.\n",
    "2. **Shoot & Go (SG)**: also known as _Random-restart hill climbing_, same as RS, but each random solution is iteratively improved using its ring neighbourhood if possible.\n",
    "\n",
    "\n",
    "#### 2nd question\n",
    "\n",
    "> In how many experiments did you find the highest peak (x=50, y=100)?\n",
    "\n",
    "* **RS** ~ $120/1000 = 12\\%$ (we could expect $1/800\\cdot100=0.125$)\n",
    "* **SG** ~ $180/1000 = 18\\%$\n",
    "\n",
    "\n",
    "#### 3rd question\n",
    "\n",
    "> When you found the highest peak (x=50, y=100), what was the median of number of paratroops used to find the peak?\n",
    "\n",
    "* **RS** ~ $46$\n",
    "* **SG** ~ $55$\n",
    "\n",
    "#### 4th question\n",
    "\n",
    "> What was the median of the highest altitude found at the end of each experiment?\n",
    "\n",
    "* **RS** ~ $94$\n",
    "* **SG** ~ $24.5$\n",
    "\n",
    "#### Which of the two methods is better?\n",
    "\n",
    "The answer depends on you, actually. Two basic criteria:\n",
    "* number of evaluations normalized by reliability: **Shoot & Go** ($55/0.18 = 305 < 46/0.12 = 383$)\n",
    "* distance from optimum: **Random Shooting** ($94 > 24.5$)\n"
   ]
  },
  {
   "cell_type": "markdown",
   "metadata": {},
   "source": [
    "## 4. Conclusions\n",
    "\n",
    "When optimizing an objective function using heuristics:\n",
    "\n",
    "* We know our domain (in this case, the 1-D terrain), but we suppose that we do not explicitly know the _function_ we are optimizing (in here: altitude – it's hidden by clouds)\n",
    "* We can only evaluate the function in some finite number of points (here: we are have only 100 paratroops at our disposal)\n",
    "* We typically know what is the objective function value we want to reach (here: $y=100$)"
   ]
  }
 ],
 "metadata": {
  "kernelspec": {
   "display_name": "Python 3",
   "language": "python",
   "name": "python3"
  },
  "language_info": {
   "codemirror_mode": {
    "name": "ipython",
    "version": 3
   },
   "file_extension": ".py",
   "mimetype": "text/x-python",
   "name": "python",
   "nbconvert_exporter": "python",
   "pygments_lexer": "ipython3",
   "version": "3.6.10"
  }
 },
 "nbformat": 4,
 "nbformat_minor": 1
}
