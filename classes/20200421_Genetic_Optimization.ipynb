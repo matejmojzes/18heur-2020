{
 "cells": [
  {
   "cell_type": "markdown",
   "metadata": {},
   "source": [
    "# Genetic Optimization (Continuation)\n",
    "\n",
    "Before we start, please revise example GO implementation in `src/heur_go.py`. Ideally, compare it to your solution!\n",
    "\n",
    "This notebok will give you another ideas for crossover operators and mutation correction strategies."
   ]
  },
  {
   "cell_type": "code",
   "execution_count": 1,
   "metadata": {},
   "outputs": [],
   "source": [
    "# Import path to source directory (bit of a hack in Jupyter)\n",
    "import sys\n",
    "import os\n",
    "pwd = %pwd\n",
    "sys.path.append(os.path.join(pwd, os.path.join('..', 'src')))\n",
    "\n",
    "# Ensure modules are reloaded on any change (very useful when developing code on the fly)\n",
    "%load_ext autoreload\n",
    "%autoreload 2"
   ]
  },
  {
   "cell_type": "code",
   "execution_count": 2,
   "metadata": {},
   "outputs": [],
   "source": [
    "# Import external librarires\n",
    "import numpy as np\n",
    "import pandas as pd\n",
    "from tqdm.notebook import tqdm\n",
    "\n",
    "import matplotlib\n",
    "%matplotlib notebook\n",
    "import matplotlib.pyplot as plt\n",
    "import seaborn as sns\n",
    "sns.set()"
   ]
  },
  {
   "cell_type": "markdown",
   "metadata": {},
   "source": [
    "**Let's use the well-known ``TSPGrid(3, 3)`` for demonstration purposes**"
   ]
  },
  {
   "cell_type": "code",
   "execution_count": 3,
   "metadata": {},
   "outputs": [],
   "source": [
    "from objfun_tsp import TSPGrid\n",
    "tsp = TSPGrid(3, 3)"
   ]
  },
  {
   "cell_type": "markdown",
   "metadata": {},
   "source": [
    "# Three different crossover operators:"
   ]
  },
  {
   "cell_type": "markdown",
   "metadata": {},
   "source": [
    "**First, let's assume these are our parents:**"
   ]
  },
  {
   "cell_type": "code",
   "execution_count": 4,
   "metadata": {},
   "outputs": [
    {
     "data": {
      "text/plain": [
       "array([0, 0, 0, 0, 0, 0, 0, 0, 0, 0])"
      ]
     },
     "execution_count": 4,
     "metadata": {},
     "output_type": "execute_result"
    }
   ],
   "source": [
    "x = np.zeros(10, dtype=int)\n",
    "x"
   ]
  },
  {
   "cell_type": "code",
   "execution_count": 5,
   "metadata": {},
   "outputs": [
    {
     "data": {
      "text/plain": [
       "array([9, 9, 9, 9, 9, 9, 9, 9, 9, 9])"
      ]
     },
     "execution_count": 5,
     "metadata": {},
     "output_type": "execute_result"
    }
   ],
   "source": [
    "y = 9*np.ones(10, dtype=int)\n",
    "y"
   ]
  },
  {
   "cell_type": "markdown",
   "metadata": {},
   "source": [
    "## 1. Random mix (baseline class)"
   ]
  },
  {
   "cell_type": "code",
   "execution_count": 6,
   "metadata": {},
   "outputs": [
    {
     "data": {
      "text/plain": [
       "array([9, 0, 9, 0, 0, 9, 0, 9, 9, 0])"
      ]
     },
     "execution_count": 6,
     "metadata": {},
     "output_type": "execute_result"
    }
   ],
   "source": [
    "from heur_go import Crossover\n",
    "co_rnd = Crossover()\n",
    "co_rnd.crossover(x, y)"
   ]
  },
  {
   "cell_type": "markdown",
   "metadata": {},
   "source": [
    "## 2. Uniform n-point crossover"
   ]
  },
  {
   "cell_type": "code",
   "execution_count": 7,
   "metadata": {},
   "outputs": [
    {
     "data": {
      "text/plain": [
       "array([0, 0, 9, 9, 0, 0, 9, 9, 0, 0])"
      ]
     },
     "execution_count": 7,
     "metadata": {},
     "output_type": "execute_result"
    }
   ],
   "source": [
    "from heur_go import UniformMultipoint\n",
    "co_uni = UniformMultipoint(4)\n",
    "co_uni.crossover(x, y)"
   ]
  },
  {
   "cell_type": "markdown",
   "metadata": {},
   "source": [
    "## 3. Random combination"
   ]
  },
  {
   "cell_type": "code",
   "execution_count": 8,
   "metadata": {},
   "outputs": [
    {
     "data": {
      "text/plain": [
       "array([7, 8, 4, 3, 6, 3, 4, 7, 1, 6])"
      ]
     },
     "execution_count": 8,
     "metadata": {},
     "output_type": "execute_result"
    }
   ],
   "source": [
    "from heur_go import RandomCombination\n",
    "co_comb = RandomCombination()\n",
    "co_comb.crossover(x, y)"
   ]
  },
  {
   "cell_type": "markdown",
   "metadata": {},
   "source": [
    "# Demonstration"
   ]
  },
  {
   "cell_type": "code",
   "execution_count": 9,
   "metadata": {},
   "outputs": [],
   "source": [
    "from heur_go import GeneticOptimization\n",
    "from heur_aux import CauchyMutation, Correction"
   ]
  },
  {
   "cell_type": "code",
   "execution_count": 10,
   "metadata": {},
   "outputs": [],
   "source": [
    "NUM_RUNS = 1000\n",
    "maxeval = 1000"
   ]
  },
  {
   "cell_type": "code",
   "execution_count": 11,
   "metadata": {},
   "outputs": [],
   "source": [
    "# prepare battery of crossovers to be tested (with some metadata)\n",
    "crossovers = [\n",
    "    {'crossover': Crossover(), 'name': 'mix'},\n",
    "    {'crossover': UniformMultipoint(1), 'name': 'uni'},  #  test for other n as well!\n",
    "    {'crossover': RandomCombination(), 'name': 'rnd'},\n",
    "]"
   ]
  },
  {
   "cell_type": "code",
   "execution_count": 12,
   "metadata": {},
   "outputs": [
    {
     "data": {
      "application/vnd.jupyter.widget-view+json": {
       "model_id": "b32a8e8c93bb4624a7d54b606bdc55b9",
       "version_major": 2,
       "version_minor": 0
      },
      "text/plain": [
       "HBox(children=(IntProgress(value=0, description='Testing GO_mix', max=1000, style=ProgressStyle(description_wi…"
      ]
     },
     "metadata": {},
     "output_type": "display_data"
    },
    {
     "name": "stdout",
     "output_type": "stream",
     "text": [
      "\n"
     ]
    },
    {
     "data": {
      "application/vnd.jupyter.widget-view+json": {
       "model_id": "cb9930296c8f45ca9b00407f529a1af2",
       "version_major": 2,
       "version_minor": 0
      },
      "text/plain": [
       "HBox(children=(IntProgress(value=0, description='Testing GO_uni', max=1000, style=ProgressStyle(description_wi…"
      ]
     },
     "metadata": {},
     "output_type": "display_data"
    },
    {
     "name": "stdout",
     "output_type": "stream",
     "text": [
      "\n"
     ]
    },
    {
     "data": {
      "application/vnd.jupyter.widget-view+json": {
       "model_id": "2e40402d71974e2bb1e085a7e8bd08e1",
       "version_major": 2,
       "version_minor": 0
      },
      "text/plain": [
       "HBox(children=(IntProgress(value=0, description='Testing GO_rnd', max=1000, style=ProgressStyle(description_wi…"
      ]
     },
     "metadata": {},
     "output_type": "display_data"
    },
    {
     "name": "stdout",
     "output_type": "stream",
     "text": [
      "\n"
     ]
    }
   ],
   "source": [
    "results = pd.DataFrame()\n",
    "for crossover in crossovers:\n",
    "    heur_name = 'GO_{}'.format(crossover['name'])\n",
    "    runs = []\n",
    "    for i in tqdm(range(NUM_RUNS), 'Testing {}'.format(heur_name)):\n",
    "        run = GeneticOptimization(tsp, maxeval, N=5, M=15, Tsel1=1, Tsel2=0.1, \n",
    "                                  mutation=CauchyMutation(r=.75, correction=Correction(tsp)),\n",
    "                                  crossover=crossover['crossover']).search()\n",
    "        run['run'] = i\n",
    "        run['heur'] = heur_name\n",
    "        run['crossover'] = crossover['name']\n",
    "        runs.append(run)\n",
    "    \n",
    "    res_df = pd.DataFrame(runs, columns=['heur', 'run', 'crossover', 'best_x', 'best_y', 'neval'])\n",
    "    results = pd.concat([results, res_df], axis=0)"
   ]
  },
  {
   "cell_type": "code",
   "execution_count": 13,
   "metadata": {},
   "outputs": [],
   "source": [
    "def rel(x):\n",
    "    return len([n for n in x if n < np.inf])/len(x)\n",
    "def mne(x):\n",
    "    return np.mean([n for n in x if n < np.inf])\n",
    "def feo(x):\n",
    "    return mne(x)/rel(x)"
   ]
  },
  {
   "cell_type": "code",
   "execution_count": 14,
   "metadata": {},
   "outputs": [
    {
     "data": {
      "text/html": [
       "<div>\n",
       "<style scoped>\n",
       "    .dataframe tbody tr th:only-of-type {\n",
       "        vertical-align: middle;\n",
       "    }\n",
       "\n",
       "    .dataframe tbody tr th {\n",
       "        vertical-align: top;\n",
       "    }\n",
       "\n",
       "    .dataframe thead th {\n",
       "        text-align: right;\n",
       "    }\n",
       "</style>\n",
       "<table border=\"1\" class=\"dataframe\">\n",
       "  <thead>\n",
       "    <tr style=\"text-align: right;\">\n",
       "      <th></th>\n",
       "      <th>heur</th>\n",
       "      <th>crossover</th>\n",
       "      <th>feo</th>\n",
       "      <th>mne</th>\n",
       "      <th>rel</th>\n",
       "    </tr>\n",
       "  </thead>\n",
       "  <tbody>\n",
       "    <tr>\n",
       "      <td>0</td>\n",
       "      <td>GO_mix</td>\n",
       "      <td>mix</td>\n",
       "      <td>277.260547</td>\n",
       "      <td>272.269857</td>\n",
       "      <td>0.982</td>\n",
       "    </tr>\n",
       "    <tr>\n",
       "      <td>1</td>\n",
       "      <td>GO_rnd</td>\n",
       "      <td>rnd</td>\n",
       "      <td>266.622401</td>\n",
       "      <td>261.556575</td>\n",
       "      <td>0.981</td>\n",
       "    </tr>\n",
       "    <tr>\n",
       "      <td>2</td>\n",
       "      <td>GO_uni</td>\n",
       "      <td>uni</td>\n",
       "      <td>274.786614</td>\n",
       "      <td>268.741309</td>\n",
       "      <td>0.978</td>\n",
       "    </tr>\n",
       "  </tbody>\n",
       "</table>\n",
       "</div>"
      ],
      "text/plain": [
       "     heur crossover         feo         mne    rel\n",
       "0  GO_mix       mix  277.260547  272.269857  0.982\n",
       "1  GO_rnd       rnd  266.622401  261.556575  0.981\n",
       "2  GO_uni       uni  274.786614  268.741309  0.978"
      ]
     },
     "execution_count": 14,
     "metadata": {},
     "output_type": "execute_result"
    }
   ],
   "source": [
    "results_pivot = results.pivot_table(\n",
    "    index=['heur', 'crossover'],\n",
    "    values=['neval'],\n",
    "    aggfunc=(rel, mne, feo)\n",
    ")['neval']\n",
    "results_pivot = results_pivot.reset_index()\n",
    "results_pivot.sort_values(by='crossover')"
   ]
  },
  {
   "cell_type": "markdown",
   "metadata": {},
   "source": [
    "#### Conclusion\n",
    "\n",
    "It seems that the alternative crossover methods are not improving performance in this case."
   ]
  },
  {
   "cell_type": "markdown",
   "metadata": {},
   "source": [
    "## Assignments\n",
    "\n",
    "* Thoroughly test different kinds of GO setup, also using the new corrections strategies (`MirrorCorrection` and `ExtensionCorrection`, see `src/heur_aux.py`)\n",
    "* Could you think of any other crossover operator? See e.g. https://en.wikipedia.org/wiki/Crossover_(genetic_algorithm) for inspiration\n",
    "* Implement and optimize the following objective function..."
   ]
  },
  {
   "cell_type": "markdown",
   "metadata": {},
   "source": [
    "### Clerc's Zebra-3 objective function\n",
    "\n",
    "Clerc's Zebra-3 problem is a non-trivial binary optimization problem and part of discrete optimization benchmark problems (Hierarchical swarm model: a new approach to optimization, Chen et al, 2010).\n",
    "\n",
    "Zebra-3 function is defined for $d = 3 \\, d^*$, $d^* \\in \\mathbb{N}$ as\n",
    "$$ \\mathrm{z}(\\boldsymbol{\\mathsf{x}}) = \\sum_{k=1}^{d^*} \\mathrm{z}_{1+\\mathrm{mod}(k-1,2)} (\\boldsymbol{\\mathsf{\\xi}}_k) $$\n",
    "where\n",
    "$\\boldsymbol{\\mathsf{\\xi}}_k = (x_{3\\,k-2}, \\ldots, x_{3\\,k})$ and\n",
    "\n",
    "$$\n",
    "\\mathrm{z_1}(\\boldsymbol{\\mathsf{\\xi}}) = \\left\\{\n",
    "\\begin{array}{c l}     \n",
    "    0.9 & \\  \\mathrm{for} \\  | | \\boldsymbol{\\mathsf{\\xi}} | |_1=0 \\\\\n",
    "    0.6 & \\  \\mathrm{for} \\  | | \\boldsymbol{\\mathsf{\\xi}} | | _1=1 \\\\\n",
    "    0.3 & \\  \\mathrm{for} \\  | | \\boldsymbol{\\mathsf{\\xi}} | | _1=2 \\\\\n",
    "    1.0 & \\  \\mathrm{for} \\  | | \\boldsymbol{\\mathsf{\\xi}} | | _1=3  \n",
    "\\end{array}\\right.\n",
    "$$\n",
    "\n",
    "$$\n",
    "\\mathrm{z_2}(\\boldsymbol{\\mathsf{\\xi}}) = \\left\\{\n",
    "\\begin{array}{c l}     \n",
    "    0.9 & \\mathrm{for} \\  | | \\boldsymbol{\\mathsf{\\xi}} | |_1=3 \\\\\n",
    "    0.6 & \\mathrm{for} \\  | | \\boldsymbol{\\mathsf{\\xi}} | |_1=2 \\\\\n",
    "    0.3 & \\mathrm{for} \\  | | \\boldsymbol{\\mathsf{\\xi}} | |_1=1 \\\\\n",
    "    1.0 & \\mathrm{for} \\  | | \\boldsymbol{\\mathsf{\\xi}} | |_1=0 \n",
    "\\end{array}\\right.\n",
    "$$\n",
    "\n",
    "Zebra-3 function is a subject of maximization with maximum value of $d/3$. Therefore  we will minimize \n",
    "\n",
    "$$\\mathrm{f}(\\boldsymbol{\\mathsf{x}})=\\frac{d}{3} - \\mathrm{z}(\\boldsymbol{\\mathsf{x}})$$\n",
    "\n",
    "with $f^* = 0$."
   ]
  },
  {
   "cell_type": "markdown",
   "metadata": {},
   "source": [
    "Illustration in 3D:\n",
    "\n",
    "<img src=\"img/zebra3.png\">"
   ]
  },
  {
   "cell_type": "markdown",
   "metadata": {},
   "source": [
    "Implementation: see `src/objfun_zebra3.py`."
   ]
  }
 ],
 "metadata": {
  "kernelspec": {
   "display_name": "Python 3",
   "language": "python",
   "name": "python3"
  },
  "language_info": {
   "codemirror_mode": {
    "name": "ipython",
    "version": 3
   },
   "file_extension": ".py",
   "mimetype": "text/x-python",
   "name": "python",
   "nbconvert_exporter": "python",
   "pygments_lexer": "ipython3",
   "version": "3.7.4"
  }
 },
 "nbformat": 4,
 "nbformat_minor": 1
}
