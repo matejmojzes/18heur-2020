{
 "cells": [
  {
   "cell_type": "markdown",
   "metadata": {},
   "source": [
    "Let $\\boldsymbol{x}\\in\\mathbb{R}^{d}$, where d$\\in\\mathbb{N}$ is finite, e.g. 100. Furthermore, for $\\boldsymbol{x}$ $\\sum_{k=1}^{d}x_{k}=1\\wedge\\left(\\forall k\\in\\left\\{ 1,2,\\ldots,d\\right\\} \\right)\\left(\\boldsymbol{x}_{k}>0\\right)$ holds.\n",
    "This condition ensures the form of a distribution with finite support of $\\boldsymbol{x}$. \n",
    "\n",
    "The paramers of the problem are $\\left\\{ \\boldsymbol{\\alpha}\\right\\} _{i\\in\\mathbb{N}}\\in\\mathbb{R}^{d}$. There are no further limitations for $\\boldsymbol{\\alpha}_{i}$.\n",
    "Then, the following function is to be optimized:\n",
    "\n",
    "$-\\sum_{i}\\boldsymbol{\\alpha}_{i}\\cdot\\boldsymbol{x}$,\n",
    "\n",
    "where the structure of $\\alpha$ is $\\alpha_{i,k}=\\left\\{ \\begin{array}{cc}\n",
    "k\\Delta-\\Delta_{i,0}, & \\text{ for }k<m_{i},\\\\\n",
    "0, & \\text{ else}.\n",
    "\\end{array}\\right.$.\n",
    "\n",
    "The $\\boldsymbol{\\alpha}_{i}$ depends on two parameters $\\Delta_{i}\\in\\mathbb{R}$ and $0\\leq m_{i}\\leq d$  only."
   ]
  },
  {
   "cell_type": "code",
   "execution_count": 1,
   "metadata": {},
   "outputs": [],
   "source": [
    "# Import path to source directory (bit of a hack in Jupyter)\n",
    "import sys\n",
    "import os\n",
    "pwd = %pwd\n",
    "sys.path.append(os.path.join(pwd, os.path.join('..', 'src')))\n",
    "\n",
    "# Ensure modules are reloaded on any change (very useful when developing code on the fly)\n",
    "%load_ext autoreload\n",
    "%autoreload 2"
   ]
  },
  {
   "cell_type": "code",
   "execution_count": 2,
   "metadata": {},
   "outputs": [],
   "source": [
    "# Import external libraries\n",
    "import numpy as np\n",
    "import matplotlib.pyplot as plt"
   ]
  },
  {
   "cell_type": "code",
   "execution_count": 3,
   "metadata": {},
   "outputs": [],
   "source": [
    "# Import external libraries\n",
    "import pandas as pd\n",
    "from tqdm.notebook import tqdm"
   ]
  },
  {
   "cell_type": "code",
   "execution_count": 4,
   "metadata": {},
   "outputs": [],
   "source": [
    "def rel(x):\n",
    "    return len([n for n in x if n < np.inf])/len(x)\n",
    "def mne(x):\n",
    "    return np.mean([n for n in x if n < np.inf])\n",
    "def feo(x):\n",
    "    return mne(x)/rel(x)"
   ]
  },
  {
   "cell_type": "code",
   "execution_count": 5,
   "metadata": {},
   "outputs": [],
   "source": [
    "import objfun_distribution_opt as dopt"
   ]
  },
  {
   "cell_type": "code",
   "execution_count": 6,
   "metadata": {},
   "outputs": [
    {
     "name": "stdout",
     "output_type": "stream",
     "text": [
      "[[ 5.   6.   7.   8.   9.  10.  11.  12.  13.  14.  15.   0.   0.   0.\n",
      "   0. ]\n",
      " [ 2.5  3.5  4.5  5.5  6.5  7.5  8.5  9.5 10.5 11.5  0.   0.   0.   0.\n",
      "   0. ]\n",
      " [ 2.5  3.5  4.5  5.5  6.5  7.5  8.5  9.5 10.5 11.5  0.   0.   0.   0.\n",
      "   0. ]\n",
      " [ 2.5  3.5  4.5  5.5  6.5  7.5  8.5  9.5 10.5 11.5  0.   0.   0.   0.\n",
      "   0. ]\n",
      " [ 2.5  3.5  4.5  5.5  6.5  7.5  8.5  9.5 10.5 11.5  0.   0.   0.   0.\n",
      "   0. ]]\n",
      "-23.545309291212583\n"
     ]
    }
   ],
   "source": [
    "alphas = [{\"r\": 15, \"m\": 10},{\"r\": 12, \"m\": 9.5},{\"r\": 12, \"m\": 9.5},{\"r\": 12, \"m\": 9.5},{\"r\": 12, \"m\": 9.5}]\n",
    "delta = 1\n",
    "d = 15\n",
    "problem = dopt.VolumeDistribution(d, delta, alphas)\n",
    "\n",
    "x = problem.generate_point()\n",
    "# print(x)\n",
    "# x = np.reshape([0 if i != 9 else 1 for i in range(0,d)],(1, d))\n",
    "# print(x)\n",
    "print(problem.alphas)\n",
    "\n",
    "print(problem.evaluate(x))"
   ]
  },
  {
   "cell_type": "markdown",
   "metadata": {},
   "source": [
    "### Heuristics application"
   ]
  },
  {
   "cell_type": "code",
   "execution_count": 7,
   "metadata": {},
   "outputs": [
    {
     "name": "stdout",
     "output_type": "stream",
     "text": [
      "19.63793103448276\n"
     ]
    }
   ],
   "source": [
    "alphas = [{\"r\": 15, \"m\": 10},{\"r\": 5, \"m\": 5},{\"r\": 6, \"m\": 6},{\"r\": 5, \"m\": 5},{\"r\": 7, \"m\": 7}, {\"r\": 20, \"m\": 1},\n",
    "          {\"r\": 0, \"m\": 14},{\"r\": 0, \"m\": 14},{\"r\": 0, \"m\": 14},{\"r\": 0, \"m\": 14},{\"r\": 0, \"m\": 14}]\n",
    "delta = 1\n",
    "d = 15\n",
    "prob_unlimited = dopt.VolumeDistribution(d, delta, alphas)\n",
    "\n",
    "x_star = np.zeros(d)\n",
    "s = 0\n",
    "for a in alphas:\n",
    "    x_star[int(a[\"m\"] / delta)] += a[\"r\"]\n",
    "    s += a[\"r\"]\n",
    "x_star /= s\n",
    "\n",
    "print(prob_unlimited.evaluate(x_star))\n",
    "prob = dopt.VolumeDistribution(d, delta, alphas, prob_unlimited.evaluate(x_star))"
   ]
  },
  {
   "cell_type": "code",
   "execution_count": 8,
   "metadata": {},
   "outputs": [
    {
     "name": "stdout",
     "output_type": "stream",
     "text": [
      "(array([0.07512948, 0.02358131, 0.03871577, 0.01240485, 0.07832502,\n",
      "       0.07698738, 0.07140394, 0.06411804, 0.09768171, 0.08215007,\n",
      "       0.0827912 , 0.0891202 , 0.08607452, 0.04702498, 0.07449153]), 17.221242389793783)\n",
      "(array([0.05750637, 0.05608794, 0.03526467, 0.09163859, 0.04009846,\n",
      "       0.06675049, 0.09816524, 0.08471175, 0.1035977 , 0.10145975,\n",
      "       0.06869572, 0.01773739, 0.06966475, 0.0549451 , 0.05367607]), 18.888678590012425)\n",
      "(array([0.04655857, 0.06707423, 0.10202232, 0.07505207, 0.05746425,\n",
      "       0.04118272, 0.01808954, 0.01840292, 0.07667304, 0.03504744,\n",
      "       0.00530737, 0.06498826, 0.15200577, 0.08550217, 0.15462933]), 19.001327982658)\n",
      "(array([0.04136072, 0.03468431, 0.08221346, 0.06756559, 0.08401896,\n",
      "       0.06713808, 0.01692352, 0.07988125, 0.09076456, 0.09465083,\n",
      "       0.09500501, 0.07580587, 0.05765843, 0.07366901, 0.0386604 ]), 18.995489407698532)\n",
      "(array([0.0977604 , 0.04289077, 0.00528157, 0.08235334, 0.08066257,\n",
      "       0.06643962, 0.1054729 , 0.06884039, 0.09705841, 0.11296831,\n",
      "       0.05990921, 0.01911497, 0.10030096, 0.01163021, 0.04931637]), 19.565912566988736)\n",
      "(array([0.08438077, 0.03145062, 0.03852211, 0.08979844, 0.0533372 ,\n",
      "       0.10563316, 0.03600585, 0.04137533, 0.01938547, 0.11193352,\n",
      "       0.06171028, 0.1248011 , 0.01205506, 0.06600554, 0.12360556]), 18.242727281538215)\n",
      "(array([0.06734692, 0.03475712, 0.11901958, 0.02211897, 0.0877504 ,\n",
      "       0.08339737, 0.0078863 , 0.03828066, 0.07777611, 0.08325655,\n",
      "       0.14322049, 0.00470486, 0.08555722, 0.10699328, 0.03793418]), 19.051010646070043)\n",
      "(array([0.02572729, 0.11068016, 0.00239423, 0.00095798, 0.04536941,\n",
      "       0.05813916, 0.1143258 , 0.1054252 , 0.07823586, 0.11643785,\n",
      "       0.0037528 , 0.03152761, 0.10027727, 0.09027886, 0.11647054]), 15.391866005110986)\n",
      "(array([0.08021482, 0.01767628, 0.07216478, 0.04377905, 0.10684825,\n",
      "       0.06939575, 0.01769318, 0.00347812, 0.11164126, 0.09347137,\n",
      "       0.065291  , 0.03758933, 0.09252935, 0.08449639, 0.10373109]), 18.32096629059918)\n",
      "(array([0.0129216 , 0.01132508, 0.0327597 , 0.12911549, 0.01738864,\n",
      "       0.08483016, 0.06090349, 0.10954932, 0.11937198, 0.0593749 ,\n",
      "       0.12883077, 0.00518249, 0.10328266, 0.03320672, 0.09195698]), 16.082516171826455)\n",
      "(array([0.07441301, 0.05431214, 0.05751143, 0.00318834, 0.06755567,\n",
      "       0.04980095, 0.091537  , 0.03760944, 0.09939907, 0.08613769,\n",
      "       0.04709252, 0.07277335, 0.08760779, 0.09273399, 0.07832761]), 17.921425173640657)\n",
      "(array([0.02043172, 0.025747  , 0.10694411, 0.0942212 , 0.04724305,\n",
      "       0.07647675, 0.01570411, 0.11494619, 0.09260832, 0.02886104,\n",
      "       0.10832168, 0.10164104, 0.03179495, 0.01837724, 0.1166816 ]), 18.753439865854546)\n",
      "(array([0.02267338, 0.10882248, 0.01785643, 0.10053535, 0.08185763,\n",
      "       0.04137784, 0.10586867, 0.08964415, 0.10582738, 0.05844882,\n",
      "       0.07869407, 0.01381469, 0.08533759, 0.08627864, 0.00296287]), 19.40268362271776)\n",
      "(array([0.01025172, 0.07081899, 0.06366719, 0.05694291, 0.12383499,\n",
      "       0.10610356, 0.03964822, 0.03673755, 0.05647269, 0.03148179,\n",
      "       0.08496073, 0.09388213, 0.12693777, 0.0187531 , 0.07950666]), 18.260032427309184)\n",
      "(array([0.01782306, 0.01562435, 0.12755116, 0.05430408, 0.06210886,\n",
      "       0.12469926, 0.00130968, 0.11888176, 0.03478303, 0.0300715 ,\n",
      "       0.06696203, 0.09327987, 0.01223015, 0.1413979 , 0.09897331]), 17.84013823935236)\n",
      "(array([1.58412243e-02, 5.08484718e-02, 8.16210720e-02, 3.72921874e-02,\n",
      "       6.35250651e-02, 8.80235085e-02, 7.22913024e-02, 1.00861355e-01,\n",
      "       6.18272549e-02, 6.50773756e-02, 9.31764489e-02, 8.02653399e-02,\n",
      "       8.20674969e-02, 1.07193029e-01, 8.88681733e-05]), 18.031197629243888)\n",
      "(array([0.1334934 , 0.03429423, 0.01981926, 0.07326595, 0.00183006,\n",
      "       0.03374672, 0.0109375 , 0.0906441 , 0.04958559, 0.06468285,\n",
      "       0.13840864, 0.14417626, 0.04517263, 0.07676098, 0.08318182]), 18.23004972256217)\n",
      "(array([0.06092644, 0.00197696, 0.02813996, 0.07089015, 0.13967732,\n",
      "       0.06826548, 0.01266233, 0.03864474, 0.02948624, 0.14093509,\n",
      "       0.03965806, 0.08223321, 0.129556  , 0.07479955, 0.08214846]), 17.12165253705648)\n",
      "(array([0.00311309, 0.12341885, 0.03633074, 0.01518115, 0.0717753 ,\n",
      "       0.0569154 , 0.06264666, 0.04293379, 0.08315746, 0.1273046 ,\n",
      "       0.132192  , 0.06956825, 0.08228446, 0.00390234, 0.08927591]), 16.390000219063523)\n",
      "(array([0.05585406, 0.0318859 , 0.0910551 , 0.0319729 , 0.07246779,\n",
      "       0.10165791, 0.03104669, 0.07485318, 0.08708369, 0.10110413,\n",
      "       0.08035423, 0.05347596, 0.06276952, 0.0380449 , 0.08637406]), 18.578230297571984)\n",
      "(array([0.05675715, 0.001258  , 0.02561681, 0.08549001, 0.0697821 ,\n",
      "       0.0296989 , 0.01081994, 0.05967457, 0.11468624, 0.10997986,\n",
      "       0.08827549, 0.05173237, 0.10496186, 0.08477802, 0.10648868]), 15.978850104455145)\n",
      "(array([0.10796585, 0.03373843, 0.02576201, 0.03199022, 0.03248174,\n",
      "       0.04785883, 0.00852039, 0.14321633, 0.07463704, 0.12341659,\n",
      "       0.0393804 , 0.1257448 , 0.05504646, 0.08106076, 0.06918016]), 18.057710529731917)\n",
      "(array([0.01853006, 0.0635576 , 0.04985596, 0.0079067 , 0.15907363,\n",
      "       0.09222373, 0.00146186, 0.05717458, 0.06312679, 0.16042963,\n",
      "       0.09555792, 0.02218027, 0.0374507 , 0.13664154, 0.03482904]), 16.603082740182554)\n",
      "(array([0.01269861, 0.03525899, 0.04101609, 0.0311766 , 0.02871946,\n",
      "       0.06698131, 0.1369371 , 0.14789487, 0.05115899, 0.05117394,\n",
      "       0.07667784, 0.1433626 , 0.07672038, 0.06826133, 0.0319619 ]), 16.247015020859802)\n",
      "(array([0.04524263, 0.04894272, 0.03821488, 0.08836449, 0.00455285,\n",
      "       0.13554109, 0.01770777, 0.006392  , 0.00533255, 0.11027744,\n",
      "       0.11698064, 0.03543555, 0.11831621, 0.10613742, 0.12256175]), 15.290815483541909)\n",
      "(array([0.06689822, 0.04192266, 0.09464207, 0.04017719, 0.03539369,\n",
      "       0.01992297, 0.09852474, 0.03002839, 0.07820441, 0.08771168,\n",
      "       0.09561849, 0.05538443, 0.07323039, 0.08414397, 0.0981967 ]), 18.304954013653848)\n",
      "(array([0.04011003, 0.04391665, 0.087452  , 0.00292543, 0.12062765,\n",
      "       0.14230545, 0.0408695 , 0.0186237 , 0.10708917, 0.02434561,\n",
      "       0.03372903, 0.07292988, 0.02321107, 0.10001673, 0.1418481 ]), 17.646013312215658)\n",
      "(array([0.01313884, 0.03070726, 0.10220876, 0.07856417, 0.09117476,\n",
      "       0.10175906, 0.01062168, 0.08678663, 0.05320091, 0.06175931,\n",
      "       0.10707035, 0.09076283, 0.10313264, 0.0648823 , 0.00423048]), 19.239490840128056)\n",
      "(array([0.09740424, 0.05204272, 0.00943945, 0.02019572, 0.00191138,\n",
      "       0.12166478, 0.13434234, 0.0433831 , 0.09040589, 0.07294675,\n",
      "       0.0099793 , 0.07277036, 0.12598973, 0.13274288, 0.01478136]), 17.688799210673363)\n",
      "(array([0.05300525, 0.09669462, 0.0205407 , 0.04656609, 0.06387391,\n",
      "       0.05634587, 0.03931411, 0.06334149, 0.09284143, 0.10189892,\n",
      "       0.0754691 , 0.02636362, 0.06246409, 0.09989245, 0.10138837]), 17.096632603222393)\n",
      "(array([0.09960154, 0.03493865, 0.01851875, 0.10576435, 0.02833614,\n",
      "       0.04563523, 0.00284805, 0.03412721, 0.04710514, 0.05196619,\n",
      "       0.06147701, 0.10170725, 0.13281746, 0.10331799, 0.13183905]), 17.377177363306696)\n",
      "(array([0.01622263, 0.07958526, 0.09793953, 0.11029121, 0.04101045,\n",
      "       0.07109068, 0.07313688, 0.04754182, 0.05324946, 0.11980885,\n",
      "       0.07923098, 0.02115224, 0.01019342, 0.07762992, 0.10191666]), 19.321474606885467)\n",
      "(array([0.05770777, 0.02660277, 0.09055398, 0.06468089, 0.08289254,\n",
      "       0.02842198, 0.01720811, 0.06683235, 0.0326136 , 0.1321583 ,\n",
      "       0.10276257, 0.07737446, 0.0102352 , 0.12367386, 0.0862816 ]), 18.188237229092927)\n",
      "(array([0.06618629, 0.11660653, 0.01594662, 0.05001617, 0.12687868,\n",
      "       0.01480202, 0.07654172, 0.08953861, 0.03017361, 0.1008918 ,\n",
      "       0.00471694, 0.05488586, 0.12675856, 0.01294108, 0.1131155 ]), 19.523711053747444)\n",
      "(array([0.02823698, 0.12581554, 0.08177647, 0.03144012, 0.05035663,\n",
      "       0.04945784, 0.04421355, 0.08719603, 0.01113629, 0.05983878,\n",
      "       0.05448141, 0.08681809, 0.12019813, 0.0464091 , 0.12262504]), 18.486589203237333)\n",
      "(array([0.00198519, 0.10161318, 0.02292591, 0.06612068, 0.03320534,\n",
      "       0.09710532, 0.04559577, 0.06238591, 0.0671815 , 0.06100759,\n",
      "       0.12873897, 0.07682574, 0.00827989, 0.11041902, 0.11660999]), 15.297829779426538)\n",
      "(array([0.05339669, 0.05651777, 0.02763764, 0.09020162, 0.04443968,\n",
      "       0.09877355, 0.06526797, 0.08525839, 0.06443089, 0.09628023,\n"
     ]
    },
    {
     "name": "stdout",
     "output_type": "stream",
     "text": [
      "       0.11026222, 0.00619011, 0.07955014, 0.06494376, 0.05684935]), 17.82019564799935)\n",
      "(array([0.01842437, 0.07502026, 0.03704863, 0.05052888, 0.08468146,\n",
      "       0.08736054, 0.09814205, 0.0715797 , 0.103393  , 0.10388424,\n",
      "       0.02136695, 0.10471207, 0.07192823, 0.06838999, 0.00353963]), 18.789219361056805)\n",
      "(array([0.08020221, 0.05716271, 0.08028381, 0.04530131, 0.054923  ,\n",
      "       0.10822675, 0.07351421, 0.06404402, 0.01156153, 0.0323375 ,\n",
      "       0.05533839, 0.10207205, 0.08261628, 0.05485185, 0.09756439]), 19.619688849694217)\n",
      "(array([0.01430663, 0.03921504, 0.0893418 , 0.08997168, 0.00540481,\n",
      "       0.02793583, 0.00356616, 0.06791434, 0.15532512, 0.07936579,\n",
      "       0.07903543, 0.15875441, 0.09072926, 0.09267854, 0.00645517]), 18.562162206429214)\n",
      "(array([0.02416774, 0.01769783, 0.00128398, 0.12530638, 0.10031439,\n",
      "       0.11033199, 0.07292744, 0.11706041, 0.10753017, 0.04657308,\n",
      "       0.0476958 , 0.01799131, 0.06900398, 0.09598833, 0.04612717]), 17.468862074848303)\n",
      "(array([0.04642557, 0.07137126, 0.01260112, 0.08711435, 0.01138213,\n",
      "       0.03335054, 0.1047021 , 0.08732435, 0.12385801, 0.08582977,\n",
      "       0.01772731, 0.12879545, 0.07920237, 0.04757856, 0.06273711]), 18.311757902735692)\n",
      "(array([0.04029305, 0.06923591, 0.00761187, 0.07522156, 0.1088882 ,\n",
      "       0.11916615, 0.09802807, 0.00116046, 0.06856492, 0.09601751,\n",
      "       0.06672727, 0.01113637, 0.08978675, 0.13064185, 0.01752005]), 17.720322819120547)\n",
      "(array([0.03982276, 0.05076095, 0.09592073, 0.03435797, 0.08848189,\n",
      "       0.04999704, 0.07367284, 0.1102998 , 0.08690083, 0.01765809,\n",
      "       0.12026811, 0.03172098, 0.04492027, 0.07159591, 0.08362184]), 18.66257021120788)\n",
      "(array([0.08760703, 0.05897372, 0.10494032, 0.01282497, 0.00917926,\n",
      "       0.00414593, 0.00344394, 0.10160843, 0.02876372, 0.11097212,\n",
      "       0.06391964, 0.12659436, 0.0925673 , 0.09081399, 0.10364528]), 18.549077263550274)\n",
      "(array([0.09196722, 0.12656296, 0.04280629, 0.05377434, 0.03627777,\n",
      "       0.13175878, 0.00051446, 0.0160412 , 0.03601797, 0.06757148,\n",
      "       0.12517727, 0.00922383, 0.09506308, 0.0525723 , 0.11467106]), 18.950639392716102)\n",
      "(array([0.0580203 , 0.03512156, 0.00698393, 0.08842064, 0.0415077 ,\n",
      "       0.01140201, 0.07748598, 0.03291866, 0.18152374, 0.03737784,\n",
      "       0.2009055 , 0.06868471, 0.03609408, 0.0298758 , 0.09367755]), 16.40204826343711)\n",
      "(array([0.06833169, 0.09715437, 0.02238799, 0.06297593, 0.05250361,\n",
      "       0.08081885, 0.06655483, 0.04625774, 0.04942588, 0.09566847,\n",
      "       0.06575437, 0.05201097, 0.05717333, 0.09612471, 0.08685726]), 18.20559291946474)\n",
      "(array([0.12793229, 0.02256409, 0.00478884, 0.00316649, 0.09996509,\n",
      "       0.04369566, 0.07097831, 0.0684384 , 0.11234334, 0.0824116 ,\n",
      "       0.06576727, 0.07204293, 0.09146637, 0.09106575, 0.04337356]), 18.052998710685884)\n",
      "(array([0.08371378, 0.0020448 , 0.0181562 , 0.08764004, 0.05583457,\n",
      "       0.03012752, 0.05542678, 0.11012375, 0.03899393, 0.08902931,\n",
      "       0.06593373, 0.05626273, 0.11386571, 0.0865382 , 0.10630895]), 16.74602130576833)\n",
      "(array([0.02617849, 0.03633441, 0.02126693, 0.02683074, 0.06065308,\n",
      "       0.119349  , 0.09010669, 0.10647737, 0.030297  , 0.03032299,\n",
      "       0.11064112, 0.03372153, 0.11207443, 0.1154645 , 0.08028173]), 14.519713296630798)\n",
      "(array([0.02052704, 0.03219636, 0.06716593, 0.01607972, 0.00975397,\n",
      "       0.07945482, 0.09274378, 0.00269477, 0.02468191, 0.18075264,\n",
      "       0.02124691, 0.08847557, 0.17863907, 0.01065573, 0.17493178]), 14.392714400322152)\n",
      "(array([0.05006429, 0.0454439 , 0.03664687, 0.04070179, 0.12540779,\n",
      "       0.14144825, 0.07737603, 0.07137221, 0.01806096, 0.09057389,\n",
      "       0.02656422, 0.00468965, 0.10377785, 0.11783555, 0.05003675]), 17.814903232442063)\n",
      "(array([0.06552298, 0.1391513 , 0.04140953, 0.09236608, 0.08955438,\n",
      "       0.01952843, 0.01035017, 0.04200451, 0.02875137, 0.05876142,\n",
      "       0.12194848, 0.00131822, 0.07652942, 0.11427211, 0.09853162]), 19.461724124892243)\n"
     ]
    }
   ],
   "source": [
    "for i in range(100):\n",
    "    _x = prob.generate_point()\n",
    "    f = prob.evaluate(_x)\n",
    "    if f < prob.get_fstar(): \n",
    "        print((_x, prob.evaluate(_x)))"
   ]
  },
  {
   "cell_type": "markdown",
   "metadata": {},
   "source": [
    "## Random shooting test"
   ]
  },
  {
   "cell_type": "code",
   "execution_count": 9,
   "metadata": {},
   "outputs": [
    {
     "name": "stdout",
     "output_type": "stream",
     "text": [
      "18.78104959033722 [0.0033551  0.00424525 0.09077085 0.15218077 0.00305091 0.07822242\n",
      " 0.12995788 0.10821384 0.06285905 0.10064644 0.11346816 0.05204524\n",
      " 0.02882207 0.01296941 0.05919261] 1\n",
      "18.753273352003326 [0.02178501 0.05932999 0.12767295 0.0308284  0.118173   0.01558711\n",
      " 0.01493812 0.10136191 0.04182519 0.08001732 0.06616345 0.05727225\n",
      " 0.03618136 0.12870656 0.10015737] 3\n",
      "18.079600564626606 [0.02362516 0.11274738 0.06346559 0.0401376  0.00438524 0.11079809\n",
      " 0.04719839 0.13642151 0.04959252 0.08372347 0.02124552 0.10602154\n",
      " 0.01688682 0.07994968 0.10380151] 1\n",
      "18.86205611718817 [0.06961316 0.10229277 0.02014221 0.05477633 0.02806941 0.13366194\n",
      " 0.11720592 0.13044677 0.00450674 0.05185397 0.00536043 0.00895006\n",
      " 0.10914787 0.11403589 0.04993652] 1\n",
      "17.834372766360353 [0.0202725  0.0590904  0.03920892 0.01062159 0.10665338 0.1689592\n",
      " 0.04946131 0.19489993 0.04167429 0.2050438  0.01035275 0.01402229\n",
      " 0.02181167 0.01867873 0.03924925] 4\n",
      "18.680532857541802 [0.0465187  0.00102961 0.08910271 0.13080147 0.0473232  0.00476229\n",
      " 0.01042879 0.09006914 0.00034051 0.13692978 0.09974662 0.13111088\n",
      " 0.09359326 0.02614157 0.09210148] 1\n",
      "19.13858131708458 [0.10257382 0.04014898 0.05632852 0.00221133 0.06709096 0.10745001\n",
      " 0.05463081 0.0828718  0.0679982  0.05457161 0.10066139 0.10487952\n",
      " 0.08103207 0.04320346 0.03434753] 1\n",
      "16.86998953219654 [0.03178958 0.08490646 0.00204979 0.09628233 0.05607576 0.06689811\n",
      " 0.00578651 0.07062208 0.10640372 0.10827988 0.04603675 0.08261646\n",
      " 0.04061172 0.09292815 0.10871269] 2\n",
      "19.635308950229607 [0.03224926 0.03920099 0.07124158 0.12924816 0.02210924 0.08592536\n",
      " 0.09522529 0.09480656 0.07161198 0.10485367 0.0166437  0.02131922\n",
      " 0.10112632 0.05756826 0.05687041] 1\n",
      "19.266910463028825 [0.01119789 0.05871666 0.11358756 0.05389051 0.00453346 0.04253526\n",
      " 0.07209398 0.08471057 0.15474777 0.00023312 0.08202356 0.11914639\n",
      " 0.11640554 0.07442773 0.01174999] 4\n"
     ]
    }
   ],
   "source": [
    "from heur_sg import ShootAndGo\n",
    "\n",
    "for i in range(10):\n",
    "    sg = ShootAndGo(prob, 1000, 0)\n",
    "    sg.search()\n",
    "    print(sg.best_y, sg.best_x, sg.neval)"
   ]
  },
  {
   "cell_type": "markdown",
   "metadata": {},
   "source": [
    "### Genetic optimization\n",
    "Manual configuration of the problem and test of the GO heuristics with the normalization correction."
   ]
  },
  {
   "cell_type": "code",
   "execution_count": 10,
   "metadata": {},
   "outputs": [
    {
     "name": "stdout",
     "output_type": "stream",
     "text": [
      "[0.06666667 0.06666667 0.06666667 0.06666667 0.06666667 0.06666667\n",
      " 0.06666667 0.06666667 0.06666667 0.06666667 0.06666667 0.06666667\n",
      " 0.06666667 0.06666667 0.06666667]\n"
     ]
    }
   ],
   "source": [
    "import heur_aux\n",
    "\n",
    "normCorr = heur_aux.NormalizeCorrection(prob)\n",
    "xx = np.reshape([1 for i in range(15)],15)\n",
    "print(normCorr.correct(xx))\n",
    "\n",
    "## vectors = np.reshape([[-1 if i == j-1 else (1 if i == j else 0) for i in range(15)]for j in range(1,15)], (14, 15)).T\n",
    "## print(vectors)\n",
    "## print(np.dot(vectors[:,1],  vectors[:,0]))\n",
    "## q, r = np.linalg.qr(vectors, mode = 'complete')\n",
    "## \n",
    "## print(np.dot(q.T,np.dot(q.T,xx)))\n",
    "## print(np.linalg.lstsq(vectors, xx))\n",
    "## og_proj = heur_aux.OGProjectionCorrection(prob, vectors)\n"
   ]
  },
  {
   "cell_type": "code",
   "execution_count": 11,
   "metadata": {},
   "outputs": [],
   "source": [
    "from heur_go import Crossover, UniformMultipoint, RandomCombination"
   ]
  },
  {
   "cell_type": "code",
   "execution_count": 12,
   "metadata": {},
   "outputs": [],
   "source": [
    "from heur_go import GeneticOptimization\n",
    "from heur_fsa import FastSimulatedAnnealing"
   ]
  },
  {
   "cell_type": "code",
   "execution_count": 13,
   "metadata": {},
   "outputs": [],
   "source": [
    "from heur_aux import CauchyMutation, Mutation, NormalizeCorrection, ExtensionCorrection, MirrorCorrection, Correction"
   ]
  },
  {
   "cell_type": "code",
   "execution_count": 14,
   "metadata": {},
   "outputs": [
    {
     "data": {
      "text/plain": [
       "array([0.65987334, 0.24967467, 0.09045199])"
      ]
     },
     "execution_count": 14,
     "metadata": {},
     "output_type": "execute_result"
    }
   ],
   "source": [
    "cauchy = CauchyMutation(r=1, correction=NormalizeCorrection(prob))\n",
    "cauchy.mutate(np.array([6.12, -4.38,  2.96]))"
   ]
  },
  {
   "cell_type": "code",
   "execution_count": 15,
   "metadata": {},
   "outputs": [
    {
     "data": {
      "text/plain": [
       "{'best_y': 19.252194976697524,\n",
       " 'best_x': array([0.08932751, 0.08594549, 0.06628426, 0.02028438, 0.10746558,\n",
       "        0.14172513, 0.01808159, 0.01007128, 0.04286044, 0.00724031,\n",
       "        0.10171383, 0.04345412, 0.11405456, 0.01041017, 0.14108135]),\n",
       " 'neval': 4,\n",
       " 'log_data': Empty DataFrame\n",
       " Columns: []\n",
       " Index: []}"
      ]
     },
     "execution_count": 15,
     "metadata": {},
     "output_type": "execute_result"
    }
   ],
   "source": [
    "heur = GeneticOptimization(prob, maxeval=10000, N=10, M=30, Tsel1=0.5, Tsel2=0.1, \n",
    "                           mutation=cauchy, crossover=UniformMultipoint(1))\n",
    "res = heur.search()\n",
    "res"
   ]
  },
  {
   "cell_type": "code",
   "execution_count": 16,
   "metadata": {},
   "outputs": [
    {
     "data": {
      "text/plain": [
       "{'best_y': 18.102331088817213,\n",
       " 'best_x': array([0.04112783, 0.09538478, 0.05487982, 0.07080539, 0.04838066,\n",
       "        0.04125797, 0.11368666, 0.05871032, 0.0278074 , 0.03958887,\n",
       "        0.11178913, 0.02102096, 0.11182263, 0.0646178 , 0.09911979]),\n",
       " 'neval': 2,\n",
       " 'log_data': Empty DataFrame\n",
       " Columns: []\n",
       " Index: []}"
      ]
     },
     "execution_count": 16,
     "metadata": {},
     "output_type": "execute_result"
    }
   ],
   "source": [
    "heur = GeneticOptimization(prob, maxeval=10000, N=10, M=30, Tsel1=0.5, Tsel2=0.1, \n",
    "                           mutation=cauchy, crossover=RandomCombination())\n",
    "res = heur.search()\n",
    "res"
   ]
  },
  {
   "cell_type": "code",
   "execution_count": 17,
   "metadata": {},
   "outputs": [
    {
     "data": {
      "text/plain": [
       "1.0"
      ]
     },
     "execution_count": 17,
     "metadata": {},
     "output_type": "execute_result"
    }
   ],
   "source": [
    "sum(res['best_x'])"
   ]
  },
  {
   "cell_type": "code",
   "execution_count": 18,
   "metadata": {},
   "outputs": [
    {
     "data": {
      "text/plain": [
       "{'best_y': 0.2827096363425217,\n",
       " 'best_x': array([2.64073563e-04, 1.89136588e-03, 7.36709126e-04, 1.33980068e-04,\n",
       "        4.00639724e-04, 5.43791838e-05, 1.67512292e-03, 4.14916168e-04,\n",
       "        1.93687257e-03, 2.14926362e-03, 9.77085914e-04, 1.77301943e-03,\n",
       "        1.15681827e-03, 4.19163342e-03, 9.82244120e-01]),\n",
       " 'neval': inf,\n",
       " 'log_data': Empty DataFrame\n",
       " Columns: []\n",
       " Index: []}"
      ]
     },
     "execution_count": 18,
     "metadata": {},
     "output_type": "execute_result"
    }
   ],
   "source": [
    "heur = GeneticOptimization( prob_unlimited, \n",
    "                            maxeval=10000,\n",
    "                            N=10,\n",
    "                            M=30,\n",
    "                            Tsel1=0.5,\n",
    "                            Tsel2=0.1, \n",
    "                            mutation=cauchy, crossover=UniformMultipoint(1) )\n",
    "res = heur.search()\n",
    "res"
   ]
  },
  {
   "cell_type": "code",
   "execution_count": 19,
   "metadata": {},
   "outputs": [
    {
     "data": {
      "text/plain": [
       "{'best_y': 0.05921560402938158,\n",
       " 'best_x': array([4.46360951e-04, 1.44605820e-04, 1.18523384e-04, 1.96732978e-04,\n",
       "        2.81385152e-04, 8.15277540e-06, 1.42628967e-04, 3.35853163e-05,\n",
       "        1.87885912e-04, 2.76085776e-04, 1.79226383e-04, 1.68202162e-04,\n",
       "        4.62355879e-05, 2.34217573e-04, 9.97536171e-01]),\n",
       " 'neval': inf,\n",
       " 'log_data': Empty DataFrame\n",
       " Columns: []\n",
       " Index: []}"
      ]
     },
     "execution_count": 19,
     "metadata": {},
     "output_type": "execute_result"
    }
   ],
   "source": [
    "heur = GeneticOptimization(prob_unlimited, maxeval=10000, N=10, M=30, Tsel1=0.5, Tsel2=0.1, \n",
    "                           mutation=cauchy, crossover=RandomCombination())\n",
    "res = heur.search()\n",
    "res"
   ]
  },
  {
   "cell_type": "code",
   "execution_count": 20,
   "metadata": {},
   "outputs": [
    {
     "data": {
      "text/plain": [
       "[<matplotlib.lines.Line2D at 0x2243fe34048>]"
      ]
     },
     "execution_count": 20,
     "metadata": {},
     "output_type": "execute_result"
    },
    {
     "data": {
      "image/png": "[encoded data removed]",
      "text/plain": [
       "<Figure size 432x288 with 1 Axes>"
      ]
     },
     "metadata": {
      "needs_background": "light"
     },
     "output_type": "display_data"
    }
   ],
   "source": [
    "\n",
    "\n",
    "plt.plot(res['best_x'])"
   ]
  },
  {
   "cell_type": "markdown",
   "metadata": {},
   "source": [
    "### Now, let us move to more complex setup of the problem\n",
    "- Generate more $\\boldsymbol{\\alpha}$ parameters.\n",
    "- Create an expert estimate of $f^{*}$.\n",
    "- Analyze the problem and create an estimate of the $f^{*}$."
   ]
  },
  {
   "cell_type": "code",
   "execution_count": 21,
   "metadata": {},
   "outputs": [
    {
     "data": {
      "image/png": "[encoded data removed]",
      "text/plain": [
       "<Figure size 432x288 with 1 Axes>"
      ]
     },
     "metadata": {
      "needs_background": "light"
     },
     "output_type": "display_data"
    }
   ],
   "source": [
    "np.random.seed(123545)\n",
    "alphas = [{\"r\": int(np.random.gamma(2, 5)), \"m\": int(np.random.gamma(1, 9))} for i in range(300)]\n",
    "\n",
    "for alpha in alphas:\n",
    "    if alpha['m'] >= 25:\n",
    "        alpha['m'] = 25\n",
    "        alpha['r'] = 0\n",
    "    if alpha['r'] - alpha['m'] > 10:\n",
    "        alpha['r'] = 10 + alpha['m']\n",
    "\n",
    "#alphas = [{\"r\": i *2, \"m\": i * 2} for i in range(10)] \n",
    "#alphas = [{\"r\": 3, \"m\": 12}, {\"r\": 2, \"m\": 15}, {\"r\": 0, \"m\": 20} ] \n",
    "fig = plt.figure()\n",
    "ax1 = fig.add_subplot()\n",
    "ax1.set_ylabel('r')\n",
    "ax1.set_xlabel('m')\n",
    "ax1.set_title('data')\n",
    "line, = ax1.plot([alpha['m'] for alpha in alphas], [alpha['r'] for alpha in alphas], 'bo')\n",
    "\n",
    "plt.show()"
   ]
  },
  {
   "cell_type": "code",
   "execution_count": 22,
   "metadata": {},
   "outputs": [
    {
     "name": "stdout",
     "output_type": "stream",
     "text": [
      "10.117857142857126\n"
     ]
    },
    {
     "data": {
      "image/png": "[encoded data removed]",
      "text/plain": [
       "<Figure size 432x288 with 1 Axes>"
      ]
     },
     "metadata": {
      "needs_background": "light"
     },
     "output_type": "display_data"
    }
   ],
   "source": [
    "delta = 1\n",
    "d = int(max([alpha['m'] for alpha in alphas])/delta) + 1\n",
    "prob_unlimited = dopt.VolumeDistribution(d, delta, alphas)\n",
    "prob_pen_unlimited = dopt.VolumeDistributionPenalization(d, delta, alphas, -np.inf, 1e-2)\n",
    "x_star = np.zeros(d)\n",
    "s = 0\n",
    "for a in alphas:\n",
    "    x_star[int(a[\"m\"] / delta)] += a[\"r\"]\n",
    "    s += a[\"r\"]\n",
    "x_star /= s\n",
    "\n",
    "plt.figure()\n",
    "plt.plot(np.cumsum(x_star))\n",
    "print(prob_unlimited.evaluate(x_star))\n",
    "\n",
    "## Setup the problem of volume distribution fitness\n",
    "prob = dopt.VolumeDistribution(d, delta, alphas, prob_unlimited.evaluate(x_star))\n",
    "## Setup the problem with penalization\n",
    "prob_pen = dopt.VolumeDistributionPenalization(d, delta, alphas, prob_unlimited.evaluate(x_star), 0)"
   ]
  },
  {
   "cell_type": "markdown",
   "metadata": {},
   "source": [
    "Our first estimate of $f^{*}$ is 10.12.\n",
    "\n",
    "Now lets try to obtain other estimates by utilizing the genetic optimization."
   ]
  },
  {
   "cell_type": "code",
   "execution_count": 23,
   "metadata": {},
   "outputs": [
    {
     "name": "stdout",
     "output_type": "stream",
     "text": [
      "-63.350667887835684\n"
     ]
    },
    {
     "data": {
      "text/plain": [
       "[<matplotlib.lines.Line2D at 0x224400dc788>]"
      ]
     },
     "execution_count": 23,
     "metadata": {},
     "output_type": "execute_result"
    },
    {
     "data": {
      "image/png": "[encoded data removed]",
      "text/plain": [
       "<Figure size 432x288 with 1 Axes>"
      ]
     },
     "metadata": {
      "needs_background": "light"
     },
     "output_type": "display_data"
    }
   ],
   "source": [
    "heur = GeneticOptimization( prob_unlimited, \n",
    "                            maxeval=10000,\n",
    "                            N=50,\n",
    "                            M=150,\n",
    "                            Tsel1=0.5,\n",
    "                            Tsel2=0.1, \n",
    "                            mutation=cauchy, crossover=UniformMultipoint(1) )\n",
    "res = heur.search()\n",
    "print(res['best_y'])\n",
    "plt.plot(np.cumsum(res['best_x']))"
   ]
  },
  {
   "cell_type": "code",
   "execution_count": 24,
   "metadata": {},
   "outputs": [
    {
     "name": "stdout",
     "output_type": "stream",
     "text": [
      "-63.804984497054264\n"
     ]
    },
    {
     "data": {
      "text/plain": [
       "[<matplotlib.lines.Line2D at 0x224401b5748>]"
      ]
     },
     "execution_count": 24,
     "metadata": {},
     "output_type": "execute_result"
    },
    {
     "data": {
      "image/png": "[encoded data removed]",
      "text/plain": [
       "<Figure size 432x288 with 1 Axes>"
      ]
     },
     "metadata": {
      "needs_background": "light"
     },
     "output_type": "display_data"
    }
   ],
   "source": [
    "heur = GeneticOptimization( prob_unlimited, \n",
    "                            maxeval=10000,\n",
    "                            N=10,\n",
    "                            M=30,\n",
    "                            Tsel1=0.5,\n",
    "                            Tsel2=0.2, \n",
    "                            mutation=cauchy, crossover=RandomCombination() )\n",
    "res = heur.search()\n",
    "print(res['best_y'])\n",
    "plt.plot(np.cumsum(res['best_x']))"
   ]
  },
  {
   "cell_type": "code",
   "execution_count": 25,
   "metadata": {
    "scrolled": true
   },
   "outputs": [
    {
     "name": "stdout",
     "output_type": "stream",
     "text": [
      "-61.692007641154156\n"
     ]
    },
    {
     "data": {
      "text/plain": [
       "[<matplotlib.lines.Line2D at 0x2244034a588>]"
      ]
     },
     "execution_count": 25,
     "metadata": {},
     "output_type": "execute_result"
    },
    {
     "data": {
      "image/png": "[encoded data removed]",
      "text/plain": [
       "<Figure size 432x288 with 1 Axes>"
      ]
     },
     "metadata": {
      "needs_background": "light"
     },
     "output_type": "display_data"
    }
   ],
   "source": [
    "heur = FastSimulatedAnnealing( prob_unlimited,\n",
    "                               maxeval=1000,\n",
    "                               T0=1,\n",
    "                               n0=1, \n",
    "                               alpha=2, \n",
    "                               mutation=cauchy )\n",
    "res = heur.search()\n",
    "print(res['best_y'])\n",
    "plt.plot(np.cumsum(res['best_x']))"
   ]
  },
  {
   "cell_type": "markdown",
   "metadata": {},
   "source": [
    "The result is very good in comparison with the first estimate. However, I hoped for smoother solution.\n",
    "Simulated annealing gives also a good result.\n",
    "\n",
    "Lets try the prepared problem with penalization."
   ]
  },
  {
   "cell_type": "code",
   "execution_count": 26,
   "metadata": {},
   "outputs": [],
   "source": [
    "## Setup the good enough value of fstar\n",
    "prob.fstar = -50\n",
    "\n",
    "NUM_RUNS = 100\n",
    "maxeval = 1000"
   ]
  },
  {
   "cell_type": "markdown",
   "metadata": {},
   "source": [
    "### Utilization of penalization\n",
    "In the following test genetic optimization with different setups of corrections and Cauchy diameter setting is utilized. There are also various values of penalization parameter tested. I want to see whether the result (`best_x`) is be admissible, i.e. $\\sum_{k=1}^{d}x_{k}=1$."
   ]
  },
  {
   "cell_type": "code",
   "execution_count": 27,
   "metadata": {},
   "outputs": [
    {
     "data": {
      "application/vnd.jupyter.widget-view+json": {
       "model_id": "8150f8afee274fccbf44a791daf6b8f7",
       "version_major": 2,
       "version_minor": 0
      },
      "text/plain": [
       "HBox(children=(IntProgress(value=0, description='Testing GO_DOP(p:0.8,Cr:0.01,corr:correction)', style=Progres…"
      ]
     },
     "metadata": {},
     "output_type": "display_data"
    },
    {
     "name": "stdout",
     "output_type": "stream",
     "text": [
      "\n"
     ]
    },
    {
     "data": {
      "application/vnd.jupyter.widget-view+json": {
       "model_id": "a49a63c0c7574244a20a053adb408e57",
       "version_major": 2,
       "version_minor": 0
      },
      "text/plain": [
       "HBox(children=(IntProgress(value=0, description='Testing GO_DOP(p:0.1,Cr:0.01,corr:correction)', style=Progres…"
      ]
     },
     "metadata": {},
     "output_type": "display_data"
    },
    {
     "name": "stdout",
     "output_type": "stream",
     "text": [
      "\n"
     ]
    },
    {
     "data": {
      "application/vnd.jupyter.widget-view+json": {
       "model_id": "d9ffcca5708548d68b9d620b0d82abb9",
       "version_major": 2,
       "version_minor": 0
      },
      "text/plain": [
       "HBox(children=(IntProgress(value=0, description='Testing GO_DOP(p:0.01,Cr:0.01,corr:correction)', style=Progre…"
      ]
     },
     "metadata": {},
     "output_type": "display_data"
    },
    {
     "name": "stdout",
     "output_type": "stream",
     "text": [
      "\n"
     ]
    },
    {
     "data": {
      "application/vnd.jupyter.widget-view+json": {
       "model_id": "0981d3f83bde4513a416cc71d2fb5393",
       "version_major": 2,
       "version_minor": 0
      },
      "text/plain": [
       "HBox(children=(IntProgress(value=0, description='Testing GO_DOP(p:0.005,Cr:0.01,corr:correction)', style=Progr…"
      ]
     },
     "metadata": {},
     "output_type": "display_data"
    },
    {
     "name": "stdout",
     "output_type": "stream",
     "text": [
      "\n"
     ]
    },
    {
     "data": {
      "application/vnd.jupyter.widget-view+json": {
       "model_id": "4c9fff75186f43a8beb6c9e7f73d49f3",
       "version_major": 2,
       "version_minor": 0
      },
      "text/plain": [
       "HBox(children=(IntProgress(value=0, description='Testing GO_DOP(p:0.8,Cr:0.1,corr:correction)', style=Progress…"
      ]
     },
     "metadata": {},
     "output_type": "display_data"
    },
    {
     "name": "stdout",
     "output_type": "stream",
     "text": [
      "\n"
     ]
    },
    {
     "data": {
      "application/vnd.jupyter.widget-view+json": {
       "model_id": "29264a11de42457d8eaec16b147e153f",
       "version_major": 2,
       "version_minor": 0
      },
      "text/plain": [
       "HBox(children=(IntProgress(value=0, description='Testing GO_DOP(p:0.1,Cr:0.1,corr:correction)', style=Progress…"
      ]
     },
     "metadata": {},
     "output_type": "display_data"
    },
    {
     "name": "stdout",
     "output_type": "stream",
     "text": [
      "\n"
     ]
    },
    {
     "data": {
      "application/vnd.jupyter.widget-view+json": {
       "model_id": "1313a8872b514645b44611e685bb0e19",
       "version_major": 2,
       "version_minor": 0
      },
      "text/plain": [
       "HBox(children=(IntProgress(value=0, description='Testing GO_DOP(p:0.01,Cr:0.1,corr:correction)', style=Progres…"
      ]
     },
     "metadata": {},
     "output_type": "display_data"
    },
    {
     "name": "stdout",
     "output_type": "stream",
     "text": [
      "\n"
     ]
    },
    {
     "data": {
      "application/vnd.jupyter.widget-view+json": {
       "model_id": "f08907fe4f704f3f80099865f88badb4",
       "version_major": 2,
       "version_minor": 0
      },
      "text/plain": [
       "HBox(children=(IntProgress(value=0, description='Testing GO_DOP(p:0.005,Cr:0.1,corr:correction)', style=Progre…"
      ]
     },
     "metadata": {},
     "output_type": "display_data"
    },
    {
     "name": "stdout",
     "output_type": "stream",
     "text": [
      "\n"
     ]
    },
    {
     "data": {
      "application/vnd.jupyter.widget-view+json": {
       "model_id": "b161a8ceb3cc4ab99624ae61aa9f9cb2",
       "version_major": 2,
       "version_minor": 0
      },
      "text/plain": [
       "HBox(children=(IntProgress(value=0, description='Testing GO_DOP(p:0.8,Cr:0.5,corr:correction)', style=Progress…"
      ]
     },
     "metadata": {},
     "output_type": "display_data"
    },
    {
     "name": "stdout",
     "output_type": "stream",
     "text": [
      "\n"
     ]
    },
    {
     "data": {
      "application/vnd.jupyter.widget-view+json": {
       "model_id": "896b4299174a4ea58fbf1f789290beca",
       "version_major": 2,
       "version_minor": 0
      },
      "text/plain": [
       "HBox(children=(IntProgress(value=0, description='Testing GO_DOP(p:0.1,Cr:0.5,corr:correction)', style=Progress…"
      ]
     },
     "metadata": {},
     "output_type": "display_data"
    },
    {
     "name": "stdout",
     "output_type": "stream",
     "text": [
      "\n"
     ]
    },
    {
     "data": {
      "application/vnd.jupyter.widget-view+json": {
       "model_id": "afef22b86de74fc08206e079b66513f7",
       "version_major": 2,
       "version_minor": 0
      },
      "text/plain": [
       "HBox(children=(IntProgress(value=0, description='Testing GO_DOP(p:0.01,Cr:0.5,corr:correction)', style=Progres…"
      ]
     },
     "metadata": {},
     "output_type": "display_data"
    },
    {
     "name": "stdout",
     "output_type": "stream",
     "text": [
      "\n"
     ]
    },
    {
     "data": {
      "application/vnd.jupyter.widget-view+json": {
       "model_id": "300d610ec4ff4dcfa01e24886c72eac7",
       "version_major": 2,
       "version_minor": 0
      },
      "text/plain": [
       "HBox(children=(IntProgress(value=0, description='Testing GO_DOP(p:0.005,Cr:0.5,corr:correction)', style=Progre…"
      ]
     },
     "metadata": {},
     "output_type": "display_data"
    },
    {
     "name": "stdout",
     "output_type": "stream",
     "text": [
      "\n"
     ]
    },
    {
     "data": {
      "application/vnd.jupyter.widget-view+json": {
       "model_id": "9c6e94a25df042faba0d66b221c15c85",
       "version_major": 2,
       "version_minor": 0
      },
      "text/plain": [
       "HBox(children=(IntProgress(value=0, description='Testing GO_DOP(p:0.8,Cr:1,corr:correction)', style=ProgressSt…"
      ]
     },
     "metadata": {},
     "output_type": "display_data"
    },
    {
     "name": "stdout",
     "output_type": "stream",
     "text": [
      "\n"
     ]
    },
    {
     "data": {
      "application/vnd.jupyter.widget-view+json": {
       "model_id": "94f949d85d8f4e738078f946ad2712a8",
       "version_major": 2,
       "version_minor": 0
      },
      "text/plain": [
       "HBox(children=(IntProgress(value=0, description='Testing GO_DOP(p:0.1,Cr:1,corr:correction)', style=ProgressSt…"
      ]
     },
     "metadata": {},
     "output_type": "display_data"
    },
    {
     "name": "stdout",
     "output_type": "stream",
     "text": [
      "\n"
     ]
    },
    {
     "data": {
      "application/vnd.jupyter.widget-view+json": {
       "model_id": "1fb842251c8546c78fab3dc6f8d320fd",
       "version_major": 2,
       "version_minor": 0
      },
      "text/plain": [
       "HBox(children=(IntProgress(value=0, description='Testing GO_DOP(p:0.01,Cr:1,corr:correction)', style=ProgressS…"
      ]
     },
     "metadata": {},
     "output_type": "display_data"
    },
    {
     "name": "stdout",
     "output_type": "stream",
     "text": [
      "\n"
     ]
    },
    {
     "data": {
      "application/vnd.jupyter.widget-view+json": {
       "model_id": "4e18891d857d48fc8841c6115da0640b",
       "version_major": 2,
       "version_minor": 0
      },
      "text/plain": [
       "HBox(children=(IntProgress(value=0, description='Testing GO_DOP(p:0.005,Cr:1,corr:correction)', style=Progress…"
      ]
     },
     "metadata": {},
     "output_type": "display_data"
    },
    {
     "name": "stdout",
     "output_type": "stream",
     "text": [
      "\n"
     ]
    },
    {
     "data": {
      "application/vnd.jupyter.widget-view+json": {
       "model_id": "de813790d706412aa97014871766e863",
       "version_major": 2,
       "version_minor": 0
      },
      "text/plain": [
       "HBox(children=(IntProgress(value=0, description='Testing GO_DOP(p:0.8,Cr:0.01,corr:extension)', style=Progress…"
      ]
     },
     "metadata": {},
     "output_type": "display_data"
    },
    {
     "name": "stdout",
     "output_type": "stream",
     "text": [
      "\n"
     ]
    },
    {
     "data": {
      "application/vnd.jupyter.widget-view+json": {
       "model_id": "c4f8bd36d3504744ad0a4cd5044e4296",
       "version_major": 2,
       "version_minor": 0
      },
      "text/plain": [
       "HBox(children=(IntProgress(value=0, description='Testing GO_DOP(p:0.1,Cr:0.01,corr:extension)', style=Progress…"
      ]
     },
     "metadata": {},
     "output_type": "display_data"
    },
    {
     "name": "stdout",
     "output_type": "stream",
     "text": [
      "\n"
     ]
    },
    {
     "data": {
      "application/vnd.jupyter.widget-view+json": {
       "model_id": "71946f3a83a24b8282f412a5abb3bb00",
       "version_major": 2,
       "version_minor": 0
      },
      "text/plain": [
       "HBox(children=(IntProgress(value=0, description='Testing GO_DOP(p:0.01,Cr:0.01,corr:extension)', style=Progres…"
      ]
     },
     "metadata": {},
     "output_type": "display_data"
    },
    {
     "name": "stdout",
     "output_type": "stream",
     "text": [
      "\n"
     ]
    },
    {
     "data": {
      "application/vnd.jupyter.widget-view+json": {
       "model_id": "1e5c250f5ee14e11926f2344deb65f8e",
       "version_major": 2,
       "version_minor": 0
      },
      "text/plain": [
       "HBox(children=(IntProgress(value=0, description='Testing GO_DOP(p:0.005,Cr:0.01,corr:extension)', style=Progre…"
      ]
     },
     "metadata": {},
     "output_type": "display_data"
    },
    {
     "name": "stdout",
     "output_type": "stream",
     "text": [
      "\n"
     ]
    },
    {
     "data": {
      "application/vnd.jupyter.widget-view+json": {
       "model_id": "72638b77027b4dcda27a5aaf46fc9b07",
       "version_major": 2,
       "version_minor": 0
      },
      "text/plain": [
       "HBox(children=(IntProgress(value=0, description='Testing GO_DOP(p:0.8,Cr:0.1,corr:extension)', style=ProgressS…"
      ]
     },
     "metadata": {},
     "output_type": "display_data"
    },
    {
     "name": "stdout",
     "output_type": "stream",
     "text": [
      "\n"
     ]
    },
    {
     "data": {
      "application/vnd.jupyter.widget-view+json": {
       "model_id": "c46fbbef780a48e2a83051616ae2c354",
       "version_major": 2,
       "version_minor": 0
      },
      "text/plain": [
       "HBox(children=(IntProgress(value=0, description='Testing GO_DOP(p:0.1,Cr:0.1,corr:extension)', style=ProgressS…"
      ]
     },
     "metadata": {},
     "output_type": "display_data"
    },
    {
     "name": "stdout",
     "output_type": "stream",
     "text": [
      "\n"
     ]
    },
    {
     "data": {
      "application/vnd.jupyter.widget-view+json": {
       "model_id": "f774af86cef54be6b1f90997cb7e5d7e",
       "version_major": 2,
       "version_minor": 0
      },
      "text/plain": [
       "HBox(children=(IntProgress(value=0, description='Testing GO_DOP(p:0.01,Cr:0.1,corr:extension)', style=Progress…"
      ]
     },
     "metadata": {},
     "output_type": "display_data"
    },
    {
     "name": "stdout",
     "output_type": "stream",
     "text": [
      "\n"
     ]
    },
    {
     "data": {
      "application/vnd.jupyter.widget-view+json": {
       "model_id": "c56373024106436ba91a14ae7a01f707",
       "version_major": 2,
       "version_minor": 0
      },
      "text/plain": [
       "HBox(children=(IntProgress(value=0, description='Testing GO_DOP(p:0.005,Cr:0.1,corr:extension)', style=Progres…"
      ]
     },
     "metadata": {},
     "output_type": "display_data"
    },
    {
     "name": "stdout",
     "output_type": "stream",
     "text": [
      "\n"
     ]
    },
    {
     "data": {
      "application/vnd.jupyter.widget-view+json": {
       "model_id": "783284ca8b2946ca95fa2f33da5fbdda",
       "version_major": 2,
       "version_minor": 0
      },
      "text/plain": [
       "HBox(children=(IntProgress(value=0, description='Testing GO_DOP(p:0.8,Cr:0.5,corr:extension)', style=ProgressS…"
      ]
     },
     "metadata": {},
     "output_type": "display_data"
    },
    {
     "name": "stdout",
     "output_type": "stream",
     "text": [
      "\n"
     ]
    },
    {
     "data": {
      "application/vnd.jupyter.widget-view+json": {
       "model_id": "7a76d14812fc4106a9e3c1c07defa1c6",
       "version_major": 2,
       "version_minor": 0
      },
      "text/plain": [
       "HBox(children=(IntProgress(value=0, description='Testing GO_DOP(p:0.1,Cr:0.5,corr:extension)', style=ProgressS…"
      ]
     },
     "metadata": {},
     "output_type": "display_data"
    },
    {
     "name": "stdout",
     "output_type": "stream",
     "text": [
      "\n"
     ]
    },
    {
     "data": {
      "application/vnd.jupyter.widget-view+json": {
       "model_id": "c876ff7a10ad4fd8a9c145fee8fad181",
       "version_major": 2,
       "version_minor": 0
      },
      "text/plain": [
       "HBox(children=(IntProgress(value=0, description='Testing GO_DOP(p:0.01,Cr:0.5,corr:extension)', style=Progress…"
      ]
     },
     "metadata": {},
     "output_type": "display_data"
    },
    {
     "name": "stdout",
     "output_type": "stream",
     "text": [
      "\n"
     ]
    },
    {
     "data": {
      "application/vnd.jupyter.widget-view+json": {
       "model_id": "2a7acb4bd3a24b76ac80114d8df6b8a5",
       "version_major": 2,
       "version_minor": 0
      },
      "text/plain": [
       "HBox(children=(IntProgress(value=0, description='Testing GO_DOP(p:0.005,Cr:0.5,corr:extension)', style=Progres…"
      ]
     },
     "metadata": {},
     "output_type": "display_data"
    },
    {
     "name": "stdout",
     "output_type": "stream",
     "text": [
      "\n"
     ]
    },
    {
     "data": {
      "application/vnd.jupyter.widget-view+json": {
       "model_id": "5cb3e2480c40447d812039186cb8c4f4",
       "version_major": 2,
       "version_minor": 0
      },
      "text/plain": [
       "HBox(children=(IntProgress(value=0, description='Testing GO_DOP(p:0.8,Cr:1,corr:extension)', style=ProgressSty…"
      ]
     },
     "metadata": {},
     "output_type": "display_data"
    },
    {
     "name": "stdout",
     "output_type": "stream",
     "text": [
      "\n"
     ]
    },
    {
     "data": {
      "application/vnd.jupyter.widget-view+json": {
       "model_id": "b152929ea6774ae0b7eacefdacf78f3e",
       "version_major": 2,
       "version_minor": 0
      },
      "text/plain": [
       "HBox(children=(IntProgress(value=0, description='Testing GO_DOP(p:0.1,Cr:1,corr:extension)', style=ProgressSty…"
      ]
     },
     "metadata": {},
     "output_type": "display_data"
    },
    {
     "name": "stdout",
     "output_type": "stream",
     "text": [
      "\n"
     ]
    },
    {
     "data": {
      "application/vnd.jupyter.widget-view+json": {
       "model_id": "90f12bc05f7c4c299b0b37509c573b13",
       "version_major": 2,
       "version_minor": 0
      },
      "text/plain": [
       "HBox(children=(IntProgress(value=0, description='Testing GO_DOP(p:0.01,Cr:1,corr:extension)', style=ProgressSt…"
      ]
     },
     "metadata": {},
     "output_type": "display_data"
    },
    {
     "name": "stdout",
     "output_type": "stream",
     "text": [
      "\n"
     ]
    },
    {
     "data": {
      "application/vnd.jupyter.widget-view+json": {
       "model_id": "2c5080ff3a2049cda59c6c0ba16b7cc9",
       "version_major": 2,
       "version_minor": 0
      },
      "text/plain": [
       "HBox(children=(IntProgress(value=0, description='Testing GO_DOP(p:0.005,Cr:1,corr:extension)', style=ProgressS…"
      ]
     },
     "metadata": {},
     "output_type": "display_data"
    },
    {
     "name": "stdout",
     "output_type": "stream",
     "text": [
      "\n"
     ]
    },
    {
     "data": {
      "application/vnd.jupyter.widget-view+json": {
       "model_id": "0cec69c75f224deb8f8de1a4ef2ce91c",
       "version_major": 2,
       "version_minor": 0
      },
      "text/plain": [
       "HBox(children=(IntProgress(value=0, description='Testing GO_DOP(p:0.8,Cr:0.01,corr:mirror)', style=ProgressSty…"
      ]
     },
     "metadata": {},
     "output_type": "display_data"
    },
    {
     "name": "stdout",
     "output_type": "stream",
     "text": [
      "\n"
     ]
    },
    {
     "data": {
      "application/vnd.jupyter.widget-view+json": {
       "model_id": "999b61b7029a48399fed6fa649196268",
       "version_major": 2,
       "version_minor": 0
      },
      "text/plain": [
       "HBox(children=(IntProgress(value=0, description='Testing GO_DOP(p:0.1,Cr:0.01,corr:mirror)', style=ProgressSty…"
      ]
     },
     "metadata": {},
     "output_type": "display_data"
    },
    {
     "name": "stdout",
     "output_type": "stream",
     "text": [
      "\n"
     ]
    },
    {
     "data": {
      "application/vnd.jupyter.widget-view+json": {
       "model_id": "4a33c3653c484fdaa9355e4f300cc4d3",
       "version_major": 2,
       "version_minor": 0
      },
      "text/plain": [
       "HBox(children=(IntProgress(value=0, description='Testing GO_DOP(p:0.01,Cr:0.01,corr:mirror)', style=ProgressSt…"
      ]
     },
     "metadata": {},
     "output_type": "display_data"
    },
    {
     "name": "stdout",
     "output_type": "stream",
     "text": [
      "\n"
     ]
    },
    {
     "data": {
      "application/vnd.jupyter.widget-view+json": {
       "model_id": "b495835e7dae4c41b233b4189e9505bd",
       "version_major": 2,
       "version_minor": 0
      },
      "text/plain": [
       "HBox(children=(IntProgress(value=0, description='Testing GO_DOP(p:0.005,Cr:0.01,corr:mirror)', style=ProgressS…"
      ]
     },
     "metadata": {},
     "output_type": "display_data"
    },
    {
     "name": "stdout",
     "output_type": "stream",
     "text": [
      "\n"
     ]
    },
    {
     "data": {
      "application/vnd.jupyter.widget-view+json": {
       "model_id": "5f1e7edd7aab4c4486549d6295797bb9",
       "version_major": 2,
       "version_minor": 0
      },
      "text/plain": [
       "HBox(children=(IntProgress(value=0, description='Testing GO_DOP(p:0.8,Cr:0.1,corr:mirror)', style=ProgressStyl…"
      ]
     },
     "metadata": {},
     "output_type": "display_data"
    },
    {
     "name": "stdout",
     "output_type": "stream",
     "text": [
      "\n"
     ]
    },
    {
     "data": {
      "application/vnd.jupyter.widget-view+json": {
       "model_id": "515b27be0624478e88c0dc6a3abb0034",
       "version_major": 2,
       "version_minor": 0
      },
      "text/plain": [
       "HBox(children=(IntProgress(value=0, description='Testing GO_DOP(p:0.1,Cr:0.1,corr:mirror)', style=ProgressStyl…"
      ]
     },
     "metadata": {},
     "output_type": "display_data"
    },
    {
     "name": "stdout",
     "output_type": "stream",
     "text": [
      "\n"
     ]
    },
    {
     "data": {
      "application/vnd.jupyter.widget-view+json": {
       "model_id": "2bf4ba8ffed54a0f8aeb3b7f71129d7c",
       "version_major": 2,
       "version_minor": 0
      },
      "text/plain": [
       "HBox(children=(IntProgress(value=0, description='Testing GO_DOP(p:0.01,Cr:0.1,corr:mirror)', style=ProgressSty…"
      ]
     },
     "metadata": {},
     "output_type": "display_data"
    },
    {
     "name": "stdout",
     "output_type": "stream",
     "text": [
      "\n"
     ]
    },
    {
     "data": {
      "application/vnd.jupyter.widget-view+json": {
       "model_id": "f48f6f9c1d8f462da862599cf4b2e92d",
       "version_major": 2,
       "version_minor": 0
      },
      "text/plain": [
       "HBox(children=(IntProgress(value=0, description='Testing GO_DOP(p:0.005,Cr:0.1,corr:mirror)', style=ProgressSt…"
      ]
     },
     "metadata": {},
     "output_type": "display_data"
    },
    {
     "name": "stdout",
     "output_type": "stream",
     "text": [
      "\n"
     ]
    },
    {
     "data": {
      "application/vnd.jupyter.widget-view+json": {
       "model_id": "a24b32995f1a488ebdcf8ac3a4865848",
       "version_major": 2,
       "version_minor": 0
      },
      "text/plain": [
       "HBox(children=(IntProgress(value=0, description='Testing GO_DOP(p:0.8,Cr:0.5,corr:mirror)', style=ProgressStyl…"
      ]
     },
     "metadata": {},
     "output_type": "display_data"
    },
    {
     "name": "stdout",
     "output_type": "stream",
     "text": [
      "\n"
     ]
    },
    {
     "data": {
      "application/vnd.jupyter.widget-view+json": {
       "model_id": "92a75fbd031547f2ba6b282bebf807a9",
       "version_major": 2,
       "version_minor": 0
      },
      "text/plain": [
       "HBox(children=(IntProgress(value=0, description='Testing GO_DOP(p:0.1,Cr:0.5,corr:mirror)', style=ProgressStyl…"
      ]
     },
     "metadata": {},
     "output_type": "display_data"
    },
    {
     "name": "stdout",
     "output_type": "stream",
     "text": [
      "\n"
     ]
    },
    {
     "data": {
      "application/vnd.jupyter.widget-view+json": {
       "model_id": "5e5710a60e5946d9b938b31bb922bf74",
       "version_major": 2,
       "version_minor": 0
      },
      "text/plain": [
       "HBox(children=(IntProgress(value=0, description='Testing GO_DOP(p:0.01,Cr:0.5,corr:mirror)', style=ProgressSty…"
      ]
     },
     "metadata": {},
     "output_type": "display_data"
    },
    {
     "name": "stdout",
     "output_type": "stream",
     "text": [
      "\n"
     ]
    },
    {
     "data": {
      "application/vnd.jupyter.widget-view+json": {
       "model_id": "8cad7e3e9d64477aaee67fd46a30f017",
       "version_major": 2,
       "version_minor": 0
      },
      "text/plain": [
       "HBox(children=(IntProgress(value=0, description='Testing GO_DOP(p:0.005,Cr:0.5,corr:mirror)', style=ProgressSt…"
      ]
     },
     "metadata": {},
     "output_type": "display_data"
    },
    {
     "name": "stdout",
     "output_type": "stream",
     "text": [
      "\n"
     ]
    },
    {
     "data": {
      "application/vnd.jupyter.widget-view+json": {
       "model_id": "a551402e10684bfc91db835760e96b8a",
       "version_major": 2,
       "version_minor": 0
      },
      "text/plain": [
       "HBox(children=(IntProgress(value=0, description='Testing GO_DOP(p:0.8,Cr:1,corr:mirror)', style=ProgressStyle(…"
      ]
     },
     "metadata": {},
     "output_type": "display_data"
    },
    {
     "name": "stdout",
     "output_type": "stream",
     "text": [
      "\n"
     ]
    },
    {
     "data": {
      "application/vnd.jupyter.widget-view+json": {
       "model_id": "b72b58ac379e48a3932b18f5d8c43e7e",
       "version_major": 2,
       "version_minor": 0
      },
      "text/plain": [
       "HBox(children=(IntProgress(value=0, description='Testing GO_DOP(p:0.1,Cr:1,corr:mirror)', style=ProgressStyle(…"
      ]
     },
     "metadata": {},
     "output_type": "display_data"
    },
    {
     "name": "stdout",
     "output_type": "stream",
     "text": [
      "\n"
     ]
    },
    {
     "data": {
      "application/vnd.jupyter.widget-view+json": {
       "model_id": "f0b396a491f8433e8b35b8cfcc25c702",
       "version_major": 2,
       "version_minor": 0
      },
      "text/plain": [
       "HBox(children=(IntProgress(value=0, description='Testing GO_DOP(p:0.01,Cr:1,corr:mirror)', style=ProgressStyle…"
      ]
     },
     "metadata": {},
     "output_type": "display_data"
    },
    {
     "name": "stdout",
     "output_type": "stream",
     "text": [
      "\n"
     ]
    },
    {
     "data": {
      "application/vnd.jupyter.widget-view+json": {
       "model_id": "8fbf1f4a46d34833ba57e8ac6c9d48b3",
       "version_major": 2,
       "version_minor": 0
      },
      "text/plain": [
       "HBox(children=(IntProgress(value=0, description='Testing GO_DOP(p:0.005,Cr:1,corr:mirror)', style=ProgressStyl…"
      ]
     },
     "metadata": {},
     "output_type": "display_data"
    },
    {
     "name": "stdout",
     "output_type": "stream",
     "text": [
      "\n"
     ]
    }
   ],
   "source": [
    "NUM_RUNS = 100\n",
    "resultsPen = pd.DataFrame()\n",
    "runs = []\n",
    "corrections = [ {\"name\": \"correction\", 'corr': Correction(prob_pen)},\n",
    "                {\"name\": \"extension\", 'corr': ExtensionCorrection(prob_pen)},\n",
    "                {\"name\": \"mirror\", 'corr': MirrorCorrection(prob_pen)} ]\n",
    "for correction in corrections: \n",
    "    for Cr in [0.01, 0.1, 0.5, 1]:\n",
    "        for p in [0.8, 0.1, 0.01, 0.005]:\n",
    "            prob_pen_unlimited.penalization = p\n",
    "            heur_name = 'GO_DOP(p:{},Cr:{},corr:{})'.format(p, Cr, correction['name'])\n",
    "            for i in tqdm(range(NUM_RUNS), 'Testing {}'.format(heur_name)):\n",
    "                run = GeneticOptimization( prob_pen_unlimited, \n",
    "                                            maxeval=1000,\n",
    "                                            N=50,\n",
    "                                            M=100,\n",
    "                                            Tsel1=0.5,\n",
    "                                            Tsel2=0.2, \n",
    "                                            mutation=CauchyMutation(r=Cr, correction=correction['corr']),\n",
    "                                            crossover=UniformMultipoint(1) ).search()\n",
    "                run['run'] = i\n",
    "                run['heur'] = heur_name\n",
    "                run['penalization'] = p\n",
    "                run['correction'] = correction['name']\n",
    "                run['Cr'] = Cr\n",
    "                runs.append(run)\n",
    "\n",
    "            res_df = pd.DataFrame(runs,\n",
    "                                  columns=['heur',\n",
    "                                           'penalization', \n",
    "                                           'correction', \n",
    "                                           'Cr',\n",
    "                                           'run',\n",
    "                                           'best_x',\n",
    "                                           'best_y',\n",
    "                                           'neval'] )\n",
    "            resultsPen = pd.concat([resultsPen, res_df], axis=0)\n"
   ]
  },
  {
   "cell_type": "code",
   "execution_count": 28,
   "metadata": {},
   "outputs": [
    {
     "data": {
      "text/html": [
       "<div>\n",
       "<style scoped>\n",
       "    .dataframe tbody tr th:only-of-type {\n",
       "        vertical-align: middle;\n",
       "    }\n",
       "\n",
       "    .dataframe tbody tr th {\n",
       "        vertical-align: top;\n",
       "    }\n",
       "\n",
       "    .dataframe thead th {\n",
       "        text-align: right;\n",
       "    }\n",
       "</style>\n",
       "<table border=\"1\" class=\"dataframe\">\n",
       "  <thead>\n",
       "    <tr style=\"text-align: right;\">\n",
       "      <th></th>\n",
       "      <th>penalization</th>\n",
       "      <th>heur</th>\n",
       "      <th>admissibility_rate</th>\n",
       "      <th>avg_sum</th>\n",
       "    </tr>\n",
       "  </thead>\n",
       "  <tbody>\n",
       "    <tr>\n",
       "      <td>0</td>\n",
       "      <td>0.005</td>\n",
       "      <td>GO_DOP(p:0.005,Cr:0.01,corr:correction)</td>\n",
       "      <td>0.00</td>\n",
       "      <td>477.170987</td>\n",
       "    </tr>\n",
       "    <tr>\n",
       "      <td>14</td>\n",
       "      <td>0.010</td>\n",
       "      <td>GO_DOP(p:0.01,Cr:0.01,corr:mirror)</td>\n",
       "      <td>0.00</td>\n",
       "      <td>56.131925</td>\n",
       "    </tr>\n",
       "    <tr>\n",
       "      <td>12</td>\n",
       "      <td>0.010</td>\n",
       "      <td>GO_DOP(p:0.01,Cr:0.01,corr:correction)</td>\n",
       "      <td>0.00</td>\n",
       "      <td>179.993220</td>\n",
       "    </tr>\n",
       "    <tr>\n",
       "      <td>24</td>\n",
       "      <td>0.100</td>\n",
       "      <td>GO_DOP(p:0.1,Cr:0.01,corr:correction)</td>\n",
       "      <td>0.00</td>\n",
       "      <td>180.787982</td>\n",
       "    </tr>\n",
       "    <tr>\n",
       "      <td>2</td>\n",
       "      <td>0.005</td>\n",
       "      <td>GO_DOP(p:0.005,Cr:0.01,corr:mirror)</td>\n",
       "      <td>0.00</td>\n",
       "      <td>136.696506</td>\n",
       "    </tr>\n",
       "    <tr>\n",
       "      <td>3</td>\n",
       "      <td>0.005</td>\n",
       "      <td>GO_DOP(p:0.005,Cr:0.1,corr:correction)</td>\n",
       "      <td>0.00</td>\n",
       "      <td>532.221802</td>\n",
       "    </tr>\n",
       "    <tr>\n",
       "      <td>1</td>\n",
       "      <td>0.005</td>\n",
       "      <td>GO_DOP(p:0.005,Cr:0.01,corr:extension)</td>\n",
       "      <td>0.02</td>\n",
       "      <td>351.884665</td>\n",
       "    </tr>\n",
       "    <tr>\n",
       "      <td>36</td>\n",
       "      <td>0.800</td>\n",
       "      <td>GO_DOP(p:0.8,Cr:0.01,corr:correction)</td>\n",
       "      <td>0.16</td>\n",
       "      <td>184.619079</td>\n",
       "    </tr>\n",
       "    <tr>\n",
       "      <td>15</td>\n",
       "      <td>0.010</td>\n",
       "      <td>GO_DOP(p:0.01,Cr:0.1,corr:correction)</td>\n",
       "      <td>0.18</td>\n",
       "      <td>175.476203</td>\n",
       "    </tr>\n",
       "    <tr>\n",
       "      <td>26</td>\n",
       "      <td>0.100</td>\n",
       "      <td>GO_DOP(p:0.1,Cr:0.01,corr:mirror)</td>\n",
       "      <td>0.20</td>\n",
       "      <td>57.717947</td>\n",
       "    </tr>\n",
       "    <tr>\n",
       "      <td>6</td>\n",
       "      <td>0.005</td>\n",
       "      <td>GO_DOP(p:0.005,Cr:0.5,corr:correction)</td>\n",
       "      <td>0.26</td>\n",
       "      <td>194.388296</td>\n",
       "    </tr>\n",
       "    <tr>\n",
       "      <td>17</td>\n",
       "      <td>0.010</td>\n",
       "      <td>GO_DOP(p:0.01,Cr:0.1,corr:mirror)</td>\n",
       "      <td>0.28</td>\n",
       "      <td>38.461538</td>\n",
       "    </tr>\n",
       "    <tr>\n",
       "      <td>40</td>\n",
       "      <td>0.800</td>\n",
       "      <td>GO_DOP(p:0.8,Cr:0.1,corr:extension)</td>\n",
       "      <td>0.30</td>\n",
       "      <td>107.692308</td>\n",
       "    </tr>\n",
       "    <tr>\n",
       "      <td>28</td>\n",
       "      <td>0.100</td>\n",
       "      <td>GO_DOP(p:0.1,Cr:0.1,corr:extension)</td>\n",
       "      <td>0.30</td>\n",
       "      <td>103.846154</td>\n",
       "    </tr>\n",
       "    <tr>\n",
       "      <td>39</td>\n",
       "      <td>0.800</td>\n",
       "      <td>GO_DOP(p:0.8,Cr:0.1,corr:correction)</td>\n",
       "      <td>0.32</td>\n",
       "      <td>169.229690</td>\n",
       "    </tr>\n",
       "    <tr>\n",
       "      <td>31</td>\n",
       "      <td>0.100</td>\n",
       "      <td>GO_DOP(p:0.1,Cr:0.5,corr:extension)</td>\n",
       "      <td>0.32</td>\n",
       "      <td>88.461538</td>\n",
       "    </tr>\n",
       "    <tr>\n",
       "      <td>35</td>\n",
       "      <td>0.100</td>\n",
       "      <td>GO_DOP(p:0.1,Cr:1,corr:mirror)</td>\n",
       "      <td>0.33</td>\n",
       "      <td>11.538462</td>\n",
       "    </tr>\n",
       "    <tr>\n",
       "      <td>38</td>\n",
       "      <td>0.800</td>\n",
       "      <td>GO_DOP(p:0.8,Cr:0.01,corr:mirror)</td>\n",
       "      <td>0.33</td>\n",
       "      <td>61.537982</td>\n",
       "    </tr>\n",
       "    <tr>\n",
       "      <td>10</td>\n",
       "      <td>0.005</td>\n",
       "      <td>GO_DOP(p:0.005,Cr:1,corr:extension)</td>\n",
       "      <td>0.34</td>\n",
       "      <td>65.384615</td>\n",
       "    </tr>\n",
       "    <tr>\n",
       "      <td>27</td>\n",
       "      <td>0.100</td>\n",
       "      <td>GO_DOP(p:0.1,Cr:0.1,corr:correction)</td>\n",
       "      <td>0.36</td>\n",
       "      <td>165.387538</td>\n",
       "    </tr>\n",
       "    <tr>\n",
       "      <td>33</td>\n",
       "      <td>0.100</td>\n",
       "      <td>GO_DOP(p:0.1,Cr:1,corr:correction)</td>\n",
       "      <td>0.37</td>\n",
       "      <td>134.615385</td>\n",
       "    </tr>\n",
       "    <tr>\n",
       "      <td>21</td>\n",
       "      <td>0.010</td>\n",
       "      <td>GO_DOP(p:0.01,Cr:1,corr:correction)</td>\n",
       "      <td>0.37</td>\n",
       "      <td>131.063560</td>\n",
       "    </tr>\n",
       "    <tr>\n",
       "      <td>41</td>\n",
       "      <td>0.800</td>\n",
       "      <td>GO_DOP(p:0.8,Cr:0.1,corr:mirror)</td>\n",
       "      <td>0.38</td>\n",
       "      <td>46.153846</td>\n",
       "    </tr>\n",
       "    <tr>\n",
       "      <td>47</td>\n",
       "      <td>0.800</td>\n",
       "      <td>GO_DOP(p:0.8,Cr:1,corr:mirror)</td>\n",
       "      <td>0.38</td>\n",
       "      <td>15.384615</td>\n",
       "    </tr>\n",
       "    <tr>\n",
       "      <td>11</td>\n",
       "      <td>0.005</td>\n",
       "      <td>GO_DOP(p:0.005,Cr:1,corr:mirror)</td>\n",
       "      <td>0.38</td>\n",
       "      <td>3.846154</td>\n",
       "    </tr>\n",
       "    <tr>\n",
       "      <td>25</td>\n",
       "      <td>0.100</td>\n",
       "      <td>GO_DOP(p:0.1,Cr:0.01,corr:extension)</td>\n",
       "      <td>0.40</td>\n",
       "      <td>119.222193</td>\n",
       "    </tr>\n",
       "    <tr>\n",
       "      <td>20</td>\n",
       "      <td>0.010</td>\n",
       "      <td>GO_DOP(p:0.01,Cr:0.5,corr:mirror)</td>\n",
       "      <td>0.40</td>\n",
       "      <td>23.076923</td>\n",
       "    </tr>\n",
       "    <tr>\n",
       "      <td>19</td>\n",
       "      <td>0.010</td>\n",
       "      <td>GO_DOP(p:0.01,Cr:0.5,corr:extension)</td>\n",
       "      <td>0.40</td>\n",
       "      <td>84.615385</td>\n",
       "    </tr>\n",
       "    <tr>\n",
       "      <td>29</td>\n",
       "      <td>0.100</td>\n",
       "      <td>GO_DOP(p:0.1,Cr:0.1,corr:mirror)</td>\n",
       "      <td>0.40</td>\n",
       "      <td>42.307692</td>\n",
       "    </tr>\n",
       "    <tr>\n",
       "      <td>8</td>\n",
       "      <td>0.005</td>\n",
       "      <td>GO_DOP(p:0.005,Cr:0.5,corr:mirror)</td>\n",
       "      <td>0.40</td>\n",
       "      <td>19.230769</td>\n",
       "    </tr>\n",
       "    <tr>\n",
       "      <td>37</td>\n",
       "      <td>0.800</td>\n",
       "      <td>GO_DOP(p:0.8,Cr:0.01,corr:extension)</td>\n",
       "      <td>0.40</td>\n",
       "      <td>123.076923</td>\n",
       "    </tr>\n",
       "    <tr>\n",
       "      <td>32</td>\n",
       "      <td>0.100</td>\n",
       "      <td>GO_DOP(p:0.1,Cr:0.5,corr:mirror)</td>\n",
       "      <td>0.41</td>\n",
       "      <td>26.923077</td>\n",
       "    </tr>\n",
       "    <tr>\n",
       "      <td>34</td>\n",
       "      <td>0.100</td>\n",
       "      <td>GO_DOP(p:0.1,Cr:1,corr:extension)</td>\n",
       "      <td>0.41</td>\n",
       "      <td>73.076923</td>\n",
       "    </tr>\n",
       "    <tr>\n",
       "      <td>44</td>\n",
       "      <td>0.800</td>\n",
       "      <td>GO_DOP(p:0.8,Cr:0.5,corr:mirror)</td>\n",
       "      <td>0.42</td>\n",
       "      <td>30.769231</td>\n",
       "    </tr>\n",
       "    <tr>\n",
       "      <td>16</td>\n",
       "      <td>0.010</td>\n",
       "      <td>GO_DOP(p:0.01,Cr:0.1,corr:extension)</td>\n",
       "      <td>0.43</td>\n",
       "      <td>100.000000</td>\n",
       "    </tr>\n",
       "    <tr>\n",
       "      <td>5</td>\n",
       "      <td>0.005</td>\n",
       "      <td>GO_DOP(p:0.005,Cr:0.1,corr:mirror)</td>\n",
       "      <td>0.43</td>\n",
       "      <td>34.615385</td>\n",
       "    </tr>\n",
       "    <tr>\n",
       "      <td>43</td>\n",
       "      <td>0.800</td>\n",
       "      <td>GO_DOP(p:0.8,Cr:0.5,corr:extension)</td>\n",
       "      <td>0.44</td>\n",
       "      <td>92.307692</td>\n",
       "    </tr>\n",
       "    <tr>\n",
       "      <td>4</td>\n",
       "      <td>0.005</td>\n",
       "      <td>GO_DOP(p:0.005,Cr:0.1,corr:extension)</td>\n",
       "      <td>0.44</td>\n",
       "      <td>96.153846</td>\n",
       "    </tr>\n",
       "    <tr>\n",
       "      <td>23</td>\n",
       "      <td>0.010</td>\n",
       "      <td>GO_DOP(p:0.01,Cr:1,corr:mirror)</td>\n",
       "      <td>0.44</td>\n",
       "      <td>7.692308</td>\n",
       "    </tr>\n",
       "    <tr>\n",
       "      <td>30</td>\n",
       "      <td>0.100</td>\n",
       "      <td>GO_DOP(p:0.1,Cr:0.5,corr:correction)</td>\n",
       "      <td>0.45</td>\n",
       "      <td>150.000000</td>\n",
       "    </tr>\n",
       "    <tr>\n",
       "      <td>9</td>\n",
       "      <td>0.005</td>\n",
       "      <td>GO_DOP(p:0.005,Cr:1,corr:correction)</td>\n",
       "      <td>0.45</td>\n",
       "      <td>147.848034</td>\n",
       "    </tr>\n",
       "    <tr>\n",
       "      <td>22</td>\n",
       "      <td>0.010</td>\n",
       "      <td>GO_DOP(p:0.01,Cr:1,corr:extension)</td>\n",
       "      <td>0.45</td>\n",
       "      <td>69.230769</td>\n",
       "    </tr>\n",
       "    <tr>\n",
       "      <td>46</td>\n",
       "      <td>0.800</td>\n",
       "      <td>GO_DOP(p:0.8,Cr:1,corr:extension)</td>\n",
       "      <td>0.46</td>\n",
       "      <td>76.923077</td>\n",
       "    </tr>\n",
       "    <tr>\n",
       "      <td>13</td>\n",
       "      <td>0.010</td>\n",
       "      <td>GO_DOP(p:0.01,Cr:0.01,corr:extension)</td>\n",
       "      <td>0.46</td>\n",
       "      <td>115.353433</td>\n",
       "    </tr>\n",
       "    <tr>\n",
       "      <td>42</td>\n",
       "      <td>0.800</td>\n",
       "      <td>GO_DOP(p:0.8,Cr:0.5,corr:correction)</td>\n",
       "      <td>0.46</td>\n",
       "      <td>153.846154</td>\n",
       "    </tr>\n",
       "    <tr>\n",
       "      <td>18</td>\n",
       "      <td>0.010</td>\n",
       "      <td>GO_DOP(p:0.01,Cr:0.5,corr:correction)</td>\n",
       "      <td>0.47</td>\n",
       "      <td>146.153846</td>\n",
       "    </tr>\n",
       "    <tr>\n",
       "      <td>45</td>\n",
       "      <td>0.800</td>\n",
       "      <td>GO_DOP(p:0.8,Cr:1,corr:correction)</td>\n",
       "      <td>0.49</td>\n",
       "      <td>138.461538</td>\n",
       "    </tr>\n",
       "    <tr>\n",
       "      <td>7</td>\n",
       "      <td>0.005</td>\n",
       "      <td>GO_DOP(p:0.005,Cr:0.5,corr:extension)</td>\n",
       "      <td>0.50</td>\n",
       "      <td>80.769231</td>\n",
       "    </tr>\n",
       "  </tbody>\n",
       "</table>\n",
       "</div>"
      ],
      "text/plain": [
       "    penalization                                     heur  admissibility_rate  \\\n",
       "0          0.005  GO_DOP(p:0.005,Cr:0.01,corr:correction)                0.00   \n",
       "14         0.010       GO_DOP(p:0.01,Cr:0.01,corr:mirror)                0.00   \n",
       "12         0.010   GO_DOP(p:0.01,Cr:0.01,corr:correction)                0.00   \n",
       "24         0.100    GO_DOP(p:0.1,Cr:0.01,corr:correction)                0.00   \n",
       "2          0.005      GO_DOP(p:0.005,Cr:0.01,corr:mirror)                0.00   \n",
       "3          0.005   GO_DOP(p:0.005,Cr:0.1,corr:correction)                0.00   \n",
       "1          0.005   GO_DOP(p:0.005,Cr:0.01,corr:extension)                0.02   \n",
       "36         0.800    GO_DOP(p:0.8,Cr:0.01,corr:correction)                0.16   \n",
       "15         0.010    GO_DOP(p:0.01,Cr:0.1,corr:correction)                0.18   \n",
       "26         0.100        GO_DOP(p:0.1,Cr:0.01,corr:mirror)                0.20   \n",
       "6          0.005   GO_DOP(p:0.005,Cr:0.5,corr:correction)                0.26   \n",
       "17         0.010        GO_DOP(p:0.01,Cr:0.1,corr:mirror)                0.28   \n",
       "40         0.800      GO_DOP(p:0.8,Cr:0.1,corr:extension)                0.30   \n",
       "28         0.100      GO_DOP(p:0.1,Cr:0.1,corr:extension)                0.30   \n",
       "39         0.800     GO_DOP(p:0.8,Cr:0.1,corr:correction)                0.32   \n",
       "31         0.100      GO_DOP(p:0.1,Cr:0.5,corr:extension)                0.32   \n",
       "35         0.100           GO_DOP(p:0.1,Cr:1,corr:mirror)                0.33   \n",
       "38         0.800        GO_DOP(p:0.8,Cr:0.01,corr:mirror)                0.33   \n",
       "10         0.005      GO_DOP(p:0.005,Cr:1,corr:extension)                0.34   \n",
       "27         0.100     GO_DOP(p:0.1,Cr:0.1,corr:correction)                0.36   \n",
       "33         0.100       GO_DOP(p:0.1,Cr:1,corr:correction)                0.37   \n",
       "21         0.010      GO_DOP(p:0.01,Cr:1,corr:correction)                0.37   \n",
       "41         0.800         GO_DOP(p:0.8,Cr:0.1,corr:mirror)                0.38   \n",
       "47         0.800           GO_DOP(p:0.8,Cr:1,corr:mirror)                0.38   \n",
       "11         0.005         GO_DOP(p:0.005,Cr:1,corr:mirror)                0.38   \n",
       "25         0.100     GO_DOP(p:0.1,Cr:0.01,corr:extension)                0.40   \n",
       "20         0.010        GO_DOP(p:0.01,Cr:0.5,corr:mirror)                0.40   \n",
       "19         0.010     GO_DOP(p:0.01,Cr:0.5,corr:extension)                0.40   \n",
       "29         0.100         GO_DOP(p:0.1,Cr:0.1,corr:mirror)                0.40   \n",
       "8          0.005       GO_DOP(p:0.005,Cr:0.5,corr:mirror)                0.40   \n",
       "37         0.800     GO_DOP(p:0.8,Cr:0.01,corr:extension)                0.40   \n",
       "32         0.100         GO_DOP(p:0.1,Cr:0.5,corr:mirror)                0.41   \n",
       "34         0.100        GO_DOP(p:0.1,Cr:1,corr:extension)                0.41   \n",
       "44         0.800         GO_DOP(p:0.8,Cr:0.5,corr:mirror)                0.42   \n",
       "16         0.010     GO_DOP(p:0.01,Cr:0.1,corr:extension)                0.43   \n",
       "5          0.005       GO_DOP(p:0.005,Cr:0.1,corr:mirror)                0.43   \n",
       "43         0.800      GO_DOP(p:0.8,Cr:0.5,corr:extension)                0.44   \n",
       "4          0.005    GO_DOP(p:0.005,Cr:0.1,corr:extension)                0.44   \n",
       "23         0.010          GO_DOP(p:0.01,Cr:1,corr:mirror)                0.44   \n",
       "30         0.100     GO_DOP(p:0.1,Cr:0.5,corr:correction)                0.45   \n",
       "9          0.005     GO_DOP(p:0.005,Cr:1,corr:correction)                0.45   \n",
       "22         0.010       GO_DOP(p:0.01,Cr:1,corr:extension)                0.45   \n",
       "46         0.800        GO_DOP(p:0.8,Cr:1,corr:extension)                0.46   \n",
       "13         0.010    GO_DOP(p:0.01,Cr:0.01,corr:extension)                0.46   \n",
       "42         0.800     GO_DOP(p:0.8,Cr:0.5,corr:correction)                0.46   \n",
       "18         0.010    GO_DOP(p:0.01,Cr:0.5,corr:correction)                0.47   \n",
       "45         0.800       GO_DOP(p:0.8,Cr:1,corr:correction)                0.49   \n",
       "7          0.005    GO_DOP(p:0.005,Cr:0.5,corr:extension)                0.50   \n",
       "\n",
       "       avg_sum  \n",
       "0   477.170987  \n",
       "14   56.131925  \n",
       "12  179.993220  \n",
       "24  180.787982  \n",
       "2   136.696506  \n",
       "3   532.221802  \n",
       "1   351.884665  \n",
       "36  184.619079  \n",
       "15  175.476203  \n",
       "26   57.717947  \n",
       "6   194.388296  \n",
       "17   38.461538  \n",
       "40  107.692308  \n",
       "28  103.846154  \n",
       "39  169.229690  \n",
       "31   88.461538  \n",
       "35   11.538462  \n",
       "38   61.537982  \n",
       "10   65.384615  \n",
       "27  165.387538  \n",
       "33  134.615385  \n",
       "21  131.063560  \n",
       "41   46.153846  \n",
       "47   15.384615  \n",
       "11    3.846154  \n",
       "25  119.222193  \n",
       "20   23.076923  \n",
       "19   84.615385  \n",
       "29   42.307692  \n",
       "8    19.230769  \n",
       "37  123.076923  \n",
       "32   26.923077  \n",
       "34   73.076923  \n",
       "44   30.769231  \n",
       "16  100.000000  \n",
       "5    34.615385  \n",
       "43   92.307692  \n",
       "4    96.153846  \n",
       "23    7.692308  \n",
       "30  150.000000  \n",
       "9   147.848034  \n",
       "22   69.230769  \n",
       "46   76.923077  \n",
       "13  115.353433  \n",
       "42  153.846154  \n",
       "18  146.153846  \n",
       "45  138.461538  \n",
       "7    80.769231  "
      ]
     },
     "execution_count": 28,
     "metadata": {},
     "output_type": "execute_result"
    }
   ],
   "source": [
    "def avg_sum(x):\n",
    "    return np.mean(np.sum(x))\n",
    "def admissibility_rate(x):\n",
    "    return len([n for n in x if np.sum(n) == 1])/len(x)\n",
    "\n",
    "results_pivot = resultsPen.pivot_table(\n",
    "    index=['penalization', 'heur'],\n",
    "    values=['best_x'],\n",
    "    aggfunc=(avg_sum, admissibility_rate)\n",
    ")['best_x']\n",
    "results_pivot = results_pivot.reset_index()\n",
    "results_pivot.sort_values(by='admissibility_rate')"
   ]
  },
  {
   "cell_type": "code",
   "execution_count": 29,
   "metadata": {},
   "outputs": [
    {
     "name": "stderr",
     "output_type": "stream",
     "text": [
      "C:\\Users\\Tom\\Anaconda3\\lib\\site-packages\\numpy\\core\\fromnumeric.py:3118: RuntimeWarning: Mean of empty slice.\n",
      "  out=out, **kwargs)\n",
      "C:\\Users\\Tom\\Anaconda3\\lib\\site-packages\\numpy\\core\\_methods.py:85: RuntimeWarning: invalid value encountered in double_scalars\n",
      "  ret = ret.dtype.type(ret / rcount)\n"
     ]
    },
    {
     "data": {
      "text/html": [
       "<div>\n",
       "<style scoped>\n",
       "    .dataframe tbody tr th:only-of-type {\n",
       "        vertical-align: middle;\n",
       "    }\n",
       "\n",
       "    .dataframe tbody tr th {\n",
       "        vertical-align: top;\n",
       "    }\n",
       "\n",
       "    .dataframe thead th {\n",
       "        text-align: right;\n",
       "    }\n",
       "</style>\n",
       "<table border=\"1\" class=\"dataframe\">\n",
       "  <thead>\n",
       "    <tr style=\"text-align: right;\">\n",
       "      <th></th>\n",
       "      <th>heur</th>\n",
       "      <th>penalization</th>\n",
       "      <th>rel</th>\n",
       "    </tr>\n",
       "  </thead>\n",
       "  <tbody>\n",
       "    <tr>\n",
       "      <td>0</td>\n",
       "      <td>GO_DOP(p:0.005,Cr:0.01,corr:correction)</td>\n",
       "      <td>0.005</td>\n",
       "      <td>0.0</td>\n",
       "    </tr>\n",
       "    <tr>\n",
       "      <td>26</td>\n",
       "      <td>GO_DOP(p:0.1,Cr:0.01,corr:mirror)</td>\n",
       "      <td>0.100</td>\n",
       "      <td>0.0</td>\n",
       "    </tr>\n",
       "    <tr>\n",
       "      <td>27</td>\n",
       "      <td>GO_DOP(p:0.1,Cr:0.1,corr:correction)</td>\n",
       "      <td>0.100</td>\n",
       "      <td>0.0</td>\n",
       "    </tr>\n",
       "    <tr>\n",
       "      <td>28</td>\n",
       "      <td>GO_DOP(p:0.1,Cr:0.1,corr:extension)</td>\n",
       "      <td>0.100</td>\n",
       "      <td>0.0</td>\n",
       "    </tr>\n",
       "    <tr>\n",
       "      <td>29</td>\n",
       "      <td>GO_DOP(p:0.1,Cr:0.1,corr:mirror)</td>\n",
       "      <td>0.100</td>\n",
       "      <td>0.0</td>\n",
       "    </tr>\n",
       "    <tr>\n",
       "      <td>30</td>\n",
       "      <td>GO_DOP(p:0.1,Cr:0.5,corr:correction)</td>\n",
       "      <td>0.100</td>\n",
       "      <td>0.0</td>\n",
       "    </tr>\n",
       "    <tr>\n",
       "      <td>31</td>\n",
       "      <td>GO_DOP(p:0.1,Cr:0.5,corr:extension)</td>\n",
       "      <td>0.100</td>\n",
       "      <td>0.0</td>\n",
       "    </tr>\n",
       "    <tr>\n",
       "      <td>32</td>\n",
       "      <td>GO_DOP(p:0.1,Cr:0.5,corr:mirror)</td>\n",
       "      <td>0.100</td>\n",
       "      <td>0.0</td>\n",
       "    </tr>\n",
       "    <tr>\n",
       "      <td>33</td>\n",
       "      <td>GO_DOP(p:0.1,Cr:1,corr:correction)</td>\n",
       "      <td>0.100</td>\n",
       "      <td>0.0</td>\n",
       "    </tr>\n",
       "    <tr>\n",
       "      <td>34</td>\n",
       "      <td>GO_DOP(p:0.1,Cr:1,corr:extension)</td>\n",
       "      <td>0.100</td>\n",
       "      <td>0.0</td>\n",
       "    </tr>\n",
       "    <tr>\n",
       "      <td>25</td>\n",
       "      <td>GO_DOP(p:0.1,Cr:0.01,corr:extension)</td>\n",
       "      <td>0.100</td>\n",
       "      <td>0.0</td>\n",
       "    </tr>\n",
       "    <tr>\n",
       "      <td>35</td>\n",
       "      <td>GO_DOP(p:0.1,Cr:1,corr:mirror)</td>\n",
       "      <td>0.100</td>\n",
       "      <td>0.0</td>\n",
       "    </tr>\n",
       "    <tr>\n",
       "      <td>37</td>\n",
       "      <td>GO_DOP(p:0.8,Cr:0.01,corr:extension)</td>\n",
       "      <td>0.800</td>\n",
       "      <td>0.0</td>\n",
       "    </tr>\n",
       "    <tr>\n",
       "      <td>38</td>\n",
       "      <td>GO_DOP(p:0.8,Cr:0.01,corr:mirror)</td>\n",
       "      <td>0.800</td>\n",
       "      <td>0.0</td>\n",
       "    </tr>\n",
       "    <tr>\n",
       "      <td>39</td>\n",
       "      <td>GO_DOP(p:0.8,Cr:0.1,corr:correction)</td>\n",
       "      <td>0.800</td>\n",
       "      <td>0.0</td>\n",
       "    </tr>\n",
       "    <tr>\n",
       "      <td>40</td>\n",
       "      <td>GO_DOP(p:0.8,Cr:0.1,corr:extension)</td>\n",
       "      <td>0.800</td>\n",
       "      <td>0.0</td>\n",
       "    </tr>\n",
       "    <tr>\n",
       "      <td>41</td>\n",
       "      <td>GO_DOP(p:0.8,Cr:0.1,corr:mirror)</td>\n",
       "      <td>0.800</td>\n",
       "      <td>0.0</td>\n",
       "    </tr>\n",
       "    <tr>\n",
       "      <td>42</td>\n",
       "      <td>GO_DOP(p:0.8,Cr:0.5,corr:correction)</td>\n",
       "      <td>0.800</td>\n",
       "      <td>0.0</td>\n",
       "    </tr>\n",
       "    <tr>\n",
       "      <td>43</td>\n",
       "      <td>GO_DOP(p:0.8,Cr:0.5,corr:extension)</td>\n",
       "      <td>0.800</td>\n",
       "      <td>0.0</td>\n",
       "    </tr>\n",
       "    <tr>\n",
       "      <td>44</td>\n",
       "      <td>GO_DOP(p:0.8,Cr:0.5,corr:mirror)</td>\n",
       "      <td>0.800</td>\n",
       "      <td>0.0</td>\n",
       "    </tr>\n",
       "    <tr>\n",
       "      <td>45</td>\n",
       "      <td>GO_DOP(p:0.8,Cr:1,corr:correction)</td>\n",
       "      <td>0.800</td>\n",
       "      <td>0.0</td>\n",
       "    </tr>\n",
       "    <tr>\n",
       "      <td>36</td>\n",
       "      <td>GO_DOP(p:0.8,Cr:0.01,corr:correction)</td>\n",
       "      <td>0.800</td>\n",
       "      <td>0.0</td>\n",
       "    </tr>\n",
       "    <tr>\n",
       "      <td>24</td>\n",
       "      <td>GO_DOP(p:0.1,Cr:0.01,corr:correction)</td>\n",
       "      <td>0.100</td>\n",
       "      <td>0.0</td>\n",
       "    </tr>\n",
       "    <tr>\n",
       "      <td>23</td>\n",
       "      <td>GO_DOP(p:0.01,Cr:1,corr:mirror)</td>\n",
       "      <td>0.010</td>\n",
       "      <td>0.0</td>\n",
       "    </tr>\n",
       "    <tr>\n",
       "      <td>22</td>\n",
       "      <td>GO_DOP(p:0.01,Cr:1,corr:extension)</td>\n",
       "      <td>0.010</td>\n",
       "      <td>0.0</td>\n",
       "    </tr>\n",
       "    <tr>\n",
       "      <td>1</td>\n",
       "      <td>GO_DOP(p:0.005,Cr:0.01,corr:extension)</td>\n",
       "      <td>0.005</td>\n",
       "      <td>0.0</td>\n",
       "    </tr>\n",
       "    <tr>\n",
       "      <td>2</td>\n",
       "      <td>GO_DOP(p:0.005,Cr:0.01,corr:mirror)</td>\n",
       "      <td>0.005</td>\n",
       "      <td>0.0</td>\n",
       "    </tr>\n",
       "    <tr>\n",
       "      <td>3</td>\n",
       "      <td>GO_DOP(p:0.005,Cr:0.1,corr:correction)</td>\n",
       "      <td>0.005</td>\n",
       "      <td>0.0</td>\n",
       "    </tr>\n",
       "    <tr>\n",
       "      <td>4</td>\n",
       "      <td>GO_DOP(p:0.005,Cr:0.1,corr:extension)</td>\n",
       "      <td>0.005</td>\n",
       "      <td>0.0</td>\n",
       "    </tr>\n",
       "    <tr>\n",
       "      <td>5</td>\n",
       "      <td>GO_DOP(p:0.005,Cr:0.1,corr:mirror)</td>\n",
       "      <td>0.005</td>\n",
       "      <td>0.0</td>\n",
       "    </tr>\n",
       "    <tr>\n",
       "      <td>6</td>\n",
       "      <td>GO_DOP(p:0.005,Cr:0.5,corr:correction)</td>\n",
       "      <td>0.005</td>\n",
       "      <td>0.0</td>\n",
       "    </tr>\n",
       "    <tr>\n",
       "      <td>7</td>\n",
       "      <td>GO_DOP(p:0.005,Cr:0.5,corr:extension)</td>\n",
       "      <td>0.005</td>\n",
       "      <td>0.0</td>\n",
       "    </tr>\n",
       "    <tr>\n",
       "      <td>8</td>\n",
       "      <td>GO_DOP(p:0.005,Cr:0.5,corr:mirror)</td>\n",
       "      <td>0.005</td>\n",
       "      <td>0.0</td>\n",
       "    </tr>\n",
       "    <tr>\n",
       "      <td>9</td>\n",
       "      <td>GO_DOP(p:0.005,Cr:1,corr:correction)</td>\n",
       "      <td>0.005</td>\n",
       "      <td>0.0</td>\n",
       "    </tr>\n",
       "    <tr>\n",
       "      <td>10</td>\n",
       "      <td>GO_DOP(p:0.005,Cr:1,corr:extension)</td>\n",
       "      <td>0.005</td>\n",
       "      <td>0.0</td>\n",
       "    </tr>\n",
       "    <tr>\n",
       "      <td>11</td>\n",
       "      <td>GO_DOP(p:0.005,Cr:1,corr:mirror)</td>\n",
       "      <td>0.005</td>\n",
       "      <td>0.0</td>\n",
       "    </tr>\n",
       "    <tr>\n",
       "      <td>12</td>\n",
       "      <td>GO_DOP(p:0.01,Cr:0.01,corr:correction)</td>\n",
       "      <td>0.010</td>\n",
       "      <td>0.0</td>\n",
       "    </tr>\n",
       "    <tr>\n",
       "      <td>13</td>\n",
       "      <td>GO_DOP(p:0.01,Cr:0.01,corr:extension)</td>\n",
       "      <td>0.010</td>\n",
       "      <td>0.0</td>\n",
       "    </tr>\n",
       "    <tr>\n",
       "      <td>14</td>\n",
       "      <td>GO_DOP(p:0.01,Cr:0.01,corr:mirror)</td>\n",
       "      <td>0.010</td>\n",
       "      <td>0.0</td>\n",
       "    </tr>\n",
       "    <tr>\n",
       "      <td>15</td>\n",
       "      <td>GO_DOP(p:0.01,Cr:0.1,corr:correction)</td>\n",
       "      <td>0.010</td>\n",
       "      <td>0.0</td>\n",
       "    </tr>\n",
       "    <tr>\n",
       "      <td>16</td>\n",
       "      <td>GO_DOP(p:0.01,Cr:0.1,corr:extension)</td>\n",
       "      <td>0.010</td>\n",
       "      <td>0.0</td>\n",
       "    </tr>\n",
       "    <tr>\n",
       "      <td>17</td>\n",
       "      <td>GO_DOP(p:0.01,Cr:0.1,corr:mirror)</td>\n",
       "      <td>0.010</td>\n",
       "      <td>0.0</td>\n",
       "    </tr>\n",
       "    <tr>\n",
       "      <td>18</td>\n",
       "      <td>GO_DOP(p:0.01,Cr:0.5,corr:correction)</td>\n",
       "      <td>0.010</td>\n",
       "      <td>0.0</td>\n",
       "    </tr>\n",
       "    <tr>\n",
       "      <td>19</td>\n",
       "      <td>GO_DOP(p:0.01,Cr:0.5,corr:extension)</td>\n",
       "      <td>0.010</td>\n",
       "      <td>0.0</td>\n",
       "    </tr>\n",
       "    <tr>\n",
       "      <td>20</td>\n",
       "      <td>GO_DOP(p:0.01,Cr:0.5,corr:mirror)</td>\n",
       "      <td>0.010</td>\n",
       "      <td>0.0</td>\n",
       "    </tr>\n",
       "    <tr>\n",
       "      <td>21</td>\n",
       "      <td>GO_DOP(p:0.01,Cr:1,corr:correction)</td>\n",
       "      <td>0.010</td>\n",
       "      <td>0.0</td>\n",
       "    </tr>\n",
       "    <tr>\n",
       "      <td>46</td>\n",
       "      <td>GO_DOP(p:0.8,Cr:1,corr:extension)</td>\n",
       "      <td>0.800</td>\n",
       "      <td>0.0</td>\n",
       "    </tr>\n",
       "    <tr>\n",
       "      <td>47</td>\n",
       "      <td>GO_DOP(p:0.8,Cr:1,corr:mirror)</td>\n",
       "      <td>0.800</td>\n",
       "      <td>0.0</td>\n",
       "    </tr>\n",
       "  </tbody>\n",
       "</table>\n",
       "</div>"
      ],
      "text/plain": [
       "                                       heur  penalization  rel\n",
       "0   GO_DOP(p:0.005,Cr:0.01,corr:correction)         0.005  0.0\n",
       "26        GO_DOP(p:0.1,Cr:0.01,corr:mirror)         0.100  0.0\n",
       "27     GO_DOP(p:0.1,Cr:0.1,corr:correction)         0.100  0.0\n",
       "28      GO_DOP(p:0.1,Cr:0.1,corr:extension)         0.100  0.0\n",
       "29         GO_DOP(p:0.1,Cr:0.1,corr:mirror)         0.100  0.0\n",
       "30     GO_DOP(p:0.1,Cr:0.5,corr:correction)         0.100  0.0\n",
       "31      GO_DOP(p:0.1,Cr:0.5,corr:extension)         0.100  0.0\n",
       "32         GO_DOP(p:0.1,Cr:0.5,corr:mirror)         0.100  0.0\n",
       "33       GO_DOP(p:0.1,Cr:1,corr:correction)         0.100  0.0\n",
       "34        GO_DOP(p:0.1,Cr:1,corr:extension)         0.100  0.0\n",
       "25     GO_DOP(p:0.1,Cr:0.01,corr:extension)         0.100  0.0\n",
       "35           GO_DOP(p:0.1,Cr:1,corr:mirror)         0.100  0.0\n",
       "37     GO_DOP(p:0.8,Cr:0.01,corr:extension)         0.800  0.0\n",
       "38        GO_DOP(p:0.8,Cr:0.01,corr:mirror)         0.800  0.0\n",
       "39     GO_DOP(p:0.8,Cr:0.1,corr:correction)         0.800  0.0\n",
       "40      GO_DOP(p:0.8,Cr:0.1,corr:extension)         0.800  0.0\n",
       "41         GO_DOP(p:0.8,Cr:0.1,corr:mirror)         0.800  0.0\n",
       "42     GO_DOP(p:0.8,Cr:0.5,corr:correction)         0.800  0.0\n",
       "43      GO_DOP(p:0.8,Cr:0.5,corr:extension)         0.800  0.0\n",
       "44         GO_DOP(p:0.8,Cr:0.5,corr:mirror)         0.800  0.0\n",
       "45       GO_DOP(p:0.8,Cr:1,corr:correction)         0.800  0.0\n",
       "36    GO_DOP(p:0.8,Cr:0.01,corr:correction)         0.800  0.0\n",
       "24    GO_DOP(p:0.1,Cr:0.01,corr:correction)         0.100  0.0\n",
       "23          GO_DOP(p:0.01,Cr:1,corr:mirror)         0.010  0.0\n",
       "22       GO_DOP(p:0.01,Cr:1,corr:extension)         0.010  0.0\n",
       "1    GO_DOP(p:0.005,Cr:0.01,corr:extension)         0.005  0.0\n",
       "2       GO_DOP(p:0.005,Cr:0.01,corr:mirror)         0.005  0.0\n",
       "3    GO_DOP(p:0.005,Cr:0.1,corr:correction)         0.005  0.0\n",
       "4     GO_DOP(p:0.005,Cr:0.1,corr:extension)         0.005  0.0\n",
       "5        GO_DOP(p:0.005,Cr:0.1,corr:mirror)         0.005  0.0\n",
       "6    GO_DOP(p:0.005,Cr:0.5,corr:correction)         0.005  0.0\n",
       "7     GO_DOP(p:0.005,Cr:0.5,corr:extension)         0.005  0.0\n",
       "8        GO_DOP(p:0.005,Cr:0.5,corr:mirror)         0.005  0.0\n",
       "9      GO_DOP(p:0.005,Cr:1,corr:correction)         0.005  0.0\n",
       "10      GO_DOP(p:0.005,Cr:1,corr:extension)         0.005  0.0\n",
       "11         GO_DOP(p:0.005,Cr:1,corr:mirror)         0.005  0.0\n",
       "12   GO_DOP(p:0.01,Cr:0.01,corr:correction)         0.010  0.0\n",
       "13    GO_DOP(p:0.01,Cr:0.01,corr:extension)         0.010  0.0\n",
       "14       GO_DOP(p:0.01,Cr:0.01,corr:mirror)         0.010  0.0\n",
       "15    GO_DOP(p:0.01,Cr:0.1,corr:correction)         0.010  0.0\n",
       "16     GO_DOP(p:0.01,Cr:0.1,corr:extension)         0.010  0.0\n",
       "17        GO_DOP(p:0.01,Cr:0.1,corr:mirror)         0.010  0.0\n",
       "18    GO_DOP(p:0.01,Cr:0.5,corr:correction)         0.010  0.0\n",
       "19     GO_DOP(p:0.01,Cr:0.5,corr:extension)         0.010  0.0\n",
       "20        GO_DOP(p:0.01,Cr:0.5,corr:mirror)         0.010  0.0\n",
       "21      GO_DOP(p:0.01,Cr:1,corr:correction)         0.010  0.0\n",
       "46        GO_DOP(p:0.8,Cr:1,corr:extension)         0.800  0.0\n",
       "47           GO_DOP(p:0.8,Cr:1,corr:mirror)         0.800  0.0"
      ]
     },
     "execution_count": 29,
     "metadata": {},
     "output_type": "execute_result"
    }
   ],
   "source": [
    "results_pivot = resultsPen.pivot_table(\n",
    "    index=['heur', 'penalization'],\n",
    "    values=['neval'],\n",
    "    aggfunc=(rel, mne, feo)\n",
    ")['neval']\n",
    "results_pivot = results_pivot.reset_index()\n",
    "results_pivot.sort_values(by='rel')"
   ]
  },
  {
   "cell_type": "markdown",
   "metadata": {},
   "source": [
    "Notes:\n",
    "---\n",
    "- The lower radius of the correction the higher chance for the result to be admissible.\n",
    "- The lower penalization coeficient the lower admissibility rate.\n",
    "- None of the setups have reached the value of -50 or lower. Therefore all have 0 reliability.\n",
    "\n",
    "## Conclusion:\n",
    "The approach using penalization is probably not that good in this kind of problem."
   ]
  },
  {
   "cell_type": "markdown",
   "metadata": {},
   "source": [
    "### Genetic optimization test on non-penalized problem"
   ]
  },
  {
   "cell_type": "code",
   "execution_count": 31,
   "metadata": {
    "scrolled": true
   },
   "outputs": [
    {
     "data": {
      "application/vnd.jupyter.widget-view+json": {
       "model_id": "caeb529f2b934588afdebb676871d2f0",
       "version_major": 2,
       "version_minor": 0
      },
      "text/plain": [
       "HBox(children=(IntProgress(value=0, description='Testing GO_(N:50,M:150,T1:0.5,T2:0.1,Cr:1,mult:1)', style=Pro…"
      ]
     },
     "metadata": {},
     "output_type": "display_data"
    },
    {
     "name": "stdout",
     "output_type": "stream",
     "text": [
      "\n"
     ]
    },
    {
     "data": {
      "application/vnd.jupyter.widget-view+json": {
       "model_id": "a43c5132eb8c427cb7cef1e16c180474",
       "version_major": 2,
       "version_minor": 0
      },
      "text/plain": [
       "HBox(children=(IntProgress(value=0, description='Testing GO_(N:50,M:100,T1:0.5,T2:0.1,Cr:1,mult:1)', style=Pro…"
      ]
     },
     "metadata": {},
     "output_type": "display_data"
    },
    {
     "name": "stdout",
     "output_type": "stream",
     "text": [
      "\n"
     ]
    },
    {
     "data": {
      "application/vnd.jupyter.widget-view+json": {
       "model_id": "51dc4776e79f4fa68a200232e86a4e50",
       "version_major": 2,
       "version_minor": 0
      },
      "text/plain": [
       "HBox(children=(IntProgress(value=0, description='Testing GO_(N:50,M:100,T1:0.5,T2:0.2,Cr:1,mult:1)', style=Pro…"
      ]
     },
     "metadata": {},
     "output_type": "display_data"
    },
    {
     "name": "stdout",
     "output_type": "stream",
     "text": [
      "\n"
     ]
    },
    {
     "data": {
      "application/vnd.jupyter.widget-view+json": {
       "model_id": "9f363ad17c244732bd16d2160193bf91",
       "version_major": 2,
       "version_minor": 0
      },
      "text/plain": [
       "HBox(children=(IntProgress(value=0, description='Testing GO_(N:50,M:100,T1:0.5,T2:0.1,Cr:0.1,mult:1)', style=P…"
      ]
     },
     "metadata": {},
     "output_type": "display_data"
    },
    {
     "name": "stdout",
     "output_type": "stream",
     "text": [
      "\n"
     ]
    },
    {
     "data": {
      "application/vnd.jupyter.widget-view+json": {
       "model_id": "976a24f10ebe44fb95d0b40e6cca12db",
       "version_major": 2,
       "version_minor": 0
      },
      "text/plain": [
       "HBox(children=(IntProgress(value=0, description='Testing GO_(N:50,M:100,T1:0.5,T2:0.1,Cr:0.2,mult:1)', style=P…"
      ]
     },
     "metadata": {},
     "output_type": "display_data"
    },
    {
     "name": "stdout",
     "output_type": "stream",
     "text": [
      "\n"
     ]
    },
    {
     "data": {
      "application/vnd.jupyter.widget-view+json": {
       "model_id": "e2d6bae67a8e44aa97bfb434528feb54",
       "version_major": 2,
       "version_minor": 0
      },
      "text/plain": [
       "HBox(children=(IntProgress(value=0, description='Testing GO_(N:50,M:100,T1:0.5,T2:0.1,Cr:0.01,mult:1)', style=…"
      ]
     },
     "metadata": {},
     "output_type": "display_data"
    },
    {
     "name": "stdout",
     "output_type": "stream",
     "text": [
      "\n"
     ]
    },
    {
     "data": {
      "application/vnd.jupyter.widget-view+json": {
       "model_id": "73e9c816b7f5475b83f82c3b94614e75",
       "version_major": 2,
       "version_minor": 0
      },
      "text/plain": [
       "HBox(children=(IntProgress(value=0, description='Testing GO_(N:50,M:100,T1:0.5,T2:0.1,Cr:0.1,mult:2)', style=P…"
      ]
     },
     "metadata": {},
     "output_type": "display_data"
    },
    {
     "name": "stdout",
     "output_type": "stream",
     "text": [
      "\n"
     ]
    },
    {
     "data": {
      "application/vnd.jupyter.widget-view+json": {
       "model_id": "5028e0b922dc47d09d0aaf93ac692aba",
       "version_major": 2,
       "version_minor": 0
      },
      "text/plain": [
       "HBox(children=(IntProgress(value=0, description='Testing GO_(N:50,M:100,T1:0.5,T2:0.1,Cr:0.1,mult:4)', style=P…"
      ]
     },
     "metadata": {},
     "output_type": "display_data"
    },
    {
     "name": "stdout",
     "output_type": "stream",
     "text": [
      "\n"
     ]
    },
    {
     "data": {
      "application/vnd.jupyter.widget-view+json": {
       "model_id": "fa6d278ffaf94bbf9ee640e62cb61ff9",
       "version_major": 2,
       "version_minor": 0
      },
      "text/plain": [
       "HBox(children=(IntProgress(value=0, description='Testing GO_(N:50,M:100,T1:0.5,T2:0.1,Cr:0.1,mult:6)', style=P…"
      ]
     },
     "metadata": {},
     "output_type": "display_data"
    },
    {
     "name": "stdout",
     "output_type": "stream",
     "text": [
      "\n"
     ]
    }
   ],
   "source": [
    "resultsGO = pd.DataFrame()\n",
    "runs = []\n",
    "for setup in [{'N': 50, 'M': 150, 'multipoint': 1, 'T1': 0.5, 'T2': 0.1, 'Cr': 1,},\n",
    "              {'N': 50, 'M': 100, 'multipoint': 1, 'T1': 0.5, 'T2': 0.1, 'Cr': 1,},\n",
    "              {'N': 50, 'M': 100, 'multipoint': 1, 'T1': 0.5, 'T2': 0.2, 'Cr': 1,},\n",
    "              {'N': 50, 'M': 100, 'multipoint': 1, 'T1': 0.5, 'T2': 0.1, 'Cr': 0.1,},\n",
    "              {'N': 50, 'M': 100, 'multipoint': 1, 'T1': 0.5, 'T2': 0.1, 'Cr': 0.2,},\n",
    "              {'N': 50, 'M': 100, 'multipoint': 1, 'T1': 0.5, 'T2': 0.1, 'Cr': 0.01,},\n",
    "              {'N': 50, 'M': 100, 'multipoint': 2, 'T1': 0.5, 'T2': 0.1, 'Cr': 0.1,},\n",
    "              {'N': 50, 'M': 100, 'multipoint': 4, 'T1': 0.5, 'T2': 0.1, 'Cr': 0.1,},\n",
    "              {'N': 50, 'M': 100, 'multipoint': 6, 'T1': 0.5, 'T2': 0.1, 'Cr': 0.1,}\n",
    "             ]:\n",
    "    heur_name = 'GO_(N:{},M:{},T1:{},T2:{},Cr:{},mult:{})'.format( setup['N'],\n",
    "                                                                   setup['M'],\n",
    "                                                                   setup['T1'],\n",
    "                                                                   setup['T2'],\n",
    "                                                                   setup['Cr'],\n",
    "                                                                   setup['multipoint'] )\n",
    "    for i in tqdm(range(NUM_RUNS), 'Testing {}'.format(heur_name)):\n",
    "        run = GeneticOptimization( prob, \n",
    "                                   maxeval=maxeval,\n",
    "                                   N=setup['N'],\n",
    "                                   M=setup['M'],\n",
    "                                   Tsel1=setup['T1'],\n",
    "                                   Tsel2=setup['T2'], \n",
    "                                   mutation=CauchyMutation(r = setup['Cr'], correction =NormalizeCorrection(prob)),\n",
    "                                   crossover=UniformMultipoint(setup['multipoint']) ).search()\n",
    "        run['run'] = i\n",
    "        run['heur'] = heur_name\n",
    "        runs.append(run)\n",
    "    \n",
    "    res_df = pd.DataFrame(runs, columns=['heur', 'run', 'best_x', 'best_y', 'neval'])\n",
    "    resultsGO = pd.concat([resultsGO, res_df], axis=0)\n"
   ]
  },
  {
   "cell_type": "markdown",
   "metadata": {},
   "source": [
    "### Results of GO"
   ]
  },
  {
   "cell_type": "code",
   "execution_count": 32,
   "metadata": {
    "scrolled": true
   },
   "outputs": [
    {
     "data": {
      "text/html": [
       "<div>\n",
       "<style scoped>\n",
       "    .dataframe tbody tr th:only-of-type {\n",
       "        vertical-align: middle;\n",
       "    }\n",
       "\n",
       "    .dataframe tbody tr th {\n",
       "        vertical-align: top;\n",
       "    }\n",
       "\n",
       "    .dataframe thead th {\n",
       "        text-align: right;\n",
       "    }\n",
       "</style>\n",
       "<table border=\"1\" class=\"dataframe\">\n",
       "  <thead>\n",
       "    <tr style=\"text-align: right;\">\n",
       "      <th></th>\n",
       "      <th>heur</th>\n",
       "      <th>feo</th>\n",
       "      <th>mne</th>\n",
       "      <th>rel</th>\n",
       "    </tr>\n",
       "  </thead>\n",
       "  <tbody>\n",
       "    <tr>\n",
       "      <td>3</td>\n",
       "      <td>GO_(N:50,M:100,T1:0.5,T2:0.1,Cr:0.1,mult:4)</td>\n",
       "      <td>424.913495</td>\n",
       "      <td>361.176471</td>\n",
       "      <td>0.85</td>\n",
       "    </tr>\n",
       "    <tr>\n",
       "      <td>0</td>\n",
       "      <td>GO_(N:50,M:100,T1:0.5,T2:0.1,Cr:0.01,mult:1)</td>\n",
       "      <td>444.226609</td>\n",
       "      <td>382.034884</td>\n",
       "      <td>0.86</td>\n",
       "    </tr>\n",
       "    <tr>\n",
       "      <td>4</td>\n",
       "      <td>GO_(N:50,M:100,T1:0.5,T2:0.1,Cr:0.1,mult:6)</td>\n",
       "      <td>433.423472</td>\n",
       "      <td>372.744186</td>\n",
       "      <td>0.86</td>\n",
       "    </tr>\n",
       "    <tr>\n",
       "      <td>6</td>\n",
       "      <td>GO_(N:50,M:100,T1:0.5,T2:0.1,Cr:1,mult:1)</td>\n",
       "      <td>365.556877</td>\n",
       "      <td>318.034483</td>\n",
       "      <td>0.87</td>\n",
       "    </tr>\n",
       "    <tr>\n",
       "      <td>2</td>\n",
       "      <td>GO_(N:50,M:100,T1:0.5,T2:0.1,Cr:0.1,mult:2)</td>\n",
       "      <td>415.049383</td>\n",
       "      <td>373.544444</td>\n",
       "      <td>0.90</td>\n",
       "    </tr>\n",
       "    <tr>\n",
       "      <td>7</td>\n",
       "      <td>GO_(N:50,M:100,T1:0.5,T2:0.2,Cr:1,mult:1)</td>\n",
       "      <td>416.012346</td>\n",
       "      <td>374.411111</td>\n",
       "      <td>0.90</td>\n",
       "    </tr>\n",
       "    <tr>\n",
       "      <td>8</td>\n",
       "      <td>GO_(N:50,M:150,T1:0.5,T2:0.1,Cr:1,mult:1)</td>\n",
       "      <td>417.751479</td>\n",
       "      <td>380.153846</td>\n",
       "      <td>0.91</td>\n",
       "    </tr>\n",
       "    <tr>\n",
       "      <td>5</td>\n",
       "      <td>GO_(N:50,M:100,T1:0.5,T2:0.1,Cr:0.2,mult:1)</td>\n",
       "      <td>406.846990</td>\n",
       "      <td>382.436170</td>\n",
       "      <td>0.94</td>\n",
       "    </tr>\n",
       "    <tr>\n",
       "      <td>1</td>\n",
       "      <td>GO_(N:50,M:100,T1:0.5,T2:0.1,Cr:0.1,mult:1)</td>\n",
       "      <td>337.839335</td>\n",
       "      <td>320.947368</td>\n",
       "      <td>0.95</td>\n",
       "    </tr>\n",
       "  </tbody>\n",
       "</table>\n",
       "</div>"
      ],
      "text/plain": [
       "                                           heur         feo         mne   rel\n",
       "3   GO_(N:50,M:100,T1:0.5,T2:0.1,Cr:0.1,mult:4)  424.913495  361.176471  0.85\n",
       "0  GO_(N:50,M:100,T1:0.5,T2:0.1,Cr:0.01,mult:1)  444.226609  382.034884  0.86\n",
       "4   GO_(N:50,M:100,T1:0.5,T2:0.1,Cr:0.1,mult:6)  433.423472  372.744186  0.86\n",
       "6     GO_(N:50,M:100,T1:0.5,T2:0.1,Cr:1,mult:1)  365.556877  318.034483  0.87\n",
       "2   GO_(N:50,M:100,T1:0.5,T2:0.1,Cr:0.1,mult:2)  415.049383  373.544444  0.90\n",
       "7     GO_(N:50,M:100,T1:0.5,T2:0.2,Cr:1,mult:1)  416.012346  374.411111  0.90\n",
       "8     GO_(N:50,M:150,T1:0.5,T2:0.1,Cr:1,mult:1)  417.751479  380.153846  0.91\n",
       "5   GO_(N:50,M:100,T1:0.5,T2:0.1,Cr:0.2,mult:1)  406.846990  382.436170  0.94\n",
       "1   GO_(N:50,M:100,T1:0.5,T2:0.1,Cr:0.1,mult:1)  337.839335  320.947368  0.95"
      ]
     },
     "execution_count": 32,
     "metadata": {},
     "output_type": "execute_result"
    }
   ],
   "source": [
    "results_pivot = resultsGO.pivot_table(\n",
    "    index=['heur'],\n",
    "    values=['neval'],\n",
    "    aggfunc=(rel, mne, feo)\n",
    ")['neval']\n",
    "results_pivot = results_pivot.reset_index()\n",
    "results_pivot.sort_values(by='rel')"
   ]
  },
  {
   "cell_type": "code",
   "execution_count": 33,
   "metadata": {},
   "outputs": [
    {
     "data": {
      "text/html": [
       "<div>\n",
       "<style scoped>\n",
       "    .dataframe tbody tr th:only-of-type {\n",
       "        vertical-align: middle;\n",
       "    }\n",
       "\n",
       "    .dataframe tbody tr th {\n",
       "        vertical-align: top;\n",
       "    }\n",
       "\n",
       "    .dataframe thead th {\n",
       "        text-align: right;\n",
       "    }\n",
       "</style>\n",
       "<table border=\"1\" class=\"dataframe\">\n",
       "  <thead>\n",
       "    <tr style=\"text-align: right;\">\n",
       "      <th></th>\n",
       "      <th>heur</th>\n",
       "      <th>run</th>\n",
       "      <th>best_x</th>\n",
       "      <th>best_y</th>\n",
       "      <th>neval</th>\n",
       "    </tr>\n",
       "  </thead>\n",
       "  <tbody>\n",
       "    <tr>\n",
       "      <td>620</td>\n",
       "      <td>GO_(N:50,M:100,T1:0.5,T2:0.1,Cr:0.1,mult:2)</td>\n",
       "      <td>20</td>\n",
       "      <td>[6.4738806890920095e-06, 5.6062032552770495e-0...</td>\n",
       "      <td>-63.995317</td>\n",
       "      <td>177.0</td>\n",
       "    </tr>\n",
       "    <tr>\n",
       "      <td>620</td>\n",
       "      <td>GO_(N:50,M:100,T1:0.5,T2:0.1,Cr:0.1,mult:2)</td>\n",
       "      <td>20</td>\n",
       "      <td>[6.4738806890920095e-06, 5.6062032552770495e-0...</td>\n",
       "      <td>-63.995317</td>\n",
       "      <td>177.0</td>\n",
       "    </tr>\n",
       "    <tr>\n",
       "      <td>620</td>\n",
       "      <td>GO_(N:50,M:100,T1:0.5,T2:0.1,Cr:0.1,mult:2)</td>\n",
       "      <td>20</td>\n",
       "      <td>[6.4738806890920095e-06, 5.6062032552770495e-0...</td>\n",
       "      <td>-63.995317</td>\n",
       "      <td>177.0</td>\n",
       "    </tr>\n",
       "    <tr>\n",
       "      <td>131</td>\n",
       "      <td>GO_(N:50,M:100,T1:0.5,T2:0.1,Cr:1,mult:1)</td>\n",
       "      <td>31</td>\n",
       "      <td>[2.347732954678291e-06, 1.2565390161854134e-06...</td>\n",
       "      <td>-63.993792</td>\n",
       "      <td>339.0</td>\n",
       "    </tr>\n",
       "    <tr>\n",
       "      <td>131</td>\n",
       "      <td>GO_(N:50,M:100,T1:0.5,T2:0.1,Cr:1,mult:1)</td>\n",
       "      <td>31</td>\n",
       "      <td>[2.347732954678291e-06, 1.2565390161854134e-06...</td>\n",
       "      <td>-63.993792</td>\n",
       "      <td>339.0</td>\n",
       "    </tr>\n",
       "    <tr>\n",
       "      <td>...</td>\n",
       "      <td>...</td>\n",
       "      <td>...</td>\n",
       "      <td>...</td>\n",
       "      <td>...</td>\n",
       "      <td>...</td>\n",
       "    </tr>\n",
       "    <tr>\n",
       "      <td>469</td>\n",
       "      <td>GO_(N:50,M:100,T1:0.5,T2:0.1,Cr:0.2,mult:1)</td>\n",
       "      <td>69</td>\n",
       "      <td>[0.002205280120119328, 0.0010484629011277046, ...</td>\n",
       "      <td>-40.096533</td>\n",
       "      <td>inf</td>\n",
       "    </tr>\n",
       "    <tr>\n",
       "      <td>469</td>\n",
       "      <td>GO_(N:50,M:100,T1:0.5,T2:0.1,Cr:0.2,mult:1)</td>\n",
       "      <td>69</td>\n",
       "      <td>[0.002205280120119328, 0.0010484629011277046, ...</td>\n",
       "      <td>-40.096533</td>\n",
       "      <td>inf</td>\n",
       "    </tr>\n",
       "    <tr>\n",
       "      <td>469</td>\n",
       "      <td>GO_(N:50,M:100,T1:0.5,T2:0.1,Cr:0.2,mult:1)</td>\n",
       "      <td>69</td>\n",
       "      <td>[0.002205280120119328, 0.0010484629011277046, ...</td>\n",
       "      <td>-40.096533</td>\n",
       "      <td>inf</td>\n",
       "    </tr>\n",
       "    <tr>\n",
       "      <td>469</td>\n",
       "      <td>GO_(N:50,M:100,T1:0.5,T2:0.1,Cr:0.2,mult:1)</td>\n",
       "      <td>69</td>\n",
       "      <td>[0.002205280120119328, 0.0010484629011277046, ...</td>\n",
       "      <td>-40.096533</td>\n",
       "      <td>inf</td>\n",
       "    </tr>\n",
       "    <tr>\n",
       "      <td>469</td>\n",
       "      <td>GO_(N:50,M:100,T1:0.5,T2:0.1,Cr:0.2,mult:1)</td>\n",
       "      <td>69</td>\n",
       "      <td>[0.002205280120119328, 0.0010484629011277046, ...</td>\n",
       "      <td>-40.096533</td>\n",
       "      <td>inf</td>\n",
       "    </tr>\n",
       "  </tbody>\n",
       "</table>\n",
       "<p>4500 rows × 5 columns</p>\n",
       "</div>"
      ],
      "text/plain": [
       "                                            heur  run  \\\n",
       "620  GO_(N:50,M:100,T1:0.5,T2:0.1,Cr:0.1,mult:2)   20   \n",
       "620  GO_(N:50,M:100,T1:0.5,T2:0.1,Cr:0.1,mult:2)   20   \n",
       "620  GO_(N:50,M:100,T1:0.5,T2:0.1,Cr:0.1,mult:2)   20   \n",
       "131    GO_(N:50,M:100,T1:0.5,T2:0.1,Cr:1,mult:1)   31   \n",
       "131    GO_(N:50,M:100,T1:0.5,T2:0.1,Cr:1,mult:1)   31   \n",
       "..                                           ...  ...   \n",
       "469  GO_(N:50,M:100,T1:0.5,T2:0.1,Cr:0.2,mult:1)   69   \n",
       "469  GO_(N:50,M:100,T1:0.5,T2:0.1,Cr:0.2,mult:1)   69   \n",
       "469  GO_(N:50,M:100,T1:0.5,T2:0.1,Cr:0.2,mult:1)   69   \n",
       "469  GO_(N:50,M:100,T1:0.5,T2:0.1,Cr:0.2,mult:1)   69   \n",
       "469  GO_(N:50,M:100,T1:0.5,T2:0.1,Cr:0.2,mult:1)   69   \n",
       "\n",
       "                                                best_x     best_y  neval  \n",
       "620  [6.4738806890920095e-06, 5.6062032552770495e-0... -63.995317  177.0  \n",
       "620  [6.4738806890920095e-06, 5.6062032552770495e-0... -63.995317  177.0  \n",
       "620  [6.4738806890920095e-06, 5.6062032552770495e-0... -63.995317  177.0  \n",
       "131  [2.347732954678291e-06, 1.2565390161854134e-06... -63.993792  339.0  \n",
       "131  [2.347732954678291e-06, 1.2565390161854134e-06... -63.993792  339.0  \n",
       "..                                                 ...        ...    ...  \n",
       "469  [0.002205280120119328, 0.0010484629011277046, ... -40.096533    inf  \n",
       "469  [0.002205280120119328, 0.0010484629011277046, ... -40.096533    inf  \n",
       "469  [0.002205280120119328, 0.0010484629011277046, ... -40.096533    inf  \n",
       "469  [0.002205280120119328, 0.0010484629011277046, ... -40.096533    inf  \n",
       "469  [0.002205280120119328, 0.0010484629011277046, ... -40.096533    inf  \n",
       "\n",
       "[4500 rows x 5 columns]"
      ]
     },
     "execution_count": 33,
     "metadata": {},
     "output_type": "execute_result"
    }
   ],
   "source": [
    "resultsGO.sort_values(by=['best_y'], inplace=True)\n",
    "resultsGO"
   ]
  },
  {
   "cell_type": "code",
   "execution_count": 35,
   "metadata": {},
   "outputs": [
    {
     "data": {
      "application/vnd.jupyter.widget-view+json": {
       "model_id": "6ef775790ef14e04a8a0ba957788be7d",
       "version_major": 2,
       "version_minor": 0
      },
      "text/plain": [
       "HBox(children=(IntProgress(value=0, description='Testing RS_1000', style=ProgressStyle(description_width='init…"
      ]
     },
     "metadata": {},
     "output_type": "display_data"
    },
    {
     "name": "stdout",
     "output_type": "stream",
     "text": [
      "\n"
     ]
    }
   ],
   "source": [
    "resultsRS = pd.DataFrame()\n",
    "runs = []\n",
    "heur_name = 'RS_{}'.format(maxeval)\n",
    "for i in tqdm(range(NUM_RUNS), 'Testing {}'.format(heur_name)):\n",
    "    run = ShootAndGo(prob, maxeval, 0).search()\n",
    "    run['run'] = i\n",
    "    run['heur'] = heur_name\n",
    "    runs.append(run)\n",
    "    \n",
    "res_df = pd.DataFrame(runs, columns=['heur', 'run', 'best_x', 'best_y', 'neval'])\n",
    "resultsRS = pd.concat([resultsRS, res_df], axis=0)"
   ]
  },
  {
   "cell_type": "code",
   "execution_count": 36,
   "metadata": {},
   "outputs": [
    {
     "data": {
      "text/html": [
       "<div>\n",
       "<style scoped>\n",
       "    .dataframe tbody tr th:only-of-type {\n",
       "        vertical-align: middle;\n",
       "    }\n",
       "\n",
       "    .dataframe tbody tr th {\n",
       "        vertical-align: top;\n",
       "    }\n",
       "\n",
       "    .dataframe thead th {\n",
       "        text-align: right;\n",
       "    }\n",
       "</style>\n",
       "<table border=\"1\" class=\"dataframe\">\n",
       "  <thead>\n",
       "    <tr style=\"text-align: right;\">\n",
       "      <th></th>\n",
       "      <th>heur</th>\n",
       "      <th>rel</th>\n",
       "    </tr>\n",
       "  </thead>\n",
       "  <tbody>\n",
       "    <tr>\n",
       "      <td>0</td>\n",
       "      <td>RS_1000</td>\n",
       "      <td>0.0</td>\n",
       "    </tr>\n",
       "  </tbody>\n",
       "</table>\n",
       "</div>"
      ],
      "text/plain": [
       "      heur  rel\n",
       "0  RS_1000  0.0"
      ]
     },
     "execution_count": 36,
     "metadata": {},
     "output_type": "execute_result"
    }
   ],
   "source": [
    "results_pivot = resultsRS.pivot_table(\n",
    "    index=['heur'],\n",
    "    values=['neval'],\n",
    "    aggfunc=(rel, mne, feo)\n",
    ")['neval']\n",
    "results_pivot = results_pivot.reset_index()\n",
    "results_pivot.sort_values(by='rel')"
   ]
  },
  {
   "cell_type": "code",
   "execution_count": 37,
   "metadata": {},
   "outputs": [
    {
     "data": {
      "text/html": [
       "<div>\n",
       "<style scoped>\n",
       "    .dataframe tbody tr th:only-of-type {\n",
       "        vertical-align: middle;\n",
       "    }\n",
       "\n",
       "    .dataframe tbody tr th {\n",
       "        vertical-align: top;\n",
       "    }\n",
       "\n",
       "    .dataframe thead th {\n",
       "        text-align: right;\n",
       "    }\n",
       "</style>\n",
       "<table border=\"1\" class=\"dataframe\">\n",
       "  <thead>\n",
       "    <tr style=\"text-align: right;\">\n",
       "      <th></th>\n",
       "      <th>heur</th>\n",
       "      <th>run</th>\n",
       "      <th>best_x</th>\n",
       "      <th>best_y</th>\n",
       "      <th>neval</th>\n",
       "    </tr>\n",
       "  </thead>\n",
       "  <tbody>\n",
       "    <tr>\n",
       "      <td>58</td>\n",
       "      <td>RS_1000</td>\n",
       "      <td>58</td>\n",
       "      <td>[0.0011516312335393927, 0.0002763061415373276,...</td>\n",
       "      <td>-16.100966</td>\n",
       "      <td>inf</td>\n",
       "    </tr>\n",
       "    <tr>\n",
       "      <td>70</td>\n",
       "      <td>RS_1000</td>\n",
       "      <td>70</td>\n",
       "      <td>[0.014781668400531484, 0.0018398509033552754, ...</td>\n",
       "      <td>-15.393416</td>\n",
       "      <td>inf</td>\n",
       "    </tr>\n",
       "    <tr>\n",
       "      <td>37</td>\n",
       "      <td>RS_1000</td>\n",
       "      <td>37</td>\n",
       "      <td>[0.003072653316818609, 0.007438733803422267, 0...</td>\n",
       "      <td>-14.516809</td>\n",
       "      <td>inf</td>\n",
       "    </tr>\n",
       "    <tr>\n",
       "      <td>27</td>\n",
       "      <td>RS_1000</td>\n",
       "      <td>27</td>\n",
       "      <td>[0.0011346834202400997, 0.029969242632115162, ...</td>\n",
       "      <td>-14.011076</td>\n",
       "      <td>inf</td>\n",
       "    </tr>\n",
       "    <tr>\n",
       "      <td>5</td>\n",
       "      <td>RS_1000</td>\n",
       "      <td>5</td>\n",
       "      <td>[0.0074833519246829345, 0.001798198068404836, ...</td>\n",
       "      <td>-13.704761</td>\n",
       "      <td>inf</td>\n",
       "    </tr>\n",
       "    <tr>\n",
       "      <td>...</td>\n",
       "      <td>...</td>\n",
       "      <td>...</td>\n",
       "      <td>...</td>\n",
       "      <td>...</td>\n",
       "      <td>...</td>\n",
       "    </tr>\n",
       "    <tr>\n",
       "      <td>49</td>\n",
       "      <td>RS_1000</td>\n",
       "      <td>49</td>\n",
       "      <td>[0.014694935583315822, 0.04031548877141456, 0....</td>\n",
       "      <td>-8.153583</td>\n",
       "      <td>inf</td>\n",
       "    </tr>\n",
       "    <tr>\n",
       "      <td>11</td>\n",
       "      <td>RS_1000</td>\n",
       "      <td>11</td>\n",
       "      <td>[0.021339901166269572, 0.007083716432129614, 0...</td>\n",
       "      <td>-7.967033</td>\n",
       "      <td>inf</td>\n",
       "    </tr>\n",
       "    <tr>\n",
       "      <td>47</td>\n",
       "      <td>RS_1000</td>\n",
       "      <td>47</td>\n",
       "      <td>[0.009726495415154158, 0.017720602015461124, 0...</td>\n",
       "      <td>-7.943908</td>\n",
       "      <td>inf</td>\n",
       "    </tr>\n",
       "    <tr>\n",
       "      <td>65</td>\n",
       "      <td>RS_1000</td>\n",
       "      <td>65</td>\n",
       "      <td>[0.0038460584896595103, 0.04282430263723379, 0...</td>\n",
       "      <td>-7.924220</td>\n",
       "      <td>inf</td>\n",
       "    </tr>\n",
       "    <tr>\n",
       "      <td>74</td>\n",
       "      <td>RS_1000</td>\n",
       "      <td>74</td>\n",
       "      <td>[0.012127406916833743, 0.01713578348605172, 0....</td>\n",
       "      <td>-7.135368</td>\n",
       "      <td>inf</td>\n",
       "    </tr>\n",
       "  </tbody>\n",
       "</table>\n",
       "<p>100 rows × 5 columns</p>\n",
       "</div>"
      ],
      "text/plain": [
       "       heur  run                                             best_x  \\\n",
       "58  RS_1000   58  [0.0011516312335393927, 0.0002763061415373276,...   \n",
       "70  RS_1000   70  [0.014781668400531484, 0.0018398509033552754, ...   \n",
       "37  RS_1000   37  [0.003072653316818609, 0.007438733803422267, 0...   \n",
       "27  RS_1000   27  [0.0011346834202400997, 0.029969242632115162, ...   \n",
       "5   RS_1000    5  [0.0074833519246829345, 0.001798198068404836, ...   \n",
       "..      ...  ...                                                ...   \n",
       "49  RS_1000   49  [0.014694935583315822, 0.04031548877141456, 0....   \n",
       "11  RS_1000   11  [0.021339901166269572, 0.007083716432129614, 0...   \n",
       "47  RS_1000   47  [0.009726495415154158, 0.017720602015461124, 0...   \n",
       "65  RS_1000   65  [0.0038460584896595103, 0.04282430263723379, 0...   \n",
       "74  RS_1000   74  [0.012127406916833743, 0.01713578348605172, 0....   \n",
       "\n",
       "       best_y  neval  \n",
       "58 -16.100966    inf  \n",
       "70 -15.393416    inf  \n",
       "37 -14.516809    inf  \n",
       "27 -14.011076    inf  \n",
       "5  -13.704761    inf  \n",
       "..        ...    ...  \n",
       "49  -8.153583    inf  \n",
       "11  -7.967033    inf  \n",
       "47  -7.943908    inf  \n",
       "65  -7.924220    inf  \n",
       "74  -7.135368    inf  \n",
       "\n",
       "[100 rows x 5 columns]"
      ]
     },
     "execution_count": 37,
     "metadata": {},
     "output_type": "execute_result"
    }
   ],
   "source": [
    "resultsRS.sort_values(by=['best_y'], inplace=True)\n",
    "resultsRS"
   ]
  },
  {
   "cell_type": "markdown",
   "metadata": {},
   "source": [
    "# Conclusion\n",
    "In this work a specific problem with unknown $f^{*}$ was tested. At first the implementation of the problem was tested. Then, a more complex setup were created and the problem was analyzed.\n",
    "For the sake of analysis we prepared an estimate of the `x_star`. However, this estimate of `x_star` and $f^{*}$ was surpassed by the genetic optimization at first run. Therefore, the $f^{*}$ of the problem was updated according to the new result. The following table summarizes the tested heuristics.\n",
    "\n",
    "| heuristics | problem | result |\n",
    "|:---:|:---:|:---|\n",
    "|Genetic optimization| penalized | The result was pretty bad, [see](#Notes:) |\n",
    "|Genetic optimization|non-penalized| The result is very good and the reliability hits over 90% ([see](#Results-of-GO)), however the solution is not as smooth as was expected.|\n",
    "|Random Shooting|non-penalized| This heuristics never hit the $f^{*}$ |\n",
    "\n",
    "Note: The resuts generated by PSO have the same behaviour as the ones from GO algorithm."
   ]
  }
 ],
 "metadata": {
  "kernelspec": {
   "display_name": "Python 3",
   "language": "python",
   "name": "python3"
  },
  "language_info": {
   "codemirror_mode": {
    "name": "ipython",
    "version": 3
   },
   "file_extension": ".py",
   "mimetype": "text/x-python",
   "name": "python",
   "nbconvert_exporter": "python",
   "pygments_lexer": "ipython3",
   "version": "3.7.4"
  }
 },
 "nbformat": 4,
 "nbformat_minor": 2
}
