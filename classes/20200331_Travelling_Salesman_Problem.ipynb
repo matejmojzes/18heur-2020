{
 "cells": [
  {
   "cell_type": "markdown",
   "metadata": {},
   "source": [
    "# Travelling Salesman Problem (TSP) on a rectangular grid \n",
    "\n",
    "### Objective function description\n",
    "\n",
    "* Cities placed on a rectangular grid in $\\mathbb{R}^n$, dimension given by $A, B \\in \\mathbb{N}$\n",
    "* Assuming Euclidean distance the optimal tour has the length  \n",
    "  * $A \\cdot B + \\sqrt{2} - 1$ if $A$ and $B$ are even numbers\n",
    "  * $A \\cdot B$ otherwise\n",
    "\n",
    "### How to find optimal tour using heuristics?\n",
    "\n",
    "Our success heavily depends on efficient solution encoding. Rather extreme, binary, representation would result in $2^{n^2}$ states. Let us consider an encoding using $(n-1)!$ states \"only\", as demonstrated on the following example with $A=3$,  $B=2$ grid:\n",
    "  \n",
    "<img src=\"img/tsp_example.png\">\n",
    "\n",
    "Tour (in green) starts in city 0 and ends 1, proceeding via 2, 4, 5, 3. This corresponds to encoded solution $(1, 2, 2, 1, 0)$, i.e. indices of the selected remaining cities in each step.\n",
    "\n",
    "Notes:\n",
    "\n",
    "* $n = A \\cdot B$\n",
    "* $\\mathbf{a} = (0, 0, \\ldots, 0)$ \n",
    "* $\\mathbf{b} = (n-2, n-3, \\ldots, 0)$\n",
    "* $f^*$ quals to \n",
    "  * $A \\cdot B + \\sqrt{2} - 1$ if both $A$ and $B$ are even numbers\n",
    "  * $A \\cdot B$ otherwise\n",
    "* **For serious TSP optimization you should use much more sophisticated approaches, e.g. the [Concorde](https://en.wikipedia.org/wiki/Concorde_TSP_Solver) algorithm**"
   ]
  },
  {
   "cell_type": "markdown",
   "metadata": {},
   "source": [
    "# Example Implementation\n",
    "\n",
    "You can find it in `src/objfun_tsp.py`, class `TSPGrid`.\n",
    "\n",
    "Real-world demonstration follows:"
   ]
  },
  {
   "cell_type": "code",
   "execution_count": 1,
   "metadata": {},
   "outputs": [],
   "source": [
    "# Import path to source directory (bit of a hack in Jupyter)\n",
    "import sys\n",
    "import os\n",
    "pwd = %pwd\n",
    "sys.path.append(os.path.join(pwd, os.path.join('..', 'src')))\n",
    "\n",
    "# Ensure modules are reloaded on any change (very useful when developing code on the fly)\n",
    "%load_ext autoreload\n",
    "%autoreload 2"
   ]
  },
  {
   "cell_type": "code",
   "execution_count": 2,
   "metadata": {},
   "outputs": [],
   "source": [
    "# Import extrenal librarires\n",
    "import numpy as np\n",
    "\n",
    "# Import our code\n",
    "from heur_sg import ShootAndGo\n",
    "from objfun_tsp import TSPGrid  # <-- our implementation of TSP"
   ]
  },
  {
   "cell_type": "markdown",
   "metadata": {},
   "source": [
    "### ``TSPGrid(3, 2)`` demonstration"
   ]
  },
  {
   "cell_type": "code",
   "execution_count": 3,
   "metadata": {},
   "outputs": [],
   "source": [
    "# initialization\n",
    "tsp = TSPGrid(3, 2)"
   ]
  },
  {
   "cell_type": "code",
   "execution_count": 4,
   "metadata": {},
   "outputs": [
    {
     "name": "stdout",
     "output_type": "stream",
     "text": [
      "[0 2 1 1 0]\n"
     ]
    }
   ],
   "source": [
    "# random point generation\n",
    "x = tsp.generate_point()\n",
    "print(x)"
   ]
  },
  {
   "cell_type": "code",
   "execution_count": 5,
   "metadata": {},
   "outputs": [
    {
     "name": "stdout",
     "output_type": "stream",
     "text": [
      "[0 1 4 3 5 2]\n"
     ]
    }
   ],
   "source": [
    "# decode this solution (into list of visited cities)\n",
    "cx = tsp.decode(x)\n",
    "print(cx)"
   ]
  },
  {
   "cell_type": "code",
   "execution_count": 6,
   "metadata": {},
   "outputs": [
    {
     "name": "stdout",
     "output_type": "stream",
     "text": [
      "8.06449510224598\n"
     ]
    }
   ],
   "source": [
    "# what is the cost of such tour?\n",
    "of_val = tsp.evaluate(x)\n",
    "print(of_val)"
   ]
  },
  {
   "cell_type": "code",
   "execution_count": 7,
   "metadata": {},
   "outputs": [
    {
     "name": "stdout",
     "output_type": "stream",
     "text": [
      "6.0\n"
     ]
    }
   ],
   "source": [
    "# what is the cost of our example tour?\n",
    "of_val = tsp.evaluate([1, 2, 2, 1, 0])\n",
    "print(of_val)"
   ]
  },
  {
   "cell_type": "code",
   "execution_count": 7,
   "metadata": {},
   "outputs": [
    {
     "name": "stdout",
     "output_type": "stream",
     "text": [
      "[array([1, 2, 1, 1, 0]), array([0, 1, 1, 1, 0]), array([0, 3, 1, 1, 0]), array([0, 2, 0, 1, 0]), array([0, 2, 2, 1, 0]), array([0, 2, 1, 0, 0])]\n"
     ]
    }
   ],
   "source": [
    "# neighbourhood of x:\n",
    "N = tsp.get_neighborhood(x, 1)\n",
    "print(N)"
   ]
  },
  {
   "cell_type": "code",
   "execution_count": 8,
   "metadata": {},
   "outputs": [
    {
     "name": "stdout",
     "output_type": "stream",
     "text": [
      "[1 2 1 1 0] ([0 2 4 3 5 1]) -> 7.4142\n",
      "[0 1 1 1 0] ([0 1 3 4 5 2]) -> 6.8284\n",
      "[0 3 1 1 0] ([0 1 5 3 4 2]) -> 7.4142\n",
      "[0 2 0 1 0] ([0 1 4 2 5 3]) -> 8.0645\n",
      "[0 2 2 1 0] ([0 1 4 5 3 2]) -> 7.2361\n",
      "[0 2 1 0 0] ([0 1 4 3 2 5]) -> 9.3006\n"
     ]
    }
   ],
   "source": [
    "# decoded neighbours and their objective function values\n",
    "for xn in N:\n",
    "    print('{} ({}) -> {:.4f}'.format(xn, tsp.decode(xn), tsp.evaluate(xn)))"
   ]
  },
  {
   "cell_type": "markdown",
   "metadata": {},
   "source": [
    "**Carefully** mind the difference between encoded solution vector vs decoded city tour and meaning of such neighbourhood."
   ]
  },
  {
   "cell_type": "markdown",
   "metadata": {},
   "source": [
    "### TSP optimization using Random Shooting ($\\mathrm{SG}_{0}$)"
   ]
  },
  {
   "cell_type": "code",
   "execution_count": 12,
   "metadata": {},
   "outputs": [
    {
     "name": "stdout",
     "output_type": "stream",
     "text": [
      "{'best_y': 6.0, 'best_x': array([0, 1, 2, 1, 0]), 'neval': 1, 'log_data': Empty DataFrame\n",
      "Columns: []\n",
      "Index: []}\n"
     ]
    }
   ],
   "source": [
    "heur = ShootAndGo(tsp, maxeval=1000, hmax=0)\n",
    "print(heur.search())"
   ]
  },
  {
   "cell_type": "markdown",
   "metadata": {},
   "source": [
    "# Assignments:\n",
    "\n",
    "1. Try to find a better performing heuristic (to test TSP implementation on your own).\n",
    "2. Can you improve heuristic performance using any \n",
    "   1. **better random point generator**?\n",
    "   2. **better neighbourhood generator**?\n",
    "\n",
    "Use performance measures of your choice, e.g. $FEO$."
   ]
  }
 ],
 "metadata": {
  "kernelspec": {
   "display_name": "Python 3",
   "language": "python",
   "name": "python3"
  },
  "language_info": {
   "codemirror_mode": {
    "name": "ipython",
    "version": 3
   },
   "file_extension": ".py",
   "mimetype": "text/x-python",
   "name": "python",
   "nbconvert_exporter": "python",
   "pygments_lexer": "ipython3",
   "version": "3.7.4"
  }
 },
 "nbformat": 4,
 "nbformat_minor": 1
}
