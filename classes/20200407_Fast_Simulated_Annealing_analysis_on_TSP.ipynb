{
 "cells": [
  {
   "cell_type": "markdown",
   "metadata": {},
   "source": [
    "# Travelling Salesman Problem (TSP) via Fast Simulated Annealing (FSA)\n",
    "\n",
    "## Quick introduction to FSA\n",
    "\n",
    "* $T_0 \\in \\mathbb{R}$ initial temperature\n",
    "* $ n_0 \\in \\mathbb{N} $ and $ \\alpha \\in \\mathbb{R}$ — cooling strategy parameters\n",
    "* $k$-th step:\n",
    "  * Evaluate current temperature:\n",
    "    * $ T = \\frac{T_0}{1+(k/n_0)^\\alpha} $ for $ \\alpha > 0 $,\n",
    "    * $ T = T_0 \\cdot \\exp(-(k/n_0)^{-\\alpha}) $ otherwise.\n",
    "  * **Mutate** the solution `x` -> `y`\n",
    "  * $s = \\frac{f_x-f_y}{T}$\n",
    "  * replace `x` with `y` if $u < 1/2 + \\arctan(s)/\\pi$ where $u$ is random (uniform) number\n",
    "  \n",
    "Cauchy **mutation operator**:\n",
    "\n",
    "* mutation perimeter (width) controlled by parameter $r \\in \\mathbb{R}$\n",
    "* $ \\mathbf{x}_\\mathrm{new} = \\mathbf{x} + r \\cdot \\tan{\\left(\\pi \\left(\\mathbf{r} - \\dfrac{1}{2}\\right)\\right)} $ where $\\mathbf{r}$ is random uniform vector\n"
   ]
  },
  {
   "cell_type": "code",
   "execution_count": 1,
   "metadata": {
    "collapsed": true
   },
   "outputs": [],
   "source": [
    "# Import path to source directory (bit of a hack in Jupyter)\n",
    "import sys\n",
    "import os\n",
    "pwd = %pwd\n",
    "sys.path.append(os.path.join(pwd, os.path.join('..', 'src')))\n",
    "\n",
    "# Ensure modules are reloaded on any change (very useful when developing code on the fly)\n",
    "%load_ext autoreload\n",
    "%autoreload 2"
   ]
  },
  {
   "cell_type": "code",
   "execution_count": 2,
   "metadata": {
    "collapsed": true
   },
   "outputs": [],
   "source": [
    "# Import external libraries\n",
    "import numpy as np\n",
    "import pandas as pd\n",
    "from tqdm.notebook import tqdm\n",
    "\n",
    "import matplotlib\n",
    "%matplotlib inline\n",
    "import matplotlib.pyplot as plt\n",
    "import seaborn as sns\n",
    "sns.set()"
   ]
  },
  {
   "cell_type": "markdown",
   "metadata": {},
   "source": [
    "## Initialize `TSPGrid(3, 3)`"
   ]
  },
  {
   "cell_type": "code",
   "execution_count": 3,
   "metadata": {
    "collapsed": true
   },
   "outputs": [],
   "source": [
    "# initialization\n",
    "from objfun_tsp import TSPGrid\n",
    "tsp = TSPGrid(3, 3)"
   ]
  },
  {
   "cell_type": "markdown",
   "metadata": {},
   "source": [
    "## Referential performance: Random Shooting ($\\mathrm{SG}_{0}$) and Steepest Descent ($\\mathrm{SG}_{\\infty}$)"
   ]
  },
  {
   "cell_type": "code",
   "execution_count": null,
   "metadata": {
    "collapsed": true
   },
   "outputs": [],
   "source": [
    "from heur_sg import ShootAndGo"
   ]
  },
  {
   "cell_type": "code",
   "execution_count": 4,
   "metadata": {
    "collapsed": true
   },
   "outputs": [],
   "source": [
    "NUM_RUNS = 1000 # set to something lower for quick own experiments\n",
    "maxeval = 1000"
   ]
  },
  {
   "cell_type": "code",
   "execution_count": 5,
   "metadata": {
    "collapsed": true
   },
   "outputs": [],
   "source": [
    "def experiment_sg(of, maxeval, num_runs, hmax):\n",
    "    results = []\n",
    "    for i in tqdm(range(num_runs), 'Testing hmax={}'.format(hmax)):\n",
    "        result = ShootAndGo(of, maxeval=maxeval, hmax=hmax).search() # dict with results of one run\n",
    "        result['run'] = i\n",
    "        result['heur'] = 'SG_{}'.format(hmax) # name of the heuristic\n",
    "        result['hmax'] = hmax\n",
    "        results.append(result)\n",
    "    \n",
    "    return pd.DataFrame(results, columns=['heur', 'run', 'hmax', 'best_x', 'best_y', 'neval'])"
   ]
  },
  {
   "cell_type": "code",
   "execution_count": 6,
   "metadata": {},
   "outputs": [
    {
     "name": "stdout",
     "output_type": "stream",
     "text": [
      "\n",
      "\n"
     ]
    }
   ],
   "source": [
    "table_ref = pd.DataFrame()\n",
    "\n",
    "for hmax in [0, np.inf]:\n",
    "    res = experiment_sg(of=tsp, maxeval=maxeval, num_runs=NUM_RUNS, hmax=hmax)\n",
    "    table_ref = pd.concat([table_ref, res], axis=0)"
   ]
  },
  {
   "cell_type": "code",
   "execution_count": 7,
   "metadata": {},
   "outputs": [
    {
     "data": {
      "text/html": [
       "<div>\n",
       "<style>\n",
       "    .dataframe thead tr:only-child th {\n",
       "        text-align: right;\n",
       "    }\n",
       "\n",
       "    .dataframe thead th {\n",
       "        text-align: left;\n",
       "    }\n",
       "\n",
       "    .dataframe tbody tr th {\n",
       "        vertical-align: top;\n",
       "    }\n",
       "</style>\n",
       "<table border=\"1\" class=\"dataframe\">\n",
       "  <thead>\n",
       "    <tr style=\"text-align: right;\">\n",
       "      <th></th>\n",
       "      <th>heur</th>\n",
       "      <th>run</th>\n",
       "      <th>hmax</th>\n",
       "      <th>best_x</th>\n",
       "      <th>best_y</th>\n",
       "      <th>neval</th>\n",
       "    </tr>\n",
       "  </thead>\n",
       "  <tbody>\n",
       "    <tr>\n",
       "      <th>0</th>\n",
       "      <td>SG_0</td>\n",
       "      <td>0</td>\n",
       "      <td>0.0</td>\n",
       "      <td>[0, 0, 2, 4, 2, 2, 1, 0]</td>\n",
       "      <td>10.000000</td>\n",
       "      <td>inf</td>\n",
       "    </tr>\n",
       "    <tr>\n",
       "      <th>1</th>\n",
       "      <td>SG_0</td>\n",
       "      <td>1</td>\n",
       "      <td>0.0</td>\n",
       "      <td>[2, 4, 4, 3, 3, 2, 1, 0]</td>\n",
       "      <td>10.242641</td>\n",
       "      <td>inf</td>\n",
       "    </tr>\n",
       "    <tr>\n",
       "      <th>2</th>\n",
       "      <td>SG_0</td>\n",
       "      <td>2</td>\n",
       "      <td>0.0</td>\n",
       "      <td>[0, 0, 2, 4, 2, 2, 1, 0]</td>\n",
       "      <td>10.000000</td>\n",
       "      <td>inf</td>\n",
       "    </tr>\n",
       "    <tr>\n",
       "      <th>3</th>\n",
       "      <td>SG_0</td>\n",
       "      <td>3</td>\n",
       "      <td>0.0</td>\n",
       "      <td>[0, 0, 2, 4, 3, 1, 1, 0]</td>\n",
       "      <td>9.414214</td>\n",
       "      <td>869.000000</td>\n",
       "    </tr>\n",
       "    <tr>\n",
       "      <th>4</th>\n",
       "      <td>SG_0</td>\n",
       "      <td>4</td>\n",
       "      <td>0.0</td>\n",
       "      <td>[3, 0, 0, 1, 3, 2, 1, 0]</td>\n",
       "      <td>9.414214</td>\n",
       "      <td>197.000000</td>\n",
       "    </tr>\n",
       "  </tbody>\n",
       "</table>\n",
       "</div>"
      ],
      "text/plain": [
       "   heur  run  hmax                    best_x     best_y       neval\n",
       "0  SG_0    0   0.0  [0, 0, 2, 4, 2, 2, 1, 0]  10.000000         inf\n",
       "1  SG_0    1   0.0  [2, 4, 4, 3, 3, 2, 1, 0]  10.242641         inf\n",
       "2  SG_0    2   0.0  [0, 0, 2, 4, 2, 2, 1, 0]  10.000000         inf\n",
       "3  SG_0    3   0.0  [0, 0, 2, 4, 3, 1, 1, 0]   9.414214  869.000000\n",
       "4  SG_0    4   0.0  [3, 0, 0, 1, 3, 2, 1, 0]   9.414214  197.000000"
      ]
     },
     "execution_count": 7,
     "metadata": {},
     "output_type": "execute_result"
    }
   ],
   "source": [
    "table_ref.head()"
   ]
  },
  {
   "cell_type": "code",
   "execution_count": 8,
   "metadata": {
    "collapsed": true
   },
   "outputs": [],
   "source": [
    "# from the last class...\n",
    "\n",
    "def rel(x):\n",
    "    return len([n for n in x if n < np.inf])/len(x)\n",
    "\n",
    "def mne(x):\n",
    "    return np.mean([n for n in x if n < np.inf])\n",
    "\n",
    "def feo(x):\n",
    "    return mne(x)/rel(x)"
   ]
  },
  {
   "cell_type": "code",
   "execution_count": 9,
   "metadata": {
    "collapsed": true
   },
   "outputs": [],
   "source": [
    "stats_ref = table_ref.pivot_table(\n",
    "    index=['heur'],\n",
    "    values=['neval'],\n",
    "    aggfunc=(rel, mne, feo)\n",
    ")['neval']\n",
    "stats_ref = stats_ref.reset_index()"
   ]
  },
  {
   "cell_type": "code",
   "execution_count": 10,
   "metadata": {},
   "outputs": [
    {
     "data": {
      "text/html": [
       "<div>\n",
       "<style>\n",
       "    .dataframe thead tr:only-child th {\n",
       "        text-align: right;\n",
       "    }\n",
       "\n",
       "    .dataframe thead th {\n",
       "        text-align: left;\n",
       "    }\n",
       "\n",
       "    .dataframe tbody tr th {\n",
       "        vertical-align: top;\n",
       "    }\n",
       "</style>\n",
       "<table border=\"1\" class=\"dataframe\">\n",
       "  <thead>\n",
       "    <tr style=\"text-align: right;\">\n",
       "      <th></th>\n",
       "      <th>heur</th>\n",
       "      <th>feo</th>\n",
       "      <th>mne</th>\n",
       "      <th>rel</th>\n",
       "    </tr>\n",
       "  </thead>\n",
       "  <tbody>\n",
       "    <tr>\n",
       "      <th>0</th>\n",
       "      <td>SG_0</td>\n",
       "      <td>1423.527197</td>\n",
       "      <td>475.458084</td>\n",
       "      <td>0.334</td>\n",
       "    </tr>\n",
       "    <tr>\n",
       "      <th>1</th>\n",
       "      <td>SG_inf</td>\n",
       "      <td>372.381901</td>\n",
       "      <td>335.516093</td>\n",
       "      <td>0.901</td>\n",
       "    </tr>\n",
       "  </tbody>\n",
       "</table>\n",
       "</div>"
      ],
      "text/plain": [
       "     heur          feo         mne    rel\n",
       "0    SG_0  1423.527197  475.458084  0.334\n",
       "1  SG_inf   372.381901  335.516093  0.901"
      ]
     },
     "execution_count": 10,
     "metadata": {},
     "output_type": "execute_result"
    }
   ],
   "source": [
    "stats_ref"
   ]
  },
  {
   "cell_type": "markdown",
   "metadata": {},
   "source": [
    "## TSP optimization using FSA\n",
    "\n",
    "Please, inspect the new code first!"
   ]
  },
  {
   "cell_type": "code",
   "execution_count": 11,
   "metadata": {
    "collapsed": true
   },
   "outputs": [],
   "source": [
    "from heur_fsa import FastSimulatedAnnealing\n",
    "from heur_aux import Correction, CauchyMutation"
   ]
  },
  {
   "cell_type": "markdown",
   "metadata": {},
   "source": [
    "Let's evaluate performance of different temperatures..."
   ]
  },
  {
   "cell_type": "code",
   "execution_count": 12,
   "metadata": {
    "collapsed": true
   },
   "outputs": [],
   "source": [
    "def experiment_fsa(of, maxeval, num_runs, T0, n0, alpha, r):\n",
    "    results = []\n",
    "    for i in tqdm(range(num_runs), 'Testing T0={}, n0={}, alpha={}, r={}'.format(T0, n0, alpha, r)):\n",
    "        mut = CauchyMutation(r=r, correction=Correction(of))\n",
    "        result = FastSimulatedAnnealing(of, maxeval=maxeval, T0=T0, n0=n0, alpha=alpha, mutation=mut).search()\n",
    "        result['run'] = i\n",
    "        result['heur'] = 'FSA_{}_{}_{}_{}'.format(T0, n0, alpha, r) # name of the heuristic\n",
    "        result['T0'] = T0\n",
    "        result['n0'] = n0\n",
    "        result['alpha'] = alpha\n",
    "        result['r'] = r\n",
    "        results.append(result)\n",
    "    \n",
    "    return pd.DataFrame(results, columns=['heur', 'run', 'T0', 'n0', 'alpha', 'r', 'best_x', 'best_y', 'neval'])"
   ]
  },
  {
   "cell_type": "code",
   "execution_count": 13,
   "metadata": {},
   "outputs": [
    {
     "name": "stdout",
     "output_type": "stream",
     "text": [
      "\n",
      "\n",
      "\n",
      "\n"
     ]
    }
   ],
   "source": [
    "table_fsa = pd.DataFrame()\n",
    "\n",
    "for T0 in [1e-10, 1e-2, 1, np.inf]:\n",
    "    res = experiment_fsa(of=tsp, maxeval=maxeval, num_runs=NUM_RUNS, T0=T0, n0=1, alpha=2, r=0.5)\n",
    "    table_fsa = pd.concat([table_fsa, res], axis=0)"
   ]
  },
  {
   "cell_type": "code",
   "execution_count": 14,
   "metadata": {},
   "outputs": [
    {
     "data": {
      "text/html": [
       "<div>\n",
       "<style>\n",
       "    .dataframe thead tr:only-child th {\n",
       "        text-align: right;\n",
       "    }\n",
       "\n",
       "    .dataframe thead th {\n",
       "        text-align: left;\n",
       "    }\n",
       "\n",
       "    .dataframe tbody tr th {\n",
       "        vertical-align: top;\n",
       "    }\n",
       "</style>\n",
       "<table border=\"1\" class=\"dataframe\">\n",
       "  <thead>\n",
       "    <tr style=\"text-align: right;\">\n",
       "      <th></th>\n",
       "      <th>heur</th>\n",
       "      <th>T0</th>\n",
       "      <th>feo</th>\n",
       "      <th>mne</th>\n",
       "      <th>rel</th>\n",
       "    </tr>\n",
       "  </thead>\n",
       "  <tbody>\n",
       "    <tr>\n",
       "      <th>2</th>\n",
       "      <td>FSA_1e-10_1_2_0.5</td>\n",
       "      <td>1.000000e-10</td>\n",
       "      <td>334.019188</td>\n",
       "      <td>248.844295</td>\n",
       "      <td>0.745</td>\n",
       "    </tr>\n",
       "    <tr>\n",
       "      <th>0</th>\n",
       "      <td>FSA_0.01_1_2_0.5</td>\n",
       "      <td>1.000000e-02</td>\n",
       "      <td>339.516329</td>\n",
       "      <td>254.297730</td>\n",
       "      <td>0.749</td>\n",
       "    </tr>\n",
       "    <tr>\n",
       "      <th>1</th>\n",
       "      <td>FSA_1_1_2_0.5</td>\n",
       "      <td>1.000000e+00</td>\n",
       "      <td>329.784131</td>\n",
       "      <td>245.029610</td>\n",
       "      <td>0.743</td>\n",
       "    </tr>\n",
       "    <tr>\n",
       "      <th>3</th>\n",
       "      <td>FSA_inf_1_2_0.5</td>\n",
       "      <td>inf</td>\n",
       "      <td>1129.265186</td>\n",
       "      <td>460.740196</td>\n",
       "      <td>0.408</td>\n",
       "    </tr>\n",
       "  </tbody>\n",
       "</table>\n",
       "</div>"
      ],
      "text/plain": [
       "                heur            T0          feo         mne    rel\n",
       "2  FSA_1e-10_1_2_0.5  1.000000e-10   334.019188  248.844295  0.745\n",
       "0   FSA_0.01_1_2_0.5  1.000000e-02   339.516329  254.297730  0.749\n",
       "1      FSA_1_1_2_0.5  1.000000e+00   329.784131  245.029610  0.743\n",
       "3    FSA_inf_1_2_0.5           inf  1129.265186  460.740196  0.408"
      ]
     },
     "execution_count": 14,
     "metadata": {},
     "output_type": "execute_result"
    }
   ],
   "source": [
    "stats_fsa = table_fsa.pivot_table(\n",
    "    index=['heur', 'T0'],\n",
    "    values=['neval'],\n",
    "    aggfunc=(rel, mne, feo)\n",
    ")['neval']\n",
    "stats_fsa = stats_fsa.reset_index()\n",
    "stats_fsa.sort_values(by=['T0'])"
   ]
  },
  {
   "cell_type": "markdown",
   "metadata": {},
   "source": [
    "# Analysis\n",
    "\n",
    "**Can we improve the best configuration ($T_0=1$)?**\n",
    "\n",
    "Let's carefully analyze the data..."
   ]
  },
  {
   "cell_type": "code",
   "execution_count": 16,
   "metadata": {},
   "outputs": [
    {
     "name": "stdout",
     "output_type": "stream",
     "text": [
      "neval = 255\n",
      "best_x = [3 2 3 3 3 2 1 0]\n",
      "best_y = 9.414213562373096\n"
     ]
    }
   ],
   "source": [
    "heur = FastSimulatedAnnealing(tsp, maxeval=1000, T0=1, n0=1, alpha=2, \n",
    "                              mutation=CauchyMutation(r=0.5, correction=Correction(tsp)))\n",
    "result = heur.search()\n",
    "print('neval = {}'.format(result['neval']))\n",
    "print('best_x = {}'.format(result['best_x']))\n",
    "print('best_y = {}'.format(result['best_y']))"
   ]
  },
  {
   "cell_type": "code",
   "execution_count": 17,
   "metadata": {},
   "outputs": [
    {
     "data": {
      "text/html": [
       "<div>\n",
       "<style>\n",
       "    .dataframe thead tr:only-child th {\n",
       "        text-align: right;\n",
       "    }\n",
       "\n",
       "    .dataframe thead th {\n",
       "        text-align: left;\n",
       "    }\n",
       "\n",
       "    .dataframe tbody tr th {\n",
       "        vertical-align: top;\n",
       "    }\n",
       "</style>\n",
       "<table border=\"1\" class=\"dataframe\">\n",
       "  <thead>\n",
       "    <tr style=\"text-align: right;\">\n",
       "      <th></th>\n",
       "      <th>step</th>\n",
       "      <th>x</th>\n",
       "      <th>f_x</th>\n",
       "      <th>y</th>\n",
       "      <th>f_y</th>\n",
       "      <th>T</th>\n",
       "      <th>swap</th>\n",
       "    </tr>\n",
       "  </thead>\n",
       "  <tbody>\n",
       "    <tr>\n",
       "      <th>0</th>\n",
       "      <td>0</td>\n",
       "      <td>[1, 3, 3, 1, 2, 1, 0, 0]</td>\n",
       "      <td>14.714777</td>\n",
       "      <td>[1, 0, 3, 1, 3, 2, 1, 0]</td>\n",
       "      <td>13.478709</td>\n",
       "      <td>1.000000</td>\n",
       "      <td>False</td>\n",
       "    </tr>\n",
       "    <tr>\n",
       "      <th>1</th>\n",
       "      <td>1</td>\n",
       "      <td>[1, 3, 3, 1, 2, 1, 0, 0]</td>\n",
       "      <td>14.714777</td>\n",
       "      <td>[3, 3, 3, 1, 2, 0, 0, 0]</td>\n",
       "      <td>18.193485</td>\n",
       "      <td>0.500000</td>\n",
       "      <td>True</td>\n",
       "    </tr>\n",
       "    <tr>\n",
       "      <th>2</th>\n",
       "      <td>2</td>\n",
       "      <td>[3, 3, 3, 1, 2, 0, 0, 0]</td>\n",
       "      <td>18.193485</td>\n",
       "      <td>[0, 3, 3, 0, 2, 0, 0, 0]</td>\n",
       "      <td>16.371631</td>\n",
       "      <td>0.200000</td>\n",
       "      <td>True</td>\n",
       "    </tr>\n",
       "    <tr>\n",
       "      <th>3</th>\n",
       "      <td>3</td>\n",
       "      <td>[0, 3, 3, 0, 2, 0, 0, 0]</td>\n",
       "      <td>16.371631</td>\n",
       "      <td>[0, 2, 5, 0, 2, 0, 0, 0]</td>\n",
       "      <td>14.892922</td>\n",
       "      <td>0.100000</td>\n",
       "      <td>True</td>\n",
       "    </tr>\n",
       "    <tr>\n",
       "      <th>4</th>\n",
       "      <td>4</td>\n",
       "      <td>[0, 2, 5, 0, 2, 0, 0, 0]</td>\n",
       "      <td>14.892922</td>\n",
       "      <td>[0, 3, 5, 0, 1, 1, 0, 0]</td>\n",
       "      <td>12.892922</td>\n",
       "      <td>0.058824</td>\n",
       "      <td>True</td>\n",
       "    </tr>\n",
       "    <tr>\n",
       "      <th>5</th>\n",
       "      <td>5</td>\n",
       "      <td>[0, 3, 5, 0, 1, 1, 0, 0]</td>\n",
       "      <td>12.892922</td>\n",
       "      <td>[1, 3, 5, 0, 3, 2, 0, 0]</td>\n",
       "      <td>12.650282</td>\n",
       "      <td>0.038462</td>\n",
       "      <td>True</td>\n",
       "    </tr>\n",
       "    <tr>\n",
       "      <th>6</th>\n",
       "      <td>6</td>\n",
       "      <td>[1, 3, 5, 0, 3, 2, 0, 0]</td>\n",
       "      <td>12.650282</td>\n",
       "      <td>[5, 4, 4, 0, 3, 2, 0, 0]</td>\n",
       "      <td>15.950845</td>\n",
       "      <td>0.027027</td>\n",
       "      <td>False</td>\n",
       "    </tr>\n",
       "    <tr>\n",
       "      <th>7</th>\n",
       "      <td>7</td>\n",
       "      <td>[1, 3, 5, 0, 3, 2, 0, 0]</td>\n",
       "      <td>12.650282</td>\n",
       "      <td>[7, 3, 5, 1, 2, 0, 0, 0]</td>\n",
       "      <td>14.307136</td>\n",
       "      <td>0.020000</td>\n",
       "      <td>False</td>\n",
       "    </tr>\n",
       "    <tr>\n",
       "      <th>8</th>\n",
       "      <td>8</td>\n",
       "      <td>[1, 3, 5, 0, 3, 2, 0, 0]</td>\n",
       "      <td>12.650282</td>\n",
       "      <td>[2, 4, 5, 0, 1, 1, 0, 0]</td>\n",
       "      <td>13.708204</td>\n",
       "      <td>0.015385</td>\n",
       "      <td>False</td>\n",
       "    </tr>\n",
       "    <tr>\n",
       "      <th>9</th>\n",
       "      <td>9</td>\n",
       "      <td>[1, 3, 5, 0, 3, 2, 0, 0]</td>\n",
       "      <td>12.650282</td>\n",
       "      <td>[0, 4, 2, 0, 3, 2, 0, 0]</td>\n",
       "      <td>14.714777</td>\n",
       "      <td>0.012195</td>\n",
       "      <td>False</td>\n",
       "    </tr>\n",
       "  </tbody>\n",
       "</table>\n",
       "</div>"
      ],
      "text/plain": [
       "   step                         x        f_x                         y  \\\n",
       "0     0  [1, 3, 3, 1, 2, 1, 0, 0]  14.714777  [1, 0, 3, 1, 3, 2, 1, 0]   \n",
       "1     1  [1, 3, 3, 1, 2, 1, 0, 0]  14.714777  [3, 3, 3, 1, 2, 0, 0, 0]   \n",
       "2     2  [3, 3, 3, 1, 2, 0, 0, 0]  18.193485  [0, 3, 3, 0, 2, 0, 0, 0]   \n",
       "3     3  [0, 3, 3, 0, 2, 0, 0, 0]  16.371631  [0, 2, 5, 0, 2, 0, 0, 0]   \n",
       "4     4  [0, 2, 5, 0, 2, 0, 0, 0]  14.892922  [0, 3, 5, 0, 1, 1, 0, 0]   \n",
       "5     5  [0, 3, 5, 0, 1, 1, 0, 0]  12.892922  [1, 3, 5, 0, 3, 2, 0, 0]   \n",
       "6     6  [1, 3, 5, 0, 3, 2, 0, 0]  12.650282  [5, 4, 4, 0, 3, 2, 0, 0]   \n",
       "7     7  [1, 3, 5, 0, 3, 2, 0, 0]  12.650282  [7, 3, 5, 1, 2, 0, 0, 0]   \n",
       "8     8  [1, 3, 5, 0, 3, 2, 0, 0]  12.650282  [2, 4, 5, 0, 1, 1, 0, 0]   \n",
       "9     9  [1, 3, 5, 0, 3, 2, 0, 0]  12.650282  [0, 4, 2, 0, 3, 2, 0, 0]   \n",
       "\n",
       "         f_y         T   swap  \n",
       "0  13.478709  1.000000  False  \n",
       "1  18.193485  0.500000   True  \n",
       "2  16.371631  0.200000   True  \n",
       "3  14.892922  0.100000   True  \n",
       "4  12.892922  0.058824   True  \n",
       "5  12.650282  0.038462   True  \n",
       "6  15.950845  0.027027  False  \n",
       "7  14.307136  0.020000  False  \n",
       "8  13.708204  0.015385  False  \n",
       "9  14.714777  0.012195  False  "
      ]
     },
     "execution_count": 17,
     "metadata": {},
     "output_type": "execute_result"
    }
   ],
   "source": [
    "log_data = result['log_data'].copy()\n",
    "log_data = log_data[['step', 'x', 'f_x', 'y', 'f_y', 'T', 'swap']]  # column re-ordering, for better readability\n",
    "log_data.head(10)"
   ]
  },
  {
   "cell_type": "code",
   "execution_count": 18,
   "metadata": {
    "collapsed": true
   },
   "outputs": [],
   "source": [
    "def plot_compare(step_data, ax1_col, ax1_label, ax2_col, ax2_label):\n",
    "    fig, ax1 = plt.subplots()\n",
    "\n",
    "    k = step_data.index.values\n",
    "    T = step_data[ax1_col]\n",
    "    ax1.plot(k, T, 'b-')\n",
    "    ax1.set_xlabel('Step')\n",
    "    ax1.set_ylabel(ax1_label, color='b')\n",
    "    for tl in ax1.get_yticklabels():\n",
    "        tl.set_color('b')\n",
    "\n",
    "    ax2 = ax1.twinx()\n",
    "    s2 = step_data[ax2_col]\n",
    "    ax2.plot(k, s2, 'r.')\n",
    "    ax2.set_ylabel(ax2_label, color='r')\n",
    "    for tl in ax2.get_yticklabels():\n",
    "        tl.set_color('r')\n",
    "\n",
    "    plt.show()"
   ]
  },
  {
   "cell_type": "code",
   "execution_count": 19,
   "metadata": {},
   "outputs": [
    {
     "data": {
      "image/png": "[encoded data removed]",
      "text/plain": [
       "<matplotlib.figure.Figure at 0x1169c5390>"
      ]
     },
     "metadata": {},
     "output_type": "display_data"
    }
   ],
   "source": [
    "plot_compare(log_data, 'T', 'Temperature', 'f_x', 'f(x)')"
   ]
  },
  {
   "cell_type": "code",
   "execution_count": 20,
   "metadata": {},
   "outputs": [
    {
     "data": {
      "image/png": "[encoded data removed]",
      "text/plain": [
       "<matplotlib.figure.Figure at 0x1169832e8>"
      ]
     },
     "metadata": {},
     "output_type": "display_data"
    }
   ],
   "source": [
    "plot_compare(log_data, 'T', 'Temperature', 'f_y', 'f(y)')"
   ]
  },
  {
   "cell_type": "markdown",
   "metadata": {},
   "source": [
    "### Slower cooling?\n",
    "\n",
    "Let's double $n_0$:"
   ]
  },
  {
   "cell_type": "code",
   "execution_count": 27,
   "metadata": {},
   "outputs": [
    {
     "name": "stdout",
     "output_type": "stream",
     "text": [
      "neval = 64\n",
      "best_x = [0 2 0 1 3 2 1 0]\n",
      "best_y = 9.414213562373096\n"
     ]
    }
   ],
   "source": [
    "heur = FastSimulatedAnnealing(tsp, maxeval=1000, T0=1, n0=2, alpha=2, \n",
    "                              mutation=CauchyMutation(r=0.5, correction=Correction(tsp)))\n",
    "result = heur.search()\n",
    "print('neval = {}'.format(result['neval']))\n",
    "print('best_x = {}'.format(result['best_x']))\n",
    "print('best_y = {}'.format(result['best_y']))"
   ]
  },
  {
   "cell_type": "code",
   "execution_count": 28,
   "metadata": {
    "collapsed": true
   },
   "outputs": [],
   "source": [
    "log_data = result['log_data'].copy()\n",
    "log_data = log_data[['step', 'x', 'f_x', 'y', 'f_y', 'T', 'swap']]  # column re-ordering, for better readability"
   ]
  },
  {
   "cell_type": "code",
   "execution_count": 29,
   "metadata": {},
   "outputs": [
    {
     "data": {
      "image/png": "[encoded data removed]",
      "text/plain": [
       "<matplotlib.figure.Figure at 0x1179ef9e8>"
      ]
     },
     "metadata": {},
     "output_type": "display_data"
    }
   ],
   "source": [
    "plot_compare(log_data, 'T', 'Temperature', 'f_x', 'f(x)')"
   ]
  },
  {
   "cell_type": "code",
   "execution_count": 30,
   "metadata": {},
   "outputs": [
    {
     "data": {
      "image/png": "[encoded data removed]",
      "text/plain": [
       "<matplotlib.figure.Figure at 0x116c25a20>"
      ]
     },
     "metadata": {},
     "output_type": "display_data"
    }
   ],
   "source": [
    "plot_compare(log_data, 'T', 'Temperature', 'f_y', 'f(y)')"
   ]
  },
  {
   "cell_type": "markdown",
   "metadata": {},
   "source": [
    "**More thorough testing**:"
   ]
  },
  {
   "cell_type": "code",
   "execution_count": 31,
   "metadata": {},
   "outputs": [
    {
     "name": "stdout",
     "output_type": "stream",
     "text": [
      "\n",
      "\n",
      "\n",
      "\n"
     ]
    }
   ],
   "source": [
    "for n0 in [2, 3, 5, 10]:\n",
    "    res = experiment_fsa(of=tsp, maxeval=maxeval, num_runs=NUM_RUNS, T0=1, n0=n0, alpha=2, r=0.5)\n",
    "    table_fsa = pd.concat([table_fsa, res], axis=0)"
   ]
  },
  {
   "cell_type": "code",
   "execution_count": 32,
   "metadata": {},
   "outputs": [
    {
     "data": {
      "text/html": [
       "<div>\n",
       "<style>\n",
       "    .dataframe thead tr:only-child th {\n",
       "        text-align: right;\n",
       "    }\n",
       "\n",
       "    .dataframe thead th {\n",
       "        text-align: left;\n",
       "    }\n",
       "\n",
       "    .dataframe tbody tr th {\n",
       "        vertical-align: top;\n",
       "    }\n",
       "</style>\n",
       "<table border=\"1\" class=\"dataframe\">\n",
       "  <thead>\n",
       "    <tr style=\"text-align: right;\">\n",
       "      <th></th>\n",
       "      <th>heur</th>\n",
       "      <th>T0</th>\n",
       "      <th>n0</th>\n",
       "      <th>feo</th>\n",
       "      <th>mne</th>\n",
       "      <th>rel</th>\n",
       "    </tr>\n",
       "  </thead>\n",
       "  <tbody>\n",
       "    <tr>\n",
       "      <th>6</th>\n",
       "      <td>FSA_1e-10_1_2_0.5</td>\n",
       "      <td>1.000000e-10</td>\n",
       "      <td>1</td>\n",
       "      <td>334.019188</td>\n",
       "      <td>248.844295</td>\n",
       "      <td>0.745</td>\n",
       "    </tr>\n",
       "    <tr>\n",
       "      <th>0</th>\n",
       "      <td>FSA_0.01_1_2_0.5</td>\n",
       "      <td>1.000000e-02</td>\n",
       "      <td>1</td>\n",
       "      <td>339.516329</td>\n",
       "      <td>254.297730</td>\n",
       "      <td>0.749</td>\n",
       "    </tr>\n",
       "    <tr>\n",
       "      <th>2</th>\n",
       "      <td>FSA_1_1_2_0.5</td>\n",
       "      <td>1.000000e+00</td>\n",
       "      <td>1</td>\n",
       "      <td>329.784131</td>\n",
       "      <td>245.029610</td>\n",
       "      <td>0.743</td>\n",
       "    </tr>\n",
       "    <tr>\n",
       "      <th>3</th>\n",
       "      <td>FSA_1_2_2_0.5</td>\n",
       "      <td>1.000000e+00</td>\n",
       "      <td>2</td>\n",
       "      <td>320.524444</td>\n",
       "      <td>240.393333</td>\n",
       "      <td>0.750</td>\n",
       "    </tr>\n",
       "    <tr>\n",
       "      <th>4</th>\n",
       "      <td>FSA_1_3_2_0.5</td>\n",
       "      <td>1.000000e+00</td>\n",
       "      <td>3</td>\n",
       "      <td>336.088847</td>\n",
       "      <td>249.041835</td>\n",
       "      <td>0.741</td>\n",
       "    </tr>\n",
       "    <tr>\n",
       "      <th>5</th>\n",
       "      <td>FSA_1_5_2_0.5</td>\n",
       "      <td>1.000000e+00</td>\n",
       "      <td>5</td>\n",
       "      <td>310.057024</td>\n",
       "      <td>240.294194</td>\n",
       "      <td>0.775</td>\n",
       "    </tr>\n",
       "    <tr>\n",
       "      <th>1</th>\n",
       "      <td>FSA_1_10_2_0.5</td>\n",
       "      <td>1.000000e+00</td>\n",
       "      <td>10</td>\n",
       "      <td>310.668429</td>\n",
       "      <td>240.457364</td>\n",
       "      <td>0.774</td>\n",
       "    </tr>\n",
       "    <tr>\n",
       "      <th>7</th>\n",
       "      <td>FSA_inf_1_2_0.5</td>\n",
       "      <td>inf</td>\n",
       "      <td>1</td>\n",
       "      <td>1129.265186</td>\n",
       "      <td>460.740196</td>\n",
       "      <td>0.408</td>\n",
       "    </tr>\n",
       "  </tbody>\n",
       "</table>\n",
       "</div>"
      ],
      "text/plain": [
       "                heur            T0  n0          feo         mne    rel\n",
       "6  FSA_1e-10_1_2_0.5  1.000000e-10   1   334.019188  248.844295  0.745\n",
       "0   FSA_0.01_1_2_0.5  1.000000e-02   1   339.516329  254.297730  0.749\n",
       "2      FSA_1_1_2_0.5  1.000000e+00   1   329.784131  245.029610  0.743\n",
       "3      FSA_1_2_2_0.5  1.000000e+00   2   320.524444  240.393333  0.750\n",
       "4      FSA_1_3_2_0.5  1.000000e+00   3   336.088847  249.041835  0.741\n",
       "5      FSA_1_5_2_0.5  1.000000e+00   5   310.057024  240.294194  0.775\n",
       "1     FSA_1_10_2_0.5  1.000000e+00  10   310.668429  240.457364  0.774\n",
       "7    FSA_inf_1_2_0.5           inf   1  1129.265186  460.740196  0.408"
      ]
     },
     "execution_count": 32,
     "metadata": {},
     "output_type": "execute_result"
    }
   ],
   "source": [
    "stats_fsa = table_fsa.pivot_table(\n",
    "    index=['heur', 'T0', 'n0'],\n",
    "    values=['neval'],\n",
    "    aggfunc=(rel, mne, feo)\n",
    ")['neval']\n",
    "stats_fsa = stats_fsa.reset_index()\n",
    "stats_fsa.sort_values(by=['T0', 'n0'])"
   ]
  },
  {
   "cell_type": "markdown",
   "metadata": {},
   "source": [
    "### Is the mutation $r$ adequate?"
   ]
  },
  {
   "cell_type": "code",
   "execution_count": 33,
   "metadata": {},
   "outputs": [
    {
     "data": {
      "text/html": [
       "<div>\n",
       "<style>\n",
       "    .dataframe thead tr:only-child th {\n",
       "        text-align: right;\n",
       "    }\n",
       "\n",
       "    .dataframe thead th {\n",
       "        text-align: left;\n",
       "    }\n",
       "\n",
       "    .dataframe tbody tr th {\n",
       "        vertical-align: top;\n",
       "    }\n",
       "</style>\n",
       "<table border=\"1\" class=\"dataframe\">\n",
       "  <thead>\n",
       "    <tr style=\"text-align: right;\">\n",
       "      <th></th>\n",
       "      <th>step</th>\n",
       "      <th>x</th>\n",
       "      <th>f_x</th>\n",
       "      <th>y</th>\n",
       "      <th>f_y</th>\n",
       "      <th>T</th>\n",
       "      <th>swap</th>\n",
       "      <th>jump_length</th>\n",
       "    </tr>\n",
       "  </thead>\n",
       "  <tbody>\n",
       "    <tr>\n",
       "      <th>0</th>\n",
       "      <td>0</td>\n",
       "      <td>[2, 2, 1, 2, 0, 2, 1, 0]</td>\n",
       "      <td>15.365058</td>\n",
       "      <td>[2, 2, 0, 2, 3, 2, 1, 0]</td>\n",
       "      <td>12.650282</td>\n",
       "      <td>1.000000</td>\n",
       "      <td>True</td>\n",
       "      <td>3.162278</td>\n",
       "    </tr>\n",
       "    <tr>\n",
       "      <th>1</th>\n",
       "      <td>1</td>\n",
       "      <td>[2, 2, 0, 2, 3, 2, 1, 0]</td>\n",
       "      <td>12.650282</td>\n",
       "      <td>[2, 2, 0, 2, 3, 2, 1, 0]</td>\n",
       "      <td>12.650282</td>\n",
       "      <td>0.800000</td>\n",
       "      <td>True</td>\n",
       "      <td>0.000000</td>\n",
       "    </tr>\n",
       "    <tr>\n",
       "      <th>2</th>\n",
       "      <td>2</td>\n",
       "      <td>[2, 2, 0, 2, 3, 2, 1, 0]</td>\n",
       "      <td>12.650282</td>\n",
       "      <td>[2, 2, 0, 1, 3, 2, 0, 0]</td>\n",
       "      <td>13.478709</td>\n",
       "      <td>0.500000</td>\n",
       "      <td>True</td>\n",
       "      <td>1.414214</td>\n",
       "    </tr>\n",
       "    <tr>\n",
       "      <th>3</th>\n",
       "      <td>3</td>\n",
       "      <td>[2, 2, 0, 1, 3, 2, 0, 0]</td>\n",
       "      <td>13.478709</td>\n",
       "      <td>[0, 2, 0, 0, 3, 2, 0, 0]</td>\n",
       "      <td>14.536631</td>\n",
       "      <td>0.307692</td>\n",
       "      <td>False</td>\n",
       "      <td>2.236068</td>\n",
       "    </tr>\n",
       "    <tr>\n",
       "      <th>4</th>\n",
       "      <td>4</td>\n",
       "      <td>[2, 2, 0, 1, 3, 2, 0, 0]</td>\n",
       "      <td>13.478709</td>\n",
       "      <td>[3, 2, 0, 0, 3, 2, 1, 0]</td>\n",
       "      <td>13.300563</td>\n",
       "      <td>0.200000</td>\n",
       "      <td>True</td>\n",
       "      <td>1.732051</td>\n",
       "    </tr>\n",
       "    <tr>\n",
       "      <th>5</th>\n",
       "      <td>5</td>\n",
       "      <td>[3, 2, 0, 0, 3, 2, 1, 0]</td>\n",
       "      <td>13.300563</td>\n",
       "      <td>[4, 1, 0, 0, 3, 2, 1, 0]</td>\n",
       "      <td>12.714777</td>\n",
       "      <td>0.137931</td>\n",
       "      <td>True</td>\n",
       "      <td>1.414214</td>\n",
       "    </tr>\n",
       "    <tr>\n",
       "      <th>6</th>\n",
       "      <td>6</td>\n",
       "      <td>[4, 1, 0, 0, 3, 2, 1, 0]</td>\n",
       "      <td>12.714777</td>\n",
       "      <td>[3, 2, 0, 0, 2, 2, 1, 0]</td>\n",
       "      <td>14.536631</td>\n",
       "      <td>0.100000</td>\n",
       "      <td>False</td>\n",
       "      <td>1.732051</td>\n",
       "    </tr>\n",
       "    <tr>\n",
       "      <th>7</th>\n",
       "      <td>7</td>\n",
       "      <td>[4, 1, 0, 0, 3, 2, 1, 0]</td>\n",
       "      <td>12.714777</td>\n",
       "      <td>[4, 0, 1, 0, 3, 1, 1, 0]</td>\n",
       "      <td>14.714777</td>\n",
       "      <td>0.075472</td>\n",
       "      <td>False</td>\n",
       "      <td>1.732051</td>\n",
       "    </tr>\n",
       "    <tr>\n",
       "      <th>8</th>\n",
       "      <td>8</td>\n",
       "      <td>[4, 1, 0, 0, 3, 2, 1, 0]</td>\n",
       "      <td>12.714777</td>\n",
       "      <td>[3, 1, 0, 0, 3, 2, 0, 0]</td>\n",
       "      <td>14.128990</td>\n",
       "      <td>0.058824</td>\n",
       "      <td>False</td>\n",
       "      <td>1.414214</td>\n",
       "    </tr>\n",
       "    <tr>\n",
       "      <th>9</th>\n",
       "      <td>9</td>\n",
       "      <td>[4, 1, 0, 0, 3, 2, 1, 0]</td>\n",
       "      <td>12.714777</td>\n",
       "      <td>[4, 0, 0, 0, 3, 2, 0, 0]</td>\n",
       "      <td>14.536631</td>\n",
       "      <td>0.047059</td>\n",
       "      <td>False</td>\n",
       "      <td>1.414214</td>\n",
       "    </tr>\n",
       "  </tbody>\n",
       "</table>\n",
       "</div>"
      ],
      "text/plain": [
       "   step                         x        f_x                         y  \\\n",
       "0     0  [2, 2, 1, 2, 0, 2, 1, 0]  15.365058  [2, 2, 0, 2, 3, 2, 1, 0]   \n",
       "1     1  [2, 2, 0, 2, 3, 2, 1, 0]  12.650282  [2, 2, 0, 2, 3, 2, 1, 0]   \n",
       "2     2  [2, 2, 0, 2, 3, 2, 1, 0]  12.650282  [2, 2, 0, 1, 3, 2, 0, 0]   \n",
       "3     3  [2, 2, 0, 1, 3, 2, 0, 0]  13.478709  [0, 2, 0, 0, 3, 2, 0, 0]   \n",
       "4     4  [2, 2, 0, 1, 3, 2, 0, 0]  13.478709  [3, 2, 0, 0, 3, 2, 1, 0]   \n",
       "5     5  [3, 2, 0, 0, 3, 2, 1, 0]  13.300563  [4, 1, 0, 0, 3, 2, 1, 0]   \n",
       "6     6  [4, 1, 0, 0, 3, 2, 1, 0]  12.714777  [3, 2, 0, 0, 2, 2, 1, 0]   \n",
       "7     7  [4, 1, 0, 0, 3, 2, 1, 0]  12.714777  [4, 0, 1, 0, 3, 1, 1, 0]   \n",
       "8     8  [4, 1, 0, 0, 3, 2, 1, 0]  12.714777  [3, 1, 0, 0, 3, 2, 0, 0]   \n",
       "9     9  [4, 1, 0, 0, 3, 2, 1, 0]  12.714777  [4, 0, 0, 0, 3, 2, 0, 0]   \n",
       "\n",
       "         f_y         T   swap  jump_length  \n",
       "0  12.650282  1.000000   True     3.162278  \n",
       "1  12.650282  0.800000   True     0.000000  \n",
       "2  13.478709  0.500000   True     1.414214  \n",
       "3  14.536631  0.307692  False     2.236068  \n",
       "4  13.300563  0.200000   True     1.732051  \n",
       "5  12.714777  0.137931   True     1.414214  \n",
       "6  14.536631  0.100000  False     1.732051  \n",
       "7  14.714777  0.075472  False     1.732051  \n",
       "8  14.128990  0.058824  False     1.414214  \n",
       "9  14.536631  0.047059  False     1.414214  "
      ]
     },
     "execution_count": 33,
     "metadata": {},
     "output_type": "execute_result"
    }
   ],
   "source": [
    "log_data['jump_length'] = log_data.apply(lambda r: np.linalg.norm(r['x'] - r['y']), axis=1)\n",
    "log_data.head(10)"
   ]
  },
  {
   "cell_type": "code",
   "execution_count": 34,
   "metadata": {},
   "outputs": [
    {
     "data": {
      "text/plain": [
       "count    62.000000\n",
       "mean      2.407013\n",
       "std       1.341579\n",
       "min       0.000000\n",
       "25%       1.414214\n",
       "50%       2.236068\n",
       "75%       3.316625\n",
       "max       5.744563\n",
       "Name: jump_length, dtype: float64"
      ]
     },
     "execution_count": 34,
     "metadata": {},
     "output_type": "execute_result"
    }
   ],
   "source": [
    "log_data['jump_length'].describe()"
   ]
  },
  {
   "cell_type": "code",
   "execution_count": 35,
   "metadata": {},
   "outputs": [
    {
     "name": "stdout",
     "output_type": "stream",
     "text": [
      "\n",
      "\n",
      "\n",
      "\n",
      "\n"
     ]
    }
   ],
   "source": [
    "for r in [.1, .25, .75, 1, 2]:\n",
    "    res = experiment_fsa(of=tsp, maxeval=maxeval, num_runs=NUM_RUNS, T0=1, n0=5, alpha=2, r=r)\n",
    "    table_fsa = pd.concat([table_fsa, res], axis=0)"
   ]
  },
  {
   "cell_type": "code",
   "execution_count": 36,
   "metadata": {},
   "outputs": [
    {
     "data": {
      "text/html": [
       "<div>\n",
       "<style>\n",
       "    .dataframe thead tr:only-child th {\n",
       "        text-align: right;\n",
       "    }\n",
       "\n",
       "    .dataframe thead th {\n",
       "        text-align: left;\n",
       "    }\n",
       "\n",
       "    .dataframe tbody tr th {\n",
       "        vertical-align: top;\n",
       "    }\n",
       "</style>\n",
       "<table border=\"1\" class=\"dataframe\">\n",
       "  <thead>\n",
       "    <tr style=\"text-align: right;\">\n",
       "      <th></th>\n",
       "      <th>heur</th>\n",
       "      <th>T0</th>\n",
       "      <th>n0</th>\n",
       "      <th>r</th>\n",
       "      <th>feo</th>\n",
       "      <th>mne</th>\n",
       "      <th>rel</th>\n",
       "    </tr>\n",
       "  </thead>\n",
       "  <tbody>\n",
       "    <tr>\n",
       "      <th>11</th>\n",
       "      <td>FSA_1e-10_1_2_0.5</td>\n",
       "      <td>1.000000e-10</td>\n",
       "      <td>1</td>\n",
       "      <td>0.50</td>\n",
       "      <td>334.019188</td>\n",
       "      <td>248.844295</td>\n",
       "      <td>0.745</td>\n",
       "    </tr>\n",
       "    <tr>\n",
       "      <th>0</th>\n",
       "      <td>FSA_0.01_1_2_0.5</td>\n",
       "      <td>1.000000e-02</td>\n",
       "      <td>1</td>\n",
       "      <td>0.50</td>\n",
       "      <td>339.516329</td>\n",
       "      <td>254.297730</td>\n",
       "      <td>0.749</td>\n",
       "    </tr>\n",
       "    <tr>\n",
       "      <th>2</th>\n",
       "      <td>FSA_1_1_2_0.5</td>\n",
       "      <td>1.000000e+00</td>\n",
       "      <td>1</td>\n",
       "      <td>0.50</td>\n",
       "      <td>329.784131</td>\n",
       "      <td>245.029610</td>\n",
       "      <td>0.743</td>\n",
       "    </tr>\n",
       "    <tr>\n",
       "      <th>3</th>\n",
       "      <td>FSA_1_2_2_0.5</td>\n",
       "      <td>1.000000e+00</td>\n",
       "      <td>2</td>\n",
       "      <td>0.50</td>\n",
       "      <td>320.524444</td>\n",
       "      <td>240.393333</td>\n",
       "      <td>0.750</td>\n",
       "    </tr>\n",
       "    <tr>\n",
       "      <th>4</th>\n",
       "      <td>FSA_1_3_2_0.5</td>\n",
       "      <td>1.000000e+00</td>\n",
       "      <td>3</td>\n",
       "      <td>0.50</td>\n",
       "      <td>336.088847</td>\n",
       "      <td>249.041835</td>\n",
       "      <td>0.741</td>\n",
       "    </tr>\n",
       "    <tr>\n",
       "      <th>5</th>\n",
       "      <td>FSA_1_5_2_0.1</td>\n",
       "      <td>1.000000e+00</td>\n",
       "      <td>5</td>\n",
       "      <td>0.10</td>\n",
       "      <td>662.166203</td>\n",
       "      <td>278.771971</td>\n",
       "      <td>0.421</td>\n",
       "    </tr>\n",
       "    <tr>\n",
       "      <th>6</th>\n",
       "      <td>FSA_1_5_2_0.25</td>\n",
       "      <td>1.000000e+00</td>\n",
       "      <td>5</td>\n",
       "      <td>0.25</td>\n",
       "      <td>394.383064</td>\n",
       "      <td>237.418605</td>\n",
       "      <td>0.602</td>\n",
       "    </tr>\n",
       "    <tr>\n",
       "      <th>7</th>\n",
       "      <td>FSA_1_5_2_0.5</td>\n",
       "      <td>1.000000e+00</td>\n",
       "      <td>5</td>\n",
       "      <td>0.50</td>\n",
       "      <td>310.057024</td>\n",
       "      <td>240.294194</td>\n",
       "      <td>0.775</td>\n",
       "    </tr>\n",
       "    <tr>\n",
       "      <th>8</th>\n",
       "      <td>FSA_1_5_2_0.75</td>\n",
       "      <td>1.000000e+00</td>\n",
       "      <td>5</td>\n",
       "      <td>0.75</td>\n",
       "      <td>307.680097</td>\n",
       "      <td>252.605359</td>\n",
       "      <td>0.821</td>\n",
       "    </tr>\n",
       "    <tr>\n",
       "      <th>9</th>\n",
       "      <td>FSA_1_5_2_1</td>\n",
       "      <td>1.000000e+00</td>\n",
       "      <td>5</td>\n",
       "      <td>1.00</td>\n",
       "      <td>317.563514</td>\n",
       "      <td>275.327566</td>\n",
       "      <td>0.867</td>\n",
       "    </tr>\n",
       "    <tr>\n",
       "      <th>10</th>\n",
       "      <td>FSA_1_5_2_2</td>\n",
       "      <td>1.000000e+00</td>\n",
       "      <td>5</td>\n",
       "      <td>2.00</td>\n",
       "      <td>338.027511</td>\n",
       "      <td>296.788155</td>\n",
       "      <td>0.878</td>\n",
       "    </tr>\n",
       "    <tr>\n",
       "      <th>1</th>\n",
       "      <td>FSA_1_10_2_0.5</td>\n",
       "      <td>1.000000e+00</td>\n",
       "      <td>10</td>\n",
       "      <td>0.50</td>\n",
       "      <td>310.668429</td>\n",
       "      <td>240.457364</td>\n",
       "      <td>0.774</td>\n",
       "    </tr>\n",
       "    <tr>\n",
       "      <th>12</th>\n",
       "      <td>FSA_inf_1_2_0.5</td>\n",
       "      <td>inf</td>\n",
       "      <td>1</td>\n",
       "      <td>0.50</td>\n",
       "      <td>1129.265186</td>\n",
       "      <td>460.740196</td>\n",
       "      <td>0.408</td>\n",
       "    </tr>\n",
       "  </tbody>\n",
       "</table>\n",
       "</div>"
      ],
      "text/plain": [
       "                 heur            T0  n0     r          feo         mne    rel\n",
       "11  FSA_1e-10_1_2_0.5  1.000000e-10   1  0.50   334.019188  248.844295  0.745\n",
       "0    FSA_0.01_1_2_0.5  1.000000e-02   1  0.50   339.516329  254.297730  0.749\n",
       "2       FSA_1_1_2_0.5  1.000000e+00   1  0.50   329.784131  245.029610  0.743\n",
       "3       FSA_1_2_2_0.5  1.000000e+00   2  0.50   320.524444  240.393333  0.750\n",
       "4       FSA_1_3_2_0.5  1.000000e+00   3  0.50   336.088847  249.041835  0.741\n",
       "5       FSA_1_5_2_0.1  1.000000e+00   5  0.10   662.166203  278.771971  0.421\n",
       "6      FSA_1_5_2_0.25  1.000000e+00   5  0.25   394.383064  237.418605  0.602\n",
       "7       FSA_1_5_2_0.5  1.000000e+00   5  0.50   310.057024  240.294194  0.775\n",
       "8      FSA_1_5_2_0.75  1.000000e+00   5  0.75   307.680097  252.605359  0.821\n",
       "9         FSA_1_5_2_1  1.000000e+00   5  1.00   317.563514  275.327566  0.867\n",
       "10        FSA_1_5_2_2  1.000000e+00   5  2.00   338.027511  296.788155  0.878\n",
       "1      FSA_1_10_2_0.5  1.000000e+00  10  0.50   310.668429  240.457364  0.774\n",
       "12    FSA_inf_1_2_0.5           inf   1  0.50  1129.265186  460.740196  0.408"
      ]
     },
     "execution_count": 36,
     "metadata": {},
     "output_type": "execute_result"
    }
   ],
   "source": [
    "stats_fsa = table_fsa.pivot_table(\n",
    "    index=['heur', 'T0', 'n0', 'r'],\n",
    "    values=['neval'],\n",
    "    aggfunc=(rel, mne, feo)\n",
    ")['neval']\n",
    "stats_fsa = stats_fsa.reset_index()\n",
    "stats_fsa.sort_values(by=['T0', 'n0', 'r'])"
   ]
  },
  {
   "cell_type": "markdown",
   "metadata": {},
   "source": [
    "The best performing instance of FSA, according to $FEO$:"
   ]
  },
  {
   "cell_type": "code",
   "execution_count": 37,
   "metadata": {},
   "outputs": [
    {
     "data": {
      "text/html": [
       "<div>\n",
       "<style>\n",
       "    .dataframe thead tr:only-child th {\n",
       "        text-align: right;\n",
       "    }\n",
       "\n",
       "    .dataframe thead th {\n",
       "        text-align: left;\n",
       "    }\n",
       "\n",
       "    .dataframe tbody tr th {\n",
       "        vertical-align: top;\n",
       "    }\n",
       "</style>\n",
       "<table border=\"1\" class=\"dataframe\">\n",
       "  <thead>\n",
       "    <tr style=\"text-align: right;\">\n",
       "      <th></th>\n",
       "      <th>heur</th>\n",
       "      <th>T0</th>\n",
       "      <th>n0</th>\n",
       "      <th>r</th>\n",
       "      <th>feo</th>\n",
       "      <th>mne</th>\n",
       "      <th>rel</th>\n",
       "    </tr>\n",
       "  </thead>\n",
       "  <tbody>\n",
       "    <tr>\n",
       "      <th>8</th>\n",
       "      <td>FSA_1_5_2_0.75</td>\n",
       "      <td>1.0</td>\n",
       "      <td>5</td>\n",
       "      <td>0.75</td>\n",
       "      <td>307.680097</td>\n",
       "      <td>252.605359</td>\n",
       "      <td>0.821</td>\n",
       "    </tr>\n",
       "  </tbody>\n",
       "</table>\n",
       "</div>"
      ],
      "text/plain": [
       "             heur   T0  n0     r         feo         mne    rel\n",
       "8  FSA_1_5_2_0.75  1.0   5  0.75  307.680097  252.605359  0.821"
      ]
     },
     "execution_count": 37,
     "metadata": {},
     "output_type": "execute_result"
    }
   ],
   "source": [
    "stats_fsa.sort_values(by=['feo']).head(1)"
   ]
  },
  {
   "cell_type": "markdown",
   "metadata": {},
   "source": [
    "## Conclusion\n",
    "\n",
    "When assessing heuristic performance, always try to combine _prior_ knowledge with _posterior_ data collected during experimental phase. On the other hand, exhaustive grid parameter space search can be useful as well, but you will learn much more using this iterative approach."
   ]
  },
  {
   "cell_type": "markdown",
   "metadata": {},
   "source": [
    "## Assignment\n",
    "\n",
    "1. Could you further improve performance of FSA on this instance of TSP? E.g. try to figure out and test other mutation correction strategies.\n",
    "2. We have performed analyses of the `log_data` contents on a single run of a heuristic. Try to aggregate and make use of these statistics on multiple experimental runs.\n",
    "3. When FSA search is successful, the last objective function call is missing in the `log_data` output variable. Could you improve this behaviour?\n",
    "\n",
    "Publish your solution as a [pull request](https://help.github.com/articles/about-pull-requests/), ideally."
   ]
  }
 ],
 "metadata": {
  "kernelspec": {
   "display_name": "Python 3",
   "language": "python",
   "name": "python3"
  },
  "language_info": {
   "codemirror_mode": {
    "name": "ipython",
    "version": 3
   },
   "file_extension": ".py",
   "mimetype": "text/x-python",
   "name": "python",
   "nbconvert_exporter": "python",
   "pygments_lexer": "ipython3",
   "version": "3.7.4"
  }
 },
 "nbformat": 4,
 "nbformat_minor": 1
}
